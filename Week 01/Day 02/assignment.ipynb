{
 "cells": [
  {
   "cell_type": "code",
   "execution_count": 3,
   "metadata": {},
   "outputs": [
    {
     "name": "stdout",
     "output_type": "stream",
     "text": [
      "*\n",
      "**\n",
      "***\n",
      "****\n",
      "*****\n"
     ]
    }
   ],
   "source": [
    "# 1. Write a python program to draw a triangle shape using print statement only.\n",
    "# Set the height of the triangle\n",
    "triangle_height = 5  \n",
    "\n",
    "# Draw the triangle\n",
    "print(\"*\")\n",
    "print(\"*\" * 2)\n",
    "print(\"*\" * 3)\n",
    "print(\"*\" * 4)\n",
    "print(\"*\" * 5)\n"
   ]
  },
  {
   "cell_type": "code",
   "execution_count": 2,
   "metadata": {},
   "outputs": [
    {
     "name": "stdout",
     "output_type": "stream",
     "text": [
      "Result: 77.0\n"
     ]
    }
   ],
   "source": [
    "# Python Program to Make a Simple Calculator\n",
    "\n",
    "\n",
    "\n",
    "num1 = float(input(\"Enter the first number: \"))\n",
    "operator = input(\"Enter the operator (+, -, *, /): \")\n",
    "num2 = float(input(\"Enter the second number: \"))\n",
    "\n",
    "\n",
    "if operator == \"+\":\n",
    "    result = num1 + num2\n",
    "elif operator == \"-\":\n",
    "    result = num1 - num2\n",
    "elif operator == \"*\":\n",
    "    result = num1 * num2\n",
    "elif operator == \"/\":\n",
    "    result = num1 / num2 if num2 != 0 else \"Cannot divide by zero\"\n",
    "else:\n",
    "    result = \"Invalid operator\"\n",
    "\n",
    "print(\"Result:\", result)\n"
   ]
  }
 ],
 "metadata": {
  "kernelspec": {
   "display_name": "Python 3",
   "language": "python",
   "name": "python3"
  },
  "language_info": {
   "codemirror_mode": {
    "name": "ipython",
    "version": 3
   },
   "file_extension": ".py",
   "mimetype": "text/x-python",
   "name": "python",
   "nbconvert_exporter": "python",
   "pygments_lexer": "ipython3",
   "version": "3.10.12"
  }
 },
 "nbformat": 4,
 "nbformat_minor": 2
}
