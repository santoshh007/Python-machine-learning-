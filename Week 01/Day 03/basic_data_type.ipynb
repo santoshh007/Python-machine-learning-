{
 "cells": [
  {
   "cell_type": "markdown",
   "metadata": {
    "id": "pYAL7fboAZFn"
   },
   "source": [
    "## Python Data Types\n",
    "- Data Types refers to the classification of data values based on their characteristics.\n",
    "- Python Data Type means how Python represents different types of data.\n",
    "- **Categories**\n",
    "  1. `Basic Data Types`:\n",
    "    - They are fundamental Data Types provided by the language itself.\n",
    "    - Example: Integer, Float, Complex Numbers, Boolean, String\n",
    "\n",
    "  2. `Compound Data Types`:\n",
    "    - They are composed of multiple basic data types or other compound data types.\n",
    "    - Example: List, Tuple, Set, Dictionary, etc\n",
    "\n",
    "\n",
    "<img src='https://drive.google.com/uc?id=12s3_weoabmPHMpk3GNMjtgNxL5ngZCOj'>"
   ]
  },
  {
   "cell_type": "markdown",
   "metadata": {
    "id": "Oy2l2S6VD4Rx"
   },
   "source": [
    "## 1. Numbers in Python\n",
    "- Python has mainly 3 categories of numbers i.e.  \n",
    "  i. `Integer`: whole number (no decimal point). Can be postive or negative.  \n",
    "  ii. `Float`: Real Numbers. Includes decimal points or use exponential (e) to define numbers  \n",
    "  iii. `Complex`: Expressed as real and imaginary part i.e **a + jb**   \n",
    "  \n",
    "\n",
    "| Examples                 | Number \"Type\"        |\n",
    "|--------------------------|----------------------|\n",
    "| 1, 2, -5, 1000           | Integers             |\n",
    "| 1.2, -0.5, 2e2, 3E2     | Floating-point numbers |\n",
    "| 3+4j, -2j, 1+2j, -5-6j | Complex numbers      |\n"
   ]
  },
  {
   "cell_type": "markdown",
   "metadata": {
    "id": "FanG-i1syKvf"
   },
   "source": [
    "**NoneType**  \n",
    "- The `None` keyword is used to define a null value, or no value at all.\n",
    "- `Uses`: can be treated as placeholder object\n",
    "- None is not the same as 0, False, or an empty string.\n",
    "- None is a data type of its own NoneType, and only None can be None.\n"
   ]
  },
  {
   "cell_type": "code",
   "execution_count": 3,
   "metadata": {
    "id": "x_8rpt7uyy8L"
   },
   "outputs": [
    {
     "name": "stdout",
     "output_type": "stream",
     "text": [
      "None\n"
     ]
    }
   ],
   "source": [
    "# Uncomment below line and initialize variables  \"non_value\" to None\n",
    "\n",
    "non_value = None\n",
    "print(non_value)"
   ]
  },
  {
   "cell_type": "code",
   "execution_count": 6,
   "metadata": {
    "id": "PNYye5AEzFB3"
   },
   "outputs": [
    {
     "name": "stdout",
     "output_type": "stream",
     "text": [
      "<class 'int'>\n",
      "<class 'float'>\n"
     ]
    }
   ],
   "source": [
    "# Get data type of variable \"non_value\" and\n",
    "\n",
    "non_value = 42  \n",
    "\n",
    "data_type = type(non_value)\n",
    "\n",
    "print(data_type)\n",
    "\n",
    "#another\n",
    "\n",
    "non_value = 44.44  \n",
    "\n",
    "data_type = type(non_value)\n",
    "\n",
    "print(data_type)\n",
    "\n"
   ]
  },
  {
   "cell_type": "markdown",
   "metadata": {
    "id": "ZsEajcQikhWG"
   },
   "source": [
    "**Integer Type**"
   ]
  },
  {
   "cell_type": "code",
   "execution_count": 7,
   "metadata": {
    "id": "JfNBTTfQAQ1Z"
   },
   "outputs": [
    {
     "name": "stdout",
     "output_type": "stream",
     "text": [
      "5\n"
     ]
    }
   ],
   "source": [
    "# assign integer value 5 to variable named \"int_value\" and,\n",
    "# print the result\n",
    "int_value = 5\n",
    "print(int_value)\n",
    "\n",
    "int_value = None  # None placeholder object"
   ]
  },
  {
   "cell_type": "code",
   "execution_count": 8,
   "metadata": {
    "id": "oElXcETmko5n"
   },
   "outputs": [
    {
     "name": "stdout",
     "output_type": "stream",
     "text": [
      "10\n"
     ]
    }
   ],
   "source": [
    "# Variable reassignment\n",
    "# assign new value 10 to same variable named \"int_value\" and,\n",
    "# print the result\n",
    "int_value = 5\n",
    "int_value = 10\n",
    "print(int_value)\n",
    "int_value = None"
   ]
  },
  {
   "cell_type": "markdown",
   "metadata": {
    "id": "ffI92aYllhQ_"
   },
   "source": [
    "We can see, Due to `Dynamic Typing` Python allows us to dynamically reassign the values assigned to the variables."
   ]
  },
  {
   "cell_type": "code",
   "execution_count": 10,
   "metadata": {
    "id": "tvyHWdhVp7zE"
   },
   "outputs": [
    {
     "data": {
      "text/plain": [
       "140170209791312"
      ]
     },
     "execution_count": 10,
     "metadata": {},
     "output_type": "execute_result"
    }
   ],
   "source": [
    "# Display id of variable \"int_value\"\n",
    "int_value = 100\n",
    "\n",
    "# hint: id()\n",
    "id(int_value)"
   ]
  },
  {
   "cell_type": "code",
   "execution_count": 11,
   "metadata": {
    "id": "lnmIx0rylgeG"
   },
   "outputs": [
    {
     "name": "stdout",
     "output_type": "stream",
     "text": [
      "Data Type: None\n"
     ]
    }
   ],
   "source": [
    "# Display type of the variable \"int_value\"\n",
    "\n",
    "# use: type() function\n",
    "\n",
    "int_type = None\n",
    "print(\"Data Type:\", int_type)"
   ]
  },
  {
   "cell_type": "markdown",
   "metadata": {
    "id": "mLPGhMyJoW52"
   },
   "source": [
    "In output we can see, `Data Type: <class 'int'>`. It means when we create variables, we are actually creating object of that Data Type (Integer). So, in python everything is class and object."
   ]
  },
  {
   "cell_type": "code",
   "execution_count": 6,
   "metadata": {
    "id": "6E0OMShpoQlx"
   },
   "outputs": [
    {
     "name": "stdout",
     "output_type": "stream",
     "text": [
      "Is 100 an integer?:True\n"
     ]
    }
   ],
   "source": [
    "# Verify integer type using isinstance() function\n",
    "var_name = 100\n",
    "is_integer = isinstance(var_name, int)\n",
    "# hint: isinstance(var_name, int)\n",
    "print(f\"Is {var_name} an integer?:{is_integer}\")"
   ]
  },
  {
   "cell_type": "markdown",
   "metadata": {
    "id": "D8qNcUNmzskw"
   },
   "source": [
    "**Float Type**"
   ]
  },
  {
   "cell_type": "code",
   "execution_count": 9,
   "metadata": {
    "id": "2Cr4hNwzpTzH"
   },
   "outputs": [
    {
     "name": "stdout",
     "output_type": "stream",
     "text": [
      "the float value: 20.0\n"
     ]
    }
   ],
   "source": [
    "# assign float value 2e1 to variable named \"float_value\"\n",
    "# print the result\n",
    "\n",
    "float_value = 2e1\n",
    "print(\"the float value:\",float_value)"
   ]
  },
  {
   "cell_type": "code",
   "execution_count": 16,
   "metadata": {
    "id": "W6QLPcJ837cJ"
   },
   "outputs": [
    {
     "name": "stdout",
     "output_type": "stream",
     "text": [
      "The Datatype of a: <class 'int'>\n"
     ]
    }
   ],
   "source": [
    "# get variable data type and print the result\n",
    "a=10\n",
    "data_type=type(a)\n",
    "print(\"The Datatype of a:\", data)"
   ]
  },
  {
   "cell_type": "code",
   "execution_count": 17,
   "metadata": {
    "id": "rbuNAG-B4Ig7"
   },
   "outputs": [
    {
     "name": "stdout",
     "output_type": "stream",
     "text": [
      "Is 20.0 a float? True\n"
     ]
    }
   ],
   "source": [
    "# verify float type using isinstance() function\n",
    "# Assign float value 2e1 to variable named \"float_value\"\n",
    "float_value = 2e1\n",
    "\n",
    "# Verify if float_value is a float using isinstance()\n",
    "is_float = isinstance(float_value, float)\n",
    "\n",
    "# Display the result\n",
    "print(f\"Is {float_value} a float? {is_float}\")\n"
   ]
  },
  {
   "cell_type": "code",
   "execution_count": 18,
   "metadata": {
    "id": "pWZj8Q354MXf"
   },
   "outputs": [
    {
     "name": "stdout",
     "output_type": "stream",
     "text": [
      "ID of float_value: 140240988517424\n"
     ]
    }
   ],
   "source": [
    "# Display id of the variable \"float_value\"\n",
    "# Assign float value 2e1 to variable named \"float_value\"\n",
    "float_value = 2e1\n",
    "\n",
    "# Display the ID of the variable float_value\n",
    "print(\"ID of float_value:\", id(float_value))\n"
   ]
  },
  {
   "cell_type": "code",
   "execution_count": 19,
   "metadata": {
    "id": "c-2VQFeT3lMd"
   },
   "outputs": [
    {
     "name": "stdout",
     "output_type": "stream",
     "text": [
      "Original value of float_value: 20.0\n",
      "ID of float_value: 140240988515088\n",
      "Updated value of float_value: 100.11\n",
      "ID of float_value after reassignment: 140240988516240\n"
     ]
    }
   ],
   "source": [
    "# variable reassignment\n",
    "#\n",
    "# assign new float value say 100.11 to same variable named \"float_value\" and,\n",
    "# print the result\n",
    "\n",
    "# Assign float value 2e1 to variable named \"float_value\"\n",
    "float_value = 2e1\n",
    "\n",
    "# Display the original value and its ID\n",
    "print(\"Original value of float_value:\", float_value)\n",
    "print(\"ID of float_value:\", id(float_value))\n",
    "\n",
    "# Reassign a new float value to the same variable\n",
    "float_value = 100.11\n",
    "\n",
    "# Display the updated value and its ID\n",
    "print(\"Updated value of float_value:\", float_value)\n",
    "print(\"ID of float_value after reassignment:\", id(float_value))\n"
   ]
  },
  {
   "cell_type": "code",
   "execution_count": 20,
   "metadata": {
    "id": "NyXSsqOr35iO"
   },
   "outputs": [
    {
     "name": "stdout",
     "output_type": "stream",
     "text": [
      "The data type of float_value is: <class 'float'>\n"
     ]
    }
   ],
   "source": [
    "# get variable data type and,\n",
    "# print the result\n",
    "# Assign float value 100.11 to variable named \"float_value\"\n",
    "float_value = 100.11\n",
    "\n",
    "# Get variable data type\n",
    "data_type = type(float_value)\n",
    "\n",
    "# Print the result\n",
    "print(\"The data type of float_value is:\", data_type)\n"
   ]
  },
  {
   "cell_type": "code",
   "execution_count": 21,
   "metadata": {
    "id": "CC9yg5cj4-BP"
   },
   "outputs": [
    {
     "name": "stdout",
     "output_type": "stream",
     "text": [
      "Original value of float_value: 20.0\n",
      "ID of float_value: 140240988516240\n",
      "Updated value of float_value: 100.11\n",
      "ID of float_value after reassignment: 140240988515664\n"
     ]
    }
   ],
   "source": [
    "# Display id of the variable \"float_value\" after variable reassignment\n",
    "# Assign float value 2e1 to variable named \"float_value\"\n",
    "float_value = 2e1\n",
    "\n",
    "# Display the original value and its ID\n",
    "print(\"Original value of float_value:\", float_value)\n",
    "print(\"ID of float_value:\", id(float_value))\n",
    "\n",
    "# Reassign a new float value to the same variable\n",
    "float_value = 100.11\n",
    "\n",
    "# Display the updated value and its ID\n",
    "print(\"Updated value of float_value:\", float_value)\n",
    "print(\"ID of float_value after reassignment:\", id(float_value))\n"
   ]
  },
  {
   "cell_type": "markdown",
   "metadata": {
    "id": "xEWyIwgA5C39"
   },
   "source": [
    "As we can see, `id` changes after variable reassignment, since they point to different memory address after variable assignment by new value."
   ]
  },
  {
   "cell_type": "markdown",
   "metadata": {
    "id": "g0A15EG-6pOc"
   },
   "source": [
    "**Complex Type**\n",
    "- consist of real part and imaginary part: a + jb\n",
    "- E.g. \n"
   ]
  },
  {
   "cell_type": "code",
   "execution_count": 22,
   "metadata": {
    "id": "VCJ8mvGb5bH-"
   },
   "outputs": [
    {
     "name": "stdout",
     "output_type": "stream",
     "text": [
      "The value of complex_value is: (2+1j)\n"
     ]
    }
   ],
   "source": [
    "# assign complex number 2+jb to variable named \"complex_value\"\n",
    "# print the result\n",
    "\n",
    "\n",
    "# Assign complex number 2 + jb to variable named \"complex_value\"\n",
    "complex_value = 2 + 1j\n",
    "\n",
    "# Print the result\n",
    "print(\"The value of complex_value is:\", complex_value)\n"
   ]
  },
  {
   "cell_type": "code",
   "execution_count": 23,
   "metadata": {
    "id": "8pG_o5n1vpS4"
   },
   "outputs": [
    {
     "name": "stdout",
     "output_type": "stream",
     "text": [
      "Real part of complex_value: 2.0\n",
      "Imaginary part of complex_value: 1.0\n"
     ]
    }
   ],
   "source": [
    "# extract imaginary part and real part separately\n",
    "# hint: .real, .imag\n",
    "# Assign complex number 2 + jb to variable named \"complex_value\"\n",
    "complex_value = 2 + 1j\n",
    "\n",
    "# Extract real and imaginary parts separately\n",
    "real_part = complex_value.real\n",
    "imaginary_part = complex_value.imag\n",
    "\n",
    "# Print the results\n",
    "print(\"Real part of complex_value:\", real_part)\n",
    "print(\"Imaginary part of complex_value:\", imaginary_part)\n"
   ]
  },
  {
   "cell_type": "markdown",
   "metadata": {
    "id": "t5mxl9o_v4Fy"
   },
   "source": [
    "Optionally, you can see all the attributes and methods of the object using `dir()` built in function. \n",
    "\n",
    "Example: dir(complex_value)"
   ]
  },
  {
   "cell_type": "code",
   "execution_count": 25,
   "metadata": {
    "id": "gotE2bNSwLid"
   },
   "outputs": [
    {
     "name": "stdout",
     "output_type": "stream",
     "text": [
      "Attributes and methods of complex object:\n",
      "__abs__\n",
      "__add__\n",
      "__bool__\n",
      "__class__\n",
      "__delattr__\n",
      "__dir__\n",
      "__doc__\n",
      "__eq__\n",
      "__format__\n",
      "__ge__\n",
      "__getattribute__\n",
      "__getnewargs__\n",
      "__gt__\n",
      "__hash__\n",
      "__init__\n",
      "__init_subclass__\n",
      "__le__\n",
      "__lt__\n",
      "__mul__\n",
      "__ne__\n",
      "__neg__\n",
      "__new__\n",
      "__pos__\n",
      "__pow__\n",
      "__radd__\n",
      "__reduce__\n",
      "__reduce_ex__\n",
      "__repr__\n",
      "__rmul__\n",
      "__rpow__\n",
      "__rsub__\n",
      "__rtruediv__\n",
      "__setattr__\n",
      "__sizeof__\n",
      "__str__\n",
      "__sub__\n",
      "__subclasshook__\n",
      "__truediv__\n",
      "conjugate\n",
      "imag\n",
      "real\n"
     ]
    }
   ],
   "source": [
    "# list attributes and methods of complex object type\n",
    "# use dir() built in function\n",
    "# Assign a complex number to a variable\n",
    "complex_value = 2 + 1j\n",
    "\n",
    "# Use dir() to list attributes and methods\n",
    "attributes_and_methods = dir(complex_value)\n",
    "\n",
    "# Print the results\n",
    "print(\"Attributes and methods of complex object:\")\n",
    "for item in attributes_and_methods:\n",
    "    print(item)\n"
   ]
  },
  {
   "cell_type": "code",
   "execution_count": 26,
   "metadata": {
    "id": "GhteCe41wYf9"
   },
   "outputs": [
    {
     "name": "stdout",
     "output_type": "stream",
     "text": [
      "The data type of complex_value is: <class 'complex'>\n"
     ]
    }
   ],
   "source": [
    "# get complex variable data type and print the result\n",
    "# Assign complex number 2 + jb to variable named \"complex_value\"\n",
    "complex_value = 2 + 1j\n",
    "\n",
    "# Get variable data type\n",
    "data_type = type(complex_value)\n",
    "\n",
    "# Print the result\n",
    "print(\"The data type of complex_value is:\", data_type)\n"
   ]
  },
  {
   "cell_type": "markdown",
   "metadata": {
    "id": "qjAmq7eNyhjH"
   },
   "source": [
    "- **complex()**: \n",
    "  - function to create complex numbers with Integer/Float Type parameters.\n",
    "  - returns a complex numbers (real + imaginary) when real and imaginary parts are passed.\n",
    "  - Syntax: complex(real_part, imaginary_part)\n",
    "    - Example: complex(1, 2) --> 1+2j\n",
    "  - It can also converts a string to a complex number.\n",
    "    - If first argument is string, then second argument shouldn't be passed else will raise TypeError.\n",
    "      - e.g. complex(\"2\", \"3j\") --> False\n",
    "    - Also, string must not contain whitespace around + or - operator else it \n",
    "  will raise ValueError in Python.\n",
    "      - e.g. complex(\"3 + 2j\")\n",
    "\n",
    "\n",
    "  - `Exercise`\n",
    "    1. Create a complex number 0j. \n",
    "      - Hint: do not pass any arguments.\n",
    "    2. Create a complex number 2+3j using complex() function passing integer 2 and 3. Get the data type, and print the result.\n",
    "    3. Create a complex number 2+3j using complex() function passing string as argument. Get the data type and print the result.\n",
    "  \n",
    "\n"
   ]
  },
  {
   "cell_type": "code",
   "execution_count": 27,
   "metadata": {
    "id": "QjQNQzT74eeS"
   },
   "outputs": [
    {
     "name": "stdout",
     "output_type": "stream",
     "text": [
      "The data type of complex_number is: <class 'complex'>\n"
     ]
    }
   ],
   "source": [
    "# 1. Create a complex number 0j. Get the Data Type and Print the result.\n",
    "# Create a complex number 0j\n",
    "complex_number = 0j\n",
    "\n",
    "# Get variable data type\n",
    "data_type = type(complex_number)\n",
    "\n",
    "# Print the result\n",
    "print(\"The data type of complex_number is:\", data_type)\n"
   ]
  },
  {
   "cell_type": "code",
   "execution_count": 28,
   "metadata": {
    "id": "7iK3BaUc04A6"
   },
   "outputs": [
    {
     "name": "stdout",
     "output_type": "stream",
     "text": [
      "The complex number is: (2+3j)\n",
      "The data type of complex_number is: <class 'complex'>\n"
     ]
    }
   ],
   "source": [
    "# 2. Create a complex number 2+3j using complex() function passing integer 2 and 3.\n",
    "# Create a complex number 2 + 3j using complex() function\n",
    "complex_number = complex(2, 3)\n",
    "\n",
    "# Get variable data type\n",
    "data_type = type(complex_number)\n",
    "\n",
    "# Print the result\n",
    "print(\"The complex number is:\", complex_number)\n",
    "print(\"The data type of complex_number is:\", data_type)\n"
   ]
  },
  {
   "cell_type": "code",
   "execution_count": 29,
   "metadata": {
    "id": "aslgCBXz4lX6"
   },
   "outputs": [
    {
     "name": "stdout",
     "output_type": "stream",
     "text": [
      "The complex number is: (2+3j)\n",
      "The data type of complex_number is: <class 'complex'>\n"
     ]
    }
   ],
   "source": [
    "# 3. Create a complex number 2+3j using complex() function passing string as argument. Get the data type and print the result.\n",
    "# Create a complex number 2 + 3j using complex() function with string as argument\n",
    "complex_number = complex(\"2+3j\")\n",
    "\n",
    "# Get variable data type\n",
    "data_type = type(complex_number)\n",
    "\n",
    "# Print the result\n",
    "print(\"The complex number is:\", complex_number)\n",
    "print(\"The data type of complex_number is:\", data_type)\n"
   ]
  },
  {
   "cell_type": "markdown",
   "metadata": {
    "id": "CVO7asWr5Tbf"
   },
   "source": [
    "## 2. Boolean Type \n",
    "- Boolean Type holds one of 2 values `True` or `False`.\n",
    "- Case sensitive: True != true  or  False != false\n",
    "- Output of listed operators are of Boolean Type\n",
    "  - `Comparison Operators (7 == 7)`\n",
    "  - `Logical Operators (not(1<5))`\n",
    "  - `Identity Operators (x is y)`\n"
   ]
  },
  {
   "cell_type": "code",
   "execution_count": 30,
   "metadata": {
    "id": "M2saNcKI5S8e"
   },
   "outputs": [
    {
     "name": "stdout",
     "output_type": "stream",
     "text": [
      "The value of bool_val is: True\n",
      "The data type of bool_val is: <class 'bool'>\n"
     ]
    }
   ],
   "source": [
    "# create a variable of boolean type named \"bool_val\"\n",
    "bool_val = None\n",
    "# Create a variable of boolean type named \"bool_val\"\n",
    "bool_val = True  # Assign True or False based on your requirement\n",
    "\n",
    "# Get variable data type\n",
    "data_type = type(bool_val)\n",
    "\n",
    "# Print the result\n",
    "print(\"The value of bool_val is:\", bool_val)\n",
    "print(\"The data type of bool_val is:\", data_type)\n"
   ]
  },
  {
   "cell_type": "code",
   "execution_count": 31,
   "metadata": {
    "id": "AoyKbXctF1zN"
   },
   "outputs": [
    {
     "name": "stdout",
     "output_type": "stream",
     "text": [
      "The data type of bool_val is: <class 'bool'>\n"
     ]
    }
   ],
   "source": [
    "# get the type of boolean variable \n",
    "# Get variable data type\n",
    "data_type = type(bool_val)\n",
    "\n",
    "# Print the result\n",
    "print(\"The data type of bool_val is:\", data_type)\n"
   ]
  },
  {
   "cell_type": "markdown",
   "metadata": {
    "id": "r0QNslZTHLrU"
   },
   "source": [
    "**Most values are True**  \n",
    "- Any number is True (+ve, -ve) except 0.\n",
    "- Any string is True, except empty string.\n",
    "- Any list, tuple, set, and dictionary are True, except empty ones.\n",
    "\n",
    "You can use **bool()** function to evaluate any values, that returns `True` or `False`"
   ]
  },
  {
   "cell_type": "code",
   "execution_count": 32,
   "metadata": {
    "id": "m_0dc_EFGOO6"
   },
   "outputs": [
    {
     "name": "stdout",
     "output_type": "stream",
     "text": [
      "Result 1 (non-zero number): True\n",
      "Result 2 (non-empty string): True\n"
     ]
    }
   ],
   "source": [
    "# Evaluate using bool() for \n",
    "# 1. any non zero integer, float \n",
    "# 2. any non empty string\n",
    "#\n",
    "# Hint: bool(value)\n",
    "# 1. Evaluate using bool() for any non-zero integer or float\n",
    "non_zero_number = 42.5\n",
    "result1 = bool(non_zero_number)\n",
    "\n",
    "# 2. Evaluate using bool() for any non-empty string\n",
    "non_empty_string = \"Hello, World!\"\n",
    "result2 = bool(non_empty_string)\n",
    "\n",
    "# Print the results\n",
    "print(\"Result 1 (non-zero number):\", result1)\n",
    "print(\"Result 2 (non-empty string):\", result2)\n"
   ]
  },
  {
   "cell_type": "markdown",
   "metadata": {
    "id": "_wUTCL1yII3E"
   },
   "source": [
    "**Some values are False**  \n",
    "- number `0 or 0.0` evaluates to False\n",
    "- Value `None` evaluates to False\n",
    "- False `evaluates` to False\n",
    "- empty string `\"\"` evaluates to False\n",
    "- Empty values, `(), [], {}`, evaluates to False"
   ]
  },
  {
   "cell_type": "code",
   "execution_count": 33,
   "metadata": {
    "id": "VC7b59BrIFOo"
   },
   "outputs": [
    {
     "name": "stdout",
     "output_type": "stream",
     "text": [
      "False\n",
      "False\n"
     ]
    }
   ],
   "source": [
    "# Experiment above cases with bool() function\n",
    "print(bool(0))\n",
    "print(bool(0.0))\n"
   ]
  },
  {
   "cell_type": "markdown",
   "metadata": {
    "id": "8_wI-iTnGMsQ"
   },
   "source": [
    "**Python Conditions quick intro**\n",
    "\n",
    "Q. Write a python program to get two inputs a and b from user and print message\n",
    "  - \"a is greater than b\" if a > b\n",
    "  - \"a is equal to b\" if a = b\n",
    "  - \"a is less than b\" if a < b"
   ]
  },
  {
   "cell_type": "code",
   "execution_count": 35,
   "metadata": {
    "id": "IR7jwGZ0GLTt"
   },
   "outputs": [
    {
     "name": "stdout",
     "output_type": "stream",
     "text": [
      "a is less than b\n"
     ]
    }
   ],
   "source": [
    "## write your program here\n",
    "# Get input from user\n",
    "a = float(input(\"Enter the value for a: \"))\n",
    "b = float(input(\"Enter the value for b: \"))\n",
    "\n",
    "# Compare a and b and print the result\n",
    "if a > b:\n",
    "    print(\"a is greater than b\")\n",
    "elif a == b:\n",
    "    print(\"a is equal to b\")\n",
    "else:\n",
    "    print(\"a is less than b\")\n"
   ]
  },
  {
   "cell_type": "markdown",
   "metadata": {
    "id": "Sb4A71K7OfkA"
   },
   "source": [
    "**Given a = 10 and b = 20, what is the output of a and b?** Why?"
   ]
  }
 ],
 "metadata": {
  "colab": {
   "authorship_tag": "ABX9TyPP1eO9Dg2ZoPtd204dqOE0",
   "provenance": []
  },
  "kernelspec": {
   "display_name": "Python 3 (ipykernel)",
   "language": "python",
   "name": "python3"
  },
  "language_info": {
   "codemirror_mode": {
    "name": "ipython",
    "version": 3
   },
   "file_extension": ".py",
   "mimetype": "text/x-python",
   "name": "python",
   "nbconvert_exporter": "python",
   "pygments_lexer": "ipython3",
   "version": "3.10.12"
  }
 },
 "nbformat": 4,
 "nbformat_minor": 4
}
