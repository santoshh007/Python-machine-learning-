{
 "cells": [
  {
   "cell_type": "code",
   "execution_count": null,
   "metadata": {},
   "outputs": [],
   "source": [
    "#setting the integer type\n",
    "int type = 10\n",
    "\n",
    "#verify integer type\n",
    "print(\"Data Type of\", int_type, \"is\",type(int_type))\n",
    "\n",
    "Data type of 10 is <class 'int'>\n",
    "\n",
    "#setting the float type\n",
    "float type =10.1\n",
    "\n",
    "#verify float type\n",
    "print('Data Type of', Float_type,\"is\",type(float_type))\n",
    "\n",
    "Data type of 10.1 is <class 'float'>\n",
    "\n",
    "Setting the complex type \n",
    "complex"
   ]
  }
 ],
 "metadata": {
  "language_info": {
   "name": "python"
  }
 },
 "nbformat": 4,
 "nbformat_minor": 2
}
