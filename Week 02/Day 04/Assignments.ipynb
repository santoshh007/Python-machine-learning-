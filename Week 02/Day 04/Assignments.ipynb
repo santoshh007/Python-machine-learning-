{
 "cells": [
  {
   "cell_type": "code",
   "execution_count": 3,
   "metadata": {},
   "outputs": [
    {
     "name": "stdout",
     "output_type": "stream",
     "text": [
      "Result: 120\n"
     ]
    }
   ],
   "source": [
    "# Q.1 Write a python function to multiply all the numbers in a list\n",
    "def multiply(numbers):\n",
    "    result = 1\n",
    "    for num in numbers:\n",
    "        result *= num\n",
    "    return result\n",
    "numbers = [2, 3, 4, 5]\n",
    "print(\"Result:\", multiply(numbers))"
   ]
  },
  {
   "cell_type": "code",
   "execution_count": 4,
   "metadata": {},
   "outputs": [
    {
     "name": "stdout",
     "output_type": "stream",
     "text": [
      "Reversed string: olleh\n"
     ]
    }
   ],
   "source": [
    "\n",
    "# Q.2 Write a python function to reverse a string\n",
    "def reverse_string(s):\n",
    "    return s[::-1]\n",
    "string = \"hello\"\n",
    "print(\"Reversed string:\", reverse_string(string))"
   ]
  },
  {
   "cell_type": "code",
   "execution_count": 5,
   "metadata": {},
   "outputs": [
    {
     "name": "stdout",
     "output_type": "stream",
     "text": [
      "Factorial of 5 is 120\n"
     ]
    }
   ],
   "source": [
    "# Q.3 Write a python function to find factorial of a given non-negative number\n",
    "def factorial(n):\n",
    "    if n == 0:\n",
    "        return 1\n",
    "    result = 1\n",
    "    for i in range(1, n + 1):\n",
    "        result *= i\n",
    "    return result\n",
    "number = 5\n",
    "print(\"Factorial of\", number, \"is\", factorial(number))\n"
   ]
  },
  {
   "cell_type": "code",
   "execution_count": 8,
   "metadata": {},
   "outputs": [
    {
     "name": "stdout",
     "output_type": "stream",
     "text": [
      "Uppercase letters: 2\n",
      "Lowercase letters: 8\n"
     ]
    }
   ],
   "source": [
    "# Q.5 Write a python function that accepts a string and calculate the number of upper case letters and lower case letters\n",
    "def count_case(string):\n",
    "    upper_count = sum(1 for char in string if char.isupper())\n",
    "    lower_count = sum(1 for char in string if char.islower())\n",
    "    return upper_count, lower_count\n",
    "string = \"Hello World\"\n",
    "upper, lower = count_case(string)\n",
    "print(\"Uppercase letters:\", upper)\n",
    "print(\"Lowercase letters:\", lower)"
   ]
  },
  {
   "cell_type": "code",
   "execution_count": 9,
   "metadata": {},
   "outputs": [
    {
     "name": "stdout",
     "output_type": "stream",
     "text": [
      "Unique elements: [1, 2, 3, 4, 5]\n"
     ]
    }
   ],
   "source": [
    "# Q.6 Write a python function that takes a list and returns a new list with unique elements of the first list\n",
    "def unique_elements(lst):\n",
    "    return list(set(lst))\n",
    "\n",
    "lst = [1, 2, 3, 2, 4, 5, 1]\n",
    "print(\"Unique elements:\", unique_elements(lst))\n",
    "\n"
   ]
  },
  {
   "cell_type": "code",
   "execution_count": 10,
   "metadata": {},
   "outputs": [
    {
     "name": "stdout",
     "output_type": "stream",
     "text": [
      "7 is prime\n"
     ]
    }
   ],
   "source": [
    "# Q.7 Write a Python function that takes a number as a parameter and check the number is prime or not\n",
    "def is_prime(n):\n",
    "    if n <= 1:\n",
    "        return False\n",
    "    for i in range(2, int(n ** 0.5) + 1):\n",
    "        if n % i == 0:\n",
    "            return False\n",
    "    return True\n",
    "\n",
    "number = 7\n",
    "if is_prime(number):\n",
    "    print(number, \"is prime\")\n",
    "else:\n",
    "    print(number, \"is not prime\")"
   ]
  },
  {
   "cell_type": "code",
   "execution_count": 11,
   "metadata": {},
   "outputs": [
    {
     "name": "stdout",
     "output_type": "stream",
     "text": [
      "Even numbers: [2, 4, 6, 8, 10]\n"
     ]
    }
   ],
   "source": [
    "# Q.8 Write a python function to print the even numbers from a given list\n",
    "def print_even(numbers):\n",
    "    even_numbers = [num for num in numbers if num % 2 == 0]\n",
    "    print(\"Even numbers:\", even_numbers)\n",
    "\n",
    "numbers = [1, 2, 3, 4, 5, 6, 7, 8, 9, 10]\n",
    "print_even(numbers)"
   ]
  }
 ],
 "metadata": {
  "kernelspec": {
   "display_name": "Python 3",
   "language": "python",
   "name": "python3"
  },
  "language_info": {
   "codemirror_mode": {
    "name": "ipython",
    "version": 3
   },
   "file_extension": ".py",
   "mimetype": "text/x-python",
   "name": "python",
   "nbconvert_exporter": "python",
   "pygments_lexer": "ipython3",
   "version": "3.10.12"
  }
 },
 "nbformat": 4,
 "nbformat_minor": 2
}
