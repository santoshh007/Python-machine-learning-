{
 "cells": [
  {
   "cell_type": "code",
   "execution_count": 1,
   "metadata": {},
   "outputs": [
    {
     "name": "stdout",
     "output_type": "stream",
     "text": [
      "Opened database successfully\n"
     ]
    }
   ],
   "source": [
    "import sqlite3\n",
    "db_name = \"users.db\"\n",
    "conn = sqlite3.connect(db_name)\n",
    "print(\"Opened database successfully\")"
   ]
  },
  {
   "cell_type": "code",
   "execution_count": 2,
   "metadata": {},
   "outputs": [
    {
     "data": {
      "text/plain": [
       "<sqlite3.Cursor at 0x7f4a0b5a6340>"
      ]
     },
     "execution_count": 2,
     "metadata": {},
     "output_type": "execute_result"
    }
   ],
   "source": [
    "# Example: Creating a users table\n",
    "conn.execute('''CREATE TABLE IF NOT EXISTS users (\n",
    "               id INTEGER PRIMARY KEY,\n",
    "               username TEXT NOT NULL UNIQUE,\n",
    "               password TEXT NOT NULL)''')\n"
   ]
  },
  {
   "cell_type": "code",
   "execution_count": 3,
   "metadata": {},
   "outputs": [],
   "source": [
    "import sqlite3\n",
    "import re\n",
    "\n",
    "# Connect to the SQLite database\n",
    "conn = sqlite3.connect('user_auth.db')\n",
    "c = conn.cursor()"
   ]
  },
  {
   "cell_type": "code",
   "execution_count": 4,
   "metadata": {},
   "outputs": [],
   "source": [
    "# Create a users table if it doesn't exist\n",
    "c.execute('''CREATE TABLE IF NOT EXISTS users\n",
    "             (username TEXT PRIMARY KEY, password TEXT)''')\n",
    "conn.commit()"
   ]
  },
  {
   "cell_type": "code",
   "execution_count": 5,
   "metadata": {},
   "outputs": [],
   "source": [
    "# User Registration\n",
    "def register_user(username, password):\n",
    "    # Check if username already exists\n",
    "    c.execute(\"SELECT * FROM users WHERE username=?\", (username,))\n",
    "    if c.fetchone():\n",
    "        raise UsernameTakenException(\"Username already taken. Please choose another one.\")\n",
    "\n",
    "    # Validate email format\n",
    "    if not validate_email_format(username):\n",
    "        raise InvalidEmailException(\"Invalid email format. Please provide a valid email address.\")\n",
    "\n",
    "    # Hash the password securely\n",
    "    hashed_password = hash_password(password)\n",
    "\n",
    "    # Store user information in the database\n",
    "    c.execute(\"INSERT INTO users VALUES (?, ?)\", (username, hashed_password))\n",
    "    conn.commit()\n",
    "\n",
    "def validate_email_format(email):\n",
    "    # Regular expression for validating email format\n",
    "    regex = r'^[a-zA-Z0-9._%+-]+@[a-zA-Z0-9.-]+\\.[a-zA-Z]{2,}$'\n",
    "    return re.match(regex, email)"
   ]
  },
  {
   "cell_type": "code",
   "execution_count": 6,
   "metadata": {},
   "outputs": [],
   "source": [
    "# User Login\n",
    "def login_user(username, password):\n",
    "    # Verify username and password\n",
    "    c.execute(\"SELECT * FROM users WHERE username=?\", (username,))\n",
    "    user = c.fetchone()\n",
    "    if user and verify_password(user[1], password):\n",
    "        return \"Login successful.\"\n",
    "    else:\n",
    "        raise InvalidCredentialsException(\"Invalid username or password.\")"
   ]
  },
  {
   "cell_type": "code",
   "execution_count": 7,
   "metadata": {},
   "outputs": [],
   "source": [
    "# Password Update\n",
    "def update_password(username, old_password, new_password):\n",
    "    # Verify username and old password\n",
    "    c.execute(\"SELECT * FROM users WHERE username=?\", (username,))\n",
    "    user = c.fetchone()\n",
    "    if user and verify_password(user[1], old_password):\n",
    "        # Validate new password format\n",
    "        if not validate_password_format(new_password):\n",
    "            raise WeakPasswordException(\"Password must be at least 8 characters long and contain at least one symbol and one uppercase letter.\")\n",
    "\n",
    "        # Update the password\n",
    "        hashed_new_password = hash_password(new_password)\n",
    "        c.execute(\"UPDATE users SET password=? WHERE username=?\", (hashed_new_password, username))\n",
    "        conn.commit()\n",
    "    else:\n",
    "        raise InvalidCredentialsException(\"Invalid username or password.\")\n",
    "\n",
    "# Account Deletion\n",
    "def delete_account(username, password):\n",
    "    # Verify username and password\n",
    "    c.execute(\"SELECT * FROM users WHERE username=?\", (username,))\n",
    "    user = c.fetchone()\n",
    "    if user and verify_password(user[1], password):\n",
    "        # Delete the user's information from the database\n",
    "        c.execute(\"DELETE FROM users WHERE username=?\", (username,))\n",
    "        conn.commit()\n",
    "    else:\n",
    "        raise InvalidCredentialsException(\"Invalid username or password.\")\n",
    "\n",
    "# Password hashing and verification\n",
    "def hash_password(password):\n",
    "    # Hash the password (implementation depends on your choice of hashing algorithm)\n",
    "    # For simplicity, we're using a basic hash function here, which is not secure for production use\n",
    "    return password  # Placeholder for actual hashing implementation\n",
    "\n",
    "def verify_password(hashed_password, password):\n",
    "    # Compare the hashed password with the provided password\n",
    "    # For demonstration purposes, we're comparing passwords directly, which is not secure\n",
    "    return hashed_password == password\n",
    "\n",
    "# Custom exceptions\n",
    "class UsernameTakenException(Exception):\n",
    "    pass\n",
    "\n",
    "class InvalidEmailException(Exception):\n",
    "    pass\n",
    "\n",
    "class InvalidCredentialsException(Exception):\n",
    "    pass\n",
    "\n",
    "class WeakPasswordException(Exception):\n",
    "    pass\n",
    "\n",
    "# Close database connection when done\n",
    "def close_connection():\n",
    "    conn.close()"
   ]
  },
  {
   "cell_type": "code",
   "execution_count": 8,
   "metadata": {},
   "outputs": [
    {
     "name": "stdout",
     "output_type": "stream",
     "text": [
      "Opened database successfully\n",
      "Table created successfully\n"
     ]
    }
   ],
   "source": [
    "import sqlite3\n",
    "\n",
    "db_name = \"user_auth.db\"\n",
    "conn = sqlite3.connect(db_name)\n",
    "print(\"Opened database successfully\")\n",
    "\n",
    "# Create a users table\n",
    "try:\n",
    "    conn.execute('''CREATE TABLE IF NOT EXISTS users\n",
    "             (id INTEGER PRIMARY KEY AUTOINCREMENT,\n",
    "              username TEXT NOT NULL,\n",
    "              password TEXT NOT NULL)''')\n",
    "    print(\"Table created successfully\")\n",
    "except sqlite3.Error as e:\n",
    "    print(\"Error creating table:\", e)\n",
    "\n",
    "# Close the database connection\n",
    "conn.close()\n"
   ]
  }
 ],
 "metadata": {
  "kernelspec": {
   "display_name": "Python 3",
   "language": "python",
   "name": "python3"
  },
  "language_info": {
   "codemirror_mode": {
    "name": "ipython",
    "version": 3
   },
   "file_extension": ".py",
   "mimetype": "text/x-python",
   "name": "python",
   "nbconvert_exporter": "python",
   "pygments_lexer": "ipython3",
   "version": "3.10.12"
  }
 },
 "nbformat": 4,
 "nbformat_minor": 2
}
