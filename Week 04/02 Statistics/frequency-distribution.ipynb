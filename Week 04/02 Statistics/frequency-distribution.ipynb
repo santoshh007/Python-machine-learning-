{
 "cells": [
  {
   "cell_type": "code",
   "execution_count": 1,
   "metadata": {},
   "outputs": [],
   "source": [
    "from collections import Counter\n",
    "import numpy as np\n",
    "import pandas as pd\n",
    "import matplotlib.pyplot as plt\n",
    "import seaborn as sns"
   ]
  },
  {
   "cell_type": "code",
   "execution_count": 2,
   "metadata": {},
   "outputs": [],
   "source": [
    "# sample data\n",
    "colors = [\n",
    "    \"Red\", \"Blue\", \"Green\", \"Red\", \"Yellow\", \"Blue\", \"Green\", \"Green\", \"Blue\", \"Red\",\n",
    "    \"Red\", \"Blue\", \"Yellow\", \"Green\", \"Green\", \"Blue\", \"Red\", \"Red\", \"Red\", \"Blue\",\n",
    "    \"Green\", \"Yellow\", \"Blue\", \"Blue\", \"Green\", \"Red\", \"Red\", \"Green\", \"Blue\", \"Green\",\n",
    "    \"Yellow\", \"Red\", \"Blue\", \"Green\", \"Blue\", \"Red\", \"Blue\", \"Green\", \"Blue\", \"Red\",\n",
    "    \"Green\", \"Green\", \"Yellow\", \"Red\", \"Blue\", \"Green\", \"Blue\", \"Red\", \"Green\", \"Red\"\n",
    "]"
   ]
  },
  {
   "cell_type": "code",
   "execution_count": 3,
   "metadata": {},
   "outputs": [
    {
     "name": "stdout",
     "output_type": "stream",
     "text": [
      "Counter({'Red': 15, 'Blue': 15, 'Green': 15, 'Yellow': 5})\n"
     ]
    }
   ],
   "source": [
    "color_counts=Counter(colors)\n",
    "print(color_counts)"
   ]
  },
  {
   "cell_type": "code",
   "execution_count": 4,
   "metadata": {},
   "outputs": [
    {
     "name": "stdout",
     "output_type": "stream",
     "text": [
      "Frequency Table\n",
      "Color\tFrequency\n",
      "--------------\n",
      "Red\t15\n",
      "Blue\t15\n",
      "Green\t15\n",
      "Yellow\t5\n"
     ]
    }
   ],
   "source": [
    "#Display Frequency Table\n",
    "print('Frequency Table')\n",
    "print('Color\\tFrequency')\n",
    "print('--------------')\n",
    "\n",
    "for color, count in color_counts.items():\n",
    "    print(f'{color}\\t{count}')"
   ]
  },
  {
   "cell_type": "code",
   "execution_count": 5,
   "metadata": {},
   "outputs": [
    {
     "data": {
      "text/html": [
       "<div>\n",
       "<style scoped>\n",
       "    .dataframe tbody tr th:only-of-type {\n",
       "        vertical-align: middle;\n",
       "    }\n",
       "\n",
       "    .dataframe tbody tr th {\n",
       "        vertical-align: top;\n",
       "    }\n",
       "\n",
       "    .dataframe thead th {\n",
       "        text-align: right;\n",
       "    }\n",
       "</style>\n",
       "<table border=\"1\" class=\"dataframe\">\n",
       "  <thead>\n",
       "    <tr style=\"text-align: right;\">\n",
       "      <th></th>\n",
       "      <th>Frequency</th>\n",
       "    </tr>\n",
       "  </thead>\n",
       "  <tbody>\n",
       "    <tr>\n",
       "      <th>Red</th>\n",
       "      <td>15</td>\n",
       "    </tr>\n",
       "    <tr>\n",
       "      <th>Blue</th>\n",
       "      <td>15</td>\n",
       "    </tr>\n",
       "    <tr>\n",
       "      <th>Green</th>\n",
       "      <td>15</td>\n",
       "    </tr>\n",
       "    <tr>\n",
       "      <th>Yellow</th>\n",
       "      <td>5</td>\n",
       "    </tr>\n",
       "  </tbody>\n",
       "</table>\n",
       "</div>"
      ],
      "text/plain": [
       "        Frequency\n",
       "Red            15\n",
       "Blue           15\n",
       "Green          15\n",
       "Yellow          5"
      ]
     },
     "execution_count": 5,
     "metadata": {},
     "output_type": "execute_result"
    }
   ],
   "source": [
    "color_counts=dict(color_counts)\n",
    "index_list=list(color_counts.keys())\n",
    "value_list=list(color_counts.values())\n",
    "\n",
    "df_color=pd.DataFrame(value_list,index_list,columns=['Frequency'])\n",
    "df_color.head()"
   ]
  },
  {
   "cell_type": "code",
   "execution_count": 6,
   "metadata": {},
   "outputs": [
    {
     "data": {
      "text/plain": [
       "<function matplotlib.pyplot.show(close=None, block=None)>"
      ]
     },
     "execution_count": 6,
     "metadata": {},
     "output_type": "execute_result"
    },
    {
     "data": {
      "image/png": "[encoded data removed]",
      "text/plain": [
       "<Figure size 640x480 with 1 Axes>"
      ]
     },
     "metadata": {},
     "output_type": "display_data"
    }
   ],
   "source": [
    "df_color.plot(kind='bar')\n",
    "plt.show"
   ]
  },
  {
   "cell_type": "code",
   "execution_count": 7,
   "metadata": {},
   "outputs": [
    {
     "name": "stdout",
     "output_type": "stream",
     "text": [
      "[28, 34, 25, 28, 22, 31, 25, 27, 30, 24, 22, 29, 26, 31, 28, 34, 30, 25, 27, 26, 23, 29, 32, 28, 26, 24, 30, 25, 28, 31, 33, 27]\n"
     ]
    }
   ],
   "source": [
    "# Sample data - list of ages\n",
    "ages = [\n",
    "    28, 34, 25, 28, 22, 31, 25, 27, 30, 24,\n",
    "    22, 29, 26, 31, 28, 34, 30, 25, 27, 26,\n",
    "    23, 29, 32, 28, 26, 24, 30, 25, 28, 31,\n",
    "    33, 27\n",
    "]\n",
    "print(ages)"
   ]
  },
  {
   "cell_type": "code",
   "execution_count": 9,
   "metadata": {},
   "outputs": [
    {
     "name": "stdout",
     "output_type": "stream",
     "text": [
      "[22, 22, 23, 24, 24, 25, 25, 25, 25, 26, 26, 26, 27, 27, 27, 28, 28, 28, 28, 28, 29, 29, 30, 30, 30, 31, 31, 31, 32, 33, 34, 34]\n"
     ]
    }
   ],
   "source": [
    "ages=sorted(ages)\n",
    "print(ages)"
   ]
  },
  {
   "cell_type": "code",
   "execution_count": 19,
   "metadata": {},
   "outputs": [],
   "source": [
    "intervals=[(20,24),(25,29),(30,34),(35,39)]"
   ]
  },
  {
   "cell_type": "code",
   "execution_count": 21,
   "metadata": {},
   "outputs": [],
   "source": [
    "interval_counts = np.zeros(len(intervals), dtype=int)\n",
    "\n",
    "for age in ages:\n",
    "    for i, (lower, upper) in enumerate(intervals):\n",
    "        if lower <= age <= upper:\n",
    "            interval_counts[i] += 1"
   ]
  },
  {
   "cell_type": "code",
   "execution_count": 22,
   "metadata": {},
   "outputs": [
    {
     "name": "stdout",
     "output_type": "stream",
     "text": [
      "Frequency Table for Age Intervals\n",
      "Interval\tFrequency\n",
      "--------------\n",
      "20-24\t\t5\n",
      "25-29\t\t17\n",
      "30-34\t\t10\n",
      "35-39\t\t0\n"
     ]
    }
   ],
   "source": [
    "#Display Frequency Table\n",
    "print('Frequency Table for Age Intervals')\n",
    "print('Interval\\tFrequency')\n",
    "print('--------------')\n",
    "\n",
    "for (lower,upper), count in zip(intervals,interval_counts):\n",
    "    print(f'{lower}-{upper}\\t\\t{count}')"
   ]
  },
  {
   "cell_type": "code",
   "execution_count": 23,
   "metadata": {},
   "outputs": [
    {
     "name": "stdout",
     "output_type": "stream",
     "text": [
      "['20-24', '25-29', '30-34', '35-39']\n"
     ]
    }
   ],
   "source": [
    "interval_labels=[f\"{lower}-{upper}\"for(lower,upper)in intervals ]\n",
    "print(interval_labels)"
   ]
  },
  {
   "cell_type": "code",
   "execution_count": 24,
   "metadata": {},
   "outputs": [
    {
     "data": {
      "text/plain": [
       "<BarContainer object of 4 artists>"
      ]
     },
     "execution_count": 24,
     "metadata": {},
     "output_type": "execute_result"
    },
    {
     "data": {
      "image/png": "[encoded data removed]",
      "text/plain": [
       "<Figure size 640x480 with 1 Axes>"
      ]
     },
     "metadata": {},
     "output_type": "display_data"
    }
   ],
   "source": [
    "plt.bar(interval_labels,interval_counts,color='skyblue')"
   ]
  },
  {
   "cell_type": "code",
   "execution_count": null,
   "metadata": {},
   "outputs": [],
   "source": [
    "bin_edges="
   ]
  }
 ],
 "metadata": {
  "kernelspec": {
   "display_name": "Python 3",
   "language": "python",
   "name": "python3"
  },
  "language_info": {
   "codemirror_mode": {
    "name": "ipython",
    "version": 3
   },
   "file_extension": ".py",
   "mimetype": "text/x-python",
   "name": "python",
   "nbconvert_exporter": "python",
   "pygments_lexer": "ipython3",
   "version": "3.10.12"
  }
 },
 "nbformat": 4,
 "nbformat_minor": 2
}
