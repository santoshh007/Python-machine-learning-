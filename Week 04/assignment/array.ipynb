{
 "cells": [
  {
   "cell_type": "code",
   "execution_count": 5,
   "metadata": {},
   "outputs": [
    {
     "name": "stdout",
     "output_type": "stream",
     "text": [
      "10 20 30 0 0 0 0 0 \n",
      "10 25 30 0 0 0 0 0 \n",
      "10 25 0 0 0 0 0 \n"
     ]
    }
   ],
   "source": [
    "class ArrayOperations1D:\n",
    "    def __init__(self, size):\n",
    "        self.size = size\n",
    "        self.array = [0] * size\n",
    "    \n",
    "    def access_element(self, index):\n",
    "        return self.array[index]\n",
    "    \n",
    "    def insert_element(self, index, value):\n",
    "        if index < 0 or index > self.size:\n",
    "            return \"Index out of bounds\"\n",
    "        self.array.append(0)  # Add a placeholder at the end\n",
    "        for i in range(self.size - 1, index, -1):\n",
    "            self.array[i] = self.array[i - 1]  # Shift elements to the right\n",
    "        self.array[index] = value\n",
    "        self.size += 1\n",
    "    \n",
    "    def delete_element(self, index):\n",
    "        if index < 0 or index >= self.size:\n",
    "            return \"Index out of bounds\"\n",
    "        for i in range(index, self.size - 1):\n",
    "            self.array[i] = self.array[i + 1]\n",
    "        self.array.pop()  # Remove the last element\n",
    "        self.size -= 1\n",
    "        return \"Element deleted successfully\"\n",
    "    \n",
    "    def update_element(self, index, value):\n",
    "        if index < 0 or index >= self.size:\n",
    "            return \"Index out of bounds\"\n",
    "        self.array[index] = value\n",
    "        return \"Element updated successfully\"\n",
    "    \n",
    "    def traverse_array(self):\n",
    "        for i in range(self.size):\n",
    "            print(self.array[i], end=\" \")\n",
    "        print()\n",
    "\n",
    "\n",
    "# Example usage:\n",
    "arr = ArrayOperations1D(5)\n",
    "arr.insert_element(0, 10)\n",
    "arr.insert_element(1, 20)\n",
    "arr.insert_element(2, 30)\n",
    "arr.traverse_array()  # Output: 10 20 30 0 0\n",
    "arr.update_element(1, 25)\n",
    "arr.traverse_array()  # Output: 10 25 30 0 0\n",
    "arr.delete_element(2)\n",
    "arr.traverse_array()  # Output: 10 25 0\n"
   ]
  },
  {
   "cell_type": "code",
   "execution_count": 6,
   "metadata": {},
   "outputs": [
    {
     "name": "stdout",
     "output_type": "stream",
     "text": [
      "1 2 0 \n",
      "0 3 0 \n",
      "0 0 0 \n"
     ]
    }
   ],
   "source": [
    "class ArrayOperations2D:\n",
    "    def __init__(self, rows, cols):\n",
    "        self.rows = rows\n",
    "        self.cols = cols\n",
    "        self.array = [[0] * cols for _ in range(rows)]\n",
    "    \n",
    "    def access_element(self, row, col):\n",
    "        return self.array[row][col]\n",
    "    \n",
    "    def insert_element(self, row, col, value):\n",
    "        if row < 0 or row >= self.rows or col < 0 or col >= self.cols:\n",
    "            return \"Index out of bounds\"\n",
    "        self.array[row][col] = value\n",
    "    \n",
    "    def delete_element(self, row, col):\n",
    "        if row < 0 or row >= self.rows or col < 0 or col >= self.cols:\n",
    "            return \"Index out of bounds\"\n",
    "        self.array[row][col] = 0\n",
    "    \n",
    "    def update_element(self, row, col, value):\n",
    "        if row < 0 or row >= self.rows or col < 0 or col >= self.cols:\n",
    "            return \"Index out of bounds\"\n",
    "        self.array[row][col] = value\n",
    "    \n",
    "    def traverse_array(self):\n",
    "        for i in range(self.rows):\n",
    "            for j in range(self.cols):\n",
    "                print(self.array[i][j], end=\" \")\n",
    "            print()\n",
    "            \n",
    "# Example usage for 2D array:\n",
    "arr_2d = ArrayOperations2D(3, 3)\n",
    "arr_2d.insert_element(0, 0, 1)\n",
    "arr_2d.insert_element(0, 1, 2)\n",
    "arr_2d.insert_element(1, 1, 3)\n",
    "arr_2d.traverse_array()"
   ]
  },
  {
   "cell_type": "code",
   "execution_count": 7,
   "metadata": {},
   "outputs": [
    {
     "name": "stdout",
     "output_type": "stream",
     "text": [
      "Layer 0\n",
      "1 2 \n",
      "3 0 \n",
      "\n",
      "Layer 1\n",
      "0 0 \n",
      "0 0 \n",
      "\n"
     ]
    }
   ],
   "source": [
    "class ArrayOperations3D:\n",
    "    def __init__(self, layers, rows, cols):\n",
    "        self.layers = layers\n",
    "        self.rows = rows\n",
    "        self.cols = cols\n",
    "        self.array = [[[0] * cols for _ in range(rows)] for _ in range(layers)]\n",
    "    \n",
    "    def access_element(self, layer, row, col):\n",
    "        return self.array[layer][row][col]\n",
    "    \n",
    "    def insert_element(self, layer, row, col, value):\n",
    "        if layer < 0 or layer >= self.layers or row < 0 or row >= self.rows or col < 0 or col >= self.cols:\n",
    "            return \"Index out of bounds\"\n",
    "        self.array[layer][row][col] = value\n",
    "    \n",
    "    def delete_element(self, layer, row, col):\n",
    "        if layer < 0 or layer >= self.layers or row < 0 or row >= self.rows or col < 0 or col >= self.cols:\n",
    "            return \"Index out of bounds\"\n",
    "        self.array[layer][row][col] = 0\n",
    "    \n",
    "    def update_element(self, layer, row, col, value):\n",
    "        if layer < 0 or layer >= self.layers or row < 0 or row >= self.rows or col < 0 or col >= self.cols:\n",
    "            return \"Index out of bounds\"\n",
    "        self.array[layer][row][col] = value\n",
    "    \n",
    "    def traverse_array(self):\n",
    "        for i in range(self.layers):\n",
    "            print(\"Layer\", i)\n",
    "            for j in range(self.rows):\n",
    "                for k in range(self.cols):\n",
    "                    print(self.array[i][j][k], end=\" \")\n",
    "                print()\n",
    "            print()\n",
    "            \n",
    "# Example usage for 3D array:\n",
    "arr_3d = ArrayOperations3D(2, 2, 2)\n",
    "arr_3d.insert_element(0, 0, 0, 1)\n",
    "arr_3d.insert_element(0, 0, 1, 2)\n",
    "arr_3d.insert_element(0, 1, 0, 3)\n",
    "arr_3d.traverse_array()"
   ]
  }
 ],
 "metadata": {
  "kernelspec": {
   "display_name": "Python 3",
   "language": "python",
   "name": "python3"
  },
  "language_info": {
   "codemirror_mode": {
    "name": "ipython",
    "version": 3
   },
   "file_extension": ".py",
   "mimetype": "text/x-python",
   "name": "python",
   "nbconvert_exporter": "python",
   "pygments_lexer": "ipython3",
   "version": "3.10.12"
  }
 },
 "nbformat": 4,
 "nbformat_minor": 2
}
