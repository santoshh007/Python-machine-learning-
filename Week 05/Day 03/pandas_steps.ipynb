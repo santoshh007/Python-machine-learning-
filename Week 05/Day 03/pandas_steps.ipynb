{
 "cells": [
  {
   "cell_type": "markdown",
   "metadata": {},
   "source": [
    "## Pandas\n",
    "- Pandas is a open source python library designed specifically for accomplishing data analysis tasks.\n",
    "- When we look into source code of pandas, we  can verify that Pandas library is built on top of Numpy library.\n",
    "- Pandas library provides two important data structures named:\n",
    "    - [pandas.Series:](https://github.com/pandas-dev/pandas/blob/v2.0.3/pandas/core/series.py#L244-L6112)\n",
    "        - Series is a one-dimensional ndarray with axis labels.\n",
    "        - You can think of Series as a Single Column or Single Row of data with associated labels.\n",
    "\n",
    "    - [`pandas.DataFrame:`](https://github.com/pandas-dev/pandas/blob/v2.0.3/pandas/core/frame.py#L490-L11586)\n",
    "        - A DataFrame is a two-dimensional labeled data structure with columns that can hold data of different types.\n",
    "        - It is similar to a table in a relational database or a spreadsheet with rows and columns.\n",
    "        - Each column in a DataFrame can be visualize as Series.\n",
    "        - A DataFrame can be created from dictionaries, arrays, list of dictionaries, CSV Files, Excel Files, and more.\n",
    "        - Pandas DataFrame class consists of methods and attributes that makes the life of data analyst easier.\n",
    "\n",
    "In addition to these Data Structures, Pandas also provides various tools for Data ingestion, Data manipulation, Data Merging, Grouping and so on.\n"
   ]
  },
  {
   "cell_type": "markdown",
   "metadata": {},
   "source": [
    "## Install Pandas and Numpy\n",
    "- Before using pandas, you need to make sure pandas libary is installed into your system.\n",
    "- If you are using Google Colab, there is no need to install pandas as it comes with by default.\n",
    "- In addition to Pandas, we will also use Numpy library, lets install this as well (skip if you are using Google Colab)\n",
    "- Uncomment below cell to install necessary libraries"
   ]
  },
  {
   "cell_type": "code",
   "execution_count": 54,
   "metadata": {},
   "outputs": [],
   "source": [
    "# !pip install pandas\n",
    "# !pip install numpy"
   ]
  },
  {
   "cell_type": "markdown",
   "metadata": {},
   "source": [
    "## Import Libraries\n",
    "- In order to use advantange of installed libraries i.e. numpy and pandas, We need to import it using `import` keyword.\n",
    "- We will represent:\n",
    "    - numpy via alias `np`\n",
    "    - pandas via alias `pd`"
   ]
  },
  {
   "cell_type": "code",
   "execution_count": 55,
   "metadata": {},
   "outputs": [],
   "source": [
    "import numpy as np\n",
    "import pandas as pd"
   ]
  },
  {
   "cell_type": "markdown",
   "metadata": {},
   "source": [
    "## Creating Series\n",
    "- There are several ways in creating a Series:\n",
    "    1. From List\n",
    "    2. From Dictionary\n",
    "    3. From Numpy Array\n",
    "\n",
    "- To create a a Series you can use `pandas.Series()` function."
   ]
  },
  {
   "cell_type": "markdown",
   "metadata": {},
   "source": [
    "**1. Create a Series from python list**"
   ]
  },
  {
   "cell_type": "code",
   "execution_count": 56,
   "metadata": {},
   "outputs": [
    {
     "name": "stdout",
     "output_type": "stream",
     "text": [
      "0    10\n",
      "1    20\n",
      "2    30\n",
      "3    40\n",
      "4    50\n",
      "dtype: int64\n"
     ]
    }
   ],
   "source": [
    "# define list\n",
    "data = [10, 20, 30, 40, 50]\n",
    "\n",
    "# create series from list\n",
    "series_list = pd.Series(data)\n",
    "\n",
    "print(series_list)"
   ]
  },
  {
   "cell_type": "code",
   "execution_count": 57,
   "metadata": {},
   "outputs": [
    {
     "name": "stdout",
     "output_type": "stream",
     "text": [
      "<class 'pandas.core.series.Series'>\n"
     ]
    }
   ],
   "source": [
    "# check type\n",
    "print(type(series_list))"
   ]
  },
  {
   "cell_type": "markdown",
   "metadata": {},
   "source": [
    "**2. Create Series from Dictionary**"
   ]
  },
  {
   "cell_type": "code",
   "execution_count": 58,
   "metadata": {},
   "outputs": [
    {
     "name": "stdout",
     "output_type": "stream",
     "text": [
      "a    10\n",
      "b    20\n",
      "c    30\n",
      "d    40\n",
      "dtype: int64\n"
     ]
    }
   ],
   "source": [
    "# define dictionary\n",
    "data_dict = {\n",
    "    'a': 10,\n",
    "    'b': 20,\n",
    "    'c': 30,\n",
    "    'd': 40\n",
    "}\n",
    "\n",
    "# create series from dictionary\n",
    "series_dict = pd.Series(data_dict)\n",
    "\n",
    "print(series_dict)"
   ]
  },
  {
   "cell_type": "code",
   "execution_count": 59,
   "metadata": {},
   "outputs": [
    {
     "name": "stdout",
     "output_type": "stream",
     "text": [
      "<class 'pandas.core.series.Series'>\n"
     ]
    }
   ],
   "source": [
    "# check type\n",
    "print(type(series_dict))"
   ]
  },
  {
   "cell_type": "markdown",
   "metadata": {},
   "source": [
    "**Create Dictionary from Numpy Array**"
   ]
  },
  {
   "cell_type": "code",
   "execution_count": 60,
   "metadata": {},
   "outputs": [
    {
     "name": "stdout",
     "output_type": "stream",
     "text": [
      "0    10\n",
      "1    20\n",
      "2    30\n",
      "3    40\n",
      "dtype: int64\n"
     ]
    }
   ],
   "source": [
    "# define array\n",
    "numpy_array = np.array([10, 20, 30, 40])\n",
    "\n",
    "# create series from numpy array\n",
    "series_np = pd.Series(numpy_array)\n",
    "\n",
    "print(series_np)"
   ]
  },
  {
   "cell_type": "markdown",
   "metadata": {},
   "source": [
    "- **Note:**\n",
    "    - When creating `series` via list and  numpy array, Series index label are automatically generated starting from 0.\n",
    "    - When creating `Series` via dictionary, Dictionary keys becomes Series index label and Dictionary values becomes the data in Series."
   ]
  },
  {
   "cell_type": "code",
   "execution_count": null,
   "metadata": {},
   "outputs": [],
   "source": []
  },
  {
   "cell_type": "markdown",
   "metadata": {},
   "source": [
    "## Create DataFrame\n",
    "- Several ways to create Pandas DataFrame are:\n",
    "    1. Create DataFrame from 2D List\n",
    "    2. Create DataFrame a Dictionary of Lists\n",
    "    3. Create DataFrame from a List of Dictionaries\n",
    "    4. Create DataFrame from a CSV file\n",
    "    5. Create DataFrame from an Excel file\n",
    "\n",
    "- To create a DataFrame you can use `pd.DataFrame()` function."
   ]
  },
  {
   "cell_type": "markdown",
   "metadata": {},
   "source": [
    "**1. Create DataFrame from 2D List**"
   ]
  },
  {
   "cell_type": "code",
   "execution_count": 61,
   "metadata": {},
   "outputs": [
    {
     "data": {
      "text/html": [
       "<div>\n",
       "<style scoped>\n",
       "    .dataframe tbody tr th:only-of-type {\n",
       "        vertical-align: middle;\n",
       "    }\n",
       "\n",
       "    .dataframe tbody tr th {\n",
       "        vertical-align: top;\n",
       "    }\n",
       "\n",
       "    .dataframe thead th {\n",
       "        text-align: right;\n",
       "    }\n",
       "</style>\n",
       "<table border=\"1\" class=\"dataframe\">\n",
       "  <thead>\n",
       "    <tr style=\"text-align: right;\">\n",
       "      <th></th>\n",
       "      <th>col1</th>\n",
       "      <th>col2</th>\n",
       "    </tr>\n",
       "  </thead>\n",
       "  <tbody>\n",
       "    <tr>\n",
       "      <th>0</th>\n",
       "      <td>10</td>\n",
       "      <td>20</td>\n",
       "    </tr>\n",
       "    <tr>\n",
       "      <th>1</th>\n",
       "      <td>30</td>\n",
       "      <td>40</td>\n",
       "    </tr>\n",
       "    <tr>\n",
       "      <th>2</th>\n",
       "      <td>50</td>\n",
       "      <td>60</td>\n",
       "    </tr>\n",
       "  </tbody>\n",
       "</table>\n",
       "</div>"
      ],
      "text/plain": [
       "   col1  col2\n",
       "0    10    20\n",
       "1    30    40\n",
       "2    50    60"
      ]
     },
     "execution_count": 61,
     "metadata": {},
     "output_type": "execute_result"
    }
   ],
   "source": [
    "# Define list\n",
    "data = [[10, 20], [30, 40], [50, 60]]\n",
    "# print(len(data)) -> 60\n",
    "\n",
    "# create DataFrame\n",
    "df_list = pd.DataFrame(data, columns=['col1', 'col2'])\n",
    "\n",
    "df_list"
   ]
  },
  {
   "cell_type": "markdown",
   "metadata": {},
   "source": [
    "**2. Create DataFrame a Dictionary of Lists**\n",
    "- You can create a DataFrame from a Dictionary where,\n",
    "    - `key` represent column names.\n",
    "    - `value` represent list containing data for each column."
   ]
  },
  {
   "cell_type": "code",
   "execution_count": 62,
   "metadata": {},
   "outputs": [
    {
     "data": {
      "text/html": [
       "<div>\n",
       "<style scoped>\n",
       "    .dataframe tbody tr th:only-of-type {\n",
       "        vertical-align: middle;\n",
       "    }\n",
       "\n",
       "    .dataframe tbody tr th {\n",
       "        vertical-align: top;\n",
       "    }\n",
       "\n",
       "    .dataframe thead th {\n",
       "        text-align: right;\n",
       "    }\n",
       "</style>\n",
       "<table border=\"1\" class=\"dataframe\">\n",
       "  <thead>\n",
       "    <tr style=\"text-align: right;\">\n",
       "      <th></th>\n",
       "      <th>Name</th>\n",
       "      <th>Age</th>\n",
       "    </tr>\n",
       "  </thead>\n",
       "  <tbody>\n",
       "    <tr>\n",
       "      <th>0</th>\n",
       "      <td>Ram</td>\n",
       "      <td>10</td>\n",
       "    </tr>\n",
       "    <tr>\n",
       "      <th>1</th>\n",
       "      <td>Gita</td>\n",
       "      <td>25</td>\n",
       "    </tr>\n",
       "    <tr>\n",
       "      <th>2</th>\n",
       "      <td>Hari</td>\n",
       "      <td>20</td>\n",
       "    </tr>\n",
       "  </tbody>\n",
       "</table>\n",
       "</div>"
      ],
      "text/plain": [
       "   Name  Age\n",
       "0   Ram   10\n",
       "1  Gita   25\n",
       "2  Hari   20"
      ]
     },
     "execution_count": 62,
     "metadata": {},
     "output_type": "execute_result"
    }
   ],
   "source": [
    "# define dictionary of lists\n",
    "data_dict = {\n",
    "    'Name': ['Ram', 'Gita', 'Hari'],\n",
    "    'Age': [10, 25, 20]\n",
    "}\n",
    "\n",
    "# create dataframe\n",
    "df_dict = pd.DataFrame(data_dict)\n",
    "\n",
    "df_dict"
   ]
  },
  {
   "cell_type": "markdown",
   "metadata": {},
   "source": [
    "**3. Create DataFrame from a List of Dictionaries**\n",
    "- You can also create DataFrame from a List of Dictionaries, where,\n",
    "    - each dictionary corresponds to a row and contains column-value pairs."
   ]
  },
  {
   "cell_type": "code",
   "execution_count": 63,
   "metadata": {},
   "outputs": [
    {
     "data": {
      "text/html": [
       "<div>\n",
       "<style scoped>\n",
       "    .dataframe tbody tr th:only-of-type {\n",
       "        vertical-align: middle;\n",
       "    }\n",
       "\n",
       "    .dataframe tbody tr th {\n",
       "        vertical-align: top;\n",
       "    }\n",
       "\n",
       "    .dataframe thead th {\n",
       "        text-align: right;\n",
       "    }\n",
       "</style>\n",
       "<table border=\"1\" class=\"dataframe\">\n",
       "  <thead>\n",
       "    <tr style=\"text-align: right;\">\n",
       "      <th></th>\n",
       "      <th>Name</th>\n",
       "      <th>Age</th>\n",
       "    </tr>\n",
       "  </thead>\n",
       "  <tbody>\n",
       "    <tr>\n",
       "      <th>0</th>\n",
       "      <td>Ram</td>\n",
       "      <td>10</td>\n",
       "    </tr>\n",
       "    <tr>\n",
       "      <th>1</th>\n",
       "      <td>Gita</td>\n",
       "      <td>25</td>\n",
       "    </tr>\n",
       "    <tr>\n",
       "      <th>2</th>\n",
       "      <td>Hari</td>\n",
       "      <td>20</td>\n",
       "    </tr>\n",
       "  </tbody>\n",
       "</table>\n",
       "</div>"
      ],
      "text/plain": [
       "   Name  Age\n",
       "0   Ram   10\n",
       "1  Gita   25\n",
       "2  Hari   20"
      ]
     },
     "execution_count": 63,
     "metadata": {},
     "output_type": "execute_result"
    }
   ],
   "source": [
    "# define data list\n",
    "data_list = [\n",
    "    {'Name': 'Ram', 'Age': 10},\n",
    "    {'Name': 'Gita', 'Age': 25},\n",
    "    {'Name': 'Hari', 'Age': 20}\n",
    "]\n",
    "\n",
    "# Create DataFrame\n",
    "df_list = pd.DataFrame(data_list)\n",
    "\n",
    "df_list"
   ]
  },
  {
   "cell_type": "markdown",
   "metadata": {},
   "source": [
    "## Data Ingestion\n",
    "- Data Ingestion is the process of obtaining and import data for immediate use or storage in a database.\n",
    "- This repository includes variety of Dataset, so for now we will use that as data source.\n",
    "- There may be scenario where we need to ingest data from Google Drive as well for that purpose we can use `gdown` library"
   ]
  },
  {
   "cell_type": "markdown",
   "metadata": {},
   "source": [
    "**5. Create DataFrame from Csv File**\n",
    "- Use `pd.read_csv()` function"
   ]
  },
  {
   "cell_type": "code",
   "execution_count": 64,
   "metadata": {},
   "outputs": [
    {
     "data": {
      "text/html": [
       "<div>\n",
       "<style scoped>\n",
       "    .dataframe tbody tr th:only-of-type {\n",
       "        vertical-align: middle;\n",
       "    }\n",
       "\n",
       "    .dataframe tbody tr th {\n",
       "        vertical-align: top;\n",
       "    }\n",
       "\n",
       "    .dataframe thead th {\n",
       "        text-align: right;\n",
       "    }\n",
       "</style>\n",
       "<table border=\"1\" class=\"dataframe\">\n",
       "  <thead>\n",
       "    <tr style=\"text-align: right;\">\n",
       "      <th></th>\n",
       "      <th>emp_id</th>\n",
       "      <th>Department</th>\n",
       "    </tr>\n",
       "  </thead>\n",
       "  <tbody>\n",
       "    <tr>\n",
       "      <th>0</th>\n",
       "      <td>0</td>\n",
       "      <td>sales</td>\n",
       "    </tr>\n",
       "    <tr>\n",
       "      <th>1</th>\n",
       "      <td>1</td>\n",
       "      <td>sales</td>\n",
       "    </tr>\n",
       "    <tr>\n",
       "      <th>2</th>\n",
       "      <td>2</td>\n",
       "      <td>sales</td>\n",
       "    </tr>\n",
       "    <tr>\n",
       "      <th>3</th>\n",
       "      <td>3</td>\n",
       "      <td>sales</td>\n",
       "    </tr>\n",
       "    <tr>\n",
       "      <th>4</th>\n",
       "      <td>4</td>\n",
       "      <td>sales</td>\n",
       "    </tr>\n",
       "    <tr>\n",
       "      <th>...</th>\n",
       "      <td>...</td>\n",
       "      <td>...</td>\n",
       "    </tr>\n",
       "    <tr>\n",
       "      <th>14994</th>\n",
       "      <td>14994</td>\n",
       "      <td>support</td>\n",
       "    </tr>\n",
       "    <tr>\n",
       "      <th>14995</th>\n",
       "      <td>14995</td>\n",
       "      <td>support</td>\n",
       "    </tr>\n",
       "    <tr>\n",
       "      <th>14996</th>\n",
       "      <td>14996</td>\n",
       "      <td>support</td>\n",
       "    </tr>\n",
       "    <tr>\n",
       "      <th>14997</th>\n",
       "      <td>14997</td>\n",
       "      <td>support</td>\n",
       "    </tr>\n",
       "    <tr>\n",
       "      <th>14998</th>\n",
       "      <td>14998</td>\n",
       "      <td>support</td>\n",
       "    </tr>\n",
       "  </tbody>\n",
       "</table>\n",
       "<p>14999 rows × 2 columns</p>\n",
       "</div>"
      ],
      "text/plain": [
       "       emp_id Department\n",
       "0           0      sales\n",
       "1           1      sales\n",
       "2           2      sales\n",
       "3           3      sales\n",
       "4           4      sales\n",
       "...       ...        ...\n",
       "14994   14994    support\n",
       "14995   14995    support\n",
       "14996   14996    support\n",
       "14997   14997    support\n",
       "14998   14998    support\n",
       "\n",
       "[14999 rows x 2 columns]"
      ]
     },
     "execution_count": 64,
     "metadata": {},
     "output_type": "execute_result"
    }
   ],
   "source": [
    "# define path\n",
    "data_path = 'HR_comma_sep.csv'\n",
    "\n",
    "# read data from csv file\n",
    "df_hr = pd.read_csv(data_path)\n",
    "\n",
    "df_hr"
   ]
  },
  {
   "cell_type": "markdown",
   "metadata": {},
   "source": [
    "**5. Create DataFrame from an Excel file**\n",
    "- Use  `pd.read_excel()` function"
   ]
  },
  {
   "cell_type": "code",
   "execution_count": 65,
   "metadata": {},
   "outputs": [],
   "source": [
    "# write your code here"
   ]
  },
  {
   "cell_type": "code",
   "execution_count": null,
   "metadata": {},
   "outputs": [],
   "source": []
  },
  {
   "cell_type": "markdown",
   "metadata": {},
   "source": [
    "## Viewing Data\n",
    "- In this sections we will explore methods available to view our loaded DataFrame object.\n",
    "- **Methods are**\n",
    "    - head() and tail()\n",
    "    - shape\n",
    "    - index and columns\n",
    "    - dtypes\n",
    "    - values and to_numpy()\n",
    "    - info()  \n",
    "    - describe()"
   ]
  },
  {
   "cell_type": "code",
   "execution_count": 66,
   "metadata": {},
   "outputs": [
    {
     "data": {
      "text/html": [
       "<div>\n",
       "<style scoped>\n",
       "    .dataframe tbody tr th:only-of-type {\n",
       "        vertical-align: middle;\n",
       "    }\n",
       "\n",
       "    .dataframe tbody tr th {\n",
       "        vertical-align: top;\n",
       "    }\n",
       "\n",
       "    .dataframe thead th {\n",
       "        text-align: right;\n",
       "    }\n",
       "</style>\n",
       "<table border=\"1\" class=\"dataframe\">\n",
       "  <thead>\n",
       "    <tr style=\"text-align: right;\">\n",
       "      <th></th>\n",
       "      <th>emp_id</th>\n",
       "      <th>Department</th>\n",
       "    </tr>\n",
       "  </thead>\n",
       "  <tbody>\n",
       "    <tr>\n",
       "      <th>0</th>\n",
       "      <td>0</td>\n",
       "      <td>sales</td>\n",
       "    </tr>\n",
       "    <tr>\n",
       "      <th>1</th>\n",
       "      <td>1</td>\n",
       "      <td>sales</td>\n",
       "    </tr>\n",
       "    <tr>\n",
       "      <th>2</th>\n",
       "      <td>2</td>\n",
       "      <td>sales</td>\n",
       "    </tr>\n",
       "    <tr>\n",
       "      <th>3</th>\n",
       "      <td>3</td>\n",
       "      <td>sales</td>\n",
       "    </tr>\n",
       "    <tr>\n",
       "      <th>4</th>\n",
       "      <td>4</td>\n",
       "      <td>sales</td>\n",
       "    </tr>\n",
       "  </tbody>\n",
       "</table>\n",
       "</div>"
      ],
      "text/plain": [
       "   emp_id Department\n",
       "0       0      sales\n",
       "1       1      sales\n",
       "2       2      sales\n",
       "3       3      sales\n",
       "4       4      sales"
      ]
     },
     "execution_count": 66,
     "metadata": {},
     "output_type": "execute_result"
    }
   ],
   "source": [
    "# use head() to view top 5 rows\n",
    "df_hr.head()"
   ]
  },
  {
   "cell_type": "code",
   "execution_count": 67,
   "metadata": {},
   "outputs": [
    {
     "data": {
      "text/html": [
       "<div>\n",
       "<style scoped>\n",
       "    .dataframe tbody tr th:only-of-type {\n",
       "        vertical-align: middle;\n",
       "    }\n",
       "\n",
       "    .dataframe tbody tr th {\n",
       "        vertical-align: top;\n",
       "    }\n",
       "\n",
       "    .dataframe thead th {\n",
       "        text-align: right;\n",
       "    }\n",
       "</style>\n",
       "<table border=\"1\" class=\"dataframe\">\n",
       "  <thead>\n",
       "    <tr style=\"text-align: right;\">\n",
       "      <th></th>\n",
       "      <th>emp_id</th>\n",
       "      <th>Department</th>\n",
       "    </tr>\n",
       "  </thead>\n",
       "  <tbody>\n",
       "    <tr>\n",
       "      <th>14994</th>\n",
       "      <td>14994</td>\n",
       "      <td>support</td>\n",
       "    </tr>\n",
       "    <tr>\n",
       "      <th>14995</th>\n",
       "      <td>14995</td>\n",
       "      <td>support</td>\n",
       "    </tr>\n",
       "    <tr>\n",
       "      <th>14996</th>\n",
       "      <td>14996</td>\n",
       "      <td>support</td>\n",
       "    </tr>\n",
       "    <tr>\n",
       "      <th>14997</th>\n",
       "      <td>14997</td>\n",
       "      <td>support</td>\n",
       "    </tr>\n",
       "    <tr>\n",
       "      <th>14998</th>\n",
       "      <td>14998</td>\n",
       "      <td>support</td>\n",
       "    </tr>\n",
       "  </tbody>\n",
       "</table>\n",
       "</div>"
      ],
      "text/plain": [
       "       emp_id Department\n",
       "14994   14994    support\n",
       "14995   14995    support\n",
       "14996   14996    support\n",
       "14997   14997    support\n",
       "14998   14998    support"
      ]
     },
     "execution_count": 67,
     "metadata": {},
     "output_type": "execute_result"
    }
   ],
   "source": [
    "# use tail() to view last 5 rows\n",
    "df_hr.tail()"
   ]
  },
  {
   "cell_type": "code",
   "execution_count": 68,
   "metadata": {},
   "outputs": [
    {
     "data": {
      "text/plain": [
       "(14999, 2)"
      ]
     },
     "execution_count": 68,
     "metadata": {},
     "output_type": "execute_result"
    }
   ],
   "source": [
    "# Check dataframe shape\n",
    "# Hint: df.shape\n",
    "\n",
    "df_hr.shape"
   ]
  },
  {
   "cell_type": "code",
   "execution_count": 69,
   "metadata": {},
   "outputs": [
    {
     "data": {
      "text/plain": [
       "RangeIndex(start=0, stop=14999, step=1)"
      ]
     },
     "execution_count": 69,
     "metadata": {},
     "output_type": "execute_result"
    }
   ],
   "source": [
    "# extract dataframe index\n",
    "# Hint: df.index\n",
    "\n",
    "df_hr.index"
   ]
  },
  {
   "cell_type": "code",
   "execution_count": 70,
   "metadata": {},
   "outputs": [
    {
     "data": {
      "text/plain": [
       "Index(['emp_id', 'Department'], dtype='object')"
      ]
     },
     "execution_count": 70,
     "metadata": {},
     "output_type": "execute_result"
    }
   ],
   "source": [
    "# extract  columns\n",
    "# Hint: df.columns\n",
    "\n",
    "df_hr.columns"
   ]
  },
  {
   "cell_type": "code",
   "execution_count": 71,
   "metadata": {},
   "outputs": [
    {
     "data": {
      "text/plain": [
       "emp_id         int64\n",
       "Department    object\n",
       "dtype: object"
      ]
     },
     "execution_count": 71,
     "metadata": {},
     "output_type": "execute_result"
    }
   ],
   "source": [
    "# get column types\n",
    "# Hint: df.dtypes\n",
    "\n",
    "df_hr.dtypes"
   ]
  },
  {
   "cell_type": "markdown",
   "metadata": {},
   "source": [
    "- We can see, \n",
    "    - 2 columns are of type float64\n",
    "    - 6 columns are of type int64\n",
    "    - 2 columns are of type object"
   ]
  },
  {
   "cell_type": "code",
   "execution_count": 72,
   "metadata": {},
   "outputs": [
    {
     "data": {
      "text/plain": [
       "array([[0, 'sales'],\n",
       "       [1, 'sales'],\n",
       "       [2, 'sales'],\n",
       "       ...,\n",
       "       [14996, 'support'],\n",
       "       [14997, 'support'],\n",
       "       [14998, 'support']], dtype=object)"
      ]
     },
     "execution_count": 72,
     "metadata": {},
     "output_type": "execute_result"
    }
   ],
   "source": [
    "# convert pandas dataframe to numpy array\n",
    "# Hint: df.values\n",
    "df_hr.values"
   ]
  },
  {
   "cell_type": "code",
   "execution_count": 73,
   "metadata": {},
   "outputs": [
    {
     "data": {
      "text/plain": [
       "array([[0, 'sales'],\n",
       "       [1, 'sales'],\n",
       "       [2, 'sales'],\n",
       "       ...,\n",
       "       [14996, 'support'],\n",
       "       [14997, 'support'],\n",
       "       [14998, 'support']], dtype=object)"
      ]
     },
     "execution_count": 73,
     "metadata": {},
     "output_type": "execute_result"
    }
   ],
   "source": [
    "# convert pandas dataframe to numpy array\n",
    "# Hint: df.to_numpy()\n",
    "\n",
    "df_hr.to_numpy()"
   ]
  },
  {
   "cell_type": "code",
   "execution_count": 74,
   "metadata": {},
   "outputs": [
    {
     "name": "stdout",
     "output_type": "stream",
     "text": [
      "<class 'pandas.core.frame.DataFrame'>\n",
      "RangeIndex: 14999 entries, 0 to 14998\n",
      "Data columns (total 2 columns):\n",
      " #   Column      Non-Null Count  Dtype \n",
      "---  ------      --------------  ----- \n",
      " 0   emp_id      14999 non-null  int64 \n",
      " 1   Department  14999 non-null  object\n",
      "dtypes: int64(1), object(1)\n",
      "memory usage: 234.5+ KB\n"
     ]
    }
   ],
   "source": [
    "# get basic dataframe information\n",
    "# Hint: df.info()\n",
    "\n",
    "df_hr.info()"
   ]
  },
  {
   "cell_type": "markdown",
   "metadata": {},
   "source": [
    "- Dataframe occupies 1.1+ MB memory\n",
    "- Columns are of types: float64, int64, object\n",
    "- Total rows = 14999\n",
    "- No any columns contains null values"
   ]
  },
  {
   "cell_type": "code",
   "execution_count": 75,
   "metadata": {},
   "outputs": [
    {
     "data": {
      "text/html": [
       "<div>\n",
       "<style scoped>\n",
       "    .dataframe tbody tr th:only-of-type {\n",
       "        vertical-align: middle;\n",
       "    }\n",
       "\n",
       "    .dataframe tbody tr th {\n",
       "        vertical-align: top;\n",
       "    }\n",
       "\n",
       "    .dataframe thead th {\n",
       "        text-align: right;\n",
       "    }\n",
       "</style>\n",
       "<table border=\"1\" class=\"dataframe\">\n",
       "  <thead>\n",
       "    <tr style=\"text-align: right;\">\n",
       "      <th></th>\n",
       "      <th>emp_id</th>\n",
       "    </tr>\n",
       "  </thead>\n",
       "  <tbody>\n",
       "    <tr>\n",
       "      <th>count</th>\n",
       "      <td>14999.000000</td>\n",
       "    </tr>\n",
       "    <tr>\n",
       "      <th>mean</th>\n",
       "      <td>7499.000000</td>\n",
       "    </tr>\n",
       "    <tr>\n",
       "      <th>std</th>\n",
       "      <td>4329.982679</td>\n",
       "    </tr>\n",
       "    <tr>\n",
       "      <th>min</th>\n",
       "      <td>0.000000</td>\n",
       "    </tr>\n",
       "    <tr>\n",
       "      <th>25%</th>\n",
       "      <td>3749.500000</td>\n",
       "    </tr>\n",
       "    <tr>\n",
       "      <th>50%</th>\n",
       "      <td>7499.000000</td>\n",
       "    </tr>\n",
       "    <tr>\n",
       "      <th>75%</th>\n",
       "      <td>11248.500000</td>\n",
       "    </tr>\n",
       "    <tr>\n",
       "      <th>max</th>\n",
       "      <td>14998.000000</td>\n",
       "    </tr>\n",
       "  </tbody>\n",
       "</table>\n",
       "</div>"
      ],
      "text/plain": [
       "             emp_id\n",
       "count  14999.000000\n",
       "mean    7499.000000\n",
       "std     4329.982679\n",
       "min        0.000000\n",
       "25%     3749.500000\n",
       "50%     7499.000000\n",
       "75%    11248.500000\n",
       "max    14998.000000"
      ]
     },
     "execution_count": 75,
     "metadata": {},
     "output_type": "execute_result"
    }
   ],
   "source": [
    "# Descriptive Statistics\n",
    "# Hint: df.describe()\n",
    "\n",
    "df_hr.describe()"
   ]
  },
  {
   "cell_type": "markdown",
   "metadata": {},
   "source": [
    "- We get the summary of each dataframe column easily without the need for explicit computation.\n",
    "- By default it includes only the numerical columns.\n",
    "- let's get description  of object type only in below cells."
   ]
  },
  {
   "cell_type": "code",
   "execution_count": 76,
   "metadata": {},
   "outputs": [
    {
     "data": {
      "text/html": [
       "<div>\n",
       "<style scoped>\n",
       "    .dataframe tbody tr th:only-of-type {\n",
       "        vertical-align: middle;\n",
       "    }\n",
       "\n",
       "    .dataframe tbody tr th {\n",
       "        vertical-align: top;\n",
       "    }\n",
       "\n",
       "    .dataframe thead th {\n",
       "        text-align: right;\n",
       "    }\n",
       "</style>\n",
       "<table border=\"1\" class=\"dataframe\">\n",
       "  <thead>\n",
       "    <tr style=\"text-align: right;\">\n",
       "      <th></th>\n",
       "      <th>Department</th>\n",
       "    </tr>\n",
       "  </thead>\n",
       "  <tbody>\n",
       "    <tr>\n",
       "      <th>count</th>\n",
       "      <td>14999</td>\n",
       "    </tr>\n",
       "    <tr>\n",
       "      <th>unique</th>\n",
       "      <td>10</td>\n",
       "    </tr>\n",
       "    <tr>\n",
       "      <th>top</th>\n",
       "      <td>sales</td>\n",
       "    </tr>\n",
       "    <tr>\n",
       "      <th>freq</th>\n",
       "      <td>4140</td>\n",
       "    </tr>\n",
       "  </tbody>\n",
       "</table>\n",
       "</div>"
      ],
      "text/plain": [
       "       Department\n",
       "count       14999\n",
       "unique         10\n",
       "top         sales\n",
       "freq         4140"
      ]
     },
     "execution_count": 76,
     "metadata": {},
     "output_type": "execute_result"
    }
   ],
   "source": [
    "# describe object type, exclude int, and float\n",
    "# Hint: df.describe(exclude=['int', 'float'])\n",
    "\n",
    "df_hr.describe(exclude=['int', 'float'])"
   ]
  },
  {
   "cell_type": "markdown",
   "metadata": {},
   "source": [
    "- For Object type, we get count, unique, top items with frequency."
   ]
  },
  {
   "cell_type": "markdown",
   "metadata": {},
   "source": [
    "## Data Selection\n",
    "- This section covers different techniques to access columns, slice dataframe, get unique column values.\n",
    "    - select columns (using [], and dot(.) operator)\n",
    "    - iloc\n",
    "    - loc \n",
    "    - unique() and nunique()\n",
    "    - value_counts()"
   ]
  },
  {
   "cell_type": "markdown",
   "metadata": {},
   "source": [
    "**Select Columns**"
   ]
  },
  {
   "cell_type": "code",
   "execution_count": 80,
   "metadata": {},
   "outputs": [
    {
     "ename": "KeyError",
     "evalue": "'satisfaction_level'",
     "output_type": "error",
     "traceback": [
      "\u001b[0;31m---------------------------------------------------------------------------\u001b[0m",
      "\u001b[0;31mKeyError\u001b[0m                                  Traceback (most recent call last)",
      "File \u001b[0;32m~/.local/lib/python3.10/site-packages/pandas/core/indexes/base.py:3805\u001b[0m, in \u001b[0;36mIndex.get_loc\u001b[0;34m(self, key)\u001b[0m\n\u001b[1;32m   3804\u001b[0m \u001b[38;5;28;01mtry\u001b[39;00m:\n\u001b[0;32m-> 3805\u001b[0m     \u001b[38;5;28;01mreturn\u001b[39;00m \u001b[38;5;28;43mself\u001b[39;49m\u001b[38;5;241;43m.\u001b[39;49m\u001b[43m_engine\u001b[49m\u001b[38;5;241;43m.\u001b[39;49m\u001b[43mget_loc\u001b[49m\u001b[43m(\u001b[49m\u001b[43mcasted_key\u001b[49m\u001b[43m)\u001b[49m\n\u001b[1;32m   3806\u001b[0m \u001b[38;5;28;01mexcept\u001b[39;00m \u001b[38;5;167;01mKeyError\u001b[39;00m \u001b[38;5;28;01mas\u001b[39;00m err:\n",
      "File \u001b[0;32mindex.pyx:167\u001b[0m, in \u001b[0;36mpandas._libs.index.IndexEngine.get_loc\u001b[0;34m()\u001b[0m\n",
      "File \u001b[0;32mindex.pyx:196\u001b[0m, in \u001b[0;36mpandas._libs.index.IndexEngine.get_loc\u001b[0;34m()\u001b[0m\n",
      "File \u001b[0;32mpandas/_libs/hashtable_class_helper.pxi:7081\u001b[0m, in \u001b[0;36mpandas._libs.hashtable.PyObjectHashTable.get_item\u001b[0;34m()\u001b[0m\n",
      "File \u001b[0;32mpandas/_libs/hashtable_class_helper.pxi:7089\u001b[0m, in \u001b[0;36mpandas._libs.hashtable.PyObjectHashTable.get_item\u001b[0;34m()\u001b[0m\n",
      "\u001b[0;31mKeyError\u001b[0m: 'satisfaction_level'",
      "\nThe above exception was the direct cause of the following exception:\n",
      "\u001b[0;31mKeyError\u001b[0m                                  Traceback (most recent call last)",
      "Cell \u001b[0;32mIn[80], line 4\u001b[0m\n\u001b[1;32m      1\u001b[0m \u001b[38;5;66;03m# Select single column\u001b[39;00m\n\u001b[1;32m      2\u001b[0m \n\u001b[1;32m      3\u001b[0m \u001b[38;5;66;03m# without using dot operator\u001b[39;00m\n\u001b[0;32m----> 4\u001b[0m \u001b[38;5;28mprint\u001b[39m(\u001b[43mdf_hr\u001b[49m\u001b[43m[\u001b[49m\u001b[38;5;124;43m'\u001b[39;49m\u001b[38;5;124;43msatisfaction_level\u001b[39;49m\u001b[38;5;124;43m'\u001b[39;49m\u001b[43m]\u001b[49m)\n\u001b[1;32m      6\u001b[0m \u001b[38;5;28mprint\u001b[39m(\u001b[38;5;124m'\u001b[39m\u001b[38;5;124m------------------------------------------\u001b[39m\u001b[38;5;124m'\u001b[39m)\n\u001b[1;32m      8\u001b[0m \u001b[38;5;66;03m# using dot operator\u001b[39;00m\n",
      "File \u001b[0;32m~/.local/lib/python3.10/site-packages/pandas/core/frame.py:4090\u001b[0m, in \u001b[0;36mDataFrame.__getitem__\u001b[0;34m(self, key)\u001b[0m\n\u001b[1;32m   4088\u001b[0m \u001b[38;5;28;01mif\u001b[39;00m \u001b[38;5;28mself\u001b[39m\u001b[38;5;241m.\u001b[39mcolumns\u001b[38;5;241m.\u001b[39mnlevels \u001b[38;5;241m>\u001b[39m \u001b[38;5;241m1\u001b[39m:\n\u001b[1;32m   4089\u001b[0m     \u001b[38;5;28;01mreturn\u001b[39;00m \u001b[38;5;28mself\u001b[39m\u001b[38;5;241m.\u001b[39m_getitem_multilevel(key)\n\u001b[0;32m-> 4090\u001b[0m indexer \u001b[38;5;241m=\u001b[39m \u001b[38;5;28;43mself\u001b[39;49m\u001b[38;5;241;43m.\u001b[39;49m\u001b[43mcolumns\u001b[49m\u001b[38;5;241;43m.\u001b[39;49m\u001b[43mget_loc\u001b[49m\u001b[43m(\u001b[49m\u001b[43mkey\u001b[49m\u001b[43m)\u001b[49m\n\u001b[1;32m   4091\u001b[0m \u001b[38;5;28;01mif\u001b[39;00m is_integer(indexer):\n\u001b[1;32m   4092\u001b[0m     indexer \u001b[38;5;241m=\u001b[39m [indexer]\n",
      "File \u001b[0;32m~/.local/lib/python3.10/site-packages/pandas/core/indexes/base.py:3812\u001b[0m, in \u001b[0;36mIndex.get_loc\u001b[0;34m(self, key)\u001b[0m\n\u001b[1;32m   3807\u001b[0m     \u001b[38;5;28;01mif\u001b[39;00m \u001b[38;5;28misinstance\u001b[39m(casted_key, \u001b[38;5;28mslice\u001b[39m) \u001b[38;5;129;01mor\u001b[39;00m (\n\u001b[1;32m   3808\u001b[0m         \u001b[38;5;28misinstance\u001b[39m(casted_key, abc\u001b[38;5;241m.\u001b[39mIterable)\n\u001b[1;32m   3809\u001b[0m         \u001b[38;5;129;01mand\u001b[39;00m \u001b[38;5;28many\u001b[39m(\u001b[38;5;28misinstance\u001b[39m(x, \u001b[38;5;28mslice\u001b[39m) \u001b[38;5;28;01mfor\u001b[39;00m x \u001b[38;5;129;01min\u001b[39;00m casted_key)\n\u001b[1;32m   3810\u001b[0m     ):\n\u001b[1;32m   3811\u001b[0m         \u001b[38;5;28;01mraise\u001b[39;00m InvalidIndexError(key)\n\u001b[0;32m-> 3812\u001b[0m     \u001b[38;5;28;01mraise\u001b[39;00m \u001b[38;5;167;01mKeyError\u001b[39;00m(key) \u001b[38;5;28;01mfrom\u001b[39;00m \u001b[38;5;21;01merr\u001b[39;00m\n\u001b[1;32m   3813\u001b[0m \u001b[38;5;28;01mexcept\u001b[39;00m \u001b[38;5;167;01mTypeError\u001b[39;00m:\n\u001b[1;32m   3814\u001b[0m     \u001b[38;5;66;03m# If we have a listlike key, _check_indexing_error will raise\u001b[39;00m\n\u001b[1;32m   3815\u001b[0m     \u001b[38;5;66;03m#  InvalidIndexError. Otherwise we fall through and re-raise\u001b[39;00m\n\u001b[1;32m   3816\u001b[0m     \u001b[38;5;66;03m#  the TypeError.\u001b[39;00m\n\u001b[1;32m   3817\u001b[0m     \u001b[38;5;28mself\u001b[39m\u001b[38;5;241m.\u001b[39m_check_indexing_error(key)\n",
      "\u001b[0;31mKeyError\u001b[0m: 'satisfaction_level'"
     ]
    }
   ],
   "source": [
    "# Select single column\n",
    "\n",
    "# without using dot operator\n",
    "print(df_hr['satisfaction_level'])\n",
    "\n",
    "print('------------------------------------------')\n",
    "\n",
    "# using dot operator\n",
    "print(df_hr.satisfaction_level)"
   ]
  },
  {
   "cell_type": "code",
   "execution_count": 78,
   "metadata": {},
   "outputs": [
    {
     "ename": "KeyError",
     "evalue": "\"None of [Index(['satisfaction_level', 'left'], dtype='object')] are in the [columns]\"",
     "output_type": "error",
     "traceback": [
      "\u001b[0;31m---------------------------------------------------------------------------\u001b[0m",
      "\u001b[0;31mKeyError\u001b[0m                                  Traceback (most recent call last)",
      "Cell \u001b[0;32mIn[78], line 5\u001b[0m\n\u001b[1;32m      1\u001b[0m \u001b[38;5;66;03m# Select multiple columns\u001b[39;00m\n\u001b[1;32m      3\u001b[0m columns_to_select \u001b[38;5;241m=\u001b[39m [\u001b[38;5;124m'\u001b[39m\u001b[38;5;124msatisfaction_level\u001b[39m\u001b[38;5;124m'\u001b[39m, \u001b[38;5;124m'\u001b[39m\u001b[38;5;124mleft\u001b[39m\u001b[38;5;124m'\u001b[39m]\n\u001b[0;32m----> 5\u001b[0m \u001b[43mdf_hr\u001b[49m\u001b[43m[\u001b[49m\u001b[43mcolumns_to_select\u001b[49m\u001b[43m]\u001b[49m\n",
      "File \u001b[0;32m~/.local/lib/python3.10/site-packages/pandas/core/frame.py:4096\u001b[0m, in \u001b[0;36mDataFrame.__getitem__\u001b[0;34m(self, key)\u001b[0m\n\u001b[1;32m   4094\u001b[0m     \u001b[38;5;28;01mif\u001b[39;00m is_iterator(key):\n\u001b[1;32m   4095\u001b[0m         key \u001b[38;5;241m=\u001b[39m \u001b[38;5;28mlist\u001b[39m(key)\n\u001b[0;32m-> 4096\u001b[0m     indexer \u001b[38;5;241m=\u001b[39m \u001b[38;5;28;43mself\u001b[39;49m\u001b[38;5;241;43m.\u001b[39;49m\u001b[43mcolumns\u001b[49m\u001b[38;5;241;43m.\u001b[39;49m\u001b[43m_get_indexer_strict\u001b[49m\u001b[43m(\u001b[49m\u001b[43mkey\u001b[49m\u001b[43m,\u001b[49m\u001b[43m \u001b[49m\u001b[38;5;124;43m\"\u001b[39;49m\u001b[38;5;124;43mcolumns\u001b[39;49m\u001b[38;5;124;43m\"\u001b[39;49m\u001b[43m)\u001b[49m[\u001b[38;5;241m1\u001b[39m]\n\u001b[1;32m   4098\u001b[0m \u001b[38;5;66;03m# take() does not accept boolean indexers\u001b[39;00m\n\u001b[1;32m   4099\u001b[0m \u001b[38;5;28;01mif\u001b[39;00m \u001b[38;5;28mgetattr\u001b[39m(indexer, \u001b[38;5;124m\"\u001b[39m\u001b[38;5;124mdtype\u001b[39m\u001b[38;5;124m\"\u001b[39m, \u001b[38;5;28;01mNone\u001b[39;00m) \u001b[38;5;241m==\u001b[39m \u001b[38;5;28mbool\u001b[39m:\n",
      "File \u001b[0;32m~/.local/lib/python3.10/site-packages/pandas/core/indexes/base.py:6200\u001b[0m, in \u001b[0;36mIndex._get_indexer_strict\u001b[0;34m(self, key, axis_name)\u001b[0m\n\u001b[1;32m   6197\u001b[0m \u001b[38;5;28;01melse\u001b[39;00m:\n\u001b[1;32m   6198\u001b[0m     keyarr, indexer, new_indexer \u001b[38;5;241m=\u001b[39m \u001b[38;5;28mself\u001b[39m\u001b[38;5;241m.\u001b[39m_reindex_non_unique(keyarr)\n\u001b[0;32m-> 6200\u001b[0m \u001b[38;5;28;43mself\u001b[39;49m\u001b[38;5;241;43m.\u001b[39;49m\u001b[43m_raise_if_missing\u001b[49m\u001b[43m(\u001b[49m\u001b[43mkeyarr\u001b[49m\u001b[43m,\u001b[49m\u001b[43m \u001b[49m\u001b[43mindexer\u001b[49m\u001b[43m,\u001b[49m\u001b[43m \u001b[49m\u001b[43maxis_name\u001b[49m\u001b[43m)\u001b[49m\n\u001b[1;32m   6202\u001b[0m keyarr \u001b[38;5;241m=\u001b[39m \u001b[38;5;28mself\u001b[39m\u001b[38;5;241m.\u001b[39mtake(indexer)\n\u001b[1;32m   6203\u001b[0m \u001b[38;5;28;01mif\u001b[39;00m \u001b[38;5;28misinstance\u001b[39m(key, Index):\n\u001b[1;32m   6204\u001b[0m     \u001b[38;5;66;03m# GH 42790 - Preserve name from an Index\u001b[39;00m\n",
      "File \u001b[0;32m~/.local/lib/python3.10/site-packages/pandas/core/indexes/base.py:6249\u001b[0m, in \u001b[0;36mIndex._raise_if_missing\u001b[0;34m(self, key, indexer, axis_name)\u001b[0m\n\u001b[1;32m   6247\u001b[0m \u001b[38;5;28;01mif\u001b[39;00m nmissing:\n\u001b[1;32m   6248\u001b[0m     \u001b[38;5;28;01mif\u001b[39;00m nmissing \u001b[38;5;241m==\u001b[39m \u001b[38;5;28mlen\u001b[39m(indexer):\n\u001b[0;32m-> 6249\u001b[0m         \u001b[38;5;28;01mraise\u001b[39;00m \u001b[38;5;167;01mKeyError\u001b[39;00m(\u001b[38;5;124mf\u001b[39m\u001b[38;5;124m\"\u001b[39m\u001b[38;5;124mNone of [\u001b[39m\u001b[38;5;132;01m{\u001b[39;00mkey\u001b[38;5;132;01m}\u001b[39;00m\u001b[38;5;124m] are in the [\u001b[39m\u001b[38;5;132;01m{\u001b[39;00maxis_name\u001b[38;5;132;01m}\u001b[39;00m\u001b[38;5;124m]\u001b[39m\u001b[38;5;124m\"\u001b[39m)\n\u001b[1;32m   6251\u001b[0m     not_found \u001b[38;5;241m=\u001b[39m \u001b[38;5;28mlist\u001b[39m(ensure_index(key)[missing_mask\u001b[38;5;241m.\u001b[39mnonzero()[\u001b[38;5;241m0\u001b[39m]]\u001b[38;5;241m.\u001b[39munique())\n\u001b[1;32m   6252\u001b[0m     \u001b[38;5;28;01mraise\u001b[39;00m \u001b[38;5;167;01mKeyError\u001b[39;00m(\u001b[38;5;124mf\u001b[39m\u001b[38;5;124m\"\u001b[39m\u001b[38;5;132;01m{\u001b[39;00mnot_found\u001b[38;5;132;01m}\u001b[39;00m\u001b[38;5;124m not in index\u001b[39m\u001b[38;5;124m\"\u001b[39m)\n",
      "\u001b[0;31mKeyError\u001b[0m: \"None of [Index(['satisfaction_level', 'left'], dtype='object')] are in the [columns]\""
     ]
    }
   ],
   "source": [
    "# Select multiple columns\n",
    "\n",
    "columns_to_select = ['satisfaction_level', 'left']\n",
    "\n",
    "df_hr[columns_to_select]"
   ]
  },
  {
   "cell_type": "markdown",
   "metadata": {},
   "source": [
    "**iloc**  \n",
    "- ways to slice pandas dataframe via integer value.\n",
    "- It allows you to select data from a DataFrame using integer indices for both rows and columns.\n",
    "- 1st row is 0, 2nd row is 1, and so on.\n",
    "- 1st column is 0, 2nd column is 1, and so on.\n",
    "- **`syntax: df.iloc[row_index, column_index]`**"
   ]
  },
  {
   "cell_type": "code",
   "execution_count": null,
   "metadata": {},
   "outputs": [
    {
     "data": {
      "text/plain": [
       "0.38"
      ]
     },
     "execution_count": 27,
     "metadata": {},
     "output_type": "execute_result"
    }
   ],
   "source": [
    "# select single element using iloc\n",
    "# value at 1st row and 1st column\n",
    "\n",
    "df_hr.iloc[0, 0]"
   ]
  },
  {
   "cell_type": "code",
   "execution_count": 81,
   "metadata": {},
   "outputs": [
    {
     "data": {
      "text/html": [
       "<div>\n",
       "<style scoped>\n",
       "    .dataframe tbody tr th:only-of-type {\n",
       "        vertical-align: middle;\n",
       "    }\n",
       "\n",
       "    .dataframe tbody tr th {\n",
       "        vertical-align: top;\n",
       "    }\n",
       "\n",
       "    .dataframe thead th {\n",
       "        text-align: right;\n",
       "    }\n",
       "</style>\n",
       "<table border=\"1\" class=\"dataframe\">\n",
       "  <thead>\n",
       "    <tr style=\"text-align: right;\">\n",
       "      <th></th>\n",
       "      <th>emp_id</th>\n",
       "      <th>Department</th>\n",
       "    </tr>\n",
       "  </thead>\n",
       "  <tbody>\n",
       "    <tr>\n",
       "      <th>0</th>\n",
       "      <td>0</td>\n",
       "      <td>sales</td>\n",
       "    </tr>\n",
       "    <tr>\n",
       "      <th>1</th>\n",
       "      <td>1</td>\n",
       "      <td>sales</td>\n",
       "    </tr>\n",
       "    <tr>\n",
       "      <th>2</th>\n",
       "      <td>2</td>\n",
       "      <td>sales</td>\n",
       "    </tr>\n",
       "  </tbody>\n",
       "</table>\n",
       "</div>"
      ],
      "text/plain": [
       "   emp_id Department\n",
       "0       0      sales\n",
       "1       1      sales\n",
       "2       2      sales"
      ]
     },
     "execution_count": 81,
     "metadata": {},
     "output_type": "execute_result"
    }
   ],
   "source": [
    "# slice dataframe\n",
    "# 1st 2 rows and last 3 columns\n",
    "\n",
    "df_hr.iloc[:3, -3:]"
   ]
  },
  {
   "cell_type": "markdown",
   "metadata": {},
   "source": [
    "**loc**\n",
    "- `loc` is used for label-based indexing. \n",
    "- Allows us to slice dataframe using row label and column label instead of integer value as in loc.  \n",
    "- **`syntax: df.loc[row_label, column_label]`**"
   ]
  },
  {
   "cell_type": "code",
   "execution_count": null,
   "metadata": {},
   "outputs": [
    {
     "data": {
      "text/plain": [
       "0.38"
      ]
     },
     "execution_count": 29,
     "metadata": {},
     "output_type": "execute_result"
    }
   ],
   "source": [
    "# select single element using loc\n",
    "# value at 1st row and 1st column\n",
    "\n",
    "df_hr.loc[0, 'satisfaction_level']"
   ]
  },
  {
   "cell_type": "code",
   "execution_count": 82,
   "metadata": {},
   "outputs": [
    {
     "ename": "KeyError",
     "evalue": "\"['promotion_last_5years', 'salary'] not in index\"",
     "output_type": "error",
     "traceback": [
      "\u001b[0;31m---------------------------------------------------------------------------\u001b[0m",
      "\u001b[0;31mKeyError\u001b[0m                                  Traceback (most recent call last)",
      "Cell \u001b[0;32mIn[82], line 7\u001b[0m\n\u001b[1;32m      4\u001b[0m row_label \u001b[38;5;241m=\u001b[39m [\u001b[38;5;241m0\u001b[39m, \u001b[38;5;241m1\u001b[39m, \u001b[38;5;241m2\u001b[39m]\n\u001b[1;32m      5\u001b[0m column_label \u001b[38;5;241m=\u001b[39m [\u001b[38;5;124m'\u001b[39m\u001b[38;5;124mpromotion_last_5years\u001b[39m\u001b[38;5;124m'\u001b[39m, \u001b[38;5;124m'\u001b[39m\u001b[38;5;124mDepartment\u001b[39m\u001b[38;5;124m'\u001b[39m, \u001b[38;5;124m'\u001b[39m\u001b[38;5;124msalary\u001b[39m\u001b[38;5;124m'\u001b[39m]\n\u001b[0;32m----> 7\u001b[0m \u001b[43mdf_hr\u001b[49m\u001b[38;5;241;43m.\u001b[39;49m\u001b[43mloc\u001b[49m\u001b[43m[\u001b[49m\u001b[43mrow_label\u001b[49m\u001b[43m,\u001b[49m\u001b[43m \u001b[49m\u001b[43mcolumn_label\u001b[49m\u001b[43m]\u001b[49m\n",
      "File \u001b[0;32m~/.local/lib/python3.10/site-packages/pandas/core/indexing.py:1184\u001b[0m, in \u001b[0;36m_LocationIndexer.__getitem__\u001b[0;34m(self, key)\u001b[0m\n\u001b[1;32m   1182\u001b[0m     \u001b[38;5;28;01mif\u001b[39;00m \u001b[38;5;28mself\u001b[39m\u001b[38;5;241m.\u001b[39m_is_scalar_access(key):\n\u001b[1;32m   1183\u001b[0m         \u001b[38;5;28;01mreturn\u001b[39;00m \u001b[38;5;28mself\u001b[39m\u001b[38;5;241m.\u001b[39mobj\u001b[38;5;241m.\u001b[39m_get_value(\u001b[38;5;241m*\u001b[39mkey, takeable\u001b[38;5;241m=\u001b[39m\u001b[38;5;28mself\u001b[39m\u001b[38;5;241m.\u001b[39m_takeable)\n\u001b[0;32m-> 1184\u001b[0m     \u001b[38;5;28;01mreturn\u001b[39;00m \u001b[38;5;28;43mself\u001b[39;49m\u001b[38;5;241;43m.\u001b[39;49m\u001b[43m_getitem_tuple\u001b[49m\u001b[43m(\u001b[49m\u001b[43mkey\u001b[49m\u001b[43m)\u001b[49m\n\u001b[1;32m   1185\u001b[0m \u001b[38;5;28;01melse\u001b[39;00m:\n\u001b[1;32m   1186\u001b[0m     \u001b[38;5;66;03m# we by definition only have the 0th axis\u001b[39;00m\n\u001b[1;32m   1187\u001b[0m     axis \u001b[38;5;241m=\u001b[39m \u001b[38;5;28mself\u001b[39m\u001b[38;5;241m.\u001b[39maxis \u001b[38;5;129;01mor\u001b[39;00m \u001b[38;5;241m0\u001b[39m\n",
      "File \u001b[0;32m~/.local/lib/python3.10/site-packages/pandas/core/indexing.py:1375\u001b[0m, in \u001b[0;36m_LocIndexer._getitem_tuple\u001b[0;34m(self, tup)\u001b[0m\n\u001b[1;32m   1373\u001b[0m \u001b[38;5;66;03m# ugly hack for GH #836\u001b[39;00m\n\u001b[1;32m   1374\u001b[0m \u001b[38;5;28;01mif\u001b[39;00m \u001b[38;5;28mself\u001b[39m\u001b[38;5;241m.\u001b[39m_multi_take_opportunity(tup):\n\u001b[0;32m-> 1375\u001b[0m     \u001b[38;5;28;01mreturn\u001b[39;00m \u001b[38;5;28;43mself\u001b[39;49m\u001b[38;5;241;43m.\u001b[39;49m\u001b[43m_multi_take\u001b[49m\u001b[43m(\u001b[49m\u001b[43mtup\u001b[49m\u001b[43m)\u001b[49m\n\u001b[1;32m   1377\u001b[0m \u001b[38;5;28;01mreturn\u001b[39;00m \u001b[38;5;28mself\u001b[39m\u001b[38;5;241m.\u001b[39m_getitem_tuple_same_dim(tup)\n",
      "File \u001b[0;32m~/.local/lib/python3.10/site-packages/pandas/core/indexing.py:1326\u001b[0m, in \u001b[0;36m_LocIndexer._multi_take\u001b[0;34m(self, tup)\u001b[0m\n\u001b[1;32m   1310\u001b[0m \u001b[38;5;250m\u001b[39m\u001b[38;5;124;03m\"\"\"\u001b[39;00m\n\u001b[1;32m   1311\u001b[0m \u001b[38;5;124;03mCreate the indexers for the passed tuple of keys, and\u001b[39;00m\n\u001b[1;32m   1312\u001b[0m \u001b[38;5;124;03mexecutes the take operation. This allows the take operation to be\u001b[39;00m\n\u001b[0;32m   (...)\u001b[0m\n\u001b[1;32m   1323\u001b[0m \u001b[38;5;124;03mvalues: same type as the object being indexed\u001b[39;00m\n\u001b[1;32m   1324\u001b[0m \u001b[38;5;124;03m\"\"\"\u001b[39;00m\n\u001b[1;32m   1325\u001b[0m \u001b[38;5;66;03m# GH 836\u001b[39;00m\n\u001b[0;32m-> 1326\u001b[0m d \u001b[38;5;241m=\u001b[39m {\n\u001b[1;32m   1327\u001b[0m     axis: \u001b[38;5;28mself\u001b[39m\u001b[38;5;241m.\u001b[39m_get_listlike_indexer(key, axis)\n\u001b[1;32m   1328\u001b[0m     \u001b[38;5;28;01mfor\u001b[39;00m (key, axis) \u001b[38;5;129;01min\u001b[39;00m \u001b[38;5;28mzip\u001b[39m(tup, \u001b[38;5;28mself\u001b[39m\u001b[38;5;241m.\u001b[39mobj\u001b[38;5;241m.\u001b[39m_AXIS_ORDERS)\n\u001b[1;32m   1329\u001b[0m }\n\u001b[1;32m   1330\u001b[0m \u001b[38;5;28;01mreturn\u001b[39;00m \u001b[38;5;28mself\u001b[39m\u001b[38;5;241m.\u001b[39mobj\u001b[38;5;241m.\u001b[39m_reindex_with_indexers(d, copy\u001b[38;5;241m=\u001b[39m\u001b[38;5;28;01mTrue\u001b[39;00m, allow_dups\u001b[38;5;241m=\u001b[39m\u001b[38;5;28;01mTrue\u001b[39;00m)\n",
      "File \u001b[0;32m~/.local/lib/python3.10/site-packages/pandas/core/indexing.py:1327\u001b[0m, in \u001b[0;36m<dictcomp>\u001b[0;34m(.0)\u001b[0m\n\u001b[1;32m   1310\u001b[0m \u001b[38;5;250m\u001b[39m\u001b[38;5;124;03m\"\"\"\u001b[39;00m\n\u001b[1;32m   1311\u001b[0m \u001b[38;5;124;03mCreate the indexers for the passed tuple of keys, and\u001b[39;00m\n\u001b[1;32m   1312\u001b[0m \u001b[38;5;124;03mexecutes the take operation. This allows the take operation to be\u001b[39;00m\n\u001b[0;32m   (...)\u001b[0m\n\u001b[1;32m   1323\u001b[0m \u001b[38;5;124;03mvalues: same type as the object being indexed\u001b[39;00m\n\u001b[1;32m   1324\u001b[0m \u001b[38;5;124;03m\"\"\"\u001b[39;00m\n\u001b[1;32m   1325\u001b[0m \u001b[38;5;66;03m# GH 836\u001b[39;00m\n\u001b[1;32m   1326\u001b[0m d \u001b[38;5;241m=\u001b[39m {\n\u001b[0;32m-> 1327\u001b[0m     axis: \u001b[38;5;28;43mself\u001b[39;49m\u001b[38;5;241;43m.\u001b[39;49m\u001b[43m_get_listlike_indexer\u001b[49m\u001b[43m(\u001b[49m\u001b[43mkey\u001b[49m\u001b[43m,\u001b[49m\u001b[43m \u001b[49m\u001b[43maxis\u001b[49m\u001b[43m)\u001b[49m\n\u001b[1;32m   1328\u001b[0m     \u001b[38;5;28;01mfor\u001b[39;00m (key, axis) \u001b[38;5;129;01min\u001b[39;00m \u001b[38;5;28mzip\u001b[39m(tup, \u001b[38;5;28mself\u001b[39m\u001b[38;5;241m.\u001b[39mobj\u001b[38;5;241m.\u001b[39m_AXIS_ORDERS)\n\u001b[1;32m   1329\u001b[0m }\n\u001b[1;32m   1330\u001b[0m \u001b[38;5;28;01mreturn\u001b[39;00m \u001b[38;5;28mself\u001b[39m\u001b[38;5;241m.\u001b[39mobj\u001b[38;5;241m.\u001b[39m_reindex_with_indexers(d, copy\u001b[38;5;241m=\u001b[39m\u001b[38;5;28;01mTrue\u001b[39;00m, allow_dups\u001b[38;5;241m=\u001b[39m\u001b[38;5;28;01mTrue\u001b[39;00m)\n",
      "File \u001b[0;32m~/.local/lib/python3.10/site-packages/pandas/core/indexing.py:1558\u001b[0m, in \u001b[0;36m_LocIndexer._get_listlike_indexer\u001b[0;34m(self, key, axis)\u001b[0m\n\u001b[1;32m   1555\u001b[0m ax \u001b[38;5;241m=\u001b[39m \u001b[38;5;28mself\u001b[39m\u001b[38;5;241m.\u001b[39mobj\u001b[38;5;241m.\u001b[39m_get_axis(axis)\n\u001b[1;32m   1556\u001b[0m axis_name \u001b[38;5;241m=\u001b[39m \u001b[38;5;28mself\u001b[39m\u001b[38;5;241m.\u001b[39mobj\u001b[38;5;241m.\u001b[39m_get_axis_name(axis)\n\u001b[0;32m-> 1558\u001b[0m keyarr, indexer \u001b[38;5;241m=\u001b[39m \u001b[43max\u001b[49m\u001b[38;5;241;43m.\u001b[39;49m\u001b[43m_get_indexer_strict\u001b[49m\u001b[43m(\u001b[49m\u001b[43mkey\u001b[49m\u001b[43m,\u001b[49m\u001b[43m \u001b[49m\u001b[43maxis_name\u001b[49m\u001b[43m)\u001b[49m\n\u001b[1;32m   1560\u001b[0m \u001b[38;5;28;01mreturn\u001b[39;00m keyarr, indexer\n",
      "File \u001b[0;32m~/.local/lib/python3.10/site-packages/pandas/core/indexes/base.py:6200\u001b[0m, in \u001b[0;36mIndex._get_indexer_strict\u001b[0;34m(self, key, axis_name)\u001b[0m\n\u001b[1;32m   6197\u001b[0m \u001b[38;5;28;01melse\u001b[39;00m:\n\u001b[1;32m   6198\u001b[0m     keyarr, indexer, new_indexer \u001b[38;5;241m=\u001b[39m \u001b[38;5;28mself\u001b[39m\u001b[38;5;241m.\u001b[39m_reindex_non_unique(keyarr)\n\u001b[0;32m-> 6200\u001b[0m \u001b[38;5;28;43mself\u001b[39;49m\u001b[38;5;241;43m.\u001b[39;49m\u001b[43m_raise_if_missing\u001b[49m\u001b[43m(\u001b[49m\u001b[43mkeyarr\u001b[49m\u001b[43m,\u001b[49m\u001b[43m \u001b[49m\u001b[43mindexer\u001b[49m\u001b[43m,\u001b[49m\u001b[43m \u001b[49m\u001b[43maxis_name\u001b[49m\u001b[43m)\u001b[49m\n\u001b[1;32m   6202\u001b[0m keyarr \u001b[38;5;241m=\u001b[39m \u001b[38;5;28mself\u001b[39m\u001b[38;5;241m.\u001b[39mtake(indexer)\n\u001b[1;32m   6203\u001b[0m \u001b[38;5;28;01mif\u001b[39;00m \u001b[38;5;28misinstance\u001b[39m(key, Index):\n\u001b[1;32m   6204\u001b[0m     \u001b[38;5;66;03m# GH 42790 - Preserve name from an Index\u001b[39;00m\n",
      "File \u001b[0;32m~/.local/lib/python3.10/site-packages/pandas/core/indexes/base.py:6252\u001b[0m, in \u001b[0;36mIndex._raise_if_missing\u001b[0;34m(self, key, indexer, axis_name)\u001b[0m\n\u001b[1;32m   6249\u001b[0m     \u001b[38;5;28;01mraise\u001b[39;00m \u001b[38;5;167;01mKeyError\u001b[39;00m(\u001b[38;5;124mf\u001b[39m\u001b[38;5;124m\"\u001b[39m\u001b[38;5;124mNone of [\u001b[39m\u001b[38;5;132;01m{\u001b[39;00mkey\u001b[38;5;132;01m}\u001b[39;00m\u001b[38;5;124m] are in the [\u001b[39m\u001b[38;5;132;01m{\u001b[39;00maxis_name\u001b[38;5;132;01m}\u001b[39;00m\u001b[38;5;124m]\u001b[39m\u001b[38;5;124m\"\u001b[39m)\n\u001b[1;32m   6251\u001b[0m not_found \u001b[38;5;241m=\u001b[39m \u001b[38;5;28mlist\u001b[39m(ensure_index(key)[missing_mask\u001b[38;5;241m.\u001b[39mnonzero()[\u001b[38;5;241m0\u001b[39m]]\u001b[38;5;241m.\u001b[39munique())\n\u001b[0;32m-> 6252\u001b[0m \u001b[38;5;28;01mraise\u001b[39;00m \u001b[38;5;167;01mKeyError\u001b[39;00m(\u001b[38;5;124mf\u001b[39m\u001b[38;5;124m\"\u001b[39m\u001b[38;5;132;01m{\u001b[39;00mnot_found\u001b[38;5;132;01m}\u001b[39;00m\u001b[38;5;124m not in index\u001b[39m\u001b[38;5;124m\"\u001b[39m)\n",
      "\u001b[0;31mKeyError\u001b[0m: \"['promotion_last_5years', 'salary'] not in index\""
     ]
    }
   ],
   "source": [
    "# slice dataframe\n",
    "# 1st 2 rows and last 3 columns\n",
    "\n",
    "row_label = [0, 1, 2]\n",
    "column_label = ['promotion_last_5years', 'Department', 'salary']\n",
    "\n",
    "df_hr.loc[row_label, column_label]"
   ]
  },
  {
   "cell_type": "markdown",
   "metadata": {},
   "source": [
    "**unique() and nunique()**\n",
    "- `unique()` function to get unique item names. You need to have Series data structure not DataFrame.\n",
    "- `nunique()` function to get number of unique item names. You need to have Series data structure not DataFrame."
   ]
  },
  {
   "cell_type": "code",
   "execution_count": null,
   "metadata": {},
   "outputs": [
    {
     "data": {
      "text/plain": [
       "array([1, 0])"
      ]
     },
     "execution_count": 31,
     "metadata": {},
     "output_type": "execute_result"
    }
   ],
   "source": [
    "# get unique item names of column \"left\"\n",
    "# Hint: df['col_name'].unique()\n",
    "\n",
    "df_hr['left'].unique()"
   ]
  },
  {
   "cell_type": "code",
   "execution_count": null,
   "metadata": {},
   "outputs": [
    {
     "data": {
      "text/plain": [
       "2"
      ]
     },
     "execution_count": 32,
     "metadata": {},
     "output_type": "execute_result"
    }
   ],
   "source": [
    "# get unique item count of column \"left\"\n",
    "# Hint: df['col_name'].nunique()\n",
    "\n",
    "df_hr['left'].nunique()"
   ]
  },
  {
   "cell_type": "markdown",
   "metadata": {},
   "source": [
    "- This means `left` column has 2 unique values,\n",
    "    - 1: indicates employee leaving company\n",
    "    - 0: indicates employee staying in company"
   ]
  },
  {
   "cell_type": "markdown",
   "metadata": {},
   "source": [
    "**value_counts()**\n",
    "- This method combines both the idea of unique() and nunique() and gives data count in each unique category.\n"
   ]
  },
  {
   "cell_type": "code",
   "execution_count": null,
   "metadata": {},
   "outputs": [
    {
     "data": {
      "text/plain": [
       "left\n",
       "0    11428\n",
       "1     3571\n",
       "Name: count, dtype: int64"
      ]
     },
     "execution_count": 33,
     "metadata": {},
     "output_type": "execute_result"
    }
   ],
   "source": [
    "# value_counts left column\n",
    "# Hint: df['left].value_counts()\n",
    "\n",
    "df_hr['left'].value_counts()"
   ]
  },
  {
   "cell_type": "markdown",
   "metadata": {},
   "source": [
    "## Aggregations\n",
    "- `Methods are:`\n",
    "    - mean()\n",
    "    - std()\n",
    "    - sum()\n",
    "    - max()\n",
    "    - min()"
   ]
  },
  {
   "cell_type": "code",
   "execution_count": 83,
   "metadata": {},
   "outputs": [
    {
     "ename": "TypeError",
     "evalue": "Could not convert ['salessalessalessalessalessalessalessalessalessalessalessalessalessalessalessalessalessalessalessalessalessalessalessalessalessalessalessalesaccountingaccountingaccountinghrhrhrhrtechnicaltechnicaltechnicaltechnicaltechnicaltechnicaltechnicaltechnicaltechnicaltechnicaltechnicalsupportsupportsupportsupportsupportsupportsupportsupportsupportsupportsupporttechnicaltechnicaltechnicalmanagementITITITITITproduct_mngproduct_mngproduct_mngproduct_mngITproduct_mngproduct_mngproduct_mngproduct_mngproduct_mngproduct_mngmarketingsalesaccountingsupporttechnicalmanagementmarketingmarketingmarketingsalessalessalessalessalessalessalessalessalessalessalessalessalessalessalessalessalessalessalesaccountingaccountingaccountinghrhrhrhrtechnicaltechnicaltechnicaltechnicaltechnicaltechnicaltechnicaltechnicaltechnicaltechnicaltechnicalsupportsupportsupportsupportsupportsupportsupportsupportsupportsupportsupporttechnicaltechnicaltechnicalmanagementITITITITITproduct_mngproduct_mngproduct_mngproduct_mngITmarketingmarketingmarketingmarketingmarketingmarketingsalesaccountingsupporttechnicalmanagementmarketingmarketingmarketingsalessalessalessalessalessalessalessalessalessalessalessalessalessalessalessalessalessalessalesaccountingaccountingaccountinghrhrhrhrtechnicaltechnicaltechnicaltechnicaltechnicaltechnicaltechnicaltechnicaltechnicaltechnicaltechnicalsupportsupportsupportsupportsupportsupportsupportsupportsupportsupportsupporttechnicaltechnicaltechnicalmanagementITITITITITproduct_mngproduct_mngproduct_mngproduct_mngITaccountingaccountinghrhrhrmarketingmarketingsalesaccountingsupporttechnicalmanagementmarketingmarketingmarketingsalessalessalessalessalessalessalessalessalessalessalessalessalessalessalessalessalessalessalesaccountingaccountingaccountinghrhrhrhrtechnicaltechnicaltechnicaltechnicaltechnicaltechnicaltechnicaltechnicaltechnicaltechnicaltechnicalsupportsupportsupportsupportsupportsupportsupportsupportsupportsupportsupporttechnicaltechnicaltechnicalmanagementITITITITITproduct_mngproduct_mngproduct_mngproduct_mngITRandDRandDRandDRandDRandDmarketingsalesaccountingsupporttechnicalmanagementmarketingmarketingmarketingsalessalessalessalessalessalessalessalessalessalessalessalessalessalessalessalessalessalessalesaccountingaccountingaccountinghrhrhrhrtechnicaltechnicaltechnicaltechnicaltechnicaltechnicaltechnicaltechnicaltechnicaltechnicaltechnicalsupportsupportsupportsupportsupportsupportsupportsupportsupportsupportsupporttechnicaltechnicaltechnicalmanagementITITITITITproduct_mngproduct_mngproduct_mngproduct_mngITaccountingaccountinghrhrhrmarketingsalesaccountingsupporttechnicalmanagementmarketingmarketingmarketingsalessalessalessalessalessalessalessalessalessalessalessalessalessalessalessalessalessalessalesaccountingaccountingaccountinghrhrhrhrtechnicaltechnicaltechnicaltechnicaltechnicaltechnicaltechnicaltechnicaltechnicaltechnicaltechnicalsupportsupportsupportsupportsupportsupportsupportsupportsupportsupportsupporttechnicaltechnicaltechnicalmanagementITITITITITproduct_mngproduct_mngproduct_mngproduct_mngITRandDRandDRandDRandDRandDmarketingsalesaccountingsupporttechnicalmanagementmarketingmarketingmarketingsalessalessalessalessalessalessalessalessalessalessalessalessalessalessalessalessalessalessalesaccountingaccountingaccountinghrhrhrhrtechnicaltechnicaltechnicaltechnicaltechnicaltechnicaltechnicaltechnicaltechnicaltechnicaltechnicalsupportsupportsupportsupportsupportsupportsupportsupportsupportsupportsupporttechnicaltechnicaltechnicalmanagementITITITITITproduct_mngproduct_mngproduct_mngproduct_mngITaccountingaccountinghrhrhrmarketingsalesaccountingsupporttechnicalmanagementmarketingmarketingmarketingsalessalessalessalessalessalessalessalessalessalessalessalessalessalessalessalessalessalessalesaccountingaccountingaccountinghrhrhrhrtechnicaltechnicaltechnicaltechnicaltechnicaltechnicaltechnicaltechnicaltechnicaltechnicaltechnicalsupportsupportsupportsupportsupportsupportsupportsupportsupportsupportsupporttechnicaltechnicaltechnicalmanagementITITITITITproduct_mngproduct_mngproduct_mngproduct_mngITRandDRandDRandDRandDRandDmarketingsalesaccountingsupporttechnicalmanagementmarketingmarketingmarketingsalessalessalessalessalessalessalessalessalessalessalessalessalessalessalessalessalessalessalesaccountingaccountingaccountinghrhrhrhrtechnicaltechnicaltechnicaltechnicaltechnicaltechnicaltechnicaltechnicaltechnicaltechnicaltechnicalsupportsupportsupportsupportsupportsupportsupportsupportsupportsupportsupporttechnicaltechnicaltechnicalmanagementITITITITITproduct_mngproduct_mngproduct_mngproduct_mngITsalessalessalessalessalesmarketingsalesaccountingsupporttechnicalmanagementmarketingmarketingmarketingsalessalessalessalessalessalessalessalessalessalessalessalessalessalessalessalessalessalessalesaccountingaccountingaccountinghrhrhrhrtechnicaltechnicaltechnicaltechnicaltechnicaltechnicaltechnicaltechnicaltechnicaltechnicaltechnicalsupportsupportsupportsupportsupportsupportsupportsupportsupportsupportsupporttechnicaltechnicaltechnicalmanagementITITITITITproduct_mngproduct_mngproduct_mngproduct_mngITsalessalessalessalessalesmarketingsalesaccountingsupporttechnicalmanagementmarketingmarketingmarketingsalessalessalessalessalessalessalessalessalessalessalessalessalessalessalessalessalessalessalesaccountingaccountingaccountinghrhrhrhrtechnicaltechnicaltechnicaltechnicaltechnicaltechnicaltechnicaltechnicaltechnicaltechnicaltechnicalsupportsupportsupportsupportsupportsupportsupportsupportsupportsupportsupporttechnicaltechnicaltechnicalmanagementITITITITITproduct_mngproduct_mngproduct_mngproduct_mngITRandDRandDRandDRandDRandDmarketingsalesaccountingsupporttechnicalmanagementmarketingmarketingmarketingsalessalessalessalessalessalessalessalessalessalessalessalessalessalessalessalessalessalessalesaccountingaccountingaccountinghrhrhrhrtechnicaltechnicaltechnicaltechnicaltechnicaltechnicaltechnicaltechnicaltechnicaltechnicaltechnicalsupportsupportsupportsupportsupportsupportsupportsupportsupportsupportsupporttechnicaltechnicaltechnicalmanagementITITITITITproduct_mngproduct_mngproduct_mngproduct_mngITsalessalessalessalessalesmarketingsalesaccountingsupporttechnicalmanagementmarketingmarketingmarketingsalessalessalessalessalessalessalessalessalessalessalessalessalessalessalessalessalessalessalesaccountingaccountingaccountinghrhrhrhrtechnicaltechnicaltechnicaltechnicaltechnicaltechnicaltechnicaltechnicaltechnicaltechnicaltechnicalsupportsupportsupportsupportsupportsupportsupportsupportsupportsupportsupporttechnicaltechnicaltechnicalmanagementITITITITITproduct_mngproduct_mngproduct_mngproduct_mngITRandDRandDRandDRandDRandDmarketingsalesaccountingsupporttechnicalmanagementmarketingmarketingmarketingsalessalessalessalessalessalessalessalessalessalessalessalessalessalessalessalessalessalessalesaccountingaccountingaccountinghrhrhrhrtechnicaltechnicaltechnicaltechnicaltechnicaltechnicaltechnicaltechnicaltechnicaltechnicaltechnicalsupportsupportsupportsupportsupportsupportsupportsupportsupportsupportsupporttechnicaltechnicaltechnicalmanagementITITITITITproduct_mngproduct_mngproduct_mngproduct_mngITRandDRandDRandDRandDRandDmarketingsalesaccountingsupporttechnicalmanagementmarketingmarketingmarketingsalessalessalessalessalessalessalessalessalessalessalessalessalessalessalessalessalessalessalesaccountingaccountingaccountinghrhrhrhrtechnicaltechnicaltechnicaltechnicaltechnicaltechnicaltechnicaltechnicaltechnicaltechnicaltechnicalsupportsupportsupportsupportsupportsupportsupportsupportsupportsupportsupporttechnicaltechnicaltechnicalmanagementITITITITITproduct_mngproduct_mngproduct_mngproduct_mngITsalessalessalessalessalesmarketingmarketingsalesaccountingsupporttechnicalmanagementmarketingmarketingmarketingsalessalessalessalessalessalessalessalessalessalessalessalessalessalessalessalessalessalessalesaccountingaccountingaccountinghrhrhrhrtechnicaltechnicaltechnicaltechnicaltechnicaltechnicaltechnicaltechnicaltechnicaltechnicaltechnicalsupportsupportsupportsupportsupportsupportsupportsupportsupportsupportsupporttechnicaltechnicaltechnicalmanagementITITITITITproduct_mngproduct_mngproduct_mngproduct_mngITITITITRandDRandDRandDmarketingsalesaccountingsupporttechnicalmanagementmarketingmarketingmarketingsalessalessalessalessalessalessalessalessalessalessalessalessalessalessalessalessalessalessalesaccountingaccountingaccountinghrhrhrhrtechnicaltechnicaltechnicaltechnicaltechnicaltechnicaltechnicaltechnicaltechnicaltechnicaltechnicalsupportsupportsupportsupportsupportsupportsupportsupportsupportsupportsupporttechnicaltechnicaltechnicalmanagementITITITITITproduct_mngproduct_mngproduct_mngproduct_mngITRandDRandDRandDRandDRandDRandDmarketingsalesaccountingsupporttechnicalmanagementmarketingmarketingmarketingsalessalessalessalessalessalessalessalessalessalessalessalessalessalessalessalessalessalessalesaccountingaccountingaccountinghrhrhrhrtechnicaltechnicaltechnicaltechnicaltechnicaltechnicaltechnicaltechnicaltechnicaltechnicaltechnicalsupportsupportsupportsupportsupportsupportsupportsupportsupportsupportsupporttechnicaltechnicaltechnicalmanagementITITITITITproduct_mngproduct_mngproduct_mngproduct_mngITRandDRandDRandDRandDRandDRandDmarketingsalesaccountingsupporttechnicalmanagementmarketingmarketingmarketingsalessalessalessalessalessalessalessalessalessalessalessalessalessalessalessalessalessalessalesaccountingaccountingaccountinghrhrhrhrtechnicaltechnicaltechnicaltechnicaltechnicaltechnicaltechnicaltechnicaltechnicaltechnicaltechnicalsupportsupportsupportsupportsupportsupportsupportsupportsupportsupportsupporttechnicaltechnicaltechnicalmanagementITITITITITproduct_mngproduct_mngproduct_mngproduct_mngITRandDRandDRandDRandDRandDRandDmarketingsalesaccountingsupporttechnicalmanagementmarketingmarketingmarketingsalessalessalessalessalessalessalessalessalessalessalessalessalessalessalessalessalessalessalesaccountingaccountingaccountinghrhrhrhrtechnicaltechnicaltechnicaltechnicaltechnicaltechnicaltechnicaltechnicaltechnicaltechnicaltechnicalsupportsupportsupportsupportsupportsupportsupportsupportsupportsupportsupporttechnicaltechnicaltechnicalmanagementITITITITITproduct_mngproduct_mngproduct_mngproduct_mngITRandDRandDRandDRandDRandDmarketingsalesaccountingsupporttechnicalmanagementmarketingmarketingmarketingsalessalessalessalessalessalessalessalessalessalessalessalessalessalessalessalessalessalessalesaccountingaccountingaccountinghrhrhrhrtechnicaltechnicaltechnicaltechnicaltechnicaltechnicaltechnicaltechnicaltechnicaltechnicaltechnicalsupportsupportsupportsupportsupportsupportsupportsupportsupportsupportsupporttechnicaltechnicaltechnicalmanagementITITITITITproduct_mngproduct_mngproduct_mngproduct_mngITRandDRandDRandDRandDRandDmarketingmarketingsalesaccountingsupporttechnicalmanagementmarketingmarketingmarketingsalessalessalessalessalessalessalessalessalessalessalessalessalessalessalessalessalessalessalesaccountingaccountingaccountinghrhrhrhrtechnicaltechnicaltechnicaltechnicaltechnicaltechnicaltechnicaltechnicaltechnicaltechnicaltechnicalsupportsupportsupportsupportsupportsupportsupportsupportsupportsupportsupporttechnicaltechnicaltechnicalmanagementITITITITITproduct_mngproduct_mngproduct_mngproduct_mngITRandDRandDRandDRandDRandDmarketingsalesaccountingsupporttechnicalmanagementmarketingmarketingmarketingsalessalessalessalessalessalessalessalessalessalessalessalessalessalessalessalessalessalessalesaccountingaccountingaccountinghrhrhrhrtechnicaltechnicaltechnicaltechnicaltechnicaltechnicaltechnicaltechnicaltechnicaltechnicaltechnicalsupportsupportsupportsupportsupportsupportsupportsupportsupportsupportsupporttechnicaltechnicaltechnicalmanagementITITITITITproduct_mngproduct_mngproduct_mngproduct_mngITRandDRandDRandDRandDRandDmarketingsalesaccountingsupporttechnicalmanagementmarketingmarketingmarketingsalessalessalessalessalessalessalessalessalessalessalessalessalessalessalessalessalessalessalesaccountingaccountingaccountinghrhrhrhrtechnicaltechnicaltechnicaltechnicaltechnicaltechnicaltechnicaltechnicaltechnicaltechnicaltechnicalsupportsupportsupportsupportsupportsupportsupportsupportsupportsupportsupporttechnicaltechnicaltechnicalmanagementITITITITITproduct_mngproduct_mngproduct_mngproduct_mngITRandDRandDRandDRandDRandDmarketingsalesaccountingsupporttechnicalmanagementmarketingmarketingmarketingsalessalessalessalessalessalessalessalessalessalessalessalessalessalessalessalessalessalessalesaccountingaccountingaccountinghrhrhrhrtechnicaltechnicaltechnicaltechnicaltechnicaltechnicaltechnicaltechnicaltechnicaltechnicaltechnicalsupportsupportsupportsupportsupportsupportsupportsupportsupportsupportsupporttechnicaltechnicaltechnicalmanagementITITITITITproduct_mngproduct_mngproduct_mngproduct_mngITRandDRandDRandDRandDRandDmarketingsalesaccountingsupporttechnicalmanagementmarketingmarketingmarketingsalessalessalessalessalessalessalessalessalessalessalessalessalessalessalessalessalessalessalesaccountingaccountingaccountinghrhrhrhrtechnicaltechnicaltechnicaltechnicaltechnicaltechnicaltechnicaltechnicaltechnicaltechnicaltechnicalsupportsupportsupportsupportsupportsupportsupportsupportsupportsupportsupporttechnicaltechnicaltechnicalmanagementITITITITITproduct_mngproduct_mngproduct_mngproduct_mngITRandDRandDRandDRandDRandDmarketingsalesaccountingsupporttechnicalmanagementmarketingmarketingmarketingsalessalessalessalessalessalessalessalessalessalessalessalessalessalessalessalessalessalessalesaccountingaccountingaccountinghrhrhrhrtechnicaltechnicaltechnicaltechnicaltechnicaltechnicaltechnicaltechnicaltechnicaltechnicaltechnicalsupportsupportsupportsupportsupportsupportsupportsupportsupportsupportsupporttechnicaltechnicaltechnicalmanagementITITITITITproduct_mngproduct_mngproduct_mngproduct_mngITRandDRandDRandDRandDRandDmarketingsalesaccountingsupporttechnicalmanagementmarketingmarketingmarketingsalessalessalessalessalessalessalessalessalessalessalessalessalessalessalessalessalessalessalesaccountingaccountingaccountinghrhrhrhrtechnicaltechnicaltechnicaltechnicaltechnicaltechnicaltechnicaltechnicaltechnicaltechnicaltechnicalsupportsupportsupportsupportsupportsupportsupportsupportsupportsupportsupporttechnicaltechnicaltechnicalmanagementITITITITITproduct_mngproduct_mngproduct_mngproduct_mngITRandDRandDRandDRandDRandDmarketingsalesaccountingsupporttechnicalmanagementmarketingmarketingmarketingsalessalessalessalessalessalessalessalessalessalessalessalessalessalessalessalessalessalessalesaccountingaccountingaccountinghrhrhrhrtechnicaltechnicaltechnicaltechnicaltechnicaltechnicaltechnicaltechnicaltechnicaltechnicaltechnicalsupportsupportsupportsupportsupportsupportsupportsupportsupportsupportsupporttechnicaltechnicaltechnicalmanagementITITITITITproduct_mngproduct_mngproduct_mngproduct_mngITRandDRandDRandDRandDRandDmarketingsalesaccountingsupporttechnicalmanagementmarketingmarketingmarketingsalessalessalessalessalessalessalessalessalessalessalessalessalessalessalessalessalessalessalesaccountingaccountingaccountinghrhrhrhrtechnicaltechnicaltechnicaltechnicaltechnicaltechnicaltechnicaltechnicaltechnicaltechnicaltechnicalsupportsupportsupportsupportsupportsupportsupportsupportsupportsupportsupporttechnicaltechnicaltechnicalmanagementITITITITITproduct_mngproduct_mngproduct_mngproduct_mngITRandDRandDRandDRandDRandDmarketingsalesaccountingsupporttechnicalmanagementmarketingmarketingmarketingsalessalessalessalessalessalessalessalessalessalessalessalessalessalessalessalessalessalessalesaccountingaccountingaccountinghrhrhrhrtechnicaltechnicaltechnicaltechnicaltechnicaltechnicaltechnicaltechnicaltechnicaltechnicaltechnicalsupportsupportsupportsupportsupportsupportsupportsupportsupportsupportsupporttechnicaltechnicaltechnicalmanagementITITITITITproduct_mngproduct_mngproduct_mngproduct_mngITRandDRandDRandDRandDRandDmarketingsalesaccountingsupporttechnicalmanagementmarketingmarketingmarketingsalessalessalessalessalessalessalessalessalessalessalessalessalessalessalessalessalessalessalesaccountingaccountingaccountinghrhrhrhrtechnicaltechnicaltechnicaltechnicaltechnicaltechnicaltechnicaltechnicaltechnicaltechnicaltechnicalsupportsupportsupportsupportsupportsupportsupportsupportsupportsupportsupporttechnicaltechnicaltechnicalmanagementITITITITITproduct_mngproduct_mngproduct_mngproduct_mngITRandDRandDRandDRandDRandDmarketingsalesaccountingsupporttechnicalmanagementmarketingmarketingmarketingsalessalessalessalessalessalessalessalessalessalessalessalessalessalessalessalessalessalessalesaccountingaccountingaccountinghrhrhrhrtechnicaltechnicaltechnicaltechnicaltechnicaltechnicaltechnicaltechnicaltechnicaltechnicaltechnicalsupportsupportsupportsupportsupportsupportsupportsupportsupportsupportsupporttechnicaltechnicaltechnicalmanagementITITITITITproduct_mngproduct_mngproduct_mngproduct_mngITRandDRandDRandDRandDRandDmarketingmarketingsalesaccountingsupporttechnicalmanagementmarketingmarketingmarketingsalessalessalessalessalessalessalessalessalessalessalessalessalessalessalessalessalessalessalesaccountingaccountingaccountinghrhrhrhrtechnicaltechnicaltechnicaltechnicaltechnicaltechnicaltechnicaltechnicaltechnicaltechnicaltechnicalsupportsupportsupportsupportsupportsupportsupportsupportsupportsupportsupporttechnicaltechnicaltechnicalmanagementITITITITITproduct_mngproduct_mngproduct_mngproduct_mngITRandDRandDRandDRandDRandDRandDmarketingsalesaccountingsupporttechnicalmanagementmarketingmarketingmarketingsalessalessalessalessalessalessalessalessalessalessalessalessalessalessalessalessalessalessalesaccountingaccountingaccountinghrhrhrhrtechnicaltechnicaltechnicaltechnicaltechnicaltechnicaltechnicaltechnicaltechnicaltechnicaltechnicalsupportsupportsupportsupportsupportsupportsupportsupportsupportsupportsupporttechnicaltechnicaltechnicalmanagementITITITITITproduct_mngproduct_mngproduct_mngproduct_mngITRandDRandDRandDRandDRandDRandDmarketingsalesaccountingsupporttechnicalmanagementmarketingmarketingmarketingsalessalessalessalessalessalessalessalessalessalessalessalessalessalessalessalessalessalessalesaccountingaccountingaccountinghrhrhrhrtechnicaltechnicaltechnicaltechnicaltechnicaltechnicaltechnicaltechnicaltechnicaltechnicaltechnicalsupportsupportsupportsupportsupportsupportsupportsupportsupportsupportsupporttechnicaltechnicaltechnicalmanagementITITITITITproduct_mngproduct_mngproduct_mngproduct_mngITRandDRandDRandDRandDRandDRandDmarketingsalesaccountingsupporttechnicalmanagementmarketingmarketingmarketingsalessalessalessalessalessalessalessalessalessalessalessalessalessalessalessalessalessalessalesaccountingaccountingaccountinghrhrhrhrtechnicaltechnicaltechnicaltechnicaltechnicaltechnicaltechnicaltechnicaltechnicaltechnicaltechnicalsupportsupportsupportsupportsupportsupportsupportsupportsupportsupportsupporttechnicaltechnicaltechnicalmanagementITITITITITproduct_mngproduct_mngproduct_mngproduct_mngITRandDRandDRandDRandDRandDRandDmarketingsalesaccountingsupporttechnicalmanagementmarketingmarketingmarketingsalessalessalessalessalessalessalessalessalessalessalessalessalessalessalessalessalessalessalesaccountingaccountingaccountinghrhrhrhrtechnicaltechnicaltechnicaltechnicaltechnicaltechnicaltechnicaltechnicaltechnicaltechnicaltechnicalsupportsupportsupportsupportsupportsupportsupportsupportsupportsupportsupporttechnicaltechnicaltechnicalmanagementITITITITITproduct_mngproduct_mngproduct_mngproduct_mngITRandDRandDRandDRandDRandDmarketingsalesaccountingsupporttechnicalmanagementmarketingmarketingmarketingsalessalessalessalessalessalessalessalessalessalessalessalessalessalessalessalessalessalessalesaccountingaccountingaccountinghrhrhrhrtechnicaltechnicaltechnicaltechnicaltechnicaltechnicaltechnicaltechnicaltechnicaltechnicaltechnicalsupportsupportsupportsupportsupportsupportsupportsupportsupportsupportsupporttechnicaltechnicaltechnicalmanagementITITITITITproduct_mngproduct_mngproduct_mngproduct_mngITRandDRandDRandDRandDRandDmarketingmarketingsalesaccountingsupporttechnicalmanagementmarketingmarketingmarketingsalessalessalessalessalessalessalessalessalessalessalessalessalessalessalessalessalessalessalesaccountingaccountingaccountinghrhrhrhrtechnicaltechnicaltechnicaltechnicaltechnicaltechnicaltechnicaltechnicaltechnicaltechnicaltechnicalsupportsupportsupportsupportsupportsupportsupportsupportsupportsupportsupporttechnicaltechnicaltechnicalmanagementITITITITITproduct_mngproduct_mngproduct_mngproduct_mngITRandDRandDRandDRandDRandDmarketingsalesaccountingsupporttechnicalmanagementmarketingmarketingmarketingsalessalessalessalessalessalessalessalessalessalessalessalessalessalessalessalessalessalessalesaccountingaccountingaccountinghrhrhrhrtechnicaltechnicaltechnicaltechnicaltechnicaltechnicaltechnicaltechnicaltechnicaltechnicaltechnicalsupportsupportsupportsupportsupportsupportsupportsupportsupportsupportsupporttechnicaltechnicaltechnicalmanagementITITITITITproduct_mngproduct_mngproduct_mngproduct_mngITRandDRandDRandDRandDRandDmarketingsalesaccountingsupporttechnicalmanagementmarketingmarketingmarketingsalessalessalessalessalessalessalessalessalessalessalessalessalessalessalessalessalessalessalesaccountingaccountingaccountinghrhrhrhrtechnicaltechnicaltechnicaltechnicaltechnicaltechnicaltechnicaltechnicaltechnicaltechnicaltechnicalsupportsupportsupportsupportsupportsupportsupportsupportsupportsupportsupporttechnicaltechnicaltechnicalmanagementITITITITITproduct_mngproduct_mngproduct_mngproduct_mngITRandDRandDRandDRandDRandDmarketingsalesaccountingsupporttechnicalmanagementmarketingmarketingmarketingsalessalessalessalessalessalessalessalessalessalessalessalessalessalessalessalessalessalessalesaccountingaccountingaccountinghrhrhrhrtechnicaltechnicaltechnicaltechnicaltechnicaltechnicaltechnicaltechnicaltechnicaltechnicaltechnicalsupportsupportsupportsupportsupportsupportsupportsupportsupportsupportsupporttechnicaltechnicaltechnicalmanagementITITITITITproduct_mngproduct_mngproduct_mngproduct_mngITRandDRandDRandDRandDRandDmarketingsalesaccountingsupporttechnicalmanagementmarketingmarketingmarketingsalessalessalessalessalessalessalessalessalessalessalessalessalessalessalessalessalessalessalesaccountingaccountingaccountinghrhrhrhrtechnicaltechnicaltechnicaltechnicaltechnicaltechnicaltechnicaltechnicaltechnicaltechnicaltechnicalsupportsupportsupportsupportsupportsupportsupportsupportsupportsupportsupporttechnicaltechnicaltechnicalmanagementITITITITITproduct_mngproduct_mngproduct_mngproduct_mngITRandDRandDRandDRandDRandDmarketingsalesaccountingsupporttechnicalmanagementmarketingmarketingmarketingsalessalessalessalessalessalessalessalessalessalessalessalessalessalessalessalessalessalessalesaccountingaccountingaccountinghrhrhrhrtechnicaltechnicaltechnicaltechnicaltechnicaltechnicaltechnicaltechnicaltechnicaltechnicaltechnicalsupportsupportsupportsupportsupportsupportsupportsupportsupportsupportsupporttechnicaltechnicaltechnicalmanagementITITITITITproduct_mngproduct_mngproduct_mngproduct_mngITRandDRandDRandDRandDRandDmarketingsalesaccountingsupporttechnicalmanagementmarketingmarketingmarketingsalessalessalessalessalessalessalessalessalessalessalessalessalessalessalessalessalessalessalesaccountingaccountingaccountinghrhrhrhrtechnicaltechnicaltechnicaltechnicaltechnicaltechnicaltechnicaltechnicaltechnicaltechnicaltechnicalsupportsupportsupportsupportsupportsupportsupportsupportsupportsupportsupporttechnicaltechnicaltechnicalmanagementITITITITITproduct_mngproduct_mngproduct_mngproduct_mngITRandDRandDRandDRandDRandDmarketingsalesaccountingsupporttechnicalmanagementmarketingmarketingmarketingsalessalessalessalessalessalessalessalessalessalessalessalessalessalessalessalessalessalessalesaccountingaccountingaccountinghrhrhrhrtechnicaltechnicaltechnicaltechnicaltechnicaltechnicaltechnicaltechnicaltechnicaltechnicaltechnicalsupportsupportsupportsupportsupportsupportsupportsupportsupportsupportsupporttechnicaltechnicaltechnicalmanagementITITITITITproduct_mngproduct_mngproduct_mngproduct_mngITRandDRandDRandDRandDRandDmarketingsalesaccountingsupporttechnicalmanagementmarketingmarketingmarketingsalessalessalessalessalessalessalessalessalessalessalessalessalessalessalessalessalessalessalesaccountingaccountingaccountinghrhrhrhrtechnicaltechnicaltechnicaltechnicaltechnicaltechnicaltechnicaltechnicaltechnicaltechnicaltechnicalsupportsupportsupportsupportsupportsupportsupportsupportsupportsupportsupporttechnicaltechnicaltechnicalmanagementITITITITITproduct_mngproduct_mngproduct_mngproduct_mngITRandDRandDRandDRandDRandDmarketingsalesaccountingsupporttechnicalmanagementmarketingmarketingmarketingsalessalessalessalessalessalessalessalessalessalessalessalessalessalessalessalessalessalessalesaccountingaccountingaccountinghrhrhrhrtechnicaltechnicaltechnicaltechnicaltechnicaltechnicaltechnicaltechnicaltechnicaltechnicaltechnicalsupportsupportsupportsupportsupportsupportsupportsupportsupportsupportsupporttechnicaltechnicaltechnicalmanagementITITITITITproduct_mngproduct_mngproduct_mngproduct_mngITRandDRandDRandDRandDRandDmarketingsalesaccountingsupporttechnicalmanagementmarketingmarketingmarketingsalessalessalessalessalessalessalessalessalessalessalessalessalessalessalessalessalessalessalesaccountingaccountingaccountinghrhrhrhrtechnicaltechnicaltechnicaltechnicaltechnicaltechnicaltechnicaltechnicaltechnicaltechnicaltechnicalsupportsupportsupportsupportsupportsupportsupportsupportsupportsupportsupporttechnicaltechnicaltechnicalmanagementITITITITITproduct_mngproduct_mngproduct_mngproduct_mngITRandDRandDRandDRandDRandDmarketingsalesaccountingsupporttechnicalmanagementmarketingmarketingmarketingsalessalessalessalessalessalessalessalessalessalessalessalessalessalessalessalessalessalessalesaccountingaccountingaccountinghrhrhrhrtechnicaltechnicaltechnicaltechnicaltechnicaltechnicaltechnicaltechnicaltechnicaltechnicaltechnicalsupportsupportsupportsupportsupportsupportsupportsupportsupportsupportsupporttechnicaltechnicaltechnicalmanagementITITITITITproduct_mngproduct_mngproduct_mngproduct_mngITRandDRandDRandDRandDRandDmarketingmarketingsalesaccountingsupporttechnicalmanagementmarketingmarketingmarketingsalessalessalessalessalessalessalessalessalessalessalessalessalessalessalessalessalessalessalesaccountingaccountingaccountinghrhrhrhrtechnicaltechnicaltechnicaltechnicaltechnicaltechnicaltechnicaltechnicaltechnicaltechnicaltechnicalsupportsupportsupportsupportsupportsupportsupportsupportsupportsupportsupporttechnicaltechnicaltechnicalmanagementITITITITITproduct_mngproduct_mngproduct_mngproduct_mngITRandDRandDRandDRandDRandDRandDmarketingsalesaccountingsupporttechnicalmanagementmarketingmarketingmarketingsalessalessalessalessalessalessalessalessalessalessalessalessalessalessalessalessalessalessalesaccountingaccountingaccountinghrhrhrhrtechnicaltechnicaltechnicaltechnicaltechnicaltechnicaltechnicaltechnicaltechnicaltechnicaltechnicalsupportsupportsupportsupportsupportsupportsupportsupportsupportsupportsupporttechnicaltechnicaltechnicalmanagementITITITITITproduct_mngproduct_mngproduct_mngproduct_mngITRandDRandDRandDRandDRandDRandDmarketingsalesaccountingsupporttechnicalmanagementmarketingmarketingmarketingsalessalessalessalessalessalessalessalessalessalessalessalessalessalessalessalessalessalessalesaccountingaccountingaccountinghrhrhrhrtechnicaltechnicaltechnicaltechnicaltechnicaltechnicaltechnicaltechnicaltechnicaltechnicaltechnicalsupportsupportsupportsupportsupportsupportsupportsupportsupportsupportsupporttechnicaltechnicaltechnicalmanagementITITITITITproduct_mngproduct_mngproduct_mngproduct_mngITRandDRandDRandDRandDRandDRandDmarketingsalesaccountingsupporttechnicalmanagementmarketingmarketingmarketingsalessalessalessalessalessalessalessalessalessalessalessalessalessalessalessalessalessalessalesaccountingaccountingaccountinghrhrhrhrtechnicaltechnicaltechnicaltechnicaltechnicaltechnicaltechnicaltechnicaltechnicaltechnicaltechnicalsupportsupportsupportsupportsupportsupportsupportsupportsupportsupportsupporttechnicaltechnicaltechnicalmanagementITITITITITproduct_mngproduct_mngproduct_mngproduct_mngITRandDRandDRandDRandDRandDRandDmarketingsalesaccountingsupporttechnicalmanagementmarketingmarketingmarketingsalessalessalessalessalessalessalessalessalessalessalessalessalessalessalessalessalessalessalesaccountingaccountingaccountinghrhrhrhrtechnicaltechnicaltechnicaltechnicaltechnicaltechnicaltechnicaltechnicaltechnicaltechnicaltechnicalsupportsupportsupportsupportsupportsupportsupportsupportsupportsupportsupporttechnicaltechnicaltechnicalmanagementITITITITITproduct_mngproduct_mngproduct_mngproduct_mngITRandDRandDRandDRandDRandDmarketingsalesaccountingsupporttechnicalmanagementmarketingmarketingmarketingsalessalessalessalessalessalessalessalessalessalessalessalessalessalessalessalessalessalessalesaccountingaccountingaccountinghrhrhrhrtechnicaltechnicaltechnicaltechnicaltechnicaltechnicaltechnicaltechnicaltechnicaltechnicaltechnicalsupportsupportsupportsupportsupportsupportsupportsupportsupportsupportsupporttechnicaltechnicaltechnicalmanagementITITITITITproduct_mngproduct_mngproduct_mngproduct_mngITRandDRandDRandDRandDRandDmarketingmarketingsalesaccountingsupporttechnicalmanagementmarketingmarketingmarketingsalessalessalessalessalessalessalessalessalessalessalessalessalessalessalessalessalessalessalesaccountingaccountingaccountinghrhrhrhrtechnicaltechnicaltechnicaltechnicaltechnicaltechnicaltechnicaltechnicaltechnicaltechnicaltechnicalsupportsupportsupportsupportsupportsupportsupportsupportsupportsupportsupporttechnicaltechnicaltechnicalmanagementITITITITITproduct_mngproduct_mngproduct_mngproduct_mngITRandDRandDRandDRandDRandDmarketingsalesaccountingsupporttechnicalmanagementmarketingmarketingmarketingsalessalessalessalessalessalessalessalessalessalessalessalessalessalessalessalessalessalessalesaccountingaccountingaccountinghrhrhrhrtechnicaltechnicaltechnicaltechnicaltechnicaltechnicaltechnicaltechnicaltechnicaltechnicaltechnicalsupportsupportsupportsupportsupportsupportsupportsupportsupportsupportsupporttechnicaltechnicaltechnicalmanagementITITITITITproduct_mngproduct_mngproduct_mngproduct_mngITRandDRandDRandDRandDRandDmarketingsalesaccountingsupporttechnicalmanagementmarketingmarketingmarketingsalessalessalessalessalessalessalessalessalessalessalessalessalessalessalessalessalessalessalesaccountingaccountingaccountinghrhrhrhrtechnicaltechnicaltechnicaltechnicaltechnicaltechnicaltechnicaltechnicaltechnicaltechnicaltechnicalsupportsupportsupportsupportsupportsupportsupportsupportsupportsupportsupporttechnicaltechnicaltechnicalmanagementITITITITITproduct_mngproduct_mngproduct_mngproduct_mngITRandDRandDRandDRandDRandDmarketingsalesaccountingsupporttechnicalmanagementmarketingmarketingmarketingsalessalessalessalessalessalessalessalessalessalessalessalessalessalessalessalessalessalessalesaccountingaccountingaccountinghrhrhrhrtechnicaltechnicaltechnicaltechnicaltechnicaltechnicaltechnicaltechnicaltechnicaltechnicaltechnicalsupportsupportsupportsupportsupportsupportsupportsupportsupportsupportsupporttechnicaltechnicaltechnicalmanagementITITITITITproduct_mngproduct_mngproduct_mngproduct_mngITRandDRandDRandDRandDRandDmarketingsalesaccountingsupporttechnicalmanagementmarketingmarketingmarketingsalessalessalessalessalessalessalessalessalessalessalessalessalessalessalessalessalessalessalesaccountingaccountingaccountinghrhrhrhrtechnicaltechnicaltechnicaltechnicaltechnicaltechnicaltechnicaltechnicaltechnicaltechnicaltechnicalsupportsupportsupportsupportsupportsupportsupportsupportsupportsupportsupporttechnicaltechnicaltechnicalmanagementITITITITITproduct_mngproduct_mngproduct_mngproduct_mngITRandDRandDRandDRandDRandDmarketingsalesaccountingsupporttechnicalmanagementmarketingmarketingmarketingsalessalessalessalessalessalessalessalessalessalessalessalessalessalessalessalessalessalessalesaccountingaccountingaccountinghrhrhrhrtechnicaltechnicaltechnicaltechnicaltechnicaltechnicaltechnicaltechnicaltechnicaltechnicaltechnicalsupportsupportsupportsupportsupportsupportsupportsupportsupportsupportsupporttechnicaltechnicaltechnicalmanagementITITITITITproduct_mngproduct_mngproduct_mngproduct_mngITRandDRandDRandDRandDRandDmarketingsalesaccountingsupporttechnicalmanagementmarketingmarketingmarketingsalessalessalessalessalessalessalessalessalessalessalessalessalessalessalessalessalessalessalesaccountingaccountingaccountinghrhrhrhrtechnicaltechnicaltechnicaltechnicaltechnicaltechnicaltechnicaltechnicaltechnicaltechnicaltechnicalsupportsupportsupportsupportsupportsupportsupportsupportsupportsupportsupporttechnicaltechnicaltechnicalmanagementITITITITITproduct_mngproduct_mngproduct_mngproduct_mngITRandDRandDRandDRandDRandDmarketingsalesaccountingsupporttechnicalmanagementmarketingmarketingmarketingsalessalessalessalessalessalessalessalessalessalessalessalessalessalessalessalessalessalessalesaccountingaccountingaccountinghrhrhrhrtechnicaltechnicaltechnicaltechnicaltechnicaltechnicaltechnicaltechnicaltechnicaltechnicaltechnicalsupportsupportsupportsupportsupportsupportsupportsupportsupportsupportsupporttechnicaltechnicaltechnicalmanagementITITITITITproduct_mngproduct_mngproduct_mngproduct_mngITRandDRandDRandDRandDRandDmarketingsalesaccountingsupporttechnicalmanagementmarketingmarketingmarketingsalessalessalessalessalessalessalessalessalessalessalessalessalessalessalessalessalessalessalesaccountingaccountingaccountinghrhrhrhrtechnicaltechnicaltechnicaltechnicaltechnicaltechnicaltechnicaltechnicaltechnicaltechnicaltechnicalsupportsupportsupportsupportsupportsupportsupportsupportsupportsupportsupporttechnicaltechnicaltechnicalmanagementITITITITITproduct_mngproduct_mngproduct_mngproduct_mngITRandDRandDRandDRandDRandDmarketingsalesaccountingsupporttechnicalmanagementmarketingmarketingmarketingsalessalessalessalessalessalessalessalessalessalessalessalessalessalessalessalessalessalessalesaccountingaccountingaccountinghrhrhrhrtechnicaltechnicaltechnicaltechnicaltechnicaltechnicaltechnicaltechnicaltechnicaltechnicaltechnicalsupportsupportsupportsupportsupportsupportsupportsupportsupportsupportsupporttechnicaltechnicaltechnicalmanagementITITITITITproduct_mngproduct_mngproduct_mngproduct_mngITRandDRandDRandDRandDRandDmarketingsalesaccountingsupporttechnicalmanagementmarketingmarketingmarketingsalessalessalessalessalessalessalessalessalessalessalessalessalessalessalessalessalessalessalesaccountingaccountingaccountinghrhrhrhrtechnicaltechnicaltechnicaltechnicaltechnicaltechnicaltechnicaltechnicaltechnicaltechnicaltechnicalsupportsupportsupportsupportsupportsupportsupportsupportsupportsupportsupporttechnicaltechnicaltechnicalmanagementITITITITITproduct_mngproduct_mngproduct_mngproduct_mngITRandDRandDRandDRandDRandDmarketingsalesaccountingsupporttechnicalmanagementmarketingmarketingmarketingsalessalessalessalessalessalessalessalessalessalessalessalessalessalessalessalessalessalessalesaccountingaccountingaccountinghrhrhrhrtechnicaltechnicaltechnicaltechnicaltechnicaltechnicaltechnicaltechnicaltechnicaltechnicaltechnicalsupportsupportsupportsupportsupportsupportsupportsupportsupportsupportsupporttechnicaltechnicaltechnicalmanagementITITITITITproduct_mngproduct_mngproduct_mngproduct_mngITRandDRandDRandDRandDRandDmarketingmarketingsalesaccountingsupporttechnicalmanagementmarketingmarketingmarketingsalessalessalessalessalessalessalessalessalessalessalessalessalessalessalessalessalessalessalesaccountingaccountingaccountinghrhrhrhrtechnicaltechnicaltechnicaltechnicaltechnicaltechnicaltechnicaltechnicaltechnicaltechnicaltechnicalsupportsupportsupportsupportsupportsupportsupportsupportsupportsupportsupporttechnicaltechnicaltechnicalmanagementITITITITITproduct_mngproduct_mngproduct_mngproduct_mngITRandDRandDRandDRandDRandDRandDmarketingsalesaccountingsupporttechnicalmanagementmarketingmarketingmarketingsalessalessalessalessalessalessalessalessalessalessalessalessalessalessalessalessalessalessalesaccountingaccountingaccountinghrhrhrhrtechnicaltechnicaltechnicaltechnicaltechnicaltechnicaltechnicaltechnicaltechnicaltechnicaltechnicalsupportsupportsupportsupportsupportsupportsupportsupportsupportsupportsupporttechnicaltechnicaltechnicalmanagementITITITITITproduct_mngproduct_mngproduct_mngproduct_mngITRandDRandDRandDRandDRandDRandDmarketingsalesaccountingsupporttechnicalmanagementmarketingmarketingmarketingsalessalessalessalessalessalessalessalessalessalessalessalessalessalessalessalessalessalessalesaccountingaccountingaccountinghrhrhrhrtechnicaltechnicaltechnicaltechnicaltechnicaltechnicaltechnicaltechnicaltechnicaltechnicaltechnicalsupportsupportsupportsupportsupportsupportsupportsupportsupportsupportsupporttechnicaltechnicaltechnicalmanagementITITITITITproduct_mngproduct_mngproduct_mngproduct_mngITRandDRandDRandDRandDRandDRandDmarketingsalesaccountingsupporttechnicalmanagementmarketingmarketingmarketingsalessalessalessalessalessalessalessalessalessalessalessalessalessalessalessalessalessalessalesaccountingaccountingaccountinghrhrhrhrtechnicaltechnicaltechnicaltechnicaltechnicaltechnicaltechnicaltechnicaltechnicaltechnicaltechnicalsupportsupportsupportsupportsupportsupportsupportsupportsupportsupportsupporttechnicaltechnicaltechnicalmanagementITITITITITproduct_mngproduct_mngproduct_mngproduct_mngITRandDRandDRandDRandDRandDRandDmarketingsalesaccountingsupporttechnicalmanagementmarketingmarketingmarketingsalessalessalessalessalessalessalessalessalessalessalessalessalessalessalessalessalessalessalesaccountingaccountingaccountinghrhrhrhrtechnicaltechnicaltechnicaltechnicaltechnicaltechnicaltechnicaltechnicaltechnicaltechnicaltechnicalsupportsupportsupportsupportsupportsupportsupportsupportsupportsupportsupporttechnicaltechnicaltechnicalmanagementITITITITITproduct_mngproduct_mngproduct_mngproduct_mngITRandDRandDRandDRandDRandDmarketingsalesaccountingsupporttechnicalmanagementmarketingmarketingmarketingsalessalessalessalessalessalessalessalessalessalessalessalessalessalessalessalessalessalessalesaccountingaccountingaccountinghrhrhrhrtechnicaltechnicaltechnicaltechnicaltechnicaltechnicaltechnicaltechnicaltechnicaltechnicaltechnicalsupportsupportsupportsupportsupportsupportsupportsupportsupportsupportsupporttechnicaltechnicaltechnicalmanagementITITITITITproduct_mngproduct_mngproduct_mngproduct_mngITRandDRandDRandDRandDRandDmarketingmarketingsalesaccountingsupporttechnicalmanagementmarketingmarketingmarketingsalessalessalessalessalessalessalessalessalessalessalessalessalessalessalessalessalessalessalesaccountingaccountingaccountinghrhrhrhrtechnicaltechnicaltechnicaltechnicaltechnicaltechnicaltechnicaltechnicaltechnicaltechnicaltechnicalsupportsupportsupportsupportsupportsupportsupportsupportsupportsupportsupporttechnicaltechnicaltechnicalmanagementITITITITITproduct_mngproduct_mngproduct_mngproduct_mngITRandDRandDRandDRandDRandDmarketingsalesaccountingsupporttechnicalmanagementmarketingmarketingmarketingsalessalessalessalessalessalessalessalessalessalessalessalessalessalessalessalessalessalessalesaccountingaccountingaccountinghrhrhrhrtechnicaltechnicaltechnicaltechnicaltechnicaltechnicaltechnicaltechnicaltechnicaltechnicaltechnicalsupportsupportsupportsupportsupportsupportsupportsupportsupportsupportsupporttechnicaltechnicaltechnicalmanagementITITITITITproduct_mngproduct_mngproduct_mngproduct_mngITRandDRandDRandDRandDRandDmarketingsalesaccountingsupporttechnicalmanagementmarketingmarketingmarketingsalessalessalessalessalessalessalessalessalessalessalessalessalessalessalessalessalessalessalesaccountingaccountingaccountinghrhrhrhrtechnicaltechnicaltechnicaltechnicaltechnicaltechnicaltechnicaltechnicaltechnicaltechnicaltechnicalsupportsupportsupportsupportsupportsupportsupportsupportsupportsupportsupporttechnicaltechnicaltechnicalmanagementITITITITITproduct_mngproduct_mngproduct_mngproduct_mngITRandDRandDRandDRandDRandDmarketingsalesaccountingsupporttechnicalmanagementmarketingmarketingmarketingsalessalessalessalessalessalessalessalessalessalessalessalessalessalessalessalessalessalessalesaccountingaccountingaccountinghrhrhrhrtechnicaltechnicaltechnicaltechnicaltechnicaltechnicaltechnicaltechnicaltechnicaltechnicaltechnicalsupportsupportsupportsupportsupportsupportsupportsupportsupportsupportsupporttechnicaltechnicaltechnicalmanagementITITITITITproduct_mngproduct_mngproduct_mngproduct_mngITRandDRandDRandDRandDRandDmarketingsalesaccountingsupporttechnicalmanagementmarketingmarketingmarketingsalessalessalessalessalessalessalessalessalessalessalessalessalessalessalessalessalessalessalesaccountingaccountingaccountinghrhrhrhrtechnicaltechnicaltechnicaltechnicaltechnicaltechnicaltechnicaltechnicaltechnicaltechnicaltechnicalsupportsupportsupportsupportsupportsupportsupportsupportsupportsupportsupporttechnicaltechnicaltechnicalmanagementITITITITITproduct_mngproduct_mngproduct_mngproduct_mngITRandDRandDRandDRandDRandDmarketingsalesaccountingsupporttechnicalmanagementmarketingmarketingmarketingsalessalessalessalessalessalessalessalessalessalessalessalessalessalessalessalessalessalessalesaccountingaccountingaccountinghrhrhrhrtechnicaltechnicaltechnicaltechnicaltechnicaltechnicaltechnicaltechnicaltechnicaltechnicaltechnicalsupportsupportsupportsupportsupportsupportsupportsupportsupportsupportsupporttechnicaltechnicaltechnicalmanagementITITITITITproduct_mngproduct_mngproduct_mngproduct_mngITRandDRandDRandDRandDRandDmarketingsalesaccountingsupporttechnicalmanagementmarketingmarketingmarketingsalessalessalessalessalessalessalessalessalessalessalessalessalessalessalessalessalessalessalesaccountingaccountingaccountinghrhrhrhrtechnicaltechnicaltechnicaltechnicaltechnicaltechnicaltechnicaltechnicaltechnicaltechnicaltechnicalsupportsupportsupportsupportsupportsupportsupportsupportsupportsupportsupporttechnicaltechnicaltechnicalmanagementITITITITITproduct_mngproduct_mngproduct_mngproduct_mngITRandDRandDRandDRandDRandDmarketingsalesaccountingsupporttechnicalmanagementmarketingmarketingmarketingsalessalessalessalessalessalessalessalessalessalessalessalessalessalessalessalessalessalessalesaccountingaccountingaccountinghrhrhrhrtechnicaltechnicaltechnicaltechnicaltechnicaltechnicaltechnicaltechnicaltechnicaltechnicaltechnicalsupportsupportsupportsupportsupportsupportsupportsupportsupportsupportsupporttechnicaltechnicaltechnicalmanagementITITITITITproduct_mngproduct_mngproduct_mngproduct_mngITRandDRandDRandDRandDRandDmarketingsalesaccountingsupporttechnicalmanagementmarketingmarketingmarketingsalessalessalessalessalessalessalessalessalessalessalessalessalessalessalessalessalessalessalesaccountingaccountingaccountinghrhrhrhrtechnicaltechnicaltechnicaltechnicaltechnicaltechnicaltechnicaltechnicaltechnicaltechnicaltechnicalsupportsupportsupportsupportsupportsupportsupportsupportsupportsupportsupporttechnicaltechnicaltechnicalmanagementITITITITITproduct_mngproduct_mngproduct_mngproduct_mngITRandDRandDRandDRandDRandDmarketingsalesaccountingsupporttechnicalmanagementmarketingmarketingmarketingsalessalessalessalessalessalessalessalessalessalessalessalessalessalessalessalessalessalessalesaccountingaccountingaccountinghrhrhrhrtechnicaltechnicaltechnicaltechnicaltechnicaltechnicaltechnicaltechnicaltechnicaltechnicaltechnicalsupportsupportsupportsupportsupportsupportsupportsupportsupportsupportsupporttechnicaltechnicaltechnicalmanagementITITITITITproduct_mngproduct_mngproduct_mngproduct_mngITRandDRandDRandDRandDRandDmarketingsalesaccountingsupporttechnicalmanagementmarketingmarketingmarketingsalessalessalessalessalessalessalessalessalessalessalessalessalessalessalessalessalessalessalesaccountingaccountingaccountinghrhrhrhrtechnicaltechnicaltechnicaltechnicaltechnicaltechnicaltechnicaltechnicaltechnicaltechnicaltechnicalsupportsupportsupportsupportsupportsupportsupportsupportsupportsupportsupporttechnicaltechnicaltechnicalmanagementITITITITITproduct_mngproduct_mngproduct_mngproduct_mngITRandDRandDRandDRandDRandDmarketingsalesaccountingsupporttechnicalmanagementmarketingmarketingmarketingsalessalessalessalessalessalessalessalessalessalessalessalessalessalessalessalessalessalessalesaccountingaccountingaccountinghrhrhrhrtechnicaltechnicaltechnicaltechnicaltechnicaltechnicaltechnicaltechnicaltechnicaltechnicaltechnicalsupportsupportsupportsupportsupportsupportsupportsupportsupportsupportsupporttechnicaltechnicaltechnicalmanagementITITITITITproduct_mngproduct_mngproduct_mngproduct_mngITRandDRandDRandDRandDRandDmarketingmarketingsalesaccountingsupporttechnicalmanagementmarketingmarketingmarketingsalessalessalessalessalessalessalessalessalessalessalessalessalessalessalessalessalessalessalesaccountingaccountingaccountinghrhrhrhrtechnicaltechnicaltechnicaltechnicaltechnicaltechnicaltechnicaltechnicaltechnicaltechnicaltechnicalsupportsupportsupportsupportsupportsupportsupportsupportsupportsupportsupporttechnicaltechnicaltechnicalmanagementITITITITITproduct_mngproduct_mngproduct_mngproduct_mngITRandDRandDRandDRandDRandDRandDmarketingsalesaccountingsupporttechnicalmanagementmarketingmarketingmarketingsalessalessalessalessalessalessalessalessalessalessalessalessalessalessalessalessalessalessalesaccountingaccountingaccountinghrhrhrhrtechnicaltechnicaltechnicaltechnicaltechnicaltechnicaltechnicaltechnicaltechnicaltechnicaltechnicalsupportsupportsupportsupportsupportsupportsupportsupportsupportsupportsupporttechnicaltechnicaltechnicalmanagementITITITITITproduct_mngproduct_mngproduct_mngproduct_mngITRandDRandDRandDRandDRandDRandDmarketingsalesaccountingsupporttechnicalmanagementmarketingmarketingmarketingsalessalessalessalessalessalessalessalessalessalessalessalessalessalessalessalessalessalessalesaccountingaccountingaccountinghrhrhrhrtechnicaltechnicaltechnicaltechnicaltechnicaltechnicaltechnicaltechnicaltechnicaltechnicaltechnicalsupportsupportsupportsupportsupportsupportsupportsupportsupportsupportsupporttechnicaltechnicaltechnicalmanagementITITITITITproduct_mngproduct_mngproduct_mngproduct_mngITRandDRandDRandDRandDRandDRandDmarketingsalesaccountingsupporttechnicalmanagementmarketingmarketingmarketingsalessalessalessalessalessalessalessalessalessalessalessalessalessalessalessalessalessalessalesaccountingaccountingaccountinghrhrhrhrtechnicaltechnicaltechnicaltechnicaltechnicaltechnicaltechnicaltechnicaltechnicaltechnicaltechnicalsupportsupportsupportsupportsupportsupportsupportsupportsupportsupportsupporttechnicaltechnicaltechnicalmanagementITITITITITproduct_mngproduct_mngproduct_mngproduct_mngITRandDRandDRandDRandDRandDRandDmarketingsalesaccountingsupporttechnicalmanagementmarketingmarketingmarketingsalessalessalessalessalessalessalessalessalessalessalessalessalessalessalessalessalessalessalesaccountingaccountingaccountinghrhrhrhrtechnicaltechnicaltechnicaltechnicaltechnicaltechnicaltechnicaltechnicaltechnicaltechnicaltechnicalsupportsupportsupportsupportsupportsupportsupportsupportsupportsupportsupporttechnicaltechnicaltechnicalmanagementITITITITITproduct_mngproduct_mngproduct_mngproduct_mngITRandDRandDRandDRandDRandDmarketingsalesaccountingsupporttechnicalmanagementmarketingmarketingmarketingsalessalessalessalessalessalessalessalessalessalessalessalessalessalessalessalessalessalessalesaccountingaccountingaccountinghrhrhrhrtechnicaltechnicaltechnicaltechnicaltechnicaltechnicaltechnicaltechnicaltechnicaltechnicaltechnicalsupportsupportsupportsupportsupportsupportsupportsupportsupportsupportsupporttechnicaltechnicaltechnicalmanagementITITITITITproduct_mngproduct_mngproduct_mngproduct_mngITRandDRandDRandDRandDRandDmarketingmarketingsalesaccountingsupporttechnicalmanagementmarketingmarketingmarketingsalessalessalessalessalessalessalessalessalessalessalessalessalessalessalessalessalessalessalesaccountingaccountingaccountinghrhrhrhrtechnicaltechnicaltechnicaltechnicaltechnicaltechnicaltechnicaltechnicaltechnicaltechnicaltechnicalsupportsupportsupportsupportsupportsupportsupportsupportsupportsupportsupporttechnicaltechnicaltechnicalmanagementITITITITITproduct_mngproduct_mngproduct_mngproduct_mngITRandDRandDRandDRandDRandDmarketingsalesaccountingsupporttechnicalmanagementmarketingmarketingmarketingsalessalessalessalessalessalessalessalessalessalessalessalessalessalessalessalessalessalessalesaccountingaccountingaccountinghrhrhrhrtechnicaltechnicaltechnicaltechnicaltechnicaltechnicaltechnicaltechnicaltechnicaltechnicaltechnicalsupportsupportsupportsupportsupportsupportsupportsupportsupportsupportsupporttechnicaltechnicaltechnicalmanagementITITITITITproduct_mngproduct_mngproduct_mngproduct_mngITRandDRandDRandDRandDRandDmarketingsalesaccountingsupporttechnicalmanagementmarketingmarketingmarketingsalessalessalessalessalessalessalessalessalessalessalessalessalessalessalessalessalessalessalesaccountingaccountingaccountinghrhrhrhrtechnicaltechnicaltechnicaltechnicaltechnicaltechnicaltechnicaltechnicaltechnicaltechnicaltechnicalsupportsupportsupportsupportsupportsupportsupportsupportsupportsupportsupporttechnicaltechnicaltechnicalmanagementITITITITITproduct_mngproduct_mngproduct_mngproduct_mngITRandDRandDRandDRandDRandDmarketingsalesaccountingsupporttechnicalmanagementmarketingmarketingmarketingsalessalessalessalessalessalessalessalessalessalessalessalessalessalessalessalessalessalessalesaccountingaccountingaccountinghrhrhrhrtechnicaltechnicaltechnicaltechnicaltechnicaltechnicaltechnicaltechnicaltechnicaltechnicaltechnicalsupportsupportsupportsupportsupportsupportsupportsupportsupportsupportsupporttechnicaltechnicaltechnicalmanagementITITITITITproduct_mngproduct_mngproduct_mngproduct_mngITRandDRandDRandDRandDRandDmarketingsalesaccountingsupporttechnicalmanagementmarketingmarketingmarketingsalessalessalessalessalessalessalessalessalessalessalessalessalessalessalessalessalessalessalesaccountingaccountingaccountinghrhrhrhrtechnicaltechnicaltechnicaltechnicaltechnicaltechnicaltechnicaltechnicaltechnicaltechnicaltechnicalsupportsupportsupportsupportsupportsupportsupportsupportsupportsupportsupporttechnicaltechnicaltechnicalmanagementITITITITITproduct_mngproduct_mngproduct_mngproduct_mngITRandDRandDRandDRandDRandDmarketingsalesaccountingsupporttechnicalmanagementmarketingmarketingmarketingsalessalessalessalessalessalessalessalessalessalessalessalessalessalessalessalessalessalessalesaccountingaccountingaccountinghrhrhrhrtechnicaltechnicaltechnicaltechnicaltechnicaltechnicaltechnicaltechnicaltechnicaltechnicaltechnicalsupportsupportsupportsupportsupportsupportsupportsupportsupportsupportsupporttechnicaltechnicaltechnicalmanagementITITITITITproduct_mngproduct_mngproduct_mngproduct_mngITRandDRandDRandDRandDRandDmarketingsalesaccountingsupporttechnicalmanagementmarketingmarketingmarketingsalessalessalessalessalessalessalessalessalessalessalessalessalessalessalessalessalessalessalesaccountingaccountingaccountinghrhrhrhrtechnicaltechnicaltechnicaltechnicaltechnicaltechnicaltechnicaltechnicaltechnicaltechnicaltechnicalsupportsupportsupportsupportsupportsupportsupportsupportsupportsupportsupporttechnicaltechnicaltechnicalmanagementITITITITITproduct_mngproduct_mngproduct_mngproduct_mngITRandDRandDRandDRandDRandDmarketingsalesaccountingsupporttechnicalmanagementmarketingmarketingmarketingsalessalessalessalessalessalessalessalessalessalessalessalessalessalessalessalessalessalessalesaccountingaccountingaccountinghrhrhrhrtechnicaltechnicaltechnicaltechnicaltechnicaltechnicaltechnicaltechnicaltechnicaltechnicaltechnicalsupportsupportsupportsupportsupportsupportsupportsupportsupportsupportsupporttechnicaltechnicaltechnicalmanagementITITITITITproduct_mngproduct_mngproduct_mngproduct_mngITRandDRandDRandDRandDRandDmarketingsalesaccountingsupporttechnicalmanagementmarketingmarketingmarketingsalessalessalessalessalessalessalessalessalessalessalessalessalessalessalessalessalessalessalesaccountingaccountingaccountinghrhrhrhrtechnicaltechnicaltechnicaltechnicaltechnicaltechnicaltechnicaltechnicaltechnicaltechnicaltechnicalsupportsupportsupportsupportsupportsupportsupportsupportsupportsupportsupporttechnicaltechnicaltechnicalmanagementITITITITITproduct_mngproduct_mngproduct_mngproduct_mngITRandDRandDRandDRandDRandDmarketingsalesaccountingsupporttechnicalmanagementmarketingmarketingmarketingsalessalessalessalessalessalessalessalessalessalessalessalessalessalessalessalessalessalessalesaccountingaccountingaccountinghrhrhrhrtechnicaltechnicaltechnicaltechnicaltechnicaltechnicaltechnicaltechnicaltechnicaltechnicaltechnicalsupportsupportsupportsupportsupportsupportsupportsupportsupportsupportsupporttechnicaltechnicaltechnicalmanagementITITITITITproduct_mngproduct_mngproduct_mngproduct_mngITRandDRandDRandDRandDRandDmarketingsalesaccountingsupporttechnicalmanagementmarketingmarketingmarketingsalessalessalessalessalessalessalessalessalessalessalessalessalessalessalessalessalessalessalesaccountingaccountingaccountinghrhrhrhrtechnicaltechnicaltechnicaltechnicaltechnicaltechnicaltechnicaltechnicaltechnicaltechnicaltechnicalsupportsupportsupportsupportsupportsupportsupportsupportsupportsupportsupporttechnicaltechnicaltechnicalmanagementITITITITITproduct_mngproduct_mngproduct_mngproduct_mngITRandDRandDRandDRandDRandDmarketingsalesaccountingsupporttechnicalmanagementmarketingmarketingmarketingsalessalessalessalessalessalessalessalessalessalessalessalessalessalessalessalessalessalessalesaccountingaccountingaccountinghrhrhrhrtechnicaltechnicaltechnicaltechnicaltechnicaltechnicaltechnicaltechnicaltechnicaltechnicaltechnicalsupportsupportsupportsupportsupportsupportsupportsupportsupportsupportsupporttechnicaltechnicaltechnicalmanagementITITITITITproduct_mngproduct_mngproduct_mngproduct_mngITRandDRandDRandDRandDRandDmarketingmarketingsalesaccountingsupporttechnicalmanagementmarketingmarketingmarketingsalessalessalessalessalessalessalessalessalessalessalessalessalessalessalessalessalessalessalesaccountingaccountingaccountinghrhrhrhrtechnicaltechnicaltechnicaltechnicaltechnicaltechnicaltechnicaltechnicaltechnicaltechnicaltechnicalsupportsupportsupportsupportsupportsupportsupportsupportsupportsupportsupporttechnicaltechnicaltechnicalmanagementITITITITITproduct_mngproduct_mngproduct_mngproduct_mngITRandDRandDRandDRandDRandDRandDmarketingsalesaccountingsupporttechnicalmanagementmarketingmarketingmarketingsalessalessalessalessalessalessalessalessalessalessalessalessalessalessalessalessalessalessalesaccountingaccountingaccountinghrhrhrhrtechnicaltechnicaltechnicaltechnicaltechnicaltechnicaltechnicaltechnicaltechnicaltechnicaltechnicalsupportsupportsupportsupportsupportsupportsupportsupportsupportsupportsupporttechnicaltechnicaltechnicalmanagementITITITITITproduct_mngproduct_mngproduct_mngproduct_mngITRandDRandDRandDRandDRandDRandDmarketingsalesaccountingsupporttechnicalmanagementmarketingmarketingmarketingsalessalessalessalessalessalessalessalessalessalessalessalessalessalessalessalessalessalessalesaccountingaccountingaccountinghrhrhrhrtechnicaltechnicaltechnicaltechnicaltechnicaltechnicaltechnicaltechnicaltechnicaltechnicaltechnicalsupportsupportsupportsupportsupportsupportsupportsupportsupportsupportsupporttechnicaltechnicaltechnicalmanagementITITITITITproduct_mngproduct_mngproduct_mngproduct_mngITRandDRandDRandDRandDRandDRandDmarketingsalesaccountingsupporttechnicalmanagementmarketingmarketingmarketingsalessalessalessalessalessalessalessalessalessalessalessalessalessalessalessalessalessalessalesaccountingaccountingaccountinghrhrhrhrtechnicaltechnicaltechnicaltechnicaltechnicaltechnicaltechnicaltechnicaltechnicaltechnicaltechnicalsupportsupportsupportsupportsupportsupportsupportsupportsupportsupportsupporttechnicaltechnicaltechnicalmanagementITITITITITproduct_mngproduct_mngproduct_mngproduct_mngITRandDRandDRandDRandDRandDRandDmarketingsalesaccountingsupporttechnicalmanagementmarketingmarketingmarketingsalessalessalessalessalessalessalessalessalessalessalessalessalessalessalessalessalessalessalesaccountingaccountingaccountinghrhrhrhrtechnicaltechnicaltechnicaltechnicaltechnicaltechnicaltechnicaltechnicaltechnicaltechnicaltechnicalsupportsupportsupportsupportsupportsupportsupportsupportsupportsupportsupporttechnicaltechnicaltechnicalmanagementITITITITITproduct_mngproduct_mngproduct_mngproduct_mngITRandDRandDRandDRandDRandDmarketingsalesaccountingsupporttechnicalmanagementmarketingmarketingmarketingsalessalessalessalessalessalessalessalessalessalessalessalessalessalessalessalessalessalessalesaccountingaccountingaccountinghrhrhrhrtechnicaltechnicaltechnicaltechnicaltechnicaltechnicaltechnicaltechnicaltechnicaltechnicaltechnicalsupportsupportsupportsupportsupportsupportsupportsupportsupportsupportsupporttechnicaltechnicaltechnicalmanagementITITITITITproduct_mngproduct_mngproduct_mngproduct_mngITRandDRandDRandDRandDRandDmarketingmarketingsalesaccountingsupporttechnicalmanagementmarketingmarketingmarketingsalessalessalessalessalessalessalessalessalessalessalessalessalessalessalessalessalessalessalesaccountingaccountingaccountinghrhrhrhrtechnicaltechnicaltechnicaltechnicaltechnicaltechnicaltechnicaltechnicaltechnicaltechnicaltechnicalsupportsupportsupportsupportsupportsupportsupportsupportsupportsupportsupporttechnicaltechnicaltechnicalmanagementITITITITITproduct_mngproduct_mngproduct_mngproduct_mngITRandDRandDRandDRandDRandDmarketingsalesaccountingsupporttechnicalmanagementmarketingmarketingmarketingsalessalessalessalessalessalessalessalessalessalessalessalessalessalessalessalessalessalessalesaccountingaccountingaccountinghrhrhrhrtechnicaltechnicaltechnicaltechnicaltechnicaltechnicaltechnicaltechnicaltechnicaltechnicaltechnicalsupportsupportsupportsupportsupportsupportsupportsupportsupportsupportsupporttechnicaltechnicaltechnicalmanagementITITITITITproduct_mngproduct_mngproduct_mngproduct_mngITRandDRandDRandDRandDRandDmarketingsalesaccountingsupporttechnicalmanagementmarketingmarketingmarketingsalessalessalessalessalessalessalessalessalessalessalessalessalessalessalessalessalessalessalesaccountingaccountingaccountinghrhrhrhrtechnicaltechnicaltechnicaltechnicaltechnicaltechnicaltechnicaltechnicaltechnicaltechnicaltechnicalsupportsupportsupportsupportsupportsupportsupportsupportsupportsupportsupporttechnicaltechnicaltechnicalmanagementITITITITITproduct_mngproduct_mngproduct_mngproduct_mngITRandDRandDRandDRandDRandDmarketingsalesaccountingsupporttechnicalmanagementmarketingmarketingmarketingsalessalessalessalessalessalessalessalessalessalessalessalessalessalessalessalessalessalessalesaccountingaccountingaccountinghrhrhrhrtechnicaltechnicaltechnicaltechnicaltechnicaltechnicaltechnicaltechnicaltechnicaltechnicaltechnicalsupportsupportsupportsupportsupportsupportsupportsupportsupportsupportsupporttechnicaltechnicaltechnicalmanagementITITITITITproduct_mngproduct_mngproduct_mngproduct_mngITRandDRandDRandDRandDRandDmarketingsalesaccountingsupporttechnicalmanagementmarketingmarketingmarketingsalessalessalessalessalessalessalessalessalessalessalessalessalessalessalessalessalessalessalesaccountingaccountingaccountinghrhrhrhrtechnicaltechnicaltechnicaltechnicaltechnicaltechnicaltechnicaltechnicaltechnicaltechnicaltechnicalsupportsupportsupportsupportsupportsupportsupportsupportsupportsupportsupporttechnicaltechnicaltechnicalmanagementITITITITITproduct_mngproduct_mngproduct_mngproduct_mngITRandDRandDRandDRandDRandDmarketingsalesaccountingsupporttechnicalmanagementmarketingmarketingmarketingsalessalessalessalessalessalessalessalessalessalessalessalessalessalessalessalessalessalessalesaccountingaccountingaccountinghrhrhrhrtechnicaltechnicaltechnicaltechnicaltechnicaltechnicaltechnicaltechnicaltechnicaltechnicaltechnicalsupportsupportsupportsupportsupportsupportsupportsupportsupportsupportsupporttechnicaltechnicaltechnicalmanagementITITITITITproduct_mngproduct_mngproduct_mngproduct_mngITRandDRandDRandDRandDRandDmarketingsalesaccountingsupporttechnicalmanagementmarketingmarketingmarketingsalessalessalessalessalessalessalessalessalessalessalessalessalessalessalessalessalessalessalesaccountingaccountingaccountinghrhrhrhrtechnicaltechnicaltechnicaltechnicaltechnicaltechnicaltechnicaltechnicaltechnicaltechnicaltechnicalsupportsupportsupportsupportsupportsupportsupportsupportsupportsupportsupporttechnicaltechnicaltechnicalmanagementITITITITITproduct_mngproduct_mngproduct_mngproduct_mngITRandDRandDRandDRandDRandDmarketingsalesaccountingsupporttechnicalmanagementmarketingmarketingmarketingsalessalessalessalessalessalessalessalessalessalessalessalessalessalessalessalessalessalessalesaccountingaccountingaccountinghrhrhrhrtechnicaltechnicaltechnicaltechnicaltechnicaltechnicaltechnicaltechnicaltechnicaltechnicaltechnicalsupportsupportsupportsupportsupportsupportsupportsupportsupportsupportsupporttechnicaltechnicaltechnicalmanagementITITITITITproduct_mngproduct_mngproduct_mngproduct_mngITRandDRandDRandDRandDRandDmarketingsalesaccountingsupporttechnicalmanagementmarketingmarketingmarketingsalessalessalessalessalessalessalessalessalessalessalessalessalessalessalessalessalessalessalesaccountingaccountingaccountinghrhrhrhrtechnicaltechnicaltechnicaltechnicaltechnicaltechnicaltechnicaltechnicaltechnicaltechnicaltechnicalsupportsupportsupportsupportsupportsupportsupportsupportsupportsupportsupporttechnicaltechnicaltechnicalmanagementITITITITITproduct_mngproduct_mngproduct_mngproduct_mngITRandDRandDRandDRandDRandDmarketingsalesaccountingsupporttechnicalmanagementmarketingmarketingmarketingsalessalessalessalessalessalessalessalessalessalessalessalessalessalessalessalessalessalessalesaccountingaccountingaccountinghrhrhrhrtechnicaltechnicaltechnicaltechnicaltechnicaltechnicaltechnicaltechnicaltechnicaltechnicaltechnicalsupportsupportsupportsupportsupportsupportsupportsupportsupportsupportsupporttechnicaltechnicaltechnicalmanagementITITITITITproduct_mngproduct_mngproduct_mngproduct_mngITRandDRandDRandDRandDRandDmarketingsalesaccountingsupporttechnicalmanagementmarketingmarketingmarketingsalessalessalessalessalessalessalessalessalessalessalessalessalessalessalessalessalessalessalesaccountingaccountingaccountinghrhrhrhrtechnicaltechnicaltechnicaltechnicaltechnicaltechnicaltechnicaltechnicaltechnicaltechnicaltechnicalsupportsupportsupportsupportsupportsupportsupportsupportsupportsupportsupporttechnicaltechnicaltechnicalmanagementITITITITITproduct_mngproduct_mngproduct_mngproduct_mngITRandDRandDRandDRandDRandDmarketingsalesaccountingsupporttechnicalmanagementmarketingmarketingmarketingsalessalessalessalessalessalessalessalessalessalessalessalessalessalessalessalessalessalessalesaccountingaccountingaccountinghrhrhrhrtechnicaltechnicaltechnicaltechnicaltechnicaltechnicaltechnicaltechnicaltechnicaltechnicaltechnicalsupportsupportsupportsupportsupportsupportsupportsupportsupportsupportsupporttechnicaltechnicaltechnicalmanagementITITITITITproduct_mngproduct_mngproduct_mngproduct_mngITRandDRandDRandDRandDRandDmarketingmarketingsalesaccountingsupporttechnicalmanagementmarketingmarketingmarketingsalessalessalessalessalessalessalessalessalessalessalessalessalessalessalessalessalessalessalesaccountingaccountingaccountinghrhrhrhrtechnicaltechnicaltechnicaltechnicaltechnicaltechnicaltechnicaltechnicaltechnicaltechnicaltechnicalsupportsupportsupportsupportsupportsupportsupportsupportsupportsupportsupporttechnicaltechnicaltechnicalmanagementITITITITITproduct_mngproduct_mngproduct_mngproduct_mngITmarketingmarketingmarketingmarketingmarketingmarketingmarketingsalesaccountingsupporttechnicalmanagementmarketingmarketingmarketingsalessalessalessalessalessalessalessalessalessalessalessalessalessalessalessalessalessalessalesaccountingaccountingaccountinghrhrhrhrtechnicaltechnicaltechnicaltechnicaltechnicaltechnicaltechnicaltechnicaltechnicaltechnicaltechnicalsupportsupportsupportsupportsupportsupportsupportsupportsupportsupportsupporttechnicaltechnicaltechnicalmanagementITITITITITproduct_mngproduct_mngproduct_mngproduct_mngITRandDRandDRandDRandDRandDRandDmarketingsalesaccountingsupporttechnicalmanagementmarketingmarketingmarketingsalessalessalessalessalessalessalessalessalessalessalessalessalessalessalessalessalessalessalesaccountingaccountingaccountinghrhrhrhrtechnicaltechnicaltechnicaltechnicaltechnicaltechnicaltechnicaltechnicaltechnicaltechnicaltechnicalsupportsupportsupportsupportsupportsupportsupportsupportsupportsupportsupporttechnicaltechnicaltechnicalmanagementITITITITITproduct_mngproduct_mngproduct_mngproduct_mngITmarketingaccountingaccountingITITmanagementmarketingsalesaccountingsupporttechnicalmanagementmarketingmarketingmarketingsalessalessalessalessalessalessalessalessalessalessalessalessalessalessalessalessalessalessalesaccountingaccountingaccountinghrhrhrhrtechnicaltechnicaltechnicaltechnicaltechnicaltechnicaltechnicaltechnicaltechnicaltechnicaltechnicalsupportsupportsupportsupportsupportsupportsupportsupportsupportsupportsupporttechnicaltechnicaltechnicalmanagementITITITITITproduct_mngproduct_mngproduct_mngproduct_mngITRandDRandDRandDRandDRandDRandDmarketingsalesaccountingsupporttechnicalmanagementmarketingmarketingmarketingsalessalessalessalessalessalessalessalessalessalessalessalessalessalessalessalessalessalessalesaccountingaccountingaccountinghrhrhrhrtechnicaltechnicaltechnicaltechnicaltechnicaltechnicaltechnicaltechnicaltechnicaltechnicaltechnicalsupportsupportsupportsupportsupportsupportsupportsupportsupportsupportsupporttechnicaltechnicaltechnicalmanagementITITITITITproduct_mngproduct_mngproduct_mngproduct_mngITRandDRandDRandDRandDRandDmarketingsalesaccountingsupporttechnicalmanagementmarketingmarketingmarketingsalessalessalessalessalessalessalessalessalessalessalessalessalessalessalessalessalessalessalesaccountingaccountingaccountinghrhrhrhrtechnicaltechnicaltechnicaltechnicaltechnicaltechnicaltechnicaltechnicaltechnicaltechnicaltechnicalsupportsupportsupportsupportsupportsupportsupportsupportsupportsupportsupporttechnicaltechnicaltechnicalmanagementITITITITITproduct_mngproduct_mngproduct_mngproduct_mngITmarketingaccountingaccountingITITmanagementmarketingsalesaccountingsupporttechnicalmanagementmarketingmarketingmarketingsalessalessalessalessalessalessalessalessalessalessalessalessalessalessalessalessalessalessalesaccountingaccountingaccountinghrhrhrhrtechnicaltechnicaltechnicaltechnicaltechnicaltechnicaltechnicaltechnicaltechnicaltechnicaltechnicalsupportsupportsupportsupportsupportsupportsupportsupportsupportsupportsupporttechnicaltechnicaltechnicalmanagementITITITITITproduct_mngproduct_mngproduct_mngproduct_mngITmarketingaccountingaccountingITITmanagementsalesaccountingsupporttechnicalmanagementmarketingmarketingmarketingsalessalessalessalessalessalessalessalessalessalessalessalessalessalessalessalessalessalessalesaccountingaccountingaccountinghrhrhrhrtechnicaltechnicaltechnicaltechnicaltechnicaltechnicaltechnicaltechnicaltechnicaltechnicaltechnicalsupportsupportsupportsupportsupportsupportsupportsupportsupportsupportsupporttechnicaltechnicaltechnicalmanagementITITITITITproduct_mngproduct_mngproduct_mngproduct_mngITmarketingaccountingaccountingITITmanagementsalesaccountingsupporttechnicalmanagementmarketingmarketingmarketingsalessalessalessalessalessalessalessalessalessalessalessalessalessalessalessalessalessalessalesaccountingaccountingaccountinghrhrhrhrtechnicaltechnicaltechnicaltechnicaltechnicaltechnicaltechnicaltechnicaltechnicaltechnicaltechnicalsupportsupportsupportsupportsupportsupportsupportsupportsupportsupportsupporttechnicaltechnicaltechnicalmanagementITITITITITproduct_mngproduct_mngproduct_mngproduct_mngITmarketingaccountingaccountingITITmanagementsalesaccountingsupporttechnicalmanagementmarketingmarketingmarketingsalessalessalessalessalessalessalessalessalessalessalessalessalessalessalessalessalessalessalesaccountingaccountingaccountinghrhrhrhrtechnicaltechnicaltechnicaltechnicaltechnicaltechnicaltechnicaltechnicaltechnicaltechnicaltechnicalsupportsupportsupportsupportsupportsupportsupportsupportsupportsupportsupporttechnicaltechnicaltechnicalmanagementITITITITITproduct_mngproduct_mngproduct_mngproduct_mngITRandDRandDRandDRandDRandDmarketingsalesaccountingsupporttechnicalmanagementmarketingmarketingmarketingsalessalessalessalessalessalessalessalessalessalessalessalessalessalessalessalessalessalessalesaccountingaccountingaccountinghrhrhrhrtechnicaltechnicaltechnicaltechnicaltechnicaltechnicaltechnicaltechnicaltechnicaltechnicaltechnicalsupportsupportsupportsupportsupportsupportsupportsupportsupportsupportsupporttechnicaltechnicaltechnicalmanagementITITITITITproduct_mngproduct_mngproduct_mngproduct_mngITRandDRandDRandDRandDRandDmarketingsalesaccountingsupporttechnicalmanagementmarketingmarketingmarketingsalessalessalessalessalessalessalessalessalessalessalessalessalessalessalessalessalessalessalesaccountingaccountingaccountinghrhrhrhrtechnicaltechnicaltechnicaltechnicaltechnicaltechnicaltechnicaltechnicaltechnicaltechnicaltechnicalsupportsupportsupportsupportsupportsupportsupportsupportsupportsupportsupporttechnicaltechnicaltechnicalmanagementITITITITITproduct_mngproduct_mngproduct_mngproduct_mngITRandDRandDRandDRandDRandDmarketingsalesaccountingsupporttechnicalmanagementmarketingmarketingmarketingsalessalessalessalessalessalessalessalessalessalessalessalessalessalessalessalessalessalessalesaccountingaccountingaccountinghrhrhrhrtechnicaltechnicaltechnicaltechnicaltechnicaltechnicaltechnicaltechnicaltechnicaltechnicaltechnicalsupportsupportsupportsupportsupportsupportsupportsupportsupportsupportsupporttechnicaltechnicaltechnicalmanagementITITITITITproduct_mngproduct_mngproduct_mngproduct_mngITRandDRandDRandDRandDRandDmarketingsalesaccountingsupporttechnicalmanagementmarketingmarketingmarketingsalessalessalessalessalessalessalessalessalessalessalessalessalessalessalessalessalessalessalesaccountingaccountingaccountinghrhrhrhrtechnicaltechnicaltechnicaltechnicaltechnicaltechnicaltechnicaltechnicaltechnicaltechnicaltechnicalsupportsupportsupportsupportsupportsupportsupportsupportsupportsupportsupporttechnicaltechnicaltechnicalmanagementITITITITITproduct_mngproduct_mngproduct_mngproduct_mngITRandDRandDRandDRandDRandDmarketingsalesaccountingsupporttechnicalmanagementmarketingmarketingmarketingsalessalessalessalessalessalessalessalessalessalessalessalessalessalessalessalessalessalessalesaccountingaccountingaccountinghrhrhrhrtechnicaltechnicaltechnicaltechnicaltechnicaltechnicaltechnicaltechnicaltechnicaltechnicaltechnicalsupportsupportsupportsupportsupportsupportsupportsupportsupportsupportsupporttechnicaltechnicaltechnicalmanagementITITITITITproduct_mngproduct_mngproduct_mngproduct_mngITRandDRandDRandDRandDRandDmarketingsalesaccountingsupporttechnicalmanagementmarketingmarketingmarketingsalessalessalessalessalessalessalessalessalessalessalessalessalessalessalessalessalessalessalesaccountingaccountingaccountinghrhrhrhrtechnicaltechnicaltechnicaltechnicaltechnicaltechnicaltechnicaltechnicaltechnicaltechnicaltechnicalsupportsupportsupportsupportsupportsupportsupportsupportsupportsupportsupporttechnicaltechnicaltechnicalmanagementITITITITITproduct_mngproduct_mngproduct_mngproduct_mngITRandDRandDRandDRandDRandDmarketingsalesaccountingsupporttechnicalmanagementmarketingmarketingmarketingsalessalessalessalessalessalessalessalessalessalessalessalessalessalessalessalessalessalessalesaccountingaccountingaccountinghrhrhrhrtechnicaltechnicaltechnicaltechnicaltechnicaltechnicaltechnicaltechnicaltechnicaltechnicaltechnicalsupportsupportsupportsupportsupportsupportsupportsupportsupportsupportsupporttechnicaltechnicaltechnicalmanagementITITITITITproduct_mngproduct_mngproduct_mngproduct_mngITRandDRandDRandDRandDRandDmarketingsalesaccountingsupporttechnicalmanagementmarketingmarketingmarketingsalessalessalessalessalessalessalessalessalessalessalessalessalessalessalessalessalessalessalesaccountingaccountingaccountinghrhrhrhrtechnicaltechnicaltechnicaltechnicaltechnicaltechnicaltechnicaltechnicaltechnicaltechnicaltechnicalsupportsupportsupportsupportsupportsupportsupportsupportsupportsupportsupporttechnicaltechnicaltechnicalmanagementITITITITITproduct_mngproduct_mngproduct_mngproduct_mngITRandDRandDRandDRandDRandDmarketingmarketingsalesaccountingsupporttechnicalmanagementmarketingmarketingmarketingsalessalessalessalessalessalessalessalessalessalessalessalessalessalessalessalessalessalessalesaccountingaccountingaccountinghrhrhrhrtechnicaltechnicaltechnicaltechnicaltechnicaltechnicaltechnicaltechnicaltechnicaltechnicaltechnicalsupportsupportsupportsupportsupportsupportsupportsupportsupportsupportsupporttechnicaltechnicaltechnicalmanagementITITITITITproduct_mngproduct_mngproduct_mngproduct_mngITRandDRandDRandDRandDRandDRandDmarketingsalesaccountingsupporttechnicalmanagementmarketingmarketingmarketingsalessalessalessalessalessalessalessalessalessalessalessalessalessalessalessalessalessalessalesaccountingaccountingaccountinghrhrhrhrtechnicaltechnicaltechnicaltechnicaltechnicaltechnicaltechnicaltechnicaltechnicaltechnicaltechnicalsupportsupportsupportsupportsupportsupportsupportsupportsupportsupportsupporttechnicaltechnicaltechnicalmanagementITITITITITproduct_mngproduct_mngproduct_mngproduct_mngITRandDRandDRandDRandDRandDRandDmarketingsalesaccountingsupporttechnicalmanagementmarketingmarketingmarketingsalessalessalessalessalessalessalessalessalessalessalessalessalessalessalessalessalessalessalesaccountingaccountingaccountinghrhrhrhrtechnicaltechnicaltechnicaltechnicaltechnicaltechnicaltechnicaltechnicaltechnicaltechnicaltechnicalsupportsupportsupportsupportsupportsupportsupportsupportsupportsupportsupporttechnicaltechnicaltechnicalmanagementITITITITITproduct_mngproduct_mngproduct_mngproduct_mngITRandDRandDRandDRandDRandDRandDITITITITproduct_mngproduct_mngproduct_mngproduct_mngITRandDRandDRandDRandDRandDRandDmarketingsalesaccountingsupporttechnicalmanagementmarketingmarketingmarketingsalessalessalessalessalessalessalessalessalessalessalessalessalessalessalessalessalessalessalesaccountingaccountingaccountinghrhrhrhrtechnicaltechnicaltechnicaltechnicaltechnicaltechnicaltechnicaltechnicaltechnicaltechnicaltechnicalsupportsupportsupportsupportsupportsupportsupportsupportsupportsupportsupporttechnicaltechnicaltechnicalmanagementITITITITITproduct_mngproduct_mngproduct_mngproduct_mngITmanagementmanagementmanagementmanagementmanagementmanagementITITITITproduct_mngproduct_mngproduct_mngproduct_mngITmanagementmanagementmanagementmanagementmanagementmanagementmarketingsalesaccountingsupporttechnicalmanagementmarketingmarketingmarketingsalessalessalessalessalessalessalessalessalessalessalessalessalessalessalessalessalessalessalesaccountingaccountingaccountinghrhrhrhrtechnicaltechnicaltechnicaltechnicaltechnicaltechnicaltechnicaltechnicaltechnicaltechnicaltechnicalsupportsupportsupportsupportsupportsupportsupportsupportsupportsupportsupporttechnicaltechnicaltechnicalmanagementITITITITITproduct_mngproduct_mngproduct_mngproduct_mngITITITITITproduct_mngproduct_mngproduct_mngproduct_mngITRandDRandDRandDRandDRandDRandDmarketingsalesaccountingsupporttechnicalmanagementmarketingmarketingmarketingsalessalessalessalessalessalessalessalessalessalessalessalessalessalessalessalessalessalessalesaccountingaccountingaccountinghrhrhrhrtechnicaltechnicaltechnicaltechnicaltechnicaltechnicaltechnicaltechnicaltechnicaltechnicaltechnicalsupportsupportsupportsupportsupportsupportsupportsupportsupportsupportsupporttechnicaltechnicaltechnicalmanagementITITITITITproduct_mngproduct_mngproduct_mngproduct_mngITmanagementmanagementmanagementmanagementmanagementmanagementITITproduct_mngproduct_mngproduct_mngproduct_mngITmanagementmanagementmanagementmanagementmanagementmanagementmarketingsalesaccountingsupporttechnicalmanagementmarketingmarketingmarketingsalessalessalessalessalessalessalessalessalessalessalessalessalessalessalessalessalessalessalesaccountingaccountingaccountinghrhrhrhrtechnicaltechnicaltechnicaltechnicaltechnicaltechnicaltechnicaltechnicaltechnicaltechnicaltechnicalsupportsupportsupportsupportsupportsupportsupportsupportsupportsupportsupporttechnicaltechnicaltechnicalmanagementITITITITITproduct_mngproduct_mngproduct_mngproduct_mngITmanagementmanagementmanagementmanagementmanagementmanagementsalessalessalessalessalessalessalessalessalessalessalessalessalessalessalessalessalessalessalessalessalessalessalessalessalessalessalessalessalessalessalessalessalessalesITproduct_mngproduct_mngproduct_mngproduct_mngITmanagementmanagementmanagementmanagementmanagementmanagementmarketingsalesaccountingsupporttechnicalmanagementmarketingmarketingmarketingsalessalessalessalessalessalessalessalesITproduct_mngproduct_mngproduct_mngproduct_mngITmanagementmanagementmanagementmanagementmanagementmanagementmarketingsalesaccountingsupporttechnicalmanagementmarketingmarketingmarketingsalessalessalessalessalessalessalesITproduct_mngproduct_mngproduct_mngproduct_mngITmanagementmanagementmanagementmanagementmanagementmanagementmarketingsalesaccountingsupporttechnicalmanagementmarketingmarketingmarketingsalessalessalessalessalessalessalessalesITproduct_mngproduct_mngproduct_mngproduct_mngITRandDRandDRandDRandDRandDRandDmarketingsalesaccountingsupporttechnicalmanagementmarketingmarketingmarketingsalessalessalessalessalessalessalessalestechnicalsupportsupportsupportsupportsupportsupportsupportsupportsupportsupportsupporttechnicaltechnicaltechnicalmanagementITITITITITproduct_mngproduct_mngproduct_mngproduct_mngITmanagementmanagementmanagementmanagementmanagementmanagementsalessalessalessalessalessalessalessalessalessalessalessalessalessalessalessalessalessalessalessalessalessalessalessalessalessalessalessalessalessalessalessalessalessalesITproduct_mngproduct_mngproduct_mngproduct_mngITmanagementmanagementmanagementmanagementmanagementmanagementmarketingsalesaccountingsupporttechnicalmanagementmarketingmarketingmarketingsalessalessalessalessalessalessalessalesITproduct_mngproduct_mngproduct_mngproduct_mngITmanagementmanagementmanagementmanagementmanagementmanagementmarketingsalesaccountingsupporttechnicalmanagementmarketingmarketingmarketingsalessalessalessalessalessalessalesITproduct_mngproduct_mngproduct_mngproduct_mngITmanagementmanagementmanagementmanagementmanagementmanagementmarketingsalesaccountingsupporttechnicalmanagementmarketingmarketingmarketingsalessalessalessalessalessalessalessalesITproduct_mngproduct_mngproduct_mngproduct_mngITRandDRandDRandDRandDRandDRandDmarketingsalesaccountingsupporttechnicalmanagementmarketingmarketingmarketingsalessalessalessalessalessalessalessalestechnicalsupportsupportsupportsupportsupportsupportsupportsupportsupportsupportsupporttechnicaltechnicaltechnicalmanagementITITITITITproduct_mngproduct_mngproduct_mngproduct_mngITmanagementmanagementmanagementmanagementmanagementmanagementsalessalessalessalessalessalessalessalessalessalessalessalessalessalessalessalessalessalessalessalessalessalessalessalessalessalessalessalessalessalessalessalessalessalesITproduct_mngproduct_mngproduct_mngproduct_mngITmanagementmanagementmanagementmanagementmanagementmanagementmarketingsalesaccountingsupporttechnicalmanagementmarketingmarketingmarketingsalessalessalessalessalessalessalessalesITproduct_mngproduct_mngproduct_mngproduct_mngITmanagementmanagementmanagementmanagementmanagementmanagementmarketingsalesaccountingsupporttechnicalmanagementmarketingmarketingmarketingsalessalessalessalessalessalessalesITproduct_mngproduct_mngproduct_mngproduct_mngITmanagementmanagementmanagementmanagementmanagementmanagementmarketingsalesaccountingsupporttechnicalmanagementmarketingmarketingmarketingsalessalessalessalessalessalessalessalesITproduct_mngproduct_mngproduct_mngproduct_mngITmanagementmanagementmanagementmanagementmanagementmanagementmarketingsalesaccountingsupporttechnicalmanagementmarketingmarketingmarketingsalessalessalessalessalessalessalessalestechnicalsupportsupportsupportsupportsupportsupportsupportsupportsupportsupportsupporttechnicaltechnicaltechnicalmanagementITITITITITproduct_mngproduct_mngproduct_mngproduct_mngITmanagementmanagementmanagementmanagementmanagementmanagementsalessalessalessalessalessalessalessalessalessalessalessalessalessalessalessalessalessalessalessalessalessalessalessalessalessalessalessalessalessalessalessalessalessalesITproduct_mngproduct_mngproduct_mngproduct_mngITmanagementmanagementmanagementmanagementmanagementmanagementmarketingsalesaccountingsupporttechnicalmanagementmarketingmarketingmarketingsalessalessalessalessalessalessalessalesITproduct_mngproduct_mngproduct_mngproduct_mngITITITITITITITmarketingaccountingaccountingITITmanagementmarketingmarketingmarketingsalessalessalessalessalessalessalesITproduct_mngproduct_mngproduct_mngproduct_mngITITmanagementmanagementmanagementmanagementmanagementmarketingITsalessalessalessalessalessalessalessalessalessalessalessalessalessalessalessalessalessalessalessalessalessalessalessalessalessalessalessalesaccountingaccountingaccountinghrhrhrhrtechnicaltechnicaltechnicaltechnicaltechnicaltechnicaltechnicaltechnicaltechnicaltechnicaltechnicalsupportsupportsupportsupportsupportsupportsupportsupportsupportsupportsupporttechnicaltechnicaltechnicalmanagementITITITITITproduct_mngproduct_mngproduct_mngproduct_mngITproduct_mngproduct_mngproduct_mngproduct_mngproduct_mngproduct_mngmarketingsalesaccountingsupporttechnicalmanagementmarketingmarketingmarketingsalessalessalessalessalessalessalessalessalessalessalessalessalessalessalessalessalessalessalesaccountingaccountingaccountinghrhrhrhrtechnicaltechnicaltechnicaltechnicaltechnicaltechnicaltechnicaltechnicaltechnicaltechnicaltechnicalsupportsupportsupportsupportsupportsupportsupportsupportsupportsupportsupporttechnicaltechnicaltechnicalmanagementITITITITITproduct_mngproduct_mngproduct_mngproduct_mngITmarketingmarketingmarketingmarketingmarketingmarketingsalesaccountingsupporttechnicalmanagementmarketingmarketingmarketingsalessalessalessalessalessalessalessalessalessalessalessalessalessalessalessalessalessalessalesaccountingaccountingaccountinghrhrhrhrtechnicaltechnicaltechnicaltechnicaltechnicaltechnicaltechnicaltechnicaltechnicaltechnicaltechnicalsupportsupportsupportsupportsupportsupportsupportsupportsupportsupportsupporttechnicaltechnicaltechnicalmanagementITITITITITproduct_mngproduct_mngproduct_mngproduct_mngITaccountingaccountinghrhrhrmarketingmarketingsalesaccountingsupporttechnicalmanagementmarketingmarketingmarketingsalessalessalessalessalessalessalessalessalessalessalessalessalessalessalessalessalessalessalesaccountingaccountingaccountinghrhrhrhrtechnicaltechnicaltechnicaltechnicaltechnicaltechnicaltechnicaltechnicaltechnicaltechnicaltechnicalsupportsupportsupportsupportsupportsupportsupportsupportsupportsupportsupporttechnicaltechnicaltechnicalmanagementITITITITITproduct_mngproduct_mngproduct_mngproduct_mngITRandDRandDRandDRandDRandDmarketingsalesaccountingsupporttechnicalmanagementmarketingmarketingmarketingsalessalessalessalessalessalessalessalessalessalessalessalessalessalessalessalessalessalessalesaccountingaccountingaccountinghrhrhrhrtechnicaltechnicaltechnicaltechnicaltechnicaltechnicaltechnicaltechnicaltechnicaltechnicaltechnicalsupportsupportsupportsupportsupportsupportsupportsupportsupportsupportsupporttechnicaltechnicaltechnicalmanagementITITITITITproduct_mngproduct_mngproduct_mngproduct_mngITaccountingaccountinghrhrhrmarketingsalesaccountingsupporttechnicalmanagementmarketingmarketingmarketingsalessalessalessalessalessalessalessalessalessalessalessalessalessalessalessalessalessalessalesaccountingaccountingaccountinghrhrhrhrtechnicaltechnicaltechnicaltechnicaltechnicaltechnicaltechnicaltechnicaltechnicaltechnicaltechnicalsupportsupportsupportsupportsupportsupportsupportsupportsupportsupportsupporttechnicaltechnicaltechnicalmanagementITITITITITproduct_mngproduct_mngproduct_mngproduct_mngITRandDRandDRandDRandDRandDmarketingsalesaccountingsupporttechnicalmanagementmarketingmarketingmarketingsalessalessalessalessalessalessalessalessalessalessalessalessalessalessalessalessalessalessalesaccountingaccountingaccountinghrhrhrhrtechnicaltechnicaltechnicaltechnicaltechnicaltechnicaltechnicaltechnicaltechnicaltechnicaltechnicalsupportsupportsupportsupportsupportsupportsupportsupportsupportsupportsupporttechnicaltechnicaltechnicalmanagementITITITITITproduct_mngproduct_mngproduct_mngproduct_mngITaccountingaccountinghrhrhrmarketingsalesaccountingsupporttechnicalmanagementmarketingmarketingmarketingsalessalessalessalessalessalessalessalessalessalessalessalessalessalessalessalessalessalessalesaccountingaccountingaccountinghrhrhrhrtechnicaltechnicaltechnicaltechnicaltechnicaltechnicaltechnicaltechnicaltechnicaltechnicaltechnicalsupportsupportsupportsupportsupportsupportsupportsupportsupportsupportsupporttechnicaltechnicaltechnicalmanagementITITITITITproduct_mngproduct_mngproduct_mngproduct_mngITRandDRandDRandDRandDRandDmarketingsalesaccountingsupporttechnicalmanagementmarketingmarketingmarketingsalessalessalessalessalessalessalessalessalessalessalessalessalessalessalessalessalessalessalesaccountingaccountingaccountinghrhrhrhrtechnicaltechnicaltechnicaltechnicaltechnicaltechnicaltechnicaltechnicaltechnicaltechnicaltechnicalsupportsupportsupportsupportsupportsupportsupportsupportsupportsupportsupporttechnicaltechnicaltechnicalmanagementITITITITITproduct_mngproduct_mngproduct_mngproduct_mngITsalessalessalessalessalesmarketingsalesaccountingsupporttechnicalmanagementmarketingmarketingmarketingsalessalessalessalessalessalessalessalessalessalessalessalessalessalessalessalessalessalessalesaccountingaccountingaccountinghrhrhrhrtechnicaltechnicaltechnicaltechnicaltechnicaltechnicaltechnicaltechnicaltechnicaltechnicaltechnicalsupportsupportsupportsupportsupportsupportsupportsupportsupportsupportsupporttechnicaltechnicaltechnicalmanagementITITITITITproduct_mngproduct_mngproduct_mngproduct_mngITsalessalessalessalessalesmarketingsalesaccountingsupporttechnicalmanagementmarketingmarketingmarketingsalessalessalessalessalessalessalessalessalessalessalessalestechnicaltechnicaltechnicaltechnicaltechnicaltechnicalsupportsupportsupportsupportsupportsupportsupportsupportsupportsupportsupporttechnicaltechnicaltechnicalmanagementITITITITITproduct_mngproduct_mngproduct_mngproduct_mngITRandDRandDRandDRandDRandDmarketingsalesaccountingsupporttechnicalmanagementmarketingmarketingmarketingsalessalessalessalessalessalessalessalessalessalessalessalessalessalessalessalessalessalessalesaccountingaccountingaccountinghrhrhrhrtechnicaltechnicaltechnicaltechnicaltechnicaltechnicaltechnicaltechnicaltechnicaltechnicaltechnicalsupportsupportsupportsupportsupportsupportsupportsupportsupportsupportsupporttechnicaltechnicaltechnicalmanagementITITITITITproduct_mngproduct_mngproduct_mngproduct_mngITRandDRandDRandDRandDRandDmarketingsalesaccountingsupporttechnicalmanagementmarketingmarketingmarketingsalessalessalessalessalessalessalessalessalessalessalessalessalessalessalessalessalessalessalesaccountingaccountingaccountinghrhrhrhrtechnicaltechnicaltechnicaltechnicaltechnicaltechnicaltechnicaltechnicaltechnicaltechnicaltechnicalsupportsupportsupportsupportsupportsupportsupportsupportsupportsupportsupporttechnicaltechnicaltechnicalmanagementITITITITITproduct_mngproduct_mngproduct_mngproduct_mngITRandDRandDRandDRandDRandDmarketingmarketingsalesaccountingsupporttechnicalmanagementmarketingmarketingmarketingsalessalessalessalessalessalessalessalessalessalessalessalessalessalessalessalessalessalessalesaccountingaccountingaccountinghrhrhrhrtechnicaltechnicaltechnicaltechnicaltechnicaltechnicaltechnicaltechnicaltechnicaltechnicaltechnicalsupportsupportsupportsupportsupportsupportsupportsupportsupportsupportsupporttechnicaltechnicaltechnicalmanagementITITITITITproduct_mngproduct_mngproduct_mngproduct_mngITRandDRandDRandDRandDRandDRandDmarketingsalesaccountingsupporttechnicalmanagementmarketingmarketingmarketingsalessalessalessalessalessalessalessalessalessalessalessalessalessalessalessalessalessalessalesaccountingaccountingaccountinghrhrhrhrtechnicaltechnicaltechnicaltechnicaltechnicaltechnicaltechnicaltechnicaltechnicaltechnicaltechnicalsupportsupportsupportsupportsupportsupportsupportsupportsupportsupportsupporttechnicaltechnicaltechnicalmanagementITITITITITproduct_mngproduct_mngproduct_mngproduct_mngITRandDRandDRandDRandDRandDRandDmarketingsalesaccountingsupporttechnicalmanagementmarketingmarketingmarketingsalessalessalessalessalessalessalessalessalessalessalessalessalessalessalessalessalessalessalesaccountingaccountingaccountinghrhrhrhrtechnicaltechnicaltechnicaltechnicaltechnicaltechnicaltechnicaltechnicaltechnicaltechnicaltechnicalsupportsupportsupportsupportsupportsupportsupportsupportsupportsupportsupporttechnicaltechnicaltechnicalmanagementITITITITITproduct_mngproduct_mngproduct_mngproduct_mngITRandDRandDRandDRandDRandDRandDITITITITproduct_mngproduct_mngproduct_mngproduct_mngITRandDRandDRandDRandDRandDRandDmarketingsalesaccountingsupporttechnicalmanagementmarketingmarketingmarketingsalessalessalessalessalessalessalessalessalessalessalessalessalessalessalessalessalessalessalesaccountingaccountingaccountinghrhrhrhrtechnicaltechnicaltechnicaltechnicaltechnicaltechnicaltechnicaltechnicaltechnicaltechnicaltechnicalsupportsupportsupportsupportsupportsupportsupportsupportsupportsupportsupporttechnicaltechnicaltechnicalmanagementITITITITITproduct_mngproduct_mngproduct_mngproduct_mngITmanagementmanagementmanagementmanagementmanagementmanagementITITITITproduct_mngproduct_mngproduct_mngproduct_mngITmanagementmanagementmanagementmanagementmanagementmanagementmarketingsalesaccountingsupporttechnicalmanagementmarketingmarketingmarketingsalessalessalessalessalessalessalessalessalessalessalessalessalessalessalessalessalessalessalesaccountingaccountingaccountinghrhrhrhrtechnicaltechnicaltechnicaltechnicaltechnicaltechnicaltechnicaltechnicaltechnicaltechnicaltechnicalsupportsupportsupportsupportsupportsupportsupportsupportsupportsupportsupporttechnicaltechnicaltechnicalmanagementITITITITITproduct_mngproduct_mngproduct_mngproduct_mngITITITITITproduct_mngproduct_mngproduct_mngproduct_mngITRandDRandDRandDRandDRandDRandDmarketingsalesaccountingsupporttechnicalmanagementmarketingmarketingmarketingsalessalessalessalessalessalessalessalessalessalessalessalessalessalessalessalessalessalessalesaccountingaccountingaccountinghrhrhrhrtechnicaltechnicaltechnicaltechnicaltechnicaltechnicaltechnicaltechnicaltechnicaltechnicaltechnicalsupportsupportsupportsupportsupportsupportsupportsupportsupportsupportsupporttechnicaltechnicaltechnicalmanagementITITITITITproduct_mngproduct_mngproduct_mngproduct_mngITmanagementmanagementmanagementmanagementmanagementmanagementITITproduct_mngproduct_mngproduct_mngproduct_mngITmanagementmanagementmanagementmanagementmanagementmanagementmarketingsalesaccountingsupporttechnicalmanagementmarketingmarketingmarketingsalessalessalessalessalessalessalessalessalessalessalessalessalessalessalessalessalessalessalesaccountingaccountingaccountinghrhrhrhrtechnicaltechnicaltechnicaltechnicaltechnicaltechnicaltechnicaltechnicaltechnicaltechnicaltechnicalsupportsupportsupportsupportsupportsupportsupportsupportsupportsupportsupporttechnicaltechnicaltechnicalmanagementITITITITITproduct_mngproduct_mngproduct_mngproduct_mngITmanagementmanagementmanagementmanagementmanagementmanagementsalessalessalessalessalessalessalessalessalessalessalessalessalessalessalessalessalessalessalessalessalessalessalessalessalessalessalessalessalessalessalessalessalessalesITproduct_mngproduct_mngproduct_mngproduct_mngITmanagementmanagementmanagementmanagementmanagementmanagementmarketingsalesaccountingsupporttechnicalmanagementmarketingmarketingmarketingsalessalessalessalessalessalessalessalesITproduct_mngproduct_mngproduct_mngproduct_mngITmanagementmanagementmanagementmanagementmanagementmanagementmarketingsalesaccountingsupporttechnicalmanagementmarketingmarketingmarketingsalessalessalessalessalessalessalesITproduct_mngproduct_mngproduct_mngproduct_mngITmanagementmanagementmanagementmanagementmanagementmanagementmarketingsalesaccountingsupporttechnicalmanagementmarketingmarketingmarketingsalessalessalessalessalessalessalessalesITproduct_mngproduct_mngproduct_mngproduct_mngITRandDRandDRandDRandDRandDRandDmarketingsalesaccountingsupporttechnicalmanagementmarketingmarketingmarketingsalessalessalessalessalessalessalessalestechnicalsupportsupportsupportsupportsupportsupportsupportsupportsupportsupportsupporttechnicaltechnicaltechnicalmanagementITITITITITproduct_mngproduct_mngproduct_mngproduct_mngITmanagementmanagementmanagementmanagementmanagementmanagementsalessalessalessalessalessalessalessalessalessalessalessalessalessalessalessalessalessalessalessalessalessalessalessalessalessalessalessalessalessalessalessalessalessalesITproduct_mngproduct_mngproduct_mngproduct_mngITmanagementmanagementmanagementmanagementmanagementmanagementmarketingsalesaccountingsupporttechnicalmanagementmarketingmarketingmarketingsalessalessalessalessalessalessalessalesITproduct_mngproduct_mngproduct_mngproduct_mngITmanagementmanagementmanagementmanagementmanagementmanagementmarketingsalesaccountingsupporttechnicalmanagementmarketingmarketingmarketingsalessalessalessalessalessalessalesITproduct_mngproduct_mngproduct_mngproduct_mngITmanagementmanagementmanagementmanagementmanagementmanagementmarketingsalesaccountingsupporttechnicalmanagementmarketingmarketingmarketingsalessalessalessalessalessalessalessalesITproduct_mngproduct_mngproduct_mngproduct_mngITRandDRandDRandDRandDRandDRandDmarketingsalesaccountingsupporttechnicalmanagementmarketingmarketingmarketingsalessalessalessalessalessalessalessalestechnicalsupportsupportsupportsupportsupportsupportsupportsupportsupportsupportsupporttechnicaltechnicaltechnicalmanagementITITITITITproduct_mngproduct_mngproduct_mngproduct_mngITmanagementmanagementmanagementmanagementmanagementmanagementsalessalessalessalessalessalessalessalessalessalessalessalessalessalessalessalessalessalessalessalessalessalessalessalessalessalessalessalessalessalessalessalessalessalesITproduct_mngproduct_mngproduct_mngproduct_mngITmanagementmanagementmanagementmanagementmanagementmanagementmarketingsalesaccountingsupporttechnicalmanagementmarketingmarketingmarketingsalessalessalessalessalessalessalessalesITproduct_mngproduct_mngproduct_mngproduct_mngITmanagementmanagementmanagementmanagementmanagementmanagementmarketingsalesaccountingsupporttechnicalmanagementmarketingmarketingmarketingsalessalessalessalessalessalessalesITproduct_mngproduct_mngproduct_mngproduct_mngITmanagementmanagementmanagementmanagementmanagementmanagementmarketingsalesaccountingsupporttechnicalmanagementmarketingmarketingmarketingsalessalessalessalessalessalessalessalesITproduct_mngproduct_mngproduct_mngproduct_mngITmanagementmanagementmanagementmanagementmanagementmanagementmarketingsalesaccountingsupporttechnicalmanagementmarketingmarketingmarketingsalessalessalessalessalessalessalessalestechnicalsupportsupportsupportsupportsupportsupportsupportsupportsupportsupportsupporttechnicaltechnicaltechnicalmanagementITITITITITproduct_mngproduct_mngproduct_mngproduct_mngITmanagementmanagementmanagementmanagementmanagementmanagementsalessalessalessalessalessalessalessalessalessalessalessalessalessalessalessalessalessalessalessalessalessalessalessalessalessalessalessalessalessalessalessalessalessalesITproduct_mngproduct_mngproduct_mngproduct_mngITmanagementmanagementmanagementmanagementmanagementmanagementmarketingsalesaccountingsupporttechnicalmanagementmarketingmarketingmarketingsalessalessalessalessalessalessalessalesITproduct_mngproduct_mngproduct_mngproduct_mngITITITITITITITmarketingaccountingaccountingITITmanagementmarketingmarketingmarketingsalessalessalessalessalessalessalesITproduct_mngproduct_mngproduct_mngproduct_mngITITmanagementmanagementmanagementmanagementmanagementmarketingITsalessalessalessalessalessalessalessalessalessalessalessalessalessalessalessalessalessalessalessalessalessalessalessalessalessalessalessalesaccountingaccountingaccountinghrhrhrhrtechnicaltechnicaltechnicaltechnicaltechnicaltechnicaltechnicaltechnicaltechnicaltechnicaltechnicalsupportsupportsupportsupportsupportsupportsupportsupportsupportsupportsupporttechnicaltechnicaltechnicalmanagementITITITITITproduct_mngproduct_mngproduct_mngproduct_mngITproduct_mngproduct_mngproduct_mngproduct_mngproduct_mngproduct_mngmarketingsalesaccountingsupporttechnicalmanagementmarketingmarketingmarketingsalessalessalessalessalessalessalessalessalessalessalessalessalessalessalessalessalessalessalesaccountingaccountingaccountinghrhrhrhrtechnicaltechnicaltechnicaltechnicaltechnicaltechnicaltechnicaltechnicaltechnicaltechnicaltechnicalsupportsupportsupportsupportsupportsupportsupportsupportsupportsupportsupporttechnicaltechnicaltechnicalmanagementITITITITITproduct_mngproduct_mngproduct_mngproduct_mngITmarketingmarketingmarketingmarketingmarketingmarketingsalesaccountingsupporttechnicalmanagementmarketingmarketingmarketingsalessalessalessalessalessalessalessalessalessalessalessalessalessalessalessalessalessalessalesaccountingaccountingaccountinghrhrhrhrtechnicaltechnicaltechnicaltechnicaltechnicaltechnicaltechnicaltechnicaltechnicaltechnicaltechnicalsupportsupportsupportsupportsupportsupportsupportsupportsupportsupportsupporttechnicaltechnicaltechnicalmanagementITITITITITproduct_mngproduct_mngproduct_mngproduct_mngITaccountingaccountinghrhrhrmarketingmarketingsalesaccountingsupporttechnicalmanagementmarketingmarketingmarketingsalessalessalessalessalessalessalessalessalessalessalessalessalessalessalessalessalessalessalesaccountingaccountingaccountinghrhrhrhrtechnicaltechnicaltechnicaltechnicaltechnicaltechnicaltechnicaltechnicaltechnicaltechnicaltechnicalsupportsupportsupportsupportsupportsupportsupportsupportsupportsupportsupporttechnicaltechnicaltechnicalmanagementITITITITITproduct_mngproduct_mngproduct_mngproduct_mngITRandDRandDRandDRandDRandDmarketingsalesaccountingsupporttechnicalmanagementmarketingmarketingmarketingsalessalessalessalessalessalessalessalessalessalessalessalessalessalessalessalessalessalessalesaccountingaccountingaccountinghrhrhrhrtechnicaltechnicaltechnicaltechnicaltechnicaltechnicaltechnicaltechnicaltechnicaltechnicaltechnicalsupportsupportsupportsupportsupportsupportsupportsupportsupportsupportsupporttechnicaltechnicaltechnicalmanagementITITITITITproduct_mngproduct_mngproduct_mngproduct_mngITaccountingaccountinghrhrhrmarketingsalesaccountingsupporttechnicalmanagementmarketingmarketingmarketingsalessalessalessalessalessalessalessalessalessalessalessalessalessalessalessalessalessalessalesaccountingaccountingaccountinghrhrhrhrtechnicaltechnicaltechnicaltechnicaltechnicaltechnicaltechnicaltechnicaltechnicaltechnicaltechnicalsupportsupportsupportsupportsupportsupportsupportsupportsupportsupportsupporttechnicaltechnicaltechnicalmanagementITITITITITproduct_mngproduct_mngproduct_mngproduct_mngITRandDRandDRandDRandDRandDmarketingsalesaccountingsupporttechnicalmanagementmarketingmarketingmarketingsalessalessalessalessalessalessalessalessalessalessalessalessalessalessalessalessalessalessalesaccountingaccountingaccountinghrhrhrhrtechnicaltechnicaltechnicaltechnicaltechnicaltechnicaltechnicaltechnicaltechnicaltechnicaltechnicalsupportsupportsupportsupportsupportsupportsupportsupportsupportsupportsupporttechnicaltechnicaltechnicalmanagementITITITITITproduct_mngproduct_mngproduct_mngproduct_mngITaccountingaccountinghrhrhrmarketingsalesaccountingsupporttechnicalmanagementmarketingmarketingmarketingsalessalessalessalessalessalessalessalessalessalessalessalessalessalessalessalessalessalessalesaccountingaccountingaccountinghrhrhrhrtechnicaltechnicaltechnicaltechnicaltechnicaltechnicaltechnicaltechnicaltechnicaltechnicaltechnicalsupportsupportsupportsupportsupportsupportsupportsupportsupportsupportsupporttechnicaltechnicaltechnicalmanagementITITITITITproduct_mngproduct_mngproduct_mngproduct_mngITRandDRandDRandDRandDRandDmarketingsalesaccountingsupporttechnicalmanagementmarketingmarketingmarketingsalessalessalessalessalessalessalessalessalessalessalessalessalessalessalessalessalessalessalesaccountingaccountingaccountinghrhrhrhrtechnicaltechnicaltechnicaltechnicaltechnicaltechnicaltechnicaltechnicaltechnicaltechnicaltechnicalsupportsupportsupportsupportsupportsupportmanagementmarketingmarketingmarketingsalessalessalessalessalessalessalessalessalessalessalessalessalessalessalessalessalessalessalesaccountingaccountingaccountinghrhrhrhrtechnicaltechnicaltechnicaltechnicaltechnicaltechnicaltechnicaltechnicaltechnicaltechnicaltechnicalsupportsupportsupportsupportsupportsupportsupportsupportsupportsupportsupporttechnicaltechnicaltechnicalmanagementITITITITITproduct_mngproduct_mngproduct_mngproduct_mngITRandDRandDRandDRandDRandDmarketingsalesaccountingsupporttechnicalmanagementmarketingmarketingmarketingsalessalessalessalessalessalessalessalessalessalessalessalessalessalessalessalessalessalessalesaccountingaccountingaccountinghrhrhrhrtechnicaltechnicaltechnicaltechnicaltechnicaltechnicaltechnicaltechnicaltechnicaltechnicaltechnicalsupportsupportsupportsupportsupportsupportsupportsupportsupport'] to numeric",
     "output_type": "error",
     "traceback": [
      "\u001b[0;31m---------------------------------------------------------------------------\u001b[0m",
      "\u001b[0;31mTypeError\u001b[0m                                 Traceback (most recent call last)",
      "Cell \u001b[0;32mIn[83], line 3\u001b[0m\n\u001b[1;32m      1\u001b[0m \u001b[38;5;66;03m# 1. compute mean of dataframe (axis = 0)\u001b[39;00m\n\u001b[0;32m----> 3\u001b[0m \u001b[43mdf_hr\u001b[49m\u001b[38;5;241;43m.\u001b[39;49m\u001b[43mmean\u001b[49m\u001b[43m(\u001b[49m\u001b[43maxis\u001b[49m\u001b[38;5;241;43m=\u001b[39;49m\u001b[38;5;241;43m0\u001b[39;49m\u001b[43m)\u001b[49m\n",
      "File \u001b[0;32m~/.local/lib/python3.10/site-packages/pandas/core/frame.py:11680\u001b[0m, in \u001b[0;36mDataFrame.mean\u001b[0;34m(self, axis, skipna, numeric_only, **kwargs)\u001b[0m\n\u001b[1;32m  11672\u001b[0m \u001b[38;5;129m@doc\u001b[39m(make_doc(\u001b[38;5;124m\"\u001b[39m\u001b[38;5;124mmean\u001b[39m\u001b[38;5;124m\"\u001b[39m, ndim\u001b[38;5;241m=\u001b[39m\u001b[38;5;241m2\u001b[39m))\n\u001b[1;32m  11673\u001b[0m \u001b[38;5;28;01mdef\u001b[39;00m \u001b[38;5;21mmean\u001b[39m(\n\u001b[1;32m  11674\u001b[0m     \u001b[38;5;28mself\u001b[39m,\n\u001b[0;32m   (...)\u001b[0m\n\u001b[1;32m  11678\u001b[0m     \u001b[38;5;241m*\u001b[39m\u001b[38;5;241m*\u001b[39mkwargs,\n\u001b[1;32m  11679\u001b[0m ):\n\u001b[0;32m> 11680\u001b[0m     result \u001b[38;5;241m=\u001b[39m \u001b[38;5;28;43msuper\u001b[39;49m\u001b[43m(\u001b[49m\u001b[43m)\u001b[49m\u001b[38;5;241;43m.\u001b[39;49m\u001b[43mmean\u001b[49m\u001b[43m(\u001b[49m\u001b[43maxis\u001b[49m\u001b[43m,\u001b[49m\u001b[43m \u001b[49m\u001b[43mskipna\u001b[49m\u001b[43m,\u001b[49m\u001b[43m \u001b[49m\u001b[43mnumeric_only\u001b[49m\u001b[43m,\u001b[49m\u001b[43m \u001b[49m\u001b[38;5;241;43m*\u001b[39;49m\u001b[38;5;241;43m*\u001b[39;49m\u001b[43mkwargs\u001b[49m\u001b[43m)\u001b[49m\n\u001b[1;32m  11681\u001b[0m     \u001b[38;5;28;01mif\u001b[39;00m \u001b[38;5;28misinstance\u001b[39m(result, Series):\n\u001b[1;32m  11682\u001b[0m         result \u001b[38;5;241m=\u001b[39m result\u001b[38;5;241m.\u001b[39m__finalize__(\u001b[38;5;28mself\u001b[39m, method\u001b[38;5;241m=\u001b[39m\u001b[38;5;124m\"\u001b[39m\u001b[38;5;124mmean\u001b[39m\u001b[38;5;124m\"\u001b[39m)\n",
      "File \u001b[0;32m~/.local/lib/python3.10/site-packages/pandas/core/generic.py:12417\u001b[0m, in \u001b[0;36mNDFrame.mean\u001b[0;34m(self, axis, skipna, numeric_only, **kwargs)\u001b[0m\n\u001b[1;32m  12410\u001b[0m \u001b[38;5;28;01mdef\u001b[39;00m \u001b[38;5;21mmean\u001b[39m(\n\u001b[1;32m  12411\u001b[0m     \u001b[38;5;28mself\u001b[39m,\n\u001b[1;32m  12412\u001b[0m     axis: Axis \u001b[38;5;241m|\u001b[39m \u001b[38;5;28;01mNone\u001b[39;00m \u001b[38;5;241m=\u001b[39m \u001b[38;5;241m0\u001b[39m,\n\u001b[0;32m   (...)\u001b[0m\n\u001b[1;32m  12415\u001b[0m     \u001b[38;5;241m*\u001b[39m\u001b[38;5;241m*\u001b[39mkwargs,\n\u001b[1;32m  12416\u001b[0m ) \u001b[38;5;241m-\u001b[39m\u001b[38;5;241m>\u001b[39m Series \u001b[38;5;241m|\u001b[39m \u001b[38;5;28mfloat\u001b[39m:\n\u001b[0;32m> 12417\u001b[0m     \u001b[38;5;28;01mreturn\u001b[39;00m \u001b[38;5;28;43mself\u001b[39;49m\u001b[38;5;241;43m.\u001b[39;49m\u001b[43m_stat_function\u001b[49m\u001b[43m(\u001b[49m\n\u001b[1;32m  12418\u001b[0m \u001b[43m        \u001b[49m\u001b[38;5;124;43m\"\u001b[39;49m\u001b[38;5;124;43mmean\u001b[39;49m\u001b[38;5;124;43m\"\u001b[39;49m\u001b[43m,\u001b[49m\u001b[43m \u001b[49m\u001b[43mnanops\u001b[49m\u001b[38;5;241;43m.\u001b[39;49m\u001b[43mnanmean\u001b[49m\u001b[43m,\u001b[49m\u001b[43m \u001b[49m\u001b[43maxis\u001b[49m\u001b[43m,\u001b[49m\u001b[43m \u001b[49m\u001b[43mskipna\u001b[49m\u001b[43m,\u001b[49m\u001b[43m \u001b[49m\u001b[43mnumeric_only\u001b[49m\u001b[43m,\u001b[49m\u001b[43m \u001b[49m\u001b[38;5;241;43m*\u001b[39;49m\u001b[38;5;241;43m*\u001b[39;49m\u001b[43mkwargs\u001b[49m\n\u001b[1;32m  12419\u001b[0m \u001b[43m    \u001b[49m\u001b[43m)\u001b[49m\n",
      "File \u001b[0;32m~/.local/lib/python3.10/site-packages/pandas/core/generic.py:12374\u001b[0m, in \u001b[0;36mNDFrame._stat_function\u001b[0;34m(self, name, func, axis, skipna, numeric_only, **kwargs)\u001b[0m\n\u001b[1;32m  12370\u001b[0m nv\u001b[38;5;241m.\u001b[39mvalidate_func(name, (), kwargs)\n\u001b[1;32m  12372\u001b[0m validate_bool_kwarg(skipna, \u001b[38;5;124m\"\u001b[39m\u001b[38;5;124mskipna\u001b[39m\u001b[38;5;124m\"\u001b[39m, none_allowed\u001b[38;5;241m=\u001b[39m\u001b[38;5;28;01mFalse\u001b[39;00m)\n\u001b[0;32m> 12374\u001b[0m \u001b[38;5;28;01mreturn\u001b[39;00m \u001b[38;5;28;43mself\u001b[39;49m\u001b[38;5;241;43m.\u001b[39;49m\u001b[43m_reduce\u001b[49m\u001b[43m(\u001b[49m\n\u001b[1;32m  12375\u001b[0m \u001b[43m    \u001b[49m\u001b[43mfunc\u001b[49m\u001b[43m,\u001b[49m\u001b[43m \u001b[49m\u001b[43mname\u001b[49m\u001b[38;5;241;43m=\u001b[39;49m\u001b[43mname\u001b[49m\u001b[43m,\u001b[49m\u001b[43m \u001b[49m\u001b[43maxis\u001b[49m\u001b[38;5;241;43m=\u001b[39;49m\u001b[43maxis\u001b[49m\u001b[43m,\u001b[49m\u001b[43m \u001b[49m\u001b[43mskipna\u001b[49m\u001b[38;5;241;43m=\u001b[39;49m\u001b[43mskipna\u001b[49m\u001b[43m,\u001b[49m\u001b[43m \u001b[49m\u001b[43mnumeric_only\u001b[49m\u001b[38;5;241;43m=\u001b[39;49m\u001b[43mnumeric_only\u001b[49m\n\u001b[1;32m  12376\u001b[0m \u001b[43m\u001b[49m\u001b[43m)\u001b[49m\n",
      "File \u001b[0;32m~/.local/lib/python3.10/site-packages/pandas/core/frame.py:11549\u001b[0m, in \u001b[0;36mDataFrame._reduce\u001b[0;34m(self, op, name, axis, skipna, numeric_only, filter_type, **kwds)\u001b[0m\n\u001b[1;32m  11545\u001b[0m     df \u001b[38;5;241m=\u001b[39m df\u001b[38;5;241m.\u001b[39mT\n\u001b[1;32m  11547\u001b[0m \u001b[38;5;66;03m# After possibly _get_data and transposing, we are now in the\u001b[39;00m\n\u001b[1;32m  11548\u001b[0m \u001b[38;5;66;03m#  simple case where we can use BlockManager.reduce\u001b[39;00m\n\u001b[0;32m> 11549\u001b[0m res \u001b[38;5;241m=\u001b[39m \u001b[43mdf\u001b[49m\u001b[38;5;241;43m.\u001b[39;49m\u001b[43m_mgr\u001b[49m\u001b[38;5;241;43m.\u001b[39;49m\u001b[43mreduce\u001b[49m\u001b[43m(\u001b[49m\u001b[43mblk_func\u001b[49m\u001b[43m)\u001b[49m\n\u001b[1;32m  11550\u001b[0m out \u001b[38;5;241m=\u001b[39m df\u001b[38;5;241m.\u001b[39m_constructor_from_mgr(res, axes\u001b[38;5;241m=\u001b[39mres\u001b[38;5;241m.\u001b[39maxes)\u001b[38;5;241m.\u001b[39miloc[\u001b[38;5;241m0\u001b[39m]\n\u001b[1;32m  11551\u001b[0m \u001b[38;5;28;01mif\u001b[39;00m out_dtype \u001b[38;5;129;01mis\u001b[39;00m \u001b[38;5;129;01mnot\u001b[39;00m \u001b[38;5;28;01mNone\u001b[39;00m \u001b[38;5;129;01mand\u001b[39;00m out\u001b[38;5;241m.\u001b[39mdtype \u001b[38;5;241m!=\u001b[39m \u001b[38;5;124m\"\u001b[39m\u001b[38;5;124mboolean\u001b[39m\u001b[38;5;124m\"\u001b[39m:\n",
      "File \u001b[0;32m~/.local/lib/python3.10/site-packages/pandas/core/internals/managers.py:1500\u001b[0m, in \u001b[0;36mBlockManager.reduce\u001b[0;34m(self, func)\u001b[0m\n\u001b[1;32m   1498\u001b[0m res_blocks: \u001b[38;5;28mlist\u001b[39m[Block] \u001b[38;5;241m=\u001b[39m []\n\u001b[1;32m   1499\u001b[0m \u001b[38;5;28;01mfor\u001b[39;00m blk \u001b[38;5;129;01min\u001b[39;00m \u001b[38;5;28mself\u001b[39m\u001b[38;5;241m.\u001b[39mblocks:\n\u001b[0;32m-> 1500\u001b[0m     nbs \u001b[38;5;241m=\u001b[39m \u001b[43mblk\u001b[49m\u001b[38;5;241;43m.\u001b[39;49m\u001b[43mreduce\u001b[49m\u001b[43m(\u001b[49m\u001b[43mfunc\u001b[49m\u001b[43m)\u001b[49m\n\u001b[1;32m   1501\u001b[0m     res_blocks\u001b[38;5;241m.\u001b[39mextend(nbs)\n\u001b[1;32m   1503\u001b[0m index \u001b[38;5;241m=\u001b[39m Index([\u001b[38;5;28;01mNone\u001b[39;00m])  \u001b[38;5;66;03m# placeholder\u001b[39;00m\n",
      "File \u001b[0;32m~/.local/lib/python3.10/site-packages/pandas/core/internals/blocks.py:404\u001b[0m, in \u001b[0;36mBlock.reduce\u001b[0;34m(self, func)\u001b[0m\n\u001b[1;32m    398\u001b[0m \u001b[38;5;129m@final\u001b[39m\n\u001b[1;32m    399\u001b[0m \u001b[38;5;28;01mdef\u001b[39;00m \u001b[38;5;21mreduce\u001b[39m(\u001b[38;5;28mself\u001b[39m, func) \u001b[38;5;241m-\u001b[39m\u001b[38;5;241m>\u001b[39m \u001b[38;5;28mlist\u001b[39m[Block]:\n\u001b[1;32m    400\u001b[0m     \u001b[38;5;66;03m# We will apply the function and reshape the result into a single-row\u001b[39;00m\n\u001b[1;32m    401\u001b[0m     \u001b[38;5;66;03m#  Block with the same mgr_locs; squeezing will be done at a higher level\u001b[39;00m\n\u001b[1;32m    402\u001b[0m     \u001b[38;5;28;01massert\u001b[39;00m \u001b[38;5;28mself\u001b[39m\u001b[38;5;241m.\u001b[39mndim \u001b[38;5;241m==\u001b[39m \u001b[38;5;241m2\u001b[39m\n\u001b[0;32m--> 404\u001b[0m     result \u001b[38;5;241m=\u001b[39m \u001b[43mfunc\u001b[49m\u001b[43m(\u001b[49m\u001b[38;5;28;43mself\u001b[39;49m\u001b[38;5;241;43m.\u001b[39;49m\u001b[43mvalues\u001b[49m\u001b[43m)\u001b[49m\n\u001b[1;32m    406\u001b[0m     \u001b[38;5;28;01mif\u001b[39;00m \u001b[38;5;28mself\u001b[39m\u001b[38;5;241m.\u001b[39mvalues\u001b[38;5;241m.\u001b[39mndim \u001b[38;5;241m==\u001b[39m \u001b[38;5;241m1\u001b[39m:\n\u001b[1;32m    407\u001b[0m         res_values \u001b[38;5;241m=\u001b[39m result\n",
      "File \u001b[0;32m~/.local/lib/python3.10/site-packages/pandas/core/frame.py:11468\u001b[0m, in \u001b[0;36mDataFrame._reduce.<locals>.blk_func\u001b[0;34m(values, axis)\u001b[0m\n\u001b[1;32m  11466\u001b[0m         \u001b[38;5;28;01mreturn\u001b[39;00m np\u001b[38;5;241m.\u001b[39marray([result])\n\u001b[1;32m  11467\u001b[0m \u001b[38;5;28;01melse\u001b[39;00m:\n\u001b[0;32m> 11468\u001b[0m     \u001b[38;5;28;01mreturn\u001b[39;00m \u001b[43mop\u001b[49m\u001b[43m(\u001b[49m\u001b[43mvalues\u001b[49m\u001b[43m,\u001b[49m\u001b[43m \u001b[49m\u001b[43maxis\u001b[49m\u001b[38;5;241;43m=\u001b[39;49m\u001b[43maxis\u001b[49m\u001b[43m,\u001b[49m\u001b[43m \u001b[49m\u001b[43mskipna\u001b[49m\u001b[38;5;241;43m=\u001b[39;49m\u001b[43mskipna\u001b[49m\u001b[43m,\u001b[49m\u001b[43m \u001b[49m\u001b[38;5;241;43m*\u001b[39;49m\u001b[38;5;241;43m*\u001b[39;49m\u001b[43mkwds\u001b[49m\u001b[43m)\u001b[49m\n",
      "File \u001b[0;32m~/.local/lib/python3.10/site-packages/pandas/core/nanops.py:147\u001b[0m, in \u001b[0;36mbottleneck_switch.__call__.<locals>.f\u001b[0;34m(values, axis, skipna, **kwds)\u001b[0m\n\u001b[1;32m    145\u001b[0m         result \u001b[38;5;241m=\u001b[39m alt(values, axis\u001b[38;5;241m=\u001b[39maxis, skipna\u001b[38;5;241m=\u001b[39mskipna, \u001b[38;5;241m*\u001b[39m\u001b[38;5;241m*\u001b[39mkwds)\n\u001b[1;32m    146\u001b[0m \u001b[38;5;28;01melse\u001b[39;00m:\n\u001b[0;32m--> 147\u001b[0m     result \u001b[38;5;241m=\u001b[39m \u001b[43malt\u001b[49m\u001b[43m(\u001b[49m\u001b[43mvalues\u001b[49m\u001b[43m,\u001b[49m\u001b[43m \u001b[49m\u001b[43maxis\u001b[49m\u001b[38;5;241;43m=\u001b[39;49m\u001b[43maxis\u001b[49m\u001b[43m,\u001b[49m\u001b[43m \u001b[49m\u001b[43mskipna\u001b[49m\u001b[38;5;241;43m=\u001b[39;49m\u001b[43mskipna\u001b[49m\u001b[43m,\u001b[49m\u001b[43m \u001b[49m\u001b[38;5;241;43m*\u001b[39;49m\u001b[38;5;241;43m*\u001b[39;49m\u001b[43mkwds\u001b[49m\u001b[43m)\u001b[49m\n\u001b[1;32m    149\u001b[0m \u001b[38;5;28;01mreturn\u001b[39;00m result\n",
      "File \u001b[0;32m~/.local/lib/python3.10/site-packages/pandas/core/nanops.py:404\u001b[0m, in \u001b[0;36m_datetimelike_compat.<locals>.new_func\u001b[0;34m(values, axis, skipna, mask, **kwargs)\u001b[0m\n\u001b[1;32m    401\u001b[0m \u001b[38;5;28;01mif\u001b[39;00m datetimelike \u001b[38;5;129;01mand\u001b[39;00m mask \u001b[38;5;129;01mis\u001b[39;00m \u001b[38;5;28;01mNone\u001b[39;00m:\n\u001b[1;32m    402\u001b[0m     mask \u001b[38;5;241m=\u001b[39m isna(values)\n\u001b[0;32m--> 404\u001b[0m result \u001b[38;5;241m=\u001b[39m \u001b[43mfunc\u001b[49m\u001b[43m(\u001b[49m\u001b[43mvalues\u001b[49m\u001b[43m,\u001b[49m\u001b[43m \u001b[49m\u001b[43maxis\u001b[49m\u001b[38;5;241;43m=\u001b[39;49m\u001b[43maxis\u001b[49m\u001b[43m,\u001b[49m\u001b[43m \u001b[49m\u001b[43mskipna\u001b[49m\u001b[38;5;241;43m=\u001b[39;49m\u001b[43mskipna\u001b[49m\u001b[43m,\u001b[49m\u001b[43m \u001b[49m\u001b[43mmask\u001b[49m\u001b[38;5;241;43m=\u001b[39;49m\u001b[43mmask\u001b[49m\u001b[43m,\u001b[49m\u001b[43m \u001b[49m\u001b[38;5;241;43m*\u001b[39;49m\u001b[38;5;241;43m*\u001b[39;49m\u001b[43mkwargs\u001b[49m\u001b[43m)\u001b[49m\n\u001b[1;32m    406\u001b[0m \u001b[38;5;28;01mif\u001b[39;00m datetimelike:\n\u001b[1;32m    407\u001b[0m     result \u001b[38;5;241m=\u001b[39m _wrap_results(result, orig_values\u001b[38;5;241m.\u001b[39mdtype, fill_value\u001b[38;5;241m=\u001b[39miNaT)\n",
      "File \u001b[0;32m~/.local/lib/python3.10/site-packages/pandas/core/nanops.py:720\u001b[0m, in \u001b[0;36mnanmean\u001b[0;34m(values, axis, skipna, mask)\u001b[0m\n\u001b[1;32m    718\u001b[0m count \u001b[38;5;241m=\u001b[39m _get_counts(values\u001b[38;5;241m.\u001b[39mshape, mask, axis, dtype\u001b[38;5;241m=\u001b[39mdtype_count)\n\u001b[1;32m    719\u001b[0m the_sum \u001b[38;5;241m=\u001b[39m values\u001b[38;5;241m.\u001b[39msum(axis, dtype\u001b[38;5;241m=\u001b[39mdtype_sum)\n\u001b[0;32m--> 720\u001b[0m the_sum \u001b[38;5;241m=\u001b[39m \u001b[43m_ensure_numeric\u001b[49m\u001b[43m(\u001b[49m\u001b[43mthe_sum\u001b[49m\u001b[43m)\u001b[49m\n\u001b[1;32m    722\u001b[0m \u001b[38;5;28;01mif\u001b[39;00m axis \u001b[38;5;129;01mis\u001b[39;00m \u001b[38;5;129;01mnot\u001b[39;00m \u001b[38;5;28;01mNone\u001b[39;00m \u001b[38;5;129;01mand\u001b[39;00m \u001b[38;5;28mgetattr\u001b[39m(the_sum, \u001b[38;5;124m\"\u001b[39m\u001b[38;5;124mndim\u001b[39m\u001b[38;5;124m\"\u001b[39m, \u001b[38;5;28;01mFalse\u001b[39;00m):\n\u001b[1;32m    723\u001b[0m     count \u001b[38;5;241m=\u001b[39m cast(np\u001b[38;5;241m.\u001b[39mndarray, count)\n",
      "File \u001b[0;32m~/.local/lib/python3.10/site-packages/pandas/core/nanops.py:1686\u001b[0m, in \u001b[0;36m_ensure_numeric\u001b[0;34m(x)\u001b[0m\n\u001b[1;32m   1683\u001b[0m inferred \u001b[38;5;241m=\u001b[39m lib\u001b[38;5;241m.\u001b[39minfer_dtype(x)\n\u001b[1;32m   1684\u001b[0m \u001b[38;5;28;01mif\u001b[39;00m inferred \u001b[38;5;129;01min\u001b[39;00m [\u001b[38;5;124m\"\u001b[39m\u001b[38;5;124mstring\u001b[39m\u001b[38;5;124m\"\u001b[39m, \u001b[38;5;124m\"\u001b[39m\u001b[38;5;124mmixed\u001b[39m\u001b[38;5;124m\"\u001b[39m]:\n\u001b[1;32m   1685\u001b[0m     \u001b[38;5;66;03m# GH#44008, GH#36703 avoid casting e.g. strings to numeric\u001b[39;00m\n\u001b[0;32m-> 1686\u001b[0m     \u001b[38;5;28;01mraise\u001b[39;00m \u001b[38;5;167;01mTypeError\u001b[39;00m(\u001b[38;5;124mf\u001b[39m\u001b[38;5;124m\"\u001b[39m\u001b[38;5;124mCould not convert \u001b[39m\u001b[38;5;132;01m{\u001b[39;00mx\u001b[38;5;132;01m}\u001b[39;00m\u001b[38;5;124m to numeric\u001b[39m\u001b[38;5;124m\"\u001b[39m)\n\u001b[1;32m   1687\u001b[0m \u001b[38;5;28;01mtry\u001b[39;00m:\n\u001b[1;32m   1688\u001b[0m     x \u001b[38;5;241m=\u001b[39m x\u001b[38;5;241m.\u001b[39mastype(np\u001b[38;5;241m.\u001b[39mcomplex128)\n",
      "\u001b[0;31mTypeError\u001b[0m: Could not convert ['salessalessalessalessalessalessalessalessalessalessalessalessalessalessalessalessalessalessalessalessalessalessalessalessalessalessalessalesaccountingaccountingaccountinghrhrhrhrtechnicaltechnicaltechnicaltechnicaltechnicaltechnicaltechnicaltechnicaltechnicaltechnicaltechnicalsupportsupportsupportsupportsupportsupportsupportsupportsupportsupportsupporttechnicaltechnicaltechnicalmanagementITITITITITproduct_mngproduct_mngproduct_mngproduct_mngITproduct_mngproduct_mngproduct_mngproduct_mngproduct_mngproduct_mngmarketingsalesaccountingsupporttechnicalmanagementmarketingmarketingmarketingsalessalessalessalessalessalessalessalessalessalessalessalessalessalessalessalessalessalessalesaccountingaccountingaccountinghrhrhrhrtechnicaltechnicaltechnicaltechnicaltechnicaltechnicaltechnicaltechnicaltechnicaltechnicaltechnicalsupportsupportsupportsupportsupportsupportsupportsupportsupportsupportsupporttechnicaltechnicaltechnicalmanagementITITITITITproduct_mngproduct_mngproduct_mngproduct_mngITmarketingmarketingmarketingmarketingmarketingmarketingsalesaccountingsupporttechnicalmanagementmarketingmarketingmarketingsalessalessalessalessalessalessalessalessalessalessalessalessalessalessalessalessalessalessalesaccountingaccountingaccountinghrhrhrhrtechnicaltechnicaltechnicaltechnicaltechnicaltechnicaltechnicaltechnicaltechnicaltechnicaltechnicalsupportsupportsupportsupportsupportsupportsupportsupportsupportsupportsupporttechnicaltechnicaltechnicalmanagementITITITITITproduct_mngproduct_mngproduct_mngproduct_mngITaccountingaccountinghrhrhrmarketingmarketingsalesaccountingsupporttechnicalmanagementmarketingmarketingmarketingsalessalessalessalessalessalessalessalessalessalessalessalessalessalessalessalessalessalessalesaccountingaccountingaccountinghrhrhrhrtechnicaltechnicaltechnicaltechnicaltechnicaltechnicaltechnicaltechnicaltechnicaltechnicaltechnicalsupportsupportsupportsupportsupportsupportsupportsupportsupportsupportsupporttechnicaltechnicaltechnicalmanagementITITITITITproduct_mngproduct_mngproduct_mngproduct_mngITRandDRandDRandDRandDRandDmarketingsalesaccountingsupporttechnicalmanagementmarketingmarketingmarketingsalessalessalessalessalessalessalessalessalessalessalessalessalessalessalessalessalessalessalesaccountingaccountingaccountinghrhrhrhrtechnicaltechnicaltechnicaltechnicaltechnicaltechnicaltechnicaltechnicaltechnicaltechnicaltechnicalsupportsupportsupportsupportsupportsupportsupportsupportsupportsupportsupporttechnicaltechnicaltechnicalmanagementITITITITITproduct_mngproduct_mngproduct_mngproduct_mngITaccountingaccountinghrhrhrmarketingsalesaccountingsupporttechnicalmanagementmarketingmarketingmarketingsalessalessalessalessalessalessalessalessalessalessalessalessalessalessalessalessalessalessalesaccountingaccountingaccountinghrhrhrhrtechnicaltechnicaltechnicaltechnicaltechnicaltechnicaltechnicaltechnicaltechnicaltechnicaltechnicalsupportsupportsupportsupportsupportsupportsupportsupportsupportsupportsupporttechnicaltechnicaltechnicalmanagementITITITITITproduct_mngproduct_mngproduct_mngproduct_mngITRandDRandDRandDRandDRandDmarketingsalesaccountingsupporttechnicalmanagementmarketingmarketingmarketingsalessalessalessalessalessalessalessalessalessalessalessalessalessalessalessalessalessalessalesaccountingaccountingaccountinghrhrhrhrtechnicaltechnicaltechnicaltechnicaltechnicaltechnicaltechnicaltechnicaltechnicaltechnicaltechnicalsupportsupportsupportsupportsupportsupportsupportsupportsupportsupportsupporttechnicaltechnicaltechnicalmanagementITITITITITproduct_mngproduct_mngproduct_mngproduct_mngITaccountingaccountinghrhrhrmarketingsalesaccountingsupporttechnicalmanagementmarketingmarketingmarketingsalessalessalessalessalessalessalessalessalessalessalessalessalessalessalessalessalessalessalesaccountingaccountingaccountinghrhrhrhrtechnicaltechnicaltechnicaltechnicaltechnicaltechnicaltechnicaltechnicaltechnicaltechnicaltechnicalsupportsupportsupportsupportsupportsupportsupportsupportsupportsupportsupporttechnicaltechnicaltechnicalmanagementITITITITITproduct_mngproduct_mngproduct_mngproduct_mngITRandDRandDRandDRandDRandDmarketingsalesaccountingsupporttechnicalmanagementmarketingmarketingmarketingsalessalessalessalessalessalessalessalessalessalessalessalessalessalessalessalessalessalessalesaccountingaccountingaccountinghrhrhrhrtechnicaltechnicaltechnicaltechnicaltechnicaltechnicaltechnicaltechnicaltechnicaltechnicaltechnicalsupportsupportsupportsupportsupportsupportsupportsupportsupportsupportsupporttechnicaltechnicaltechnicalmanagementITITITITITproduct_mngproduct_mngproduct_mngproduct_mngITsalessalessalessalessalesmarketingsalesaccountingsupporttechnicalmanagementmarketingmarketingmarketingsalessalessalessalessalessalessalessalessalessalessalessalessalessalessalessalessalessalessalesaccountingaccountingaccountinghrhrhrhrtechnicaltechnicaltechnicaltechnicaltechnicaltechnicaltechnicaltechnicaltechnicaltechnicaltechnicalsupportsupportsupportsupportsupportsupportsupportsupportsupportsupportsupporttechnicaltechnicaltechnicalmanagementITITITITITproduct_mngproduct_mngproduct_mngproduct_mngITsalessalessalessalessalesmarketingsalesaccountingsupporttechnicalmanagementmarketingmarketingmarketingsalessalessalessalessalessalessalessalessalessalessalessalessalessalessalessalessalessalessalesaccountingaccountingaccountinghrhrhrhrtechnicaltechnicaltechnicaltechnicaltechnicaltechnicaltechnicaltechnicaltechnicaltechnicaltechnicalsupportsupportsupportsupportsupportsupportsupportsupportsupportsupportsupporttechnicaltechnicaltechnicalmanagementITITITITITproduct_mngproduct_mngproduct_mngproduct_mngITRandDRandDRandDRandDRandDmarketingsalesaccountingsupporttechnicalmanagementmarketingmarketingmarketingsalessalessalessalessalessalessalessalessalessalessalessalessalessalessalessalessalessalessalesaccountingaccountingaccountinghrhrhrhrtechnicaltechnicaltechnicaltechnicaltechnicaltechnicaltechnicaltechnicaltechnicaltechnicaltechnicalsupportsupportsupportsupportsupportsupportsupportsupportsupportsupportsupporttechnicaltechnicaltechnicalmanagementITITITITITproduct_mngproduct_mngproduct_mngproduct_mngITsalessalessalessalessalesmarketingsalesaccountingsupporttechnicalmanagementmarketingmarketingmarketingsalessalessalessalessalessalessalessalessalessalessalessalessalessalessalessalessalessalessalesaccountingaccountingaccountinghrhrhrhrtechnicaltechnicaltechnicaltechnicaltechnicaltechnicaltechnicaltechnicaltechnicaltechnicaltechnicalsupportsupportsupportsupportsupportsupportsupportsupportsupportsupportsupporttechnicaltechnicaltechnicalmanagementITITITITITproduct_mngproduct_mngproduct_mngproduct_mngITRandDRandDRandDRandDRandDmarketingsalesaccountingsupporttechnicalmanagementmarketingmarketingmarketingsalessalessalessalessalessalessalessalessalessalessalessalessalessalessalessalessalessalessalesaccountingaccountingaccountinghrhrhrhrtechnicaltechnicaltechnicaltechnicaltechnicaltechnicaltechnicaltechnicaltechnicaltechnicaltechnicalsupportsupportsupportsupportsupportsupportsupportsupportsupportsupportsupporttechnicaltechnicaltechnicalmanagementITITITITITproduct_mngproduct_mngproduct_mngproduct_mngITRandDRandDRandDRandDRandDmarketingsalesaccountingsupporttechnicalmanagementmarketingmarketingmarketingsalessalessalessalessalessalessalessalessalessalessalessalessalessalessalessalessalessalessalesaccountingaccountingaccountinghrhrhrhrtechnicaltechnicaltechnicaltechnicaltechnicaltechnicaltechnicaltechnicaltechnicaltechnicaltechnicalsupportsupportsupportsupportsupportsupportsupportsupportsupportsupportsupporttechnicaltechnicaltechnicalmanagementITITITITITproduct_mngproduct_mngproduct_mngproduct_mngITsalessalessalessalessalesmarketingmarketingsalesaccountingsupporttechnicalmanagementmarketingmarketingmarketingsalessalessalessalessalessalessalessalessalessalessalessalessalessalessalessalessalessalessalesaccountingaccountingaccountinghrhrhrhrtechnicaltechnicaltechnicaltechnicaltechnicaltechnicaltechnicaltechnicaltechnicaltechnicaltechnicalsupportsupportsupportsupportsupportsupportsupportsupportsupportsupportsupporttechnicaltechnicaltechnicalmanagementITITITITITproduct_mngproduct_mngproduct_mngproduct_mngITITITITRandDRandDRandDmarketingsalesaccountingsupporttechnicalmanagementmarketingmarketingmarketingsalessalessalessalessalessalessalessalessalessalessalessalessalessalessalessalessalessalessalesaccountingaccountingaccountinghrhrhrhrtechnicaltechnicaltechnicaltechnicaltechnicaltechnicaltechnicaltechnicaltechnicaltechnicaltechnicalsupportsupportsupportsupportsupportsupportsupportsupportsupportsupportsupporttechnicaltechnicaltechnicalmanagementITITITITITproduct_mngproduct_mngproduct_mngproduct_mngITRandDRandDRandDRandDRandDRandDmarketingsalesaccountingsupporttechnicalmanagementmarketingmarketingmarketingsalessalessalessalessalessalessalessalessalessalessalessalessalessalessalessalessalessalessalesaccountingaccountingaccountinghrhrhrhrtechnicaltechnicaltechnicaltechnicaltechnicaltechnicaltechnicaltechnicaltechnicaltechnicaltechnicalsupportsupportsupportsupportsupportsupportsupportsupportsupportsupportsupporttechnicaltechnicaltechnicalmanagementITITITITITproduct_mngproduct_mngproduct_mngproduct_mngITRandDRandDRandDRandDRandDRandDmarketingsalesaccountingsupporttechnicalmanagementmarketingmarketingmarketingsalessalessalessalessalessalessalessalessalessalessalessalessalessalessalessalessalessalessalesaccountingaccountingaccountinghrhrhrhrtechnicaltechnicaltechnicaltechnicaltechnicaltechnicaltechnicaltechnicaltechnicaltechnicaltechnicalsupportsupportsupportsupportsupportsupportsupportsupportsupportsupportsupporttechnicaltechnicaltechnicalmanagementITITITITITproduct_mngproduct_mngproduct_mngproduct_mngITRandDRandDRandDRandDRandDRandDmarketingsalesaccountingsupporttechnicalmanagementmarketingmarketingmarketingsalessalessalessalessalessalessalessalessalessalessalessalessalessalessalessalessalessalessalesaccountingaccountingaccountinghrhrhrhrtechnicaltechnicaltechnicaltechnicaltechnicaltechnicaltechnicaltechnicaltechnicaltechnicaltechnicalsupportsupportsupportsupportsupportsupportsupportsupportsupportsupportsupporttechnicaltechnicaltechnicalmanagementITITITITITproduct_mngproduct_mngproduct_mngproduct_mngITRandDRandDRandDRandDRandDmarketingsalesaccountingsupporttechnicalmanagementmarketingmarketingmarketingsalessalessalessalessalessalessalessalessalessalessalessalessalessalessalessalessalessalessalesaccountingaccountingaccountinghrhrhrhrtechnicaltechnicaltechnicaltechnicaltechnicaltechnicaltechnicaltechnicaltechnicaltechnicaltechnicalsupportsupportsupportsupportsupportsupportsupportsupportsupportsupportsupporttechnicaltechnicaltechnicalmanagementITITITITITproduct_mngproduct_mngproduct_mngproduct_mngITRandDRandDRandDRandDRandDmarketingmarketingsalesaccountingsupporttechnicalmanagementmarketingmarketingmarketingsalessalessalessalessalessalessalessalessalessalessalessalessalessalessalessalessalessalessalesaccountingaccountingaccountinghrhrhrhrtechnicaltechnicaltechnicaltechnicaltechnicaltechnicaltechnicaltechnicaltechnicaltechnicaltechnicalsupportsupportsupportsupportsupportsupportsupportsupportsupportsupportsupporttechnicaltechnicaltechnicalmanagementITITITITITproduct_mngproduct_mngproduct_mngproduct_mngITRandDRandDRandDRandDRandDmarketingsalesaccountingsupporttechnicalmanagementmarketingmarketingmarketingsalessalessalessalessalessalessalessalessalessalessalessalessalessalessalessalessalessalessalesaccountingaccountingaccountinghrhrhrhrtechnicaltechnicaltechnicaltechnicaltechnicaltechnicaltechnicaltechnicaltechnicaltechnicaltechnicalsupportsupportsupportsupportsupportsupportsupportsupportsupportsupportsupporttechnicaltechnicaltechnicalmanagementITITITITITproduct_mngproduct_mngproduct_mngproduct_mngITRandDRandDRandDRandDRandDmarketingsalesaccountingsupporttechnicalmanagementmarketingmarketingmarketingsalessalessalessalessalessalessalessalessalessalessalessalessalessalessalessalessalessalessalesaccountingaccountingaccountinghrhrhrhrtechnicaltechnicaltechnicaltechnicaltechnicaltechnicaltechnicaltechnicaltechnicaltechnicaltechnicalsupportsupportsupportsupportsupportsupportsupportsupportsupportsupportsupporttechnicaltechnicaltechnicalmanagementITITITITITproduct_mngproduct_mngproduct_mngproduct_mngITRandDRandDRandDRandDRandDmarketingsalesaccountingsupporttechnicalmanagementmarketingmarketingmarketingsalessalessalessalessalessalessalessalessalessalessalessalessalessalessalessalessalessalessalesaccountingaccountingaccountinghrhrhrhrtechnicaltechnicaltechnicaltechnicaltechnicaltechnicaltechnicaltechnicaltechnicaltechnicaltechnicalsupportsupportsupportsupportsupportsupportsupportsupportsupportsupportsupporttechnicaltechnicaltechnicalmanagementITITITITITproduct_mngproduct_mngproduct_mngproduct_mngITRandDRandDRandDRandDRandDmarketingsalesaccountingsupporttechnicalmanagementmarketingmarketingmarketingsalessalessalessalessalessalessalessalessalessalessalessalessalessalessalessalessalessalessalesaccountingaccountingaccountinghrhrhrhrtechnicaltechnicaltechnicaltechnicaltechnicaltechnicaltechnicaltechnicaltechnicaltechnicaltechnicalsupportsupportsupportsupportsupportsupportsupportsupportsupportsupportsupporttechnicaltechnicaltechnicalmanagementITITITITITproduct_mngproduct_mngproduct_mngproduct_mngITRandDRandDRandDRandDRandDmarketingsalesaccountingsupporttechnicalmanagementmarketingmarketingmarketingsalessalessalessalessalessalessalessalessalessalessalessalessalessalessalessalessalessalessalesaccountingaccountingaccountinghrhrhrhrtechnicaltechnicaltechnicaltechnicaltechnicaltechnicaltechnicaltechnicaltechnicaltechnicaltechnicalsupportsupportsupportsupportsupportsupportsupportsupportsupportsupportsupporttechnicaltechnicaltechnicalmanagementITITITITITproduct_mngproduct_mngproduct_mngproduct_mngITRandDRandDRandDRandDRandDmarketingsalesaccountingsupporttechnicalmanagementmarketingmarketingmarketingsalessalessalessalessalessalessalessalessalessalessalessalessalessalessalessalessalessalessalesaccountingaccountingaccountinghrhrhrhrtechnicaltechnicaltechnicaltechnicaltechnicaltechnicaltechnicaltechnicaltechnicaltechnicaltechnicalsupportsupportsupportsupportsupportsupportsupportsupportsupportsupportsupporttechnicaltechnicaltechnicalmanagementITITITITITproduct_mngproduct_mngproduct_mngproduct_mngITRandDRandDRandDRandDRandDmarketingsalesaccountingsupporttechnicalmanagementmarketingmarketingmarketingsalessalessalessalessalessalessalessalessalessalessalessalessalessalessalessalessalessalessalesaccountingaccountingaccountinghrhrhrhrtechnicaltechnicaltechnicaltechnicaltechnicaltechnicaltechnicaltechnicaltechnicaltechnicaltechnicalsupportsupportsupportsupportsupportsupportsupportsupportsupportsupportsupporttechnicaltechnicaltechnicalmanagementITITITITITproduct_mngproduct_mngproduct_mngproduct_mngITRandDRandDRandDRandDRandDmarketingsalesaccountingsupporttechnicalmanagementmarketingmarketingmarketingsalessalessalessalessalessalessalessalessalessalessalessalessalessalessalessalessalessalessalesaccountingaccountingaccountinghrhrhrhrtechnicaltechnicaltechnicaltechnicaltechnicaltechnicaltechnicaltechnicaltechnicaltechnicaltechnicalsupportsupportsupportsupportsupportsupportsupportsupportsupportsupportsupporttechnicaltechnicaltechnicalmanagementITITITITITproduct_mngproduct_mngproduct_mngproduct_mngITRandDRandDRandDRandDRandDmarketingsalesaccountingsupporttechnicalmanagementmarketingmarketingmarketingsalessalessalessalessalessalessalessalessalessalessalessalessalessalessalessalessalessalessalesaccountingaccountingaccountinghrhrhrhrtechnicaltechnicaltechnicaltechnicaltechnicaltechnicaltechnicaltechnicaltechnicaltechnicaltechnicalsupportsupportsupportsupportsupportsupportsupportsupportsupportsupportsupporttechnicaltechnicaltechnicalmanagementITITITITITproduct_mngproduct_mngproduct_mngproduct_mngITRandDRandDRandDRandDRandDmarketingsalesaccountingsupporttechnicalmanagementmarketingmarketingmarketingsalessalessalessalessalessalessalessalessalessalessalessalessalessalessalessalessalessalessalesaccountingaccountingaccountinghrhrhrhrtechnicaltechnicaltechnicaltechnicaltechnicaltechnicaltechnicaltechnicaltechnicaltechnicaltechnicalsupportsupportsupportsupportsupportsupportsupportsupportsupportsupportsupporttechnicaltechnicaltechnicalmanagementITITITITITproduct_mngproduct_mngproduct_mngproduct_mngITRandDRandDRandDRandDRandDmarketingsalesaccountingsupporttechnicalmanagementmarketingmarketingmarketingsalessalessalessalessalessalessalessalessalessalessalessalessalessalessalessalessalessalessalesaccountingaccountingaccountinghrhrhrhrtechnicaltechnicaltechnicaltechnicaltechnicaltechnicaltechnicaltechnicaltechnicaltechnicaltechnicalsupportsupportsupportsupportsupportsupportsupportsupportsupportsupportsupporttechnicaltechnicaltechnicalmanagementITITITITITproduct_mngproduct_mngproduct_mngproduct_mngITRandDRandDRandDRandDRandDmarketingmarketingsalesaccountingsupporttechnicalmanagementmarketingmarketingmarketingsalessalessalessalessalessalessalessalessalessalessalessalessalessalessalessalessalessalessalesaccountingaccountingaccountinghrhrhrhrtechnicaltechnicaltechnicaltechnicaltechnicaltechnicaltechnicaltechnicaltechnicaltechnicaltechnicalsupportsupportsupportsupportsupportsupportsupportsupportsupportsupportsupporttechnicaltechnicaltechnicalmanagementITITITITITproduct_mngproduct_mngproduct_mngproduct_mngITRandDRandDRandDRandDRandDRandDmarketingsalesaccountingsupporttechnicalmanagementmarketingmarketingmarketingsalessalessalessalessalessalessalessalessalessalessalessalessalessalessalessalessalessalessalesaccountingaccountingaccountinghrhrhrhrtechnicaltechnicaltechnicaltechnicaltechnicaltechnicaltechnicaltechnicaltechnicaltechnicaltechnicalsupportsupportsupportsupportsupportsupportsupportsupportsupportsupportsupporttechnicaltechnicaltechnicalmanagementITITITITITproduct_mngproduct_mngproduct_mngproduct_mngITRandDRandDRandDRandDRandDRandDmarketingsalesaccountingsupporttechnicalmanagementmarketingmarketingmarketingsalessalessalessalessalessalessalessalessalessalessalessalessalessalessalessalessalessalessalesaccountingaccountingaccountinghrhrhrhrtechnicaltechnicaltechnicaltechnicaltechnicaltechnicaltechnicaltechnicaltechnicaltechnicaltechnicalsupportsupportsupportsupportsupportsupportsupportsupportsupportsupportsupporttechnicaltechnicaltechnicalmanagementITITITITITproduct_mngproduct_mngproduct_mngproduct_mngITRandDRandDRandDRandDRandDRandDmarketingsalesaccountingsupporttechnicalmanagementmarketingmarketingmarketingsalessalessalessalessalessalessalessalessalessalessalessalessalessalessalessalessalessalessalesaccountingaccountingaccountinghrhrhrhrtechnicaltechnicaltechnicaltechnicaltechnicaltechnicaltechnicaltechnicaltechnicaltechnicaltechnicalsupportsupportsupportsupportsupportsupportsupportsupportsupportsupportsupporttechnicaltechnicaltechnicalmanagementITITITITITproduct_mngproduct_mngproduct_mngproduct_mngITRandDRandDRandDRandDRandDRandDmarketingsalesaccountingsupporttechnicalmanagementmarketingmarketingmarketingsalessalessalessalessalessalessalessalessalessalessalessalessalessalessalessalessalessalessalesaccountingaccountingaccountinghrhrhrhrtechnicaltechnicaltechnicaltechnicaltechnicaltechnicaltechnicaltechnicaltechnicaltechnicaltechnicalsupportsupportsupportsupportsupportsupportsupportsupportsupportsupportsupporttechnicaltechnicaltechnicalmanagementITITITITITproduct_mngproduct_mngproduct_mngproduct_mngITRandDRandDRandDRandDRandDmarketingsalesaccountingsupporttechnicalmanagementmarketingmarketingmarketingsalessalessalessalessalessalessalessalessalessalessalessalessalessalessalessalessalessalessalesaccountingaccountingaccountinghrhrhrhrtechnicaltechnicaltechnicaltechnicaltechnicaltechnicaltechnicaltechnicaltechnicaltechnicaltechnicalsupportsupportsupportsupportsupportsupportsupportsupportsupportsupportsupporttechnicaltechnicaltechnicalmanagementITITITITITproduct_mngproduct_mngproduct_mngproduct_mngITRandDRandDRandDRandDRandDmarketingmarketingsalesaccountingsupporttechnicalmanagementmarketingmarketingmarketingsalessalessalessalessalessalessalessalessalessalessalessalessalessalessalessalessalessalessalesaccountingaccountingaccountinghrhrhrhrtechnicaltechnicaltechnicaltechnicaltechnicaltechnicaltechnicaltechnicaltechnicaltechnicaltechnicalsupportsupportsupportsupportsupportsupportsupportsupportsupportsupportsupporttechnicaltechnicaltechnicalmanagementITITITITITproduct_mngproduct_mngproduct_mngproduct_mngITRandDRandDRandDRandDRandDmarketingsalesaccountingsupporttechnicalmanagementmarketingmarketingmarketingsalessalessalessalessalessalessalessalessalessalessalessalessalessalessalessalessalessalessalesaccountingaccountingaccountinghrhrhrhrtechnicaltechnicaltechnicaltechnicaltechnicaltechnicaltechnicaltechnicaltechnicaltechnicaltechnicalsupportsupportsupportsupportsupportsupportsupportsupportsupportsupportsupporttechnicaltechnicaltechnicalmanagementITITITITITproduct_mngproduct_mngproduct_mngproduct_mngITRandDRandDRandDRandDRandDmarketingsalesaccountingsupporttechnicalmanagementmarketingmarketingmarketingsalessalessalessalessalessalessalessalessalessalessalessalessalessalessalessalessalessalessalesaccountingaccountingaccountinghrhrhrhrtechnicaltechnicaltechnicaltechnicaltechnicaltechnicaltechnicaltechnicaltechnicaltechnicaltechnicalsupportsupportsupportsupportsupportsupportsupportsupportsupportsupportsupporttechnicaltechnicaltechnicalmanagementITITITITITproduct_mngproduct_mngproduct_mngproduct_mngITRandDRandDRandDRandDRandDmarketingsalesaccountingsupporttechnicalmanagementmarketingmarketingmarketingsalessalessalessalessalessalessalessalessalessalessalessalessalessalessalessalessalessalessalesaccountingaccountingaccountinghrhrhrhrtechnicaltechnicaltechnicaltechnicaltechnicaltechnicaltechnicaltechnicaltechnicaltechnicaltechnicalsupportsupportsupportsupportsupportsupportsupportsupportsupportsupportsupporttechnicaltechnicaltechnicalmanagementITITITITITproduct_mngproduct_mngproduct_mngproduct_mngITRandDRandDRandDRandDRandDmarketingsalesaccountingsupporttechnicalmanagementmarketingmarketingmarketingsalessalessalessalessalessalessalessalessalessalessalessalessalessalessalessalessalessalessalesaccountingaccountingaccountinghrhrhrhrtechnicaltechnicaltechnicaltechnicaltechnicaltechnicaltechnicaltechnicaltechnicaltechnicaltechnicalsupportsupportsupportsupportsupportsupportsupportsupportsupportsupportsupporttechnicaltechnicaltechnicalmanagementITITITITITproduct_mngproduct_mngproduct_mngproduct_mngITRandDRandDRandDRandDRandDmarketingsalesaccountingsupporttechnicalmanagementmarketingmarketingmarketingsalessalessalessalessalessalessalessalessalessalessalessalessalessalessalessalessalessalessalesaccountingaccountingaccountinghrhrhrhrtechnicaltechnicaltechnicaltechnicaltechnicaltechnicaltechnicaltechnicaltechnicaltechnicaltechnicalsupportsupportsupportsupportsupportsupportsupportsupportsupportsupportsupporttechnicaltechnicaltechnicalmanagementITITITITITproduct_mngproduct_mngproduct_mngproduct_mngITRandDRandDRandDRandDRandDmarketingsalesaccountingsupporttechnicalmanagementmarketingmarketingmarketingsalessalessalessalessalessalessalessalessalessalessalessalessalessalessalessalessalessalessalesaccountingaccountingaccountinghrhrhrhrtechnicaltechnicaltechnicaltechnicaltechnicaltechnicaltechnicaltechnicaltechnicaltechnicaltechnicalsupportsupportsupportsupportsupportsupportsupportsupportsupportsupportsupporttechnicaltechnicaltechnicalmanagementITITITITITproduct_mngproduct_mngproduct_mngproduct_mngITRandDRandDRandDRandDRandDmarketingsalesaccountingsupporttechnicalmanagementmarketingmarketingmarketingsalessalessalessalessalessalessalessalessalessalessalessalessalessalessalessalessalessalessalesaccountingaccountingaccountinghrhrhrhrtechnicaltechnicaltechnicaltechnicaltechnicaltechnicaltechnicaltechnicaltechnicaltechnicaltechnicalsupportsupportsupportsupportsupportsupportsupportsupportsupportsupportsupporttechnicaltechnicaltechnicalmanagementITITITITITproduct_mngproduct_mngproduct_mngproduct_mngITRandDRandDRandDRandDRandDmarketingsalesaccountingsupporttechnicalmanagementmarketingmarketingmarketingsalessalessalessalessalessalessalessalessalessalessalessalessalessalessalessalessalessalessalesaccountingaccountingaccountinghrhrhrhrtechnicaltechnicaltechnicaltechnicaltechnicaltechnicaltechnicaltechnicaltechnicaltechnicaltechnicalsupportsupportsupportsupportsupportsupportsupportsupportsupportsupportsupporttechnicaltechnicaltechnicalmanagementITITITITITproduct_mngproduct_mngproduct_mngproduct_mngITRandDRandDRandDRandDRandDmarketingsalesaccountingsupporttechnicalmanagementmarketingmarketingmarketingsalessalessalessalessalessalessalessalessalessalessalessalessalessalessalessalessalessalessalesaccountingaccountingaccountinghrhrhrhrtechnicaltechnicaltechnicaltechnicaltechnicaltechnicaltechnicaltechnicaltechnicaltechnicaltechnicalsupportsupportsupportsupportsupportsupportsupportsupportsupportsupportsupporttechnicaltechnicaltechnicalmanagementITITITITITproduct_mngproduct_mngproduct_mngproduct_mngITRandDRandDRandDRandDRandDmarketingsalesaccountingsupporttechnicalmanagementmarketingmarketingmarketingsalessalessalessalessalessalessalessalessalessalessalessalessalessalessalessalessalessalessalesaccountingaccountingaccountinghrhrhrhrtechnicaltechnicaltechnicaltechnicaltechnicaltechnicaltechnicaltechnicaltechnicaltechnicaltechnicalsupportsupportsupportsupportsupportsupportsupportsupportsupportsupportsupporttechnicaltechnicaltechnicalmanagementITITITITITproduct_mngproduct_mngproduct_mngproduct_mngITRandDRandDRandDRandDRandDmarketingsalesaccountingsupporttechnicalmanagementmarketingmarketingmarketingsalessalessalessalessalessalessalessalessalessalessalessalessalessalessalessalessalessalessalesaccountingaccountingaccountinghrhrhrhrtechnicaltechnicaltechnicaltechnicaltechnicaltechnicaltechnicaltechnicaltechnicaltechnicaltechnicalsupportsupportsupportsupportsupportsupportsupportsupportsupportsupportsupporttechnicaltechnicaltechnicalmanagementITITITITITproduct_mngproduct_mngproduct_mngproduct_mngITRandDRandDRandDRandDRandDmarketingmarketingsalesaccountingsupporttechnicalmanagementmarketingmarketingmarketingsalessalessalessalessalessalessalessalessalessalessalessalessalessalessalessalessalessalessalesaccountingaccountingaccountinghrhrhrhrtechnicaltechnicaltechnicaltechnicaltechnicaltechnicaltechnicaltechnicaltechnicaltechnicaltechnicalsupportsupportsupportsupportsupportsupportsupportsupportsupportsupportsupporttechnicaltechnicaltechnicalmanagementITITITITITproduct_mngproduct_mngproduct_mngproduct_mngITRandDRandDRandDRandDRandDRandDmarketingsalesaccountingsupporttechnicalmanagementmarketingmarketingmarketingsalessalessalessalessalessalessalessalessalessalessalessalessalessalessalessalessalessalessalesaccountingaccountingaccountinghrhrhrhrtechnicaltechnicaltechnicaltechnicaltechnicaltechnicaltechnicaltechnicaltechnicaltechnicaltechnicalsupportsupportsupportsupportsupportsupportsupportsupportsupportsupportsupporttechnicaltechnicaltechnicalmanagementITITITITITproduct_mngproduct_mngproduct_mngproduct_mngITRandDRandDRandDRandDRandDRandDmarketingsalesaccountingsupporttechnicalmanagementmarketingmarketingmarketingsalessalessalessalessalessalessalessalessalessalessalessalessalessalessalessalessalessalessalesaccountingaccountingaccountinghrhrhrhrtechnicaltechnicaltechnicaltechnicaltechnicaltechnicaltechnicaltechnicaltechnicaltechnicaltechnicalsupportsupportsupportsupportsupportsupportsupportsupportsupportsupportsupporttechnicaltechnicaltechnicalmanagementITITITITITproduct_mngproduct_mngproduct_mngproduct_mngITRandDRandDRandDRandDRandDRandDmarketingsalesaccountingsupporttechnicalmanagementmarketingmarketingmarketingsalessalessalessalessalessalessalessalessalessalessalessalessalessalessalessalessalessalessalesaccountingaccountingaccountinghrhrhrhrtechnicaltechnicaltechnicaltechnicaltechnicaltechnicaltechnicaltechnicaltechnicaltechnicaltechnicalsupportsupportsupportsupportsupportsupportsupportsupportsupportsupportsupporttechnicaltechnicaltechnicalmanagementITITITITITproduct_mngproduct_mngproduct_mngproduct_mngITRandDRandDRandDRandDRandDRandDmarketingsalesaccountingsupporttechnicalmanagementmarketingmarketingmarketingsalessalessalessalessalessalessalessalessalessalessalessalessalessalessalessalessalessalessalesaccountingaccountingaccountinghrhrhrhrtechnicaltechnicaltechnicaltechnicaltechnicaltechnicaltechnicaltechnicaltechnicaltechnicaltechnicalsupportsupportsupportsupportsupportsupportsupportsupportsupportsupportsupporttechnicaltechnicaltechnicalmanagementITITITITITproduct_mngproduct_mngproduct_mngproduct_mngITRandDRandDRandDRandDRandDmarketingsalesaccountingsupporttechnicalmanagementmarketingmarketingmarketingsalessalessalessalessalessalessalessalessalessalessalessalessalessalessalessalessalessalessalesaccountingaccountingaccountinghrhrhrhrtechnicaltechnicaltechnicaltechnicaltechnicaltechnicaltechnicaltechnicaltechnicaltechnicaltechnicalsupportsupportsupportsupportsupportsupportsupportsupportsupportsupportsupporttechnicaltechnicaltechnicalmanagementITITITITITproduct_mngproduct_mngproduct_mngproduct_mngITRandDRandDRandDRandDRandDmarketingmarketingsalesaccountingsupporttechnicalmanagementmarketingmarketingmarketingsalessalessalessalessalessalessalessalessalessalessalessalessalessalessalessalessalessalessalesaccountingaccountingaccountinghrhrhrhrtechnicaltechnicaltechnicaltechnicaltechnicaltechnicaltechnicaltechnicaltechnicaltechnicaltechnicalsupportsupportsupportsupportsupportsupportsupportsupportsupportsupportsupporttechnicaltechnicaltechnicalmanagementITITITITITproduct_mngproduct_mngproduct_mngproduct_mngITRandDRandDRandDRandDRandDmarketingsalesaccountingsupporttechnicalmanagementmarketingmarketingmarketingsalessalessalessalessalessalessalessalessalessalessalessalessalessalessalessalessalessalessalesaccountingaccountingaccountinghrhrhrhrtechnicaltechnicaltechnicaltechnicaltechnicaltechnicaltechnicaltechnicaltechnicaltechnicaltechnicalsupportsupportsupportsupportsupportsupportsupportsupportsupportsupportsupporttechnicaltechnicaltechnicalmanagementITITITITITproduct_mngproduct_mngproduct_mngproduct_mngITRandDRandDRandDRandDRandDmarketingsalesaccountingsupporttechnicalmanagementmarketingmarketingmarketingsalessalessalessalessalessalessalessalessalessalessalessalessalessalessalessalessalessalessalesaccountingaccountingaccountinghrhrhrhrtechnicaltechnicaltechnicaltechnicaltechnicaltechnicaltechnicaltechnicaltechnicaltechnicaltechnicalsupportsupportsupportsupportsupportsupportsupportsupportsupportsupportsupporttechnicaltechnicaltechnicalmanagementITITITITITproduct_mngproduct_mngproduct_mngproduct_mngITRandDRandDRandDRandDRandDmarketingsalesaccountingsupporttechnicalmanagementmarketingmarketingmarketingsalessalessalessalessalessalessalessalessalessalessalessalessalessalessalessalessalessalessalesaccountingaccountingaccountinghrhrhrhrtechnicaltechnicaltechnicaltechnicaltechnicaltechnicaltechnicaltechnicaltechnicaltechnicaltechnicalsupportsupportsupportsupportsupportsupportsupportsupportsupportsupportsupporttechnicaltechnicaltechnicalmanagementITITITITITproduct_mngproduct_mngproduct_mngproduct_mngITRandDRandDRandDRandDRandDmarketingsalesaccountingsupporttechnicalmanagementmarketingmarketingmarketingsalessalessalessalessalessalessalessalessalessalessalessalessalessalessalessalessalessalessalesaccountingaccountingaccountinghrhrhrhrtechnicaltechnicaltechnicaltechnicaltechnicaltechnicaltechnicaltechnicaltechnicaltechnicaltechnicalsupportsupportsupportsupportsupportsupportsupportsupportsupportsupportsupporttechnicaltechnicaltechnicalmanagementITITITITITproduct_mngproduct_mngproduct_mngproduct_mngITRandDRandDRandDRandDRandDmarketingsalesaccountingsupporttechnicalmanagementmarketingmarketingmarketingsalessalessalessalessalessalessalessalessalessalessalessalessalessalessalessalessalessalessalesaccountingaccountingaccountinghrhrhrhrtechnicaltechnicaltechnicaltechnicaltechnicaltechnicaltechnicaltechnicaltechnicaltechnicaltechnicalsupportsupportsupportsupportsupportsupportsupportsupportsupportsupportsupporttechnicaltechnicaltechnicalmanagementITITITITITproduct_mngproduct_mngproduct_mngproduct_mngITRandDRandDRandDRandDRandDmarketingsalesaccountingsupporttechnicalmanagementmarketingmarketingmarketingsalessalessalessalessalessalessalessalessalessalessalessalessalessalessalessalessalessalessalesaccountingaccountingaccountinghrhrhrhrtechnicaltechnicaltechnicaltechnicaltechnicaltechnicaltechnicaltechnicaltechnicaltechnicaltechnicalsupportsupportsupportsupportsupportsupportsupportsupportsupportsupportsupporttechnicaltechnicaltechnicalmanagementITITITITITproduct_mngproduct_mngproduct_mngproduct_mngITRandDRandDRandDRandDRandDmarketingsalesaccountingsupporttechnicalmanagementmarketingmarketingmarketingsalessalessalessalessalessalessalessalessalessalessalessalessalessalessalessalessalessalessalesaccountingaccountingaccountinghrhrhrhrtechnicaltechnicaltechnicaltechnicaltechnicaltechnicaltechnicaltechnicaltechnicaltechnicaltechnicalsupportsupportsupportsupportsupportsupportsupportsupportsupportsupportsupporttechnicaltechnicaltechnicalmanagementITITITITITproduct_mngproduct_mngproduct_mngproduct_mngITRandDRandDRandDRandDRandDmarketingsalesaccountingsupporttechnicalmanagementmarketingmarketingmarketingsalessalessalessalessalessalessalessalessalessalessalessalessalessalessalessalessalessalessalesaccountingaccountingaccountinghrhrhrhrtechnicaltechnicaltechnicaltechnicaltechnicaltechnicaltechnicaltechnicaltechnicaltechnicaltechnicalsupportsupportsupportsupportsupportsupportsupportsupportsupportsupportsupporttechnicaltechnicaltechnicalmanagementITITITITITproduct_mngproduct_mngproduct_mngproduct_mngITRandDRandDRandDRandDRandDmarketingsalesaccountingsupporttechnicalmanagementmarketingmarketingmarketingsalessalessalessalessalessalessalessalessalessalessalessalessalessalessalessalessalessalessalesaccountingaccountingaccountinghrhrhrhrtechnicaltechnicaltechnicaltechnicaltechnicaltechnicaltechnicaltechnicaltechnicaltechnicaltechnicalsupportsupportsupportsupportsupportsupportsupportsupportsupportsupportsupporttechnicaltechnicaltechnicalmanagementITITITITITproduct_mngproduct_mngproduct_mngproduct_mngITRandDRandDRandDRandDRandDmarketingsalesaccountingsupporttechnicalmanagementmarketingmarketingmarketingsalessalessalessalessalessalessalessalessalessalessalessalessalessalessalessalessalessalessalesaccountingaccountingaccountinghrhrhrhrtechnicaltechnicaltechnicaltechnicaltechnicaltechnicaltechnicaltechnicaltechnicaltechnicaltechnicalsupportsupportsupportsupportsupportsupportsupportsupportsupportsupportsupporttechnicaltechnicaltechnicalmanagementITITITITITproduct_mngproduct_mngproduct_mngproduct_mngITRandDRandDRandDRandDRandDmarketingsalesaccountingsupporttechnicalmanagementmarketingmarketingmarketingsalessalessalessalessalessalessalessalessalessalessalessalessalessalessalessalessalessalessalesaccountingaccountingaccountinghrhrhrhrtechnicaltechnicaltechnicaltechnicaltechnicaltechnicaltechnicaltechnicaltechnicaltechnicaltechnicalsupportsupportsupportsupportsupportsupportsupportsupportsupportsupportsupporttechnicaltechnicaltechnicalmanagementITITITITITproduct_mngproduct_mngproduct_mngproduct_mngITRandDRandDRandDRandDRandDmarketingmarketingsalesaccountingsupporttechnicalmanagementmarketingmarketingmarketingsalessalessalessalessalessalessalessalessalessalessalessalessalessalessalessalessalessalessalesaccountingaccountingaccountinghrhrhrhrtechnicaltechnicaltechnicaltechnicaltechnicaltechnicaltechnicaltechnicaltechnicaltechnicaltechnicalsupportsupportsupportsupportsupportsupportsupportsupportsupportsupportsupporttechnicaltechnicaltechnicalmanagementITITITITITproduct_mngproduct_mngproduct_mngproduct_mngITRandDRandDRandDRandDRandDRandDmarketingsalesaccountingsupporttechnicalmanagementmarketingmarketingmarketingsalessalessalessalessalessalessalessalessalessalessalessalessalessalessalessalessalessalessalesaccountingaccountingaccountinghrhrhrhrtechnicaltechnicaltechnicaltechnicaltechnicaltechnicaltechnicaltechnicaltechnicaltechnicaltechnicalsupportsupportsupportsupportsupportsupportsupportsupportsupportsupportsupporttechnicaltechnicaltechnicalmanagementITITITITITproduct_mngproduct_mngproduct_mngproduct_mngITRandDRandDRandDRandDRandDRandDmarketingsalesaccountingsupporttechnicalmanagementmarketingmarketingmarketingsalessalessalessalessalessalessalessalessalessalessalessalessalessalessalessalessalessalessalesaccountingaccountingaccountinghrhrhrhrtechnicaltechnicaltechnicaltechnicaltechnicaltechnicaltechnicaltechnicaltechnicaltechnicaltechnicalsupportsupportsupportsupportsupportsupportsupportsupportsupportsupportsupporttechnicaltechnicaltechnicalmanagementITITITITITproduct_mngproduct_mngproduct_mngproduct_mngITRandDRandDRandDRandDRandDRandDmarketingsalesaccountingsupporttechnicalmanagementmarketingmarketingmarketingsalessalessalessalessalessalessalessalessalessalessalessalessalessalessalessalessalessalessalesaccountingaccountingaccountinghrhrhrhrtechnicaltechnicaltechnicaltechnicaltechnicaltechnicaltechnicaltechnicaltechnicaltechnicaltechnicalsupportsupportsupportsupportsupportsupportsupportsupportsupportsupportsupporttechnicaltechnicaltechnicalmanagementITITITITITproduct_mngproduct_mngproduct_mngproduct_mngITRandDRandDRandDRandDRandDRandDmarketingsalesaccountingsupporttechnicalmanagementmarketingmarketingmarketingsalessalessalessalessalessalessalessalessalessalessalessalessalessalessalessalessalessalessalesaccountingaccountingaccountinghrhrhrhrtechnicaltechnicaltechnicaltechnicaltechnicaltechnicaltechnicaltechnicaltechnicaltechnicaltechnicalsupportsupportsupportsupportsupportsupportsupportsupportsupportsupportsupporttechnicaltechnicaltechnicalmanagementITITITITITproduct_mngproduct_mngproduct_mngproduct_mngITRandDRandDRandDRandDRandDmarketingsalesaccountingsupporttechnicalmanagementmarketingmarketingmarketingsalessalessalessalessalessalessalessalessalessalessalessalessalessalessalessalessalessalessalesaccountingaccountingaccountinghrhrhrhrtechnicaltechnicaltechnicaltechnicaltechnicaltechnicaltechnicaltechnicaltechnicaltechnicaltechnicalsupportsupportsupportsupportsupportsupportsupportsupportsupportsupportsupporttechnicaltechnicaltechnicalmanagementITITITITITproduct_mngproduct_mngproduct_mngproduct_mngITRandDRandDRandDRandDRandDmarketingmarketingsalesaccountingsupporttechnicalmanagementmarketingmarketingmarketingsalessalessalessalessalessalessalessalessalessalessalessalessalessalessalessalessalessalessalesaccountingaccountingaccountinghrhrhrhrtechnicaltechnicaltechnicaltechnicaltechnicaltechnicaltechnicaltechnicaltechnicaltechnicaltechnicalsupportsupportsupportsupportsupportsupportsupportsupportsupportsupportsupporttechnicaltechnicaltechnicalmanagementITITITITITproduct_mngproduct_mngproduct_mngproduct_mngITRandDRandDRandDRandDRandDmarketingsalesaccountingsupporttechnicalmanagementmarketingmarketingmarketingsalessalessalessalessalessalessalessalessalessalessalessalessalessalessalessalessalessalessalesaccountingaccountingaccountinghrhrhrhrtechnicaltechnicaltechnicaltechnicaltechnicaltechnicaltechnicaltechnicaltechnicaltechnicaltechnicalsupportsupportsupportsupportsupportsupportsupportsupportsupportsupportsupporttechnicaltechnicaltechnicalmanagementITITITITITproduct_mngproduct_mngproduct_mngproduct_mngITRandDRandDRandDRandDRandDmarketingsalesaccountingsupporttechnicalmanagementmarketingmarketingmarketingsalessalessalessalessalessalessalessalessalessalessalessalessalessalessalessalessalessalessalesaccountingaccountingaccountinghrhrhrhrtechnicaltechnicaltechnicaltechnicaltechnicaltechnicaltechnicaltechnicaltechnicaltechnicaltechnicalsupportsupportsupportsupportsupportsupportsupportsupportsupportsupportsupporttechnicaltechnicaltechnicalmanagementITITITITITproduct_mngproduct_mngproduct_mngproduct_mngITRandDRandDRandDRandDRandDmarketingsalesaccountingsupporttechnicalmanagementmarketingmarketingmarketingsalessalessalessalessalessalessalessalessalessalessalessalessalessalessalessalessalessalessalesaccountingaccountingaccountinghrhrhrhrtechnicaltechnicaltechnicaltechnicaltechnicaltechnicaltechnicaltechnicaltechnicaltechnicaltechnicalsupportsupportsupportsupportsupportsupportsupportsupportsupportsupportsupporttechnicaltechnicaltechnicalmanagementITITITITITproduct_mngproduct_mngproduct_mngproduct_mngITRandDRandDRandDRandDRandDmarketingsalesaccountingsupporttechnicalmanagementmarketingmarketingmarketingsalessalessalessalessalessalessalessalessalessalessalessalessalessalessalessalessalessalessalesaccountingaccountingaccountinghrhrhrhrtechnicaltechnicaltechnicaltechnicaltechnicaltechnicaltechnicaltechnicaltechnicaltechnicaltechnicalsupportsupportsupportsupportsupportsupportsupportsupportsupportsupportsupporttechnicaltechnicaltechnicalmanagementITITITITITproduct_mngproduct_mngproduct_mngproduct_mngITRandDRandDRandDRandDRandDmarketingsalesaccountingsupporttechnicalmanagementmarketingmarketingmarketingsalessalessalessalessalessalessalessalessalessalessalessalessalessalessalessalessalessalessalesaccountingaccountingaccountinghrhrhrhrtechnicaltechnicaltechnicaltechnicaltechnicaltechnicaltechnicaltechnicaltechnicaltechnicaltechnicalsupportsupportsupportsupportsupportsupportsupportsupportsupportsupportsupporttechnicaltechnicaltechnicalmanagementITITITITITproduct_mngproduct_mngproduct_mngproduct_mngITRandDRandDRandDRandDRandDmarketingsalesaccountingsupporttechnicalmanagementmarketingmarketingmarketingsalessalessalessalessalessalessalessalessalessalessalessalessalessalessalessalessalessalessalesaccountingaccountingaccountinghrhrhrhrtechnicaltechnicaltechnicaltechnicaltechnicaltechnicaltechnicaltechnicaltechnicaltechnicaltechnicalsupportsupportsupportsupportsupportsupportsupportsupportsupportsupportsupporttechnicaltechnicaltechnicalmanagementITITITITITproduct_mngproduct_mngproduct_mngproduct_mngITRandDRandDRandDRandDRandDmarketingsalesaccountingsupporttechnicalmanagementmarketingmarketingmarketingsalessalessalessalessalessalessalessalessalessalessalessalessalessalessalessalessalessalessalesaccountingaccountingaccountinghrhrhrhrtechnicaltechnicaltechnicaltechnicaltechnicaltechnicaltechnicaltechnicaltechnicaltechnicaltechnicalsupportsupportsupportsupportsupportsupportsupportsupportsupportsupportsupporttechnicaltechnicaltechnicalmanagementITITITITITproduct_mngproduct_mngproduct_mngproduct_mngITRandDRandDRandDRandDRandDmarketingsalesaccountingsupporttechnicalmanagementmarketingmarketingmarketingsalessalessalessalessalessalessalessalessalessalessalessalessalessalessalessalessalessalessalesaccountingaccountingaccountinghrhrhrhrtechnicaltechnicaltechnicaltechnicaltechnicaltechnicaltechnicaltechnicaltechnicaltechnicaltechnicalsupportsupportsupportsupportsupportsupportsupportsupportsupportsupportsupporttechnicaltechnicaltechnicalmanagementITITITITITproduct_mngproduct_mngproduct_mngproduct_mngITRandDRandDRandDRandDRandDmarketingsalesaccountingsupporttechnicalmanagementmarketingmarketingmarketingsalessalessalessalessalessalessalessalessalessalessalessalessalessalessalessalessalessalessalesaccountingaccountingaccountinghrhrhrhrtechnicaltechnicaltechnicaltechnicaltechnicaltechnicaltechnicaltechnicaltechnicaltechnicaltechnicalsupportsupportsupportsupportsupportsupportsupportsupportsupportsupportsupporttechnicaltechnicaltechnicalmanagementITITITITITproduct_mngproduct_mngproduct_mngproduct_mngITRandDRandDRandDRandDRandDmarketingsalesaccountingsupporttechnicalmanagementmarketingmarketingmarketingsalessalessalessalessalessalessalessalessalessalessalessalessalessalessalessalessalessalessalesaccountingaccountingaccountinghrhrhrhrtechnicaltechnicaltechnicaltechnicaltechnicaltechnicaltechnicaltechnicaltechnicaltechnicaltechnicalsupportsupportsupportsupportsupportsupportsupportsupportsupportsupportsupporttechnicaltechnicaltechnicalmanagementITITITITITproduct_mngproduct_mngproduct_mngproduct_mngITRandDRandDRandDRandDRandDmarketingsalesaccountingsupporttechnicalmanagementmarketingmarketingmarketingsalessalessalessalessalessalessalessalessalessalessalessalessalessalessalessalessalessalessalesaccountingaccountingaccountinghrhrhrhrtechnicaltechnicaltechnicaltechnicaltechnicaltechnicaltechnicaltechnicaltechnicaltechnicaltechnicalsupportsupportsupportsupportsupportsupportsupportsupportsupportsupportsupporttechnicaltechnicaltechnicalmanagementITITITITITproduct_mngproduct_mngproduct_mngproduct_mngITRandDRandDRandDRandDRandDmarketingmarketingsalesaccountingsupporttechnicalmanagementmarketingmarketingmarketingsalessalessalessalessalessalessalessalessalessalessalessalessalessalessalessalessalessalessalesaccountingaccountingaccountinghrhrhrhrtechnicaltechnicaltechnicaltechnicaltechnicaltechnicaltechnicaltechnicaltechnicaltechnicaltechnicalsupportsupportsupportsupportsupportsupportsupportsupportsupportsupportsupporttechnicaltechnicaltechnicalmanagementITITITITITproduct_mngproduct_mngproduct_mngproduct_mngITRandDRandDRandDRandDRandDRandDmarketingsalesaccountingsupporttechnicalmanagementmarketingmarketingmarketingsalessalessalessalessalessalessalessalessalessalessalessalessalessalessalessalessalessalessalesaccountingaccountingaccountinghrhrhrhrtechnicaltechnicaltechnicaltechnicaltechnicaltechnicaltechnicaltechnicaltechnicaltechnicaltechnicalsupportsupportsupportsupportsupportsupportsupportsupportsupportsupportsupporttechnicaltechnicaltechnicalmanagementITITITITITproduct_mngproduct_mngproduct_mngproduct_mngITRandDRandDRandDRandDRandDRandDmarketingsalesaccountingsupporttechnicalmanagementmarketingmarketingmarketingsalessalessalessalessalessalessalessalessalessalessalessalessalessalessalessalessalessalessalesaccountingaccountingaccountinghrhrhrhrtechnicaltechnicaltechnicaltechnicaltechnicaltechnicaltechnicaltechnicaltechnicaltechnicaltechnicalsupportsupportsupportsupportsupportsupportsupportsupportsupportsupportsupporttechnicaltechnicaltechnicalmanagementITITITITITproduct_mngproduct_mngproduct_mngproduct_mngITRandDRandDRandDRandDRandDRandDmarketingsalesaccountingsupporttechnicalmanagementmarketingmarketingmarketingsalessalessalessalessalessalessalessalessalessalessalessalessalessalessalessalessalessalessalesaccountingaccountingaccountinghrhrhrhrtechnicaltechnicaltechnicaltechnicaltechnicaltechnicaltechnicaltechnicaltechnicaltechnicaltechnicalsupportsupportsupportsupportsupportsupportsupportsupportsupportsupportsupporttechnicaltechnicaltechnicalmanagementITITITITITproduct_mngproduct_mngproduct_mngproduct_mngITRandDRandDRandDRandDRandDRandDmarketingsalesaccountingsupporttechnicalmanagementmarketingmarketingmarketingsalessalessalessalessalessalessalessalessalessalessalessalessalessalessalessalessalessalessalesaccountingaccountingaccountinghrhrhrhrtechnicaltechnicaltechnicaltechnicaltechnicaltechnicaltechnicaltechnicaltechnicaltechnicaltechnicalsupportsupportsupportsupportsupportsupportsupportsupportsupportsupportsupporttechnicaltechnicaltechnicalmanagementITITITITITproduct_mngproduct_mngproduct_mngproduct_mngITRandDRandDRandDRandDRandDmarketingsalesaccountingsupporttechnicalmanagementmarketingmarketingmarketingsalessalessalessalessalessalessalessalessalessalessalessalessalessalessalessalessalessalessalesaccountingaccountingaccountinghrhrhrhrtechnicaltechnicaltechnicaltechnicaltechnicaltechnicaltechnicaltechnicaltechnicaltechnicaltechnicalsupportsupportsupportsupportsupportsupportsupportsupportsupportsupportsupporttechnicaltechnicaltechnicalmanagementITITITITITproduct_mngproduct_mngproduct_mngproduct_mngITRandDRandDRandDRandDRandDmarketingmarketingsalesaccountingsupporttechnicalmanagementmarketingmarketingmarketingsalessalessalessalessalessalessalessalessalessalessalessalessalessalessalessalessalessalessalesaccountingaccountingaccountinghrhrhrhrtechnicaltechnicaltechnicaltechnicaltechnicaltechnicaltechnicaltechnicaltechnicaltechnicaltechnicalsupportsupportsupportsupportsupportsupportsupportsupportsupportsupportsupporttechnicaltechnicaltechnicalmanagementITITITITITproduct_mngproduct_mngproduct_mngproduct_mngITRandDRandDRandDRandDRandDmarketingsalesaccountingsupporttechnicalmanagementmarketingmarketingmarketingsalessalessalessalessalessalessalessalessalessalessalessalessalessalessalessalessalessalessalesaccountingaccountingaccountinghrhrhrhrtechnicaltechnicaltechnicaltechnicaltechnicaltechnicaltechnicaltechnicaltechnicaltechnicaltechnicalsupportsupportsupportsupportsupportsupportsupportsupportsupportsupportsupporttechnicaltechnicaltechnicalmanagementITITITITITproduct_mngproduct_mngproduct_mngproduct_mngITRandDRandDRandDRandDRandDmarketingsalesaccountingsupporttechnicalmanagementmarketingmarketingmarketingsalessalessalessalessalessalessalessalessalessalessalessalessalessalessalessalessalessalessalesaccountingaccountingaccountinghrhrhrhrtechnicaltechnicaltechnicaltechnicaltechnicaltechnicaltechnicaltechnicaltechnicaltechnicaltechnicalsupportsupportsupportsupportsupportsupportsupportsupportsupportsupportsupporttechnicaltechnicaltechnicalmanagementITITITITITproduct_mngproduct_mngproduct_mngproduct_mngITRandDRandDRandDRandDRandDmarketingsalesaccountingsupporttechnicalmanagementmarketingmarketingmarketingsalessalessalessalessalessalessalessalessalessalessalessalessalessalessalessalessalessalessalesaccountingaccountingaccountinghrhrhrhrtechnicaltechnicaltechnicaltechnicaltechnicaltechnicaltechnicaltechnicaltechnicaltechnicaltechnicalsupportsupportsupportsupportsupportsupportsupportsupportsupportsupportsupporttechnicaltechnicaltechnicalmanagementITITITITITproduct_mngproduct_mngproduct_mngproduct_mngITRandDRandDRandDRandDRandDmarketingsalesaccountingsupporttechnicalmanagementmarketingmarketingmarketingsalessalessalessalessalessalessalessalessalessalessalessalessalessalessalessalessalessalessalesaccountingaccountingaccountinghrhrhrhrtechnicaltechnicaltechnicaltechnicaltechnicaltechnicaltechnicaltechnicaltechnicaltechnicaltechnicalsupportsupportsupportsupportsupportsupportsupportsupportsupportsupportsupporttechnicaltechnicaltechnicalmanagementITITITITITproduct_mngproduct_mngproduct_mngproduct_mngITRandDRandDRandDRandDRandDmarketingsalesaccountingsupporttechnicalmanagementmarketingmarketingmarketingsalessalessalessalessalessalessalessalessalessalessalessalessalessalessalessalessalessalessalesaccountingaccountingaccountinghrhrhrhrtechnicaltechnicaltechnicaltechnicaltechnicaltechnicaltechnicaltechnicaltechnicaltechnicaltechnicalsupportsupportsupportsupportsupportsupportsupportsupportsupportsupportsupporttechnicaltechnicaltechnicalmanagementITITITITITproduct_mngproduct_mngproduct_mngproduct_mngITRandDRandDRandDRandDRandDmarketingsalesaccountingsupporttechnicalmanagementmarketingmarketingmarketingsalessalessalessalessalessalessalessalessalessalessalessalessalessalessalessalessalessalessalesaccountingaccountingaccountinghrhrhrhrtechnicaltechnicaltechnicaltechnicaltechnicaltechnicaltechnicaltechnicaltechnicaltechnicaltechnicalsupportsupportsupportsupportsupportsupportsupportsupportsupportsupportsupporttechnicaltechnicaltechnicalmanagementITITITITITproduct_mngproduct_mngproduct_mngproduct_mngITRandDRandDRandDRandDRandDmarketingsalesaccountingsupporttechnicalmanagementmarketingmarketingmarketingsalessalessalessalessalessalessalessalessalessalessalessalessalessalessalessalessalessalessalesaccountingaccountingaccountinghrhrhrhrtechnicaltechnicaltechnicaltechnicaltechnicaltechnicaltechnicaltechnicaltechnicaltechnicaltechnicalsupportsupportsupportsupportsupportsupportsupportsupportsupportsupportsupporttechnicaltechnicaltechnicalmanagementITITITITITproduct_mngproduct_mngproduct_mngproduct_mngITRandDRandDRandDRandDRandDmarketingsalesaccountingsupporttechnicalmanagementmarketingmarketingmarketingsalessalessalessalessalessalessalessalessalessalessalessalessalessalessalessalessalessalessalesaccountingaccountingaccountinghrhrhrhrtechnicaltechnicaltechnicaltechnicaltechnicaltechnicaltechnicaltechnicaltechnicaltechnicaltechnicalsupportsupportsupportsupportsupportsupportsupportsupportsupportsupportsupporttechnicaltechnicaltechnicalmanagementITITITITITproduct_mngproduct_mngproduct_mngproduct_mngITRandDRandDRandDRandDRandDmarketingsalesaccountingsupporttechnicalmanagementmarketingmarketingmarketingsalessalessalessalessalessalessalessalessalessalessalessalessalessalessalessalessalessalessalesaccountingaccountingaccountinghrhrhrhrtechnicaltechnicaltechnicaltechnicaltechnicaltechnicaltechnicaltechnicaltechnicaltechnicaltechnicalsupportsupportsupportsupportsupportsupportsupportsupportsupportsupportsupporttechnicaltechnicaltechnicalmanagementITITITITITproduct_mngproduct_mngproduct_mngproduct_mngITRandDRandDRandDRandDRandDmarketingsalesaccountingsupporttechnicalmanagementmarketingmarketingmarketingsalessalessalessalessalessalessalessalessalessalessalessalessalessalessalessalessalessalessalesaccountingaccountingaccountinghrhrhrhrtechnicaltechnicaltechnicaltechnicaltechnicaltechnicaltechnicaltechnicaltechnicaltechnicaltechnicalsupportsupportsupportsupportsupportsupportsupportsupportsupportsupportsupporttechnicaltechnicaltechnicalmanagementITITITITITproduct_mngproduct_mngproduct_mngproduct_mngITRandDRandDRandDRandDRandDmarketingsalesaccountingsupporttechnicalmanagementmarketingmarketingmarketingsalessalessalessalessalessalessalessalessalessalessalessalessalessalessalessalessalessalessalesaccountingaccountingaccountinghrhrhrhrtechnicaltechnicaltechnicaltechnicaltechnicaltechnicaltechnicaltechnicaltechnicaltechnicaltechnicalsupportsupportsupportsupportsupportsupportsupportsupportsupportsupportsupporttechnicaltechnicaltechnicalmanagementITITITITITproduct_mngproduct_mngproduct_mngproduct_mngITRandDRandDRandDRandDRandDmarketingmarketingsalesaccountingsupporttechnicalmanagementmarketingmarketingmarketingsalessalessalessalessalessalessalessalessalessalessalessalessalessalessalessalessalessalessalesaccountingaccountingaccountinghrhrhrhrtechnicaltechnicaltechnicaltechnicaltechnicaltechnicaltechnicaltechnicaltechnicaltechnicaltechnicalsupportsupportsupportsupportsupportsupportsupportsupportsupportsupportsupporttechnicaltechnicaltechnicalmanagementITITITITITproduct_mngproduct_mngproduct_mngproduct_mngITRandDRandDRandDRandDRandDRandDmarketingsalesaccountingsupporttechnicalmanagementmarketingmarketingmarketingsalessalessalessalessalessalessalessalessalessalessalessalessalessalessalessalessalessalessalesaccountingaccountingaccountinghrhrhrhrtechnicaltechnicaltechnicaltechnicaltechnicaltechnicaltechnicaltechnicaltechnicaltechnicaltechnicalsupportsupportsupportsupportsupportsupportsupportsupportsupportsupportsupporttechnicaltechnicaltechnicalmanagementITITITITITproduct_mngproduct_mngproduct_mngproduct_mngITRandDRandDRandDRandDRandDRandDmarketingsalesaccountingsupporttechnicalmanagementmarketingmarketingmarketingsalessalessalessalessalessalessalessalessalessalessalessalessalessalessalessalessalessalessalesaccountingaccountingaccountinghrhrhrhrtechnicaltechnicaltechnicaltechnicaltechnicaltechnicaltechnicaltechnicaltechnicaltechnicaltechnicalsupportsupportsupportsupportsupportsupportsupportsupportsupportsupportsupporttechnicaltechnicaltechnicalmanagementITITITITITproduct_mngproduct_mngproduct_mngproduct_mngITRandDRandDRandDRandDRandDRandDmarketingsalesaccountingsupporttechnicalmanagementmarketingmarketingmarketingsalessalessalessalessalessalessalessalessalessalessalessalessalessalessalessalessalessalessalesaccountingaccountingaccountinghrhrhrhrtechnicaltechnicaltechnicaltechnicaltechnicaltechnicaltechnicaltechnicaltechnicaltechnicaltechnicalsupportsupportsupportsupportsupportsupportsupportsupportsupportsupportsupporttechnicaltechnicaltechnicalmanagementITITITITITproduct_mngproduct_mngproduct_mngproduct_mngITRandDRandDRandDRandDRandDRandDmarketingsalesaccountingsupporttechnicalmanagementmarketingmarketingmarketingsalessalessalessalessalessalessalessalessalessalessalessalessalessalessalessalessalessalessalesaccountingaccountingaccountinghrhrhrhrtechnicaltechnicaltechnicaltechnicaltechnicaltechnicaltechnicaltechnicaltechnicaltechnicaltechnicalsupportsupportsupportsupportsupportsupportsupportsupportsupportsupportsupporttechnicaltechnicaltechnicalmanagementITITITITITproduct_mngproduct_mngproduct_mngproduct_mngITRandDRandDRandDRandDRandDmarketingsalesaccountingsupporttechnicalmanagementmarketingmarketingmarketingsalessalessalessalessalessalessalessalessalessalessalessalessalessalessalessalessalessalessalesaccountingaccountingaccountinghrhrhrhrtechnicaltechnicaltechnicaltechnicaltechnicaltechnicaltechnicaltechnicaltechnicaltechnicaltechnicalsupportsupportsupportsupportsupportsupportsupportsupportsupportsupportsupporttechnicaltechnicaltechnicalmanagementITITITITITproduct_mngproduct_mngproduct_mngproduct_mngITRandDRandDRandDRandDRandDmarketingmarketingsalesaccountingsupporttechnicalmanagementmarketingmarketingmarketingsalessalessalessalessalessalessalessalessalessalessalessalessalessalessalessalessalessalessalesaccountingaccountingaccountinghrhrhrhrtechnicaltechnicaltechnicaltechnicaltechnicaltechnicaltechnicaltechnicaltechnicaltechnicaltechnicalsupportsupportsupportsupportsupportsupportsupportsupportsupportsupportsupporttechnicaltechnicaltechnicalmanagementITITITITITproduct_mngproduct_mngproduct_mngproduct_mngITRandDRandDRandDRandDRandDmarketingsalesaccountingsupporttechnicalmanagementmarketingmarketingmarketingsalessalessalessalessalessalessalessalessalessalessalessalessalessalessalessalessalessalessalesaccountingaccountingaccountinghrhrhrhrtechnicaltechnicaltechnicaltechnicaltechnicaltechnicaltechnicaltechnicaltechnicaltechnicaltechnicalsupportsupportsupportsupportsupportsupportsupportsupportsupportsupportsupporttechnicaltechnicaltechnicalmanagementITITITITITproduct_mngproduct_mngproduct_mngproduct_mngITRandDRandDRandDRandDRandDmarketingsalesaccountingsupporttechnicalmanagementmarketingmarketingmarketingsalessalessalessalessalessalessalessalessalessalessalessalessalessalessalessalessalessalessalesaccountingaccountingaccountinghrhrhrhrtechnicaltechnicaltechnicaltechnicaltechnicaltechnicaltechnicaltechnicaltechnicaltechnicaltechnicalsupportsupportsupportsupportsupportsupportsupportsupportsupportsupportsupporttechnicaltechnicaltechnicalmanagementITITITITITproduct_mngproduct_mngproduct_mngproduct_mngITRandDRandDRandDRandDRandDmarketingsalesaccountingsupporttechnicalmanagementmarketingmarketingmarketingsalessalessalessalessalessalessalessalessalessalessalessalessalessalessalessalessalessalessalesaccountingaccountingaccountinghrhrhrhrtechnicaltechnicaltechnicaltechnicaltechnicaltechnicaltechnicaltechnicaltechnicaltechnicaltechnicalsupportsupportsupportsupportsupportsupportsupportsupportsupportsupportsupporttechnicaltechnicaltechnicalmanagementITITITITITproduct_mngproduct_mngproduct_mngproduct_mngITRandDRandDRandDRandDRandDmarketingsalesaccountingsupporttechnicalmanagementmarketingmarketingmarketingsalessalessalessalessalessalessalessalessalessalessalessalessalessalessalessalessalessalessalesaccountingaccountingaccountinghrhrhrhrtechnicaltechnicaltechnicaltechnicaltechnicaltechnicaltechnicaltechnicaltechnicaltechnicaltechnicalsupportsupportsupportsupportsupportsupportsupportsupportsupportsupportsupporttechnicaltechnicaltechnicalmanagementITITITITITproduct_mngproduct_mngproduct_mngproduct_mngITRandDRandDRandDRandDRandDmarketingsalesaccountingsupporttechnicalmanagementmarketingmarketingmarketingsalessalessalessalessalessalessalessalessalessalessalessalessalessalessalessalessalessalessalesaccountingaccountingaccountinghrhrhrhrtechnicaltechnicaltechnicaltechnicaltechnicaltechnicaltechnicaltechnicaltechnicaltechnicaltechnicalsupportsupportsupportsupportsupportsupportsupportsupportsupportsupportsupporttechnicaltechnicaltechnicalmanagementITITITITITproduct_mngproduct_mngproduct_mngproduct_mngITRandDRandDRandDRandDRandDmarketingsalesaccountingsupporttechnicalmanagementmarketingmarketingmarketingsalessalessalessalessalessalessalessalessalessalessalessalessalessalessalessalessalessalessalesaccountingaccountingaccountinghrhrhrhrtechnicaltechnicaltechnicaltechnicaltechnicaltechnicaltechnicaltechnicaltechnicaltechnicaltechnicalsupportsupportsupportsupportsupportsupportsupportsupportsupportsupportsupporttechnicaltechnicaltechnicalmanagementITITITITITproduct_mngproduct_mngproduct_mngproduct_mngITRandDRandDRandDRandDRandDmarketingsalesaccountingsupporttechnicalmanagementmarketingmarketingmarketingsalessalessalessalessalessalessalessalessalessalessalessalessalessalessalessalessalessalessalesaccountingaccountingaccountinghrhrhrhrtechnicaltechnicaltechnicaltechnicaltechnicaltechnicaltechnicaltechnicaltechnicaltechnicaltechnicalsupportsupportsupportsupportsupportsupportsupportsupportsupportsupportsupporttechnicaltechnicaltechnicalmanagementITITITITITproduct_mngproduct_mngproduct_mngproduct_mngITRandDRandDRandDRandDRandDmarketingsalesaccountingsupporttechnicalmanagementmarketingmarketingmarketingsalessalessalessalessalessalessalessalessalessalessalessalessalessalessalessalessalessalessalesaccountingaccountingaccountinghrhrhrhrtechnicaltechnicaltechnicaltechnicaltechnicaltechnicaltechnicaltechnicaltechnicaltechnicaltechnicalsupportsupportsupportsupportsupportsupportsupportsupportsupportsupportsupporttechnicaltechnicaltechnicalmanagementITITITITITproduct_mngproduct_mngproduct_mngproduct_mngITRandDRandDRandDRandDRandDmarketingsalesaccountingsupporttechnicalmanagementmarketingmarketingmarketingsalessalessalessalessalessalessalessalessalessalessalessalessalessalessalessalessalessalessalesaccountingaccountingaccountinghrhrhrhrtechnicaltechnicaltechnicaltechnicaltechnicaltechnicaltechnicaltechnicaltechnicaltechnicaltechnicalsupportsupportsupportsupportsupportsupportsupportsupportsupportsupportsupporttechnicaltechnicaltechnicalmanagementITITITITITproduct_mngproduct_mngproduct_mngproduct_mngITRandDRandDRandDRandDRandDmarketingsalesaccountingsupporttechnicalmanagementmarketingmarketingmarketingsalessalessalessalessalessalessalessalessalessalessalessalessalessalessalessalessalessalessalesaccountingaccountingaccountinghrhrhrhrtechnicaltechnicaltechnicaltechnicaltechnicaltechnicaltechnicaltechnicaltechnicaltechnicaltechnicalsupportsupportsupportsupportsupportsupportsupportsupportsupportsupportsupporttechnicaltechnicaltechnicalmanagementITITITITITproduct_mngproduct_mngproduct_mngproduct_mngITRandDRandDRandDRandDRandDmarketingsalesaccountingsupporttechnicalmanagementmarketingmarketingmarketingsalessalessalessalessalessalessalessalessalessalessalessalessalessalessalessalessalessalessalesaccountingaccountingaccountinghrhrhrhrtechnicaltechnicaltechnicaltechnicaltechnicaltechnicaltechnicaltechnicaltechnicaltechnicaltechnicalsupportsupportsupportsupportsupportsupportsupportsupportsupportsupportsupporttechnicaltechnicaltechnicalmanagementITITITITITproduct_mngproduct_mngproduct_mngproduct_mngITRandDRandDRandDRandDRandDmarketingmarketingsalesaccountingsupporttechnicalmanagementmarketingmarketingmarketingsalessalessalessalessalessalessalessalessalessalessalessalessalessalessalessalessalessalessalesaccountingaccountingaccountinghrhrhrhrtechnicaltechnicaltechnicaltechnicaltechnicaltechnicaltechnicaltechnicaltechnicaltechnicaltechnicalsupportsupportsupportsupportsupportsupportsupportsupportsupportsupportsupporttechnicaltechnicaltechnicalmanagementITITITITITproduct_mngproduct_mngproduct_mngproduct_mngITmarketingmarketingmarketingmarketingmarketingmarketingmarketingsalesaccountingsupporttechnicalmanagementmarketingmarketingmarketingsalessalessalessalessalessalessalessalessalessalessalessalessalessalessalessalessalessalessalesaccountingaccountingaccountinghrhrhrhrtechnicaltechnicaltechnicaltechnicaltechnicaltechnicaltechnicaltechnicaltechnicaltechnicaltechnicalsupportsupportsupportsupportsupportsupportsupportsupportsupportsupportsupporttechnicaltechnicaltechnicalmanagementITITITITITproduct_mngproduct_mngproduct_mngproduct_mngITRandDRandDRandDRandDRandDRandDmarketingsalesaccountingsupporttechnicalmanagementmarketingmarketingmarketingsalessalessalessalessalessalessalessalessalessalessalessalessalessalessalessalessalessalessalesaccountingaccountingaccountinghrhrhrhrtechnicaltechnicaltechnicaltechnicaltechnicaltechnicaltechnicaltechnicaltechnicaltechnicaltechnicalsupportsupportsupportsupportsupportsupportsupportsupportsupportsupportsupporttechnicaltechnicaltechnicalmanagementITITITITITproduct_mngproduct_mngproduct_mngproduct_mngITmarketingaccountingaccountingITITmanagementmarketingsalesaccountingsupporttechnicalmanagementmarketingmarketingmarketingsalessalessalessalessalessalessalessalessalessalessalessalessalessalessalessalessalessalessalesaccountingaccountingaccountinghrhrhrhrtechnicaltechnicaltechnicaltechnicaltechnicaltechnicaltechnicaltechnicaltechnicaltechnicaltechnicalsupportsupportsupportsupportsupportsupportsupportsupportsupportsupportsupporttechnicaltechnicaltechnicalmanagementITITITITITproduct_mngproduct_mngproduct_mngproduct_mngITRandDRandDRandDRandDRandDRandDmarketingsalesaccountingsupporttechnicalmanagementmarketingmarketingmarketingsalessalessalessalessalessalessalessalessalessalessalessalessalessalessalessalessalessalessalesaccountingaccountingaccountinghrhrhrhrtechnicaltechnicaltechnicaltechnicaltechnicaltechnicaltechnicaltechnicaltechnicaltechnicaltechnicalsupportsupportsupportsupportsupportsupportsupportsupportsupportsupportsupporttechnicaltechnicaltechnicalmanagementITITITITITproduct_mngproduct_mngproduct_mngproduct_mngITRandDRandDRandDRandDRandDmarketingsalesaccountingsupporttechnicalmanagementmarketingmarketingmarketingsalessalessalessalessalessalessalessalessalessalessalessalessalessalessalessalessalessalessalesaccountingaccountingaccountinghrhrhrhrtechnicaltechnicaltechnicaltechnicaltechnicaltechnicaltechnicaltechnicaltechnicaltechnicaltechnicalsupportsupportsupportsupportsupportsupportsupportsupportsupportsupportsupporttechnicaltechnicaltechnicalmanagementITITITITITproduct_mngproduct_mngproduct_mngproduct_mngITmarketingaccountingaccountingITITmanagementmarketingsalesaccountingsupporttechnicalmanagementmarketingmarketingmarketingsalessalessalessalessalessalessalessalessalessalessalessalessalessalessalessalessalessalessalesaccountingaccountingaccountinghrhrhrhrtechnicaltechnicaltechnicaltechnicaltechnicaltechnicaltechnicaltechnicaltechnicaltechnicaltechnicalsupportsupportsupportsupportsupportsupportsupportsupportsupportsupportsupporttechnicaltechnicaltechnicalmanagementITITITITITproduct_mngproduct_mngproduct_mngproduct_mngITmarketingaccountingaccountingITITmanagementsalesaccountingsupporttechnicalmanagementmarketingmarketingmarketingsalessalessalessalessalessalessalessalessalessalessalessalessalessalessalessalessalessalessalesaccountingaccountingaccountinghrhrhrhrtechnicaltechnicaltechnicaltechnicaltechnicaltechnicaltechnicaltechnicaltechnicaltechnicaltechnicalsupportsupportsupportsupportsupportsupportsupportsupportsupportsupportsupporttechnicaltechnicaltechnicalmanagementITITITITITproduct_mngproduct_mngproduct_mngproduct_mngITmarketingaccountingaccountingITITmanagementsalesaccountingsupporttechnicalmanagementmarketingmarketingmarketingsalessalessalessalessalessalessalessalessalessalessalessalessalessalessalessalessalessalessalesaccountingaccountingaccountinghrhrhrhrtechnicaltechnicaltechnicaltechnicaltechnicaltechnicaltechnicaltechnicaltechnicaltechnicaltechnicalsupportsupportsupportsupportsupportsupportsupportsupportsupportsupportsupporttechnicaltechnicaltechnicalmanagementITITITITITproduct_mngproduct_mngproduct_mngproduct_mngITmarketingaccountingaccountingITITmanagementsalesaccountingsupporttechnicalmanagementmarketingmarketingmarketingsalessalessalessalessalessalessalessalessalessalessalessalessalessalessalessalessalessalessalesaccountingaccountingaccountinghrhrhrhrtechnicaltechnicaltechnicaltechnicaltechnicaltechnicaltechnicaltechnicaltechnicaltechnicaltechnicalsupportsupportsupportsupportsupportsupportsupportsupportsupportsupportsupporttechnicaltechnicaltechnicalmanagementITITITITITproduct_mngproduct_mngproduct_mngproduct_mngITRandDRandDRandDRandDRandDmarketingsalesaccountingsupporttechnicalmanagementmarketingmarketingmarketingsalessalessalessalessalessalessalessalessalessalessalessalessalessalessalessalessalessalessalesaccountingaccountingaccountinghrhrhrhrtechnicaltechnicaltechnicaltechnicaltechnicaltechnicaltechnicaltechnicaltechnicaltechnicaltechnicalsupportsupportsupportsupportsupportsupportsupportsupportsupportsupportsupporttechnicaltechnicaltechnicalmanagementITITITITITproduct_mngproduct_mngproduct_mngproduct_mngITRandDRandDRandDRandDRandDmarketingsalesaccountingsupporttechnicalmanagementmarketingmarketingmarketingsalessalessalessalessalessalessalessalessalessalessalessalessalessalessalessalessalessalessalesaccountingaccountingaccountinghrhrhrhrtechnicaltechnicaltechnicaltechnicaltechnicaltechnicaltechnicaltechnicaltechnicaltechnicaltechnicalsupportsupportsupportsupportsupportsupportsupportsupportsupportsupportsupporttechnicaltechnicaltechnicalmanagementITITITITITproduct_mngproduct_mngproduct_mngproduct_mngITRandDRandDRandDRandDRandDmarketingsalesaccountingsupporttechnicalmanagementmarketingmarketingmarketingsalessalessalessalessalessalessalessalessalessalessalessalessalessalessalessalessalessalessalesaccountingaccountingaccountinghrhrhrhrtechnicaltechnicaltechnicaltechnicaltechnicaltechnicaltechnicaltechnicaltechnicaltechnicaltechnicalsupportsupportsupportsupportsupportsupportsupportsupportsupportsupportsupporttechnicaltechnicaltechnicalmanagementITITITITITproduct_mngproduct_mngproduct_mngproduct_mngITRandDRandDRandDRandDRandDmarketingsalesaccountingsupporttechnicalmanagementmarketingmarketingmarketingsalessalessalessalessalessalessalessalessalessalessalessalessalessalessalessalessalessalessalesaccountingaccountingaccountinghrhrhrhrtechnicaltechnicaltechnicaltechnicaltechnicaltechnicaltechnicaltechnicaltechnicaltechnicaltechnicalsupportsupportsupportsupportsupportsupportsupportsupportsupportsupportsupporttechnicaltechnicaltechnicalmanagementITITITITITproduct_mngproduct_mngproduct_mngproduct_mngITRandDRandDRandDRandDRandDmarketingsalesaccountingsupporttechnicalmanagementmarketingmarketingmarketingsalessalessalessalessalessalessalessalessalessalessalessalessalessalessalessalessalessalessalesaccountingaccountingaccountinghrhrhrhrtechnicaltechnicaltechnicaltechnicaltechnicaltechnicaltechnicaltechnicaltechnicaltechnicaltechnicalsupportsupportsupportsupportsupportsupportsupportsupportsupportsupportsupporttechnicaltechnicaltechnicalmanagementITITITITITproduct_mngproduct_mngproduct_mngproduct_mngITRandDRandDRandDRandDRandDmarketingsalesaccountingsupporttechnicalmanagementmarketingmarketingmarketingsalessalessalessalessalessalessalessalessalessalessalessalessalessalessalessalessalessalessalesaccountingaccountingaccountinghrhrhrhrtechnicaltechnicaltechnicaltechnicaltechnicaltechnicaltechnicaltechnicaltechnicaltechnicaltechnicalsupportsupportsupportsupportsupportsupportsupportsupportsupportsupportsupporttechnicaltechnicaltechnicalmanagementITITITITITproduct_mngproduct_mngproduct_mngproduct_mngITRandDRandDRandDRandDRandDmarketingsalesaccountingsupporttechnicalmanagementmarketingmarketingmarketingsalessalessalessalessalessalessalessalessalessalessalessalessalessalessalessalessalessalessalesaccountingaccountingaccountinghrhrhrhrtechnicaltechnicaltechnicaltechnicaltechnicaltechnicaltechnicaltechnicaltechnicaltechnicaltechnicalsupportsupportsupportsupportsupportsupportsupportsupportsupportsupportsupporttechnicaltechnicaltechnicalmanagementITITITITITproduct_mngproduct_mngproduct_mngproduct_mngITRandDRandDRandDRandDRandDmarketingsalesaccountingsupporttechnicalmanagementmarketingmarketingmarketingsalessalessalessalessalessalessalessalessalessalessalessalessalessalessalessalessalessalessalesaccountingaccountingaccountinghrhrhrhrtechnicaltechnicaltechnicaltechnicaltechnicaltechnicaltechnicaltechnicaltechnicaltechnicaltechnicalsupportsupportsupportsupportsupportsupportsupportsupportsupportsupportsupporttechnicaltechnicaltechnicalmanagementITITITITITproduct_mngproduct_mngproduct_mngproduct_mngITRandDRandDRandDRandDRandDmarketingmarketingsalesaccountingsupporttechnicalmanagementmarketingmarketingmarketingsalessalessalessalessalessalessalessalessalessalessalessalessalessalessalessalessalessalessalesaccountingaccountingaccountinghrhrhrhrtechnicaltechnicaltechnicaltechnicaltechnicaltechnicaltechnicaltechnicaltechnicaltechnicaltechnicalsupportsupportsupportsupportsupportsupportsupportsupportsupportsupportsupporttechnicaltechnicaltechnicalmanagementITITITITITproduct_mngproduct_mngproduct_mngproduct_mngITRandDRandDRandDRandDRandDRandDmarketingsalesaccountingsupporttechnicalmanagementmarketingmarketingmarketingsalessalessalessalessalessalessalessalessalessalessalessalessalessalessalessalessalessalessalesaccountingaccountingaccountinghrhrhrhrtechnicaltechnicaltechnicaltechnicaltechnicaltechnicaltechnicaltechnicaltechnicaltechnicaltechnicalsupportsupportsupportsupportsupportsupportsupportsupportsupportsupportsupporttechnicaltechnicaltechnicalmanagementITITITITITproduct_mngproduct_mngproduct_mngproduct_mngITRandDRandDRandDRandDRandDRandDmarketingsalesaccountingsupporttechnicalmanagementmarketingmarketingmarketingsalessalessalessalessalessalessalessalessalessalessalessalessalessalessalessalessalessalessalesaccountingaccountingaccountinghrhrhrhrtechnicaltechnicaltechnicaltechnicaltechnicaltechnicaltechnicaltechnicaltechnicaltechnicaltechnicalsupportsupportsupportsupportsupportsupportsupportsupportsupportsupportsupporttechnicaltechnicaltechnicalmanagementITITITITITproduct_mngproduct_mngproduct_mngproduct_mngITRandDRandDRandDRandDRandDRandDITITITITproduct_mngproduct_mngproduct_mngproduct_mngITRandDRandDRandDRandDRandDRandDmarketingsalesaccountingsupporttechnicalmanagementmarketingmarketingmarketingsalessalessalessalessalessalessalessalessalessalessalessalessalessalessalessalessalessalessalesaccountingaccountingaccountinghrhrhrhrtechnicaltechnicaltechnicaltechnicaltechnicaltechnicaltechnicaltechnicaltechnicaltechnicaltechnicalsupportsupportsupportsupportsupportsupportsupportsupportsupportsupportsupporttechnicaltechnicaltechnicalmanagementITITITITITproduct_mngproduct_mngproduct_mngproduct_mngITmanagementmanagementmanagementmanagementmanagementmanagementITITITITproduct_mngproduct_mngproduct_mngproduct_mngITmanagementmanagementmanagementmanagementmanagementmanagementmarketingsalesaccountingsupporttechnicalmanagementmarketingmarketingmarketingsalessalessalessalessalessalessalessalessalessalessalessalessalessalessalessalessalessalessalesaccountingaccountingaccountinghrhrhrhrtechnicaltechnicaltechnicaltechnicaltechnicaltechnicaltechnicaltechnicaltechnicaltechnicaltechnicalsupportsupportsupportsupportsupportsupportsupportsupportsupportsupportsupporttechnicaltechnicaltechnicalmanagementITITITITITproduct_mngproduct_mngproduct_mngproduct_mngITITITITITproduct_mngproduct_mngproduct_mngproduct_mngITRandDRandDRandDRandDRandDRandDmarketingsalesaccountingsupporttechnicalmanagementmarketingmarketingmarketingsalessalessalessalessalessalessalessalessalessalessalessalessalessalessalessalessalessalessalesaccountingaccountingaccountinghrhrhrhrtechnicaltechnicaltechnicaltechnicaltechnicaltechnicaltechnicaltechnicaltechnicaltechnicaltechnicalsupportsupportsupportsupportsupportsupportsupportsupportsupportsupportsupporttechnicaltechnicaltechnicalmanagementITITITITITproduct_mngproduct_mngproduct_mngproduct_mngITmanagementmanagementmanagementmanagementmanagementmanagementITITproduct_mngproduct_mngproduct_mngproduct_mngITmanagementmanagementmanagementmanagementmanagementmanagementmarketingsalesaccountingsupporttechnicalmanagementmarketingmarketingmarketingsalessalessalessalessalessalessalessalessalessalessalessalessalessalessalessalessalessalessalesaccountingaccountingaccountinghrhrhrhrtechnicaltechnicaltechnicaltechnicaltechnicaltechnicaltechnicaltechnicaltechnicaltechnicaltechnicalsupportsupportsupportsupportsupportsupportsupportsupportsupportsupportsupporttechnicaltechnicaltechnicalmanagementITITITITITproduct_mngproduct_mngproduct_mngproduct_mngITmanagementmanagementmanagementmanagementmanagementmanagementsalessalessalessalessalessalessalessalessalessalessalessalessalessalessalessalessalessalessalessalessalessalessalessalessalessalessalessalessalessalessalessalessalessalesITproduct_mngproduct_mngproduct_mngproduct_mngITmanagementmanagementmanagementmanagementmanagementmanagementmarketingsalesaccountingsupporttechnicalmanagementmarketingmarketingmarketingsalessalessalessalessalessalessalessalesITproduct_mngproduct_mngproduct_mngproduct_mngITmanagementmanagementmanagementmanagementmanagementmanagementmarketingsalesaccountingsupporttechnicalmanagementmarketingmarketingmarketingsalessalessalessalessalessalessalesITproduct_mngproduct_mngproduct_mngproduct_mngITmanagementmanagementmanagementmanagementmanagementmanagementmarketingsalesaccountingsupporttechnicalmanagementmarketingmarketingmarketingsalessalessalessalessalessalessalessalesITproduct_mngproduct_mngproduct_mngproduct_mngITRandDRandDRandDRandDRandDRandDmarketingsalesaccountingsupporttechnicalmanagementmarketingmarketingmarketingsalessalessalessalessalessalessalessalestechnicalsupportsupportsupportsupportsupportsupportsupportsupportsupportsupportsupporttechnicaltechnicaltechnicalmanagementITITITITITproduct_mngproduct_mngproduct_mngproduct_mngITmanagementmanagementmanagementmanagementmanagementmanagementsalessalessalessalessalessalessalessalessalessalessalessalessalessalessalessalessalessalessalessalessalessalessalessalessalessalessalessalessalessalessalessalessalessalesITproduct_mngproduct_mngproduct_mngproduct_mngITmanagementmanagementmanagementmanagementmanagementmanagementmarketingsalesaccountingsupporttechnicalmanagementmarketingmarketingmarketingsalessalessalessalessalessalessalessalesITproduct_mngproduct_mngproduct_mngproduct_mngITmanagementmanagementmanagementmanagementmanagementmanagementmarketingsalesaccountingsupporttechnicalmanagementmarketingmarketingmarketingsalessalessalessalessalessalessalesITproduct_mngproduct_mngproduct_mngproduct_mngITmanagementmanagementmanagementmanagementmanagementmanagementmarketingsalesaccountingsupporttechnicalmanagementmarketingmarketingmarketingsalessalessalessalessalessalessalessalesITproduct_mngproduct_mngproduct_mngproduct_mngITRandDRandDRandDRandDRandDRandDmarketingsalesaccountingsupporttechnicalmanagementmarketingmarketingmarketingsalessalessalessalessalessalessalessalestechnicalsupportsupportsupportsupportsupportsupportsupportsupportsupportsupportsupporttechnicaltechnicaltechnicalmanagementITITITITITproduct_mngproduct_mngproduct_mngproduct_mngITmanagementmanagementmanagementmanagementmanagementmanagementsalessalessalessalessalessalessalessalessalessalessalessalessalessalessalessalessalessalessalessalessalessalessalessalessalessalessalessalessalessalessalessalessalessalesITproduct_mngproduct_mngproduct_mngproduct_mngITmanagementmanagementmanagementmanagementmanagementmanagementmarketingsalesaccountingsupporttechnicalmanagementmarketingmarketingmarketingsalessalessalessalessalessalessalessalesITproduct_mngproduct_mngproduct_mngproduct_mngITmanagementmanagementmanagementmanagementmanagementmanagementmarketingsalesaccountingsupporttechnicalmanagementmarketingmarketingmarketingsalessalessalessalessalessalessalesITproduct_mngproduct_mngproduct_mngproduct_mngITmanagementmanagementmanagementmanagementmanagementmanagementmarketingsalesaccountingsupporttechnicalmanagementmarketingmarketingmarketingsalessalessalessalessalessalessalessalesITproduct_mngproduct_mngproduct_mngproduct_mngITmanagementmanagementmanagementmanagementmanagementmanagementmarketingsalesaccountingsupporttechnicalmanagementmarketingmarketingmarketingsalessalessalessalessalessalessalessalestechnicalsupportsupportsupportsupportsupportsupportsupportsupportsupportsupportsupporttechnicaltechnicaltechnicalmanagementITITITITITproduct_mngproduct_mngproduct_mngproduct_mngITmanagementmanagementmanagementmanagementmanagementmanagementsalessalessalessalessalessalessalessalessalessalessalessalessalessalessalessalessalessalessalessalessalessalessalessalessalessalessalessalessalessalessalessalessalessalesITproduct_mngproduct_mngproduct_mngproduct_mngITmanagementmanagementmanagementmanagementmanagementmanagementmarketingsalesaccountingsupporttechnicalmanagementmarketingmarketingmarketingsalessalessalessalessalessalessalessalesITproduct_mngproduct_mngproduct_mngproduct_mngITITITITITITITmarketingaccountingaccountingITITmanagementmarketingmarketingmarketingsalessalessalessalessalessalessalesITproduct_mngproduct_mngproduct_mngproduct_mngITITmanagementmanagementmanagementmanagementmanagementmarketingITsalessalessalessalessalessalessalessalessalessalessalessalessalessalessalessalessalessalessalessalessalessalessalessalessalessalessalessalesaccountingaccountingaccountinghrhrhrhrtechnicaltechnicaltechnicaltechnicaltechnicaltechnicaltechnicaltechnicaltechnicaltechnicaltechnicalsupportsupportsupportsupportsupportsupportsupportsupportsupportsupportsupporttechnicaltechnicaltechnicalmanagementITITITITITproduct_mngproduct_mngproduct_mngproduct_mngITproduct_mngproduct_mngproduct_mngproduct_mngproduct_mngproduct_mngmarketingsalesaccountingsupporttechnicalmanagementmarketingmarketingmarketingsalessalessalessalessalessalessalessalessalessalessalessalessalessalessalessalessalessalessalesaccountingaccountingaccountinghrhrhrhrtechnicaltechnicaltechnicaltechnicaltechnicaltechnicaltechnicaltechnicaltechnicaltechnicaltechnicalsupportsupportsupportsupportsupportsupportsupportsupportsupportsupportsupporttechnicaltechnicaltechnicalmanagementITITITITITproduct_mngproduct_mngproduct_mngproduct_mngITmarketingmarketingmarketingmarketingmarketingmarketingsalesaccountingsupporttechnicalmanagementmarketingmarketingmarketingsalessalessalessalessalessalessalessalessalessalessalessalessalessalessalessalessalessalessalesaccountingaccountingaccountinghrhrhrhrtechnicaltechnicaltechnicaltechnicaltechnicaltechnicaltechnicaltechnicaltechnicaltechnicaltechnicalsupportsupportsupportsupportsupportsupportsupportsupportsupportsupportsupporttechnicaltechnicaltechnicalmanagementITITITITITproduct_mngproduct_mngproduct_mngproduct_mngITaccountingaccountinghrhrhrmarketingmarketingsalesaccountingsupporttechnicalmanagementmarketingmarketingmarketingsalessalessalessalessalessalessalessalessalessalessalessalessalessalessalessalessalessalessalesaccountingaccountingaccountinghrhrhrhrtechnicaltechnicaltechnicaltechnicaltechnicaltechnicaltechnicaltechnicaltechnicaltechnicaltechnicalsupportsupportsupportsupportsupportsupportsupportsupportsupportsupportsupporttechnicaltechnicaltechnicalmanagementITITITITITproduct_mngproduct_mngproduct_mngproduct_mngITRandDRandDRandDRandDRandDmarketingsalesaccountingsupporttechnicalmanagementmarketingmarketingmarketingsalessalessalessalessalessalessalessalessalessalessalessalessalessalessalessalessalessalessalesaccountingaccountingaccountinghrhrhrhrtechnicaltechnicaltechnicaltechnicaltechnicaltechnicaltechnicaltechnicaltechnicaltechnicaltechnicalsupportsupportsupportsupportsupportsupportsupportsupportsupportsupportsupporttechnicaltechnicaltechnicalmanagementITITITITITproduct_mngproduct_mngproduct_mngproduct_mngITaccountingaccountinghrhrhrmarketingsalesaccountingsupporttechnicalmanagementmarketingmarketingmarketingsalessalessalessalessalessalessalessalessalessalessalessalessalessalessalessalessalessalessalesaccountingaccountingaccountinghrhrhrhrtechnicaltechnicaltechnicaltechnicaltechnicaltechnicaltechnicaltechnicaltechnicaltechnicaltechnicalsupportsupportsupportsupportsupportsupportsupportsupportsupportsupportsupporttechnicaltechnicaltechnicalmanagementITITITITITproduct_mngproduct_mngproduct_mngproduct_mngITRandDRandDRandDRandDRandDmarketingsalesaccountingsupporttechnicalmanagementmarketingmarketingmarketingsalessalessalessalessalessalessalessalessalessalessalessalessalessalessalessalessalessalessalesaccountingaccountingaccountinghrhrhrhrtechnicaltechnicaltechnicaltechnicaltechnicaltechnicaltechnicaltechnicaltechnicaltechnicaltechnicalsupportsupportsupportsupportsupportsupportsupportsupportsupportsupportsupporttechnicaltechnicaltechnicalmanagementITITITITITproduct_mngproduct_mngproduct_mngproduct_mngITaccountingaccountinghrhrhrmarketingsalesaccountingsupporttechnicalmanagementmarketingmarketingmarketingsalessalessalessalessalessalessalessalessalessalessalessalessalessalessalessalessalessalessalesaccountingaccountingaccountinghrhrhrhrtechnicaltechnicaltechnicaltechnicaltechnicaltechnicaltechnicaltechnicaltechnicaltechnicaltechnicalsupportsupportsupportsupportsupportsupportsupportsupportsupportsupportsupporttechnicaltechnicaltechnicalmanagementITITITITITproduct_mngproduct_mngproduct_mngproduct_mngITRandDRandDRandDRandDRandDmarketingsalesaccountingsupporttechnicalmanagementmarketingmarketingmarketingsalessalessalessalessalessalessalessalessalessalessalessalessalessalessalessalessalessalessalesaccountingaccountingaccountinghrhrhrhrtechnicaltechnicaltechnicaltechnicaltechnicaltechnicaltechnicaltechnicaltechnicaltechnicaltechnicalsupportsupportsupportsupportsupportsupportsupportsupportsupportsupportsupporttechnicaltechnicaltechnicalmanagementITITITITITproduct_mngproduct_mngproduct_mngproduct_mngITsalessalessalessalessalesmarketingsalesaccountingsupporttechnicalmanagementmarketingmarketingmarketingsalessalessalessalessalessalessalessalessalessalessalessalessalessalessalessalessalessalessalesaccountingaccountingaccountinghrhrhrhrtechnicaltechnicaltechnicaltechnicaltechnicaltechnicaltechnicaltechnicaltechnicaltechnicaltechnicalsupportsupportsupportsupportsupportsupportsupportsupportsupportsupportsupporttechnicaltechnicaltechnicalmanagementITITITITITproduct_mngproduct_mngproduct_mngproduct_mngITsalessalessalessalessalesmarketingsalesaccountingsupporttechnicalmanagementmarketingmarketingmarketingsalessalessalessalessalessalessalessalessalessalessalessalestechnicaltechnicaltechnicaltechnicaltechnicaltechnicalsupportsupportsupportsupportsupportsupportsupportsupportsupportsupportsupporttechnicaltechnicaltechnicalmanagementITITITITITproduct_mngproduct_mngproduct_mngproduct_mngITRandDRandDRandDRandDRandDmarketingsalesaccountingsupporttechnicalmanagementmarketingmarketingmarketingsalessalessalessalessalessalessalessalessalessalessalessalessalessalessalessalessalessalessalesaccountingaccountingaccountinghrhrhrhrtechnicaltechnicaltechnicaltechnicaltechnicaltechnicaltechnicaltechnicaltechnicaltechnicaltechnicalsupportsupportsupportsupportsupportsupportsupportsupportsupportsupportsupporttechnicaltechnicaltechnicalmanagementITITITITITproduct_mngproduct_mngproduct_mngproduct_mngITRandDRandDRandDRandDRandDmarketingsalesaccountingsupporttechnicalmanagementmarketingmarketingmarketingsalessalessalessalessalessalessalessalessalessalessalessalessalessalessalessalessalessalessalesaccountingaccountingaccountinghrhrhrhrtechnicaltechnicaltechnicaltechnicaltechnicaltechnicaltechnicaltechnicaltechnicaltechnicaltechnicalsupportsupportsupportsupportsupportsupportsupportsupportsupportsupportsupporttechnicaltechnicaltechnicalmanagementITITITITITproduct_mngproduct_mngproduct_mngproduct_mngITRandDRandDRandDRandDRandDmarketingmarketingsalesaccountingsupporttechnicalmanagementmarketingmarketingmarketingsalessalessalessalessalessalessalessalessalessalessalessalessalessalessalessalessalessalessalesaccountingaccountingaccountinghrhrhrhrtechnicaltechnicaltechnicaltechnicaltechnicaltechnicaltechnicaltechnicaltechnicaltechnicaltechnicalsupportsupportsupportsupportsupportsupportsupportsupportsupportsupportsupporttechnicaltechnicaltechnicalmanagementITITITITITproduct_mngproduct_mngproduct_mngproduct_mngITRandDRandDRandDRandDRandDRandDmarketingsalesaccountingsupporttechnicalmanagementmarketingmarketingmarketingsalessalessalessalessalessalessalessalessalessalessalessalessalessalessalessalessalessalessalesaccountingaccountingaccountinghrhrhrhrtechnicaltechnicaltechnicaltechnicaltechnicaltechnicaltechnicaltechnicaltechnicaltechnicaltechnicalsupportsupportsupportsupportsupportsupportsupportsupportsupportsupportsupporttechnicaltechnicaltechnicalmanagementITITITITITproduct_mngproduct_mngproduct_mngproduct_mngITRandDRandDRandDRandDRandDRandDmarketingsalesaccountingsupporttechnicalmanagementmarketingmarketingmarketingsalessalessalessalessalessalessalessalessalessalessalessalessalessalessalessalessalessalessalesaccountingaccountingaccountinghrhrhrhrtechnicaltechnicaltechnicaltechnicaltechnicaltechnicaltechnicaltechnicaltechnicaltechnicaltechnicalsupportsupportsupportsupportsupportsupportsupportsupportsupportsupportsupporttechnicaltechnicaltechnicalmanagementITITITITITproduct_mngproduct_mngproduct_mngproduct_mngITRandDRandDRandDRandDRandDRandDITITITITproduct_mngproduct_mngproduct_mngproduct_mngITRandDRandDRandDRandDRandDRandDmarketingsalesaccountingsupporttechnicalmanagementmarketingmarketingmarketingsalessalessalessalessalessalessalessalessalessalessalessalessalessalessalessalessalessalessalesaccountingaccountingaccountinghrhrhrhrtechnicaltechnicaltechnicaltechnicaltechnicaltechnicaltechnicaltechnicaltechnicaltechnicaltechnicalsupportsupportsupportsupportsupportsupportsupportsupportsupportsupportsupporttechnicaltechnicaltechnicalmanagementITITITITITproduct_mngproduct_mngproduct_mngproduct_mngITmanagementmanagementmanagementmanagementmanagementmanagementITITITITproduct_mngproduct_mngproduct_mngproduct_mngITmanagementmanagementmanagementmanagementmanagementmanagementmarketingsalesaccountingsupporttechnicalmanagementmarketingmarketingmarketingsalessalessalessalessalessalessalessalessalessalessalessalessalessalessalessalessalessalessalesaccountingaccountingaccountinghrhrhrhrtechnicaltechnicaltechnicaltechnicaltechnicaltechnicaltechnicaltechnicaltechnicaltechnicaltechnicalsupportsupportsupportsupportsupportsupportsupportsupportsupportsupportsupporttechnicaltechnicaltechnicalmanagementITITITITITproduct_mngproduct_mngproduct_mngproduct_mngITITITITITproduct_mngproduct_mngproduct_mngproduct_mngITRandDRandDRandDRandDRandDRandDmarketingsalesaccountingsupporttechnicalmanagementmarketingmarketingmarketingsalessalessalessalessalessalessalessalessalessalessalessalessalessalessalessalessalessalessalesaccountingaccountingaccountinghrhrhrhrtechnicaltechnicaltechnicaltechnicaltechnicaltechnicaltechnicaltechnicaltechnicaltechnicaltechnicalsupportsupportsupportsupportsupportsupportsupportsupportsupportsupportsupporttechnicaltechnicaltechnicalmanagementITITITITITproduct_mngproduct_mngproduct_mngproduct_mngITmanagementmanagementmanagementmanagementmanagementmanagementITITproduct_mngproduct_mngproduct_mngproduct_mngITmanagementmanagementmanagementmanagementmanagementmanagementmarketingsalesaccountingsupporttechnicalmanagementmarketingmarketingmarketingsalessalessalessalessalessalessalessalessalessalessalessalessalessalessalessalessalessalessalesaccountingaccountingaccountinghrhrhrhrtechnicaltechnicaltechnicaltechnicaltechnicaltechnicaltechnicaltechnicaltechnicaltechnicaltechnicalsupportsupportsupportsupportsupportsupportsupportsupportsupportsupportsupporttechnicaltechnicaltechnicalmanagementITITITITITproduct_mngproduct_mngproduct_mngproduct_mngITmanagementmanagementmanagementmanagementmanagementmanagementsalessalessalessalessalessalessalessalessalessalessalessalessalessalessalessalessalessalessalessalessalessalessalessalessalessalessalessalessalessalessalessalessalessalesITproduct_mngproduct_mngproduct_mngproduct_mngITmanagementmanagementmanagementmanagementmanagementmanagementmarketingsalesaccountingsupporttechnicalmanagementmarketingmarketingmarketingsalessalessalessalessalessalessalessalesITproduct_mngproduct_mngproduct_mngproduct_mngITmanagementmanagementmanagementmanagementmanagementmanagementmarketingsalesaccountingsupporttechnicalmanagementmarketingmarketingmarketingsalessalessalessalessalessalessalesITproduct_mngproduct_mngproduct_mngproduct_mngITmanagementmanagementmanagementmanagementmanagementmanagementmarketingsalesaccountingsupporttechnicalmanagementmarketingmarketingmarketingsalessalessalessalessalessalessalessalesITproduct_mngproduct_mngproduct_mngproduct_mngITRandDRandDRandDRandDRandDRandDmarketingsalesaccountingsupporttechnicalmanagementmarketingmarketingmarketingsalessalessalessalessalessalessalessalestechnicalsupportsupportsupportsupportsupportsupportsupportsupportsupportsupportsupporttechnicaltechnicaltechnicalmanagementITITITITITproduct_mngproduct_mngproduct_mngproduct_mngITmanagementmanagementmanagementmanagementmanagementmanagementsalessalessalessalessalessalessalessalessalessalessalessalessalessalessalessalessalessalessalessalessalessalessalessalessalessalessalessalessalessalessalessalessalessalesITproduct_mngproduct_mngproduct_mngproduct_mngITmanagementmanagementmanagementmanagementmanagementmanagementmarketingsalesaccountingsupporttechnicalmanagementmarketingmarketingmarketingsalessalessalessalessalessalessalessalesITproduct_mngproduct_mngproduct_mngproduct_mngITmanagementmanagementmanagementmanagementmanagementmanagementmarketingsalesaccountingsupporttechnicalmanagementmarketingmarketingmarketingsalessalessalessalessalessalessalesITproduct_mngproduct_mngproduct_mngproduct_mngITmanagementmanagementmanagementmanagementmanagementmanagementmarketingsalesaccountingsupporttechnicalmanagementmarketingmarketingmarketingsalessalessalessalessalessalessalessalesITproduct_mngproduct_mngproduct_mngproduct_mngITRandDRandDRandDRandDRandDRandDmarketingsalesaccountingsupporttechnicalmanagementmarketingmarketingmarketingsalessalessalessalessalessalessalessalestechnicalsupportsupportsupportsupportsupportsupportsupportsupportsupportsupportsupporttechnicaltechnicaltechnicalmanagementITITITITITproduct_mngproduct_mngproduct_mngproduct_mngITmanagementmanagementmanagementmanagementmanagementmanagementsalessalessalessalessalessalessalessalessalessalessalessalessalessalessalessalessalessalessalessalessalessalessalessalessalessalessalessalessalessalessalessalessalessalesITproduct_mngproduct_mngproduct_mngproduct_mngITmanagementmanagementmanagementmanagementmanagementmanagementmarketingsalesaccountingsupporttechnicalmanagementmarketingmarketingmarketingsalessalessalessalessalessalessalessalesITproduct_mngproduct_mngproduct_mngproduct_mngITmanagementmanagementmanagementmanagementmanagementmanagementmarketingsalesaccountingsupporttechnicalmanagementmarketingmarketingmarketingsalessalessalessalessalessalessalesITproduct_mngproduct_mngproduct_mngproduct_mngITmanagementmanagementmanagementmanagementmanagementmanagementmarketingsalesaccountingsupporttechnicalmanagementmarketingmarketingmarketingsalessalessalessalessalessalessalessalesITproduct_mngproduct_mngproduct_mngproduct_mngITmanagementmanagementmanagementmanagementmanagementmanagementmarketingsalesaccountingsupporttechnicalmanagementmarketingmarketingmarketingsalessalessalessalessalessalessalessalestechnicalsupportsupportsupportsupportsupportsupportsupportsupportsupportsupportsupporttechnicaltechnicaltechnicalmanagementITITITITITproduct_mngproduct_mngproduct_mngproduct_mngITmanagementmanagementmanagementmanagementmanagementmanagementsalessalessalessalessalessalessalessalessalessalessalessalessalessalessalessalessalessalessalessalessalessalessalessalessalessalessalessalessalessalessalessalessalessalesITproduct_mngproduct_mngproduct_mngproduct_mngITmanagementmanagementmanagementmanagementmanagementmanagementmarketingsalesaccountingsupporttechnicalmanagementmarketingmarketingmarketingsalessalessalessalessalessalessalessalesITproduct_mngproduct_mngproduct_mngproduct_mngITITITITITITITmarketingaccountingaccountingITITmanagementmarketingmarketingmarketingsalessalessalessalessalessalessalesITproduct_mngproduct_mngproduct_mngproduct_mngITITmanagementmanagementmanagementmanagementmanagementmarketingITsalessalessalessalessalessalessalessalessalessalessalessalessalessalessalessalessalessalessalessalessalessalessalessalessalessalessalessalesaccountingaccountingaccountinghrhrhrhrtechnicaltechnicaltechnicaltechnicaltechnicaltechnicaltechnicaltechnicaltechnicaltechnicaltechnicalsupportsupportsupportsupportsupportsupportsupportsupportsupportsupportsupporttechnicaltechnicaltechnicalmanagementITITITITITproduct_mngproduct_mngproduct_mngproduct_mngITproduct_mngproduct_mngproduct_mngproduct_mngproduct_mngproduct_mngmarketingsalesaccountingsupporttechnicalmanagementmarketingmarketingmarketingsalessalessalessalessalessalessalessalessalessalessalessalessalessalessalessalessalessalessalesaccountingaccountingaccountinghrhrhrhrtechnicaltechnicaltechnicaltechnicaltechnicaltechnicaltechnicaltechnicaltechnicaltechnicaltechnicalsupportsupportsupportsupportsupportsupportsupportsupportsupportsupportsupporttechnicaltechnicaltechnicalmanagementITITITITITproduct_mngproduct_mngproduct_mngproduct_mngITmarketingmarketingmarketingmarketingmarketingmarketingsalesaccountingsupporttechnicalmanagementmarketingmarketingmarketingsalessalessalessalessalessalessalessalessalessalessalessalessalessalessalessalessalessalessalesaccountingaccountingaccountinghrhrhrhrtechnicaltechnicaltechnicaltechnicaltechnicaltechnicaltechnicaltechnicaltechnicaltechnicaltechnicalsupportsupportsupportsupportsupportsupportsupportsupportsupportsupportsupporttechnicaltechnicaltechnicalmanagementITITITITITproduct_mngproduct_mngproduct_mngproduct_mngITaccountingaccountinghrhrhrmarketingmarketingsalesaccountingsupporttechnicalmanagementmarketingmarketingmarketingsalessalessalessalessalessalessalessalessalessalessalessalessalessalessalessalessalessalessalesaccountingaccountingaccountinghrhrhrhrtechnicaltechnicaltechnicaltechnicaltechnicaltechnicaltechnicaltechnicaltechnicaltechnicaltechnicalsupportsupportsupportsupportsupportsupportsupportsupportsupportsupportsupporttechnicaltechnicaltechnicalmanagementITITITITITproduct_mngproduct_mngproduct_mngproduct_mngITRandDRandDRandDRandDRandDmarketingsalesaccountingsupporttechnicalmanagementmarketingmarketingmarketingsalessalessalessalessalessalessalessalessalessalessalessalessalessalessalessalessalessalessalesaccountingaccountingaccountinghrhrhrhrtechnicaltechnicaltechnicaltechnicaltechnicaltechnicaltechnicaltechnicaltechnicaltechnicaltechnicalsupportsupportsupportsupportsupportsupportsupportsupportsupportsupportsupporttechnicaltechnicaltechnicalmanagementITITITITITproduct_mngproduct_mngproduct_mngproduct_mngITaccountingaccountinghrhrhrmarketingsalesaccountingsupporttechnicalmanagementmarketingmarketingmarketingsalessalessalessalessalessalessalessalessalessalessalessalessalessalessalessalessalessalessalesaccountingaccountingaccountinghrhrhrhrtechnicaltechnicaltechnicaltechnicaltechnicaltechnicaltechnicaltechnicaltechnicaltechnicaltechnicalsupportsupportsupportsupportsupportsupportsupportsupportsupportsupportsupporttechnicaltechnicaltechnicalmanagementITITITITITproduct_mngproduct_mngproduct_mngproduct_mngITRandDRandDRandDRandDRandDmarketingsalesaccountingsupporttechnicalmanagementmarketingmarketingmarketingsalessalessalessalessalessalessalessalessalessalessalessalessalessalessalessalessalessalessalesaccountingaccountingaccountinghrhrhrhrtechnicaltechnicaltechnicaltechnicaltechnicaltechnicaltechnicaltechnicaltechnicaltechnicaltechnicalsupportsupportsupportsupportsupportsupportsupportsupportsupportsupportsupporttechnicaltechnicaltechnicalmanagementITITITITITproduct_mngproduct_mngproduct_mngproduct_mngITaccountingaccountinghrhrhrmarketingsalesaccountingsupporttechnicalmanagementmarketingmarketingmarketingsalessalessalessalessalessalessalessalessalessalessalessalessalessalessalessalessalessalessalesaccountingaccountingaccountinghrhrhrhrtechnicaltechnicaltechnicaltechnicaltechnicaltechnicaltechnicaltechnicaltechnicaltechnicaltechnicalsupportsupportsupportsupportsupportsupportsupportsupportsupportsupportsupporttechnicaltechnicaltechnicalmanagementITITITITITproduct_mngproduct_mngproduct_mngproduct_mngITRandDRandDRandDRandDRandDmarketingsalesaccountingsupporttechnicalmanagementmarketingmarketingmarketingsalessalessalessalessalessalessalessalessalessalessalessalessalessalessalessalessalessalessalesaccountingaccountingaccountinghrhrhrhrtechnicaltechnicaltechnicaltechnicaltechnicaltechnicaltechnicaltechnicaltechnicaltechnicaltechnicalsupportsupportsupportsupportsupportsupportmanagementmarketingmarketingmarketingsalessalessalessalessalessalessalessalessalessalessalessalessalessalessalessalessalessalessalesaccountingaccountingaccountinghrhrhrhrtechnicaltechnicaltechnicaltechnicaltechnicaltechnicaltechnicaltechnicaltechnicaltechnicaltechnicalsupportsupportsupportsupportsupportsupportsupportsupportsupportsupportsupporttechnicaltechnicaltechnicalmanagementITITITITITproduct_mngproduct_mngproduct_mngproduct_mngITRandDRandDRandDRandDRandDmarketingsalesaccountingsupporttechnicalmanagementmarketingmarketingmarketingsalessalessalessalessalessalessalessalessalessalessalessalessalessalessalessalessalessalessalesaccountingaccountingaccountinghrhrhrhrtechnicaltechnicaltechnicaltechnicaltechnicaltechnicaltechnicaltechnicaltechnicaltechnicaltechnicalsupportsupportsupportsupportsupportsupportsupportsupportsupport'] to numeric"
     ]
    }
   ],
   "source": [
    "# 1. compute mean of dataframe (axis = 0)\n",
    "\n",
    "df_hr.mean(axis=0)"
   ]
  },
  {
   "cell_type": "code",
   "execution_count": null,
   "metadata": {},
   "outputs": [
    {
     "data": {
      "text/plain": [
       "satisfaction_level    0.248631\n",
       "last_evaluation       0.171169\n",
       "dtype: float64"
      ]
     },
     "execution_count": 36,
     "metadata": {},
     "output_type": "execute_result"
    }
   ],
   "source": [
    "# 2. compute standard deviation\n",
    "\n",
    "df_hr[['satisfaction_level', 'last_evaluation']].std()"
   ]
  },
  {
   "cell_type": "code",
   "execution_count": null,
   "metadata": {},
   "outputs": [
    {
     "data": {
      "text/plain": [
       "Index(['satisfaction_level', 'last_evaluation', 'number_project',\n",
       "       'average_montly_hours', 'time_spend_company', 'Work_accident', 'left',\n",
       "       'promotion_last_5years', 'Department', 'salary'],\n",
       "      dtype='object')"
      ]
     },
     "execution_count": 37,
     "metadata": {},
     "output_type": "execute_result"
    }
   ],
   "source": [
    "df_hr.columns"
   ]
  },
  {
   "cell_type": "code",
   "execution_count": null,
   "metadata": {},
   "outputs": [
    {
     "name": "stdout",
     "output_type": "stream",
     "text": [
      "2169\n"
     ]
    }
   ],
   "source": [
    "# 3. sum()\n",
    "\n",
    "# get total work accident\n",
    "print(df_hr['Work_accident'].sum())"
   ]
  },
  {
   "cell_type": "code",
   "execution_count": null,
   "metadata": {},
   "outputs": [
    {
     "data": {
      "text/plain": [
       "Work_accident    2169\n",
       "left             3571\n",
       "dtype: int64"
      ]
     },
     "execution_count": 39,
     "metadata": {},
     "output_type": "execute_result"
    }
   ],
   "source": [
    "# get total work accident and left number\n",
    "\n",
    "df_hr[['Work_accident', 'left']].sum()"
   ]
  },
  {
   "cell_type": "code",
   "execution_count": null,
   "metadata": {},
   "outputs": [
    {
     "data": {
      "text/plain": [
       "1.0"
      ]
     },
     "execution_count": 40,
     "metadata": {},
     "output_type": "execute_result"
    }
   ],
   "source": [
    "# get maximum employee satisfaction level\n",
    "df_hr['satisfaction_level'].max()"
   ]
  },
  {
   "cell_type": "code",
   "execution_count": null,
   "metadata": {},
   "outputs": [
    {
     "data": {
      "text/plain": [
       "0.09"
      ]
     },
     "execution_count": 41,
     "metadata": {},
     "output_type": "execute_result"
    }
   ],
   "source": [
    "# get minimum employee satisfaction level\n",
    "df_hr['satisfaction_level'].min()"
   ]
  },
  {
   "cell_type": "markdown",
   "metadata": {},
   "source": [
    "- It means minimum employee satisfaction is 0.09 but not 0.\n",
    "- Maximum employee satisfaction is 1 i.e. some employee are fully satisfied with the company."
   ]
  },
  {
   "cell_type": "markdown",
   "metadata": {},
   "source": [
    "## Missing Data\n",
    "- In this sections we will explore methods available to find missing data and handle missing data in our data.\n",
    "- `Methods are:`\n",
    "    - isnull() or isna()\n",
    "    - notnull() or notna()\n",
    "    - dropna()\n",
    "    - fillna()"
   ]
  },
  {
   "cell_type": "markdown",
   "metadata": {},
   "source": [
    "**isnull() or isna()**\n",
    "- Returns True if DataFrame values are null\n",
    "- Dataframe method to get nan values from columns.\n",
    "- It will considered null values if there are `nan` which is python default marker for null values.\n",
    "- you can use `df.isnull()` methods which is simply an alias of `df.isna()`"
   ]
  },
  {
   "cell_type": "code",
   "execution_count": null,
   "metadata": {},
   "outputs": [
    {
     "data": {
      "text/html": [
       "<div>\n",
       "<style scoped>\n",
       "    .dataframe tbody tr th:only-of-type {\n",
       "        vertical-align: middle;\n",
       "    }\n",
       "\n",
       "    .dataframe tbody tr th {\n",
       "        vertical-align: top;\n",
       "    }\n",
       "\n",
       "    .dataframe thead th {\n",
       "        text-align: right;\n",
       "    }\n",
       "</style>\n",
       "<table border=\"1\" class=\"dataframe\">\n",
       "  <thead>\n",
       "    <tr style=\"text-align: right;\">\n",
       "      <th></th>\n",
       "      <th>satisfaction_level</th>\n",
       "      <th>last_evaluation</th>\n",
       "      <th>number_project</th>\n",
       "      <th>average_montly_hours</th>\n",
       "      <th>time_spend_company</th>\n",
       "      <th>Work_accident</th>\n",
       "      <th>left</th>\n",
       "      <th>promotion_last_5years</th>\n",
       "      <th>Department</th>\n",
       "      <th>salary</th>\n",
       "    </tr>\n",
       "  </thead>\n",
       "  <tbody>\n",
       "    <tr>\n",
       "      <th>0</th>\n",
       "      <td>False</td>\n",
       "      <td>False</td>\n",
       "      <td>False</td>\n",
       "      <td>False</td>\n",
       "      <td>False</td>\n",
       "      <td>False</td>\n",
       "      <td>False</td>\n",
       "      <td>False</td>\n",
       "      <td>False</td>\n",
       "      <td>False</td>\n",
       "    </tr>\n",
       "    <tr>\n",
       "      <th>1</th>\n",
       "      <td>False</td>\n",
       "      <td>False</td>\n",
       "      <td>False</td>\n",
       "      <td>False</td>\n",
       "      <td>False</td>\n",
       "      <td>False</td>\n",
       "      <td>False</td>\n",
       "      <td>False</td>\n",
       "      <td>False</td>\n",
       "      <td>False</td>\n",
       "    </tr>\n",
       "    <tr>\n",
       "      <th>2</th>\n",
       "      <td>False</td>\n",
       "      <td>False</td>\n",
       "      <td>False</td>\n",
       "      <td>False</td>\n",
       "      <td>False</td>\n",
       "      <td>False</td>\n",
       "      <td>False</td>\n",
       "      <td>False</td>\n",
       "      <td>False</td>\n",
       "      <td>False</td>\n",
       "    </tr>\n",
       "    <tr>\n",
       "      <th>3</th>\n",
       "      <td>False</td>\n",
       "      <td>False</td>\n",
       "      <td>False</td>\n",
       "      <td>False</td>\n",
       "      <td>False</td>\n",
       "      <td>False</td>\n",
       "      <td>False</td>\n",
       "      <td>False</td>\n",
       "      <td>False</td>\n",
       "      <td>False</td>\n",
       "    </tr>\n",
       "    <tr>\n",
       "      <th>4</th>\n",
       "      <td>False</td>\n",
       "      <td>False</td>\n",
       "      <td>False</td>\n",
       "      <td>False</td>\n",
       "      <td>False</td>\n",
       "      <td>False</td>\n",
       "      <td>False</td>\n",
       "      <td>False</td>\n",
       "      <td>False</td>\n",
       "      <td>False</td>\n",
       "    </tr>\n",
       "    <tr>\n",
       "      <th>...</th>\n",
       "      <td>...</td>\n",
       "      <td>...</td>\n",
       "      <td>...</td>\n",
       "      <td>...</td>\n",
       "      <td>...</td>\n",
       "      <td>...</td>\n",
       "      <td>...</td>\n",
       "      <td>...</td>\n",
       "      <td>...</td>\n",
       "      <td>...</td>\n",
       "    </tr>\n",
       "    <tr>\n",
       "      <th>14994</th>\n",
       "      <td>False</td>\n",
       "      <td>False</td>\n",
       "      <td>False</td>\n",
       "      <td>False</td>\n",
       "      <td>False</td>\n",
       "      <td>False</td>\n",
       "      <td>False</td>\n",
       "      <td>False</td>\n",
       "      <td>False</td>\n",
       "      <td>False</td>\n",
       "    </tr>\n",
       "    <tr>\n",
       "      <th>14995</th>\n",
       "      <td>False</td>\n",
       "      <td>False</td>\n",
       "      <td>False</td>\n",
       "      <td>False</td>\n",
       "      <td>False</td>\n",
       "      <td>False</td>\n",
       "      <td>False</td>\n",
       "      <td>False</td>\n",
       "      <td>False</td>\n",
       "      <td>False</td>\n",
       "    </tr>\n",
       "    <tr>\n",
       "      <th>14996</th>\n",
       "      <td>False</td>\n",
       "      <td>False</td>\n",
       "      <td>False</td>\n",
       "      <td>False</td>\n",
       "      <td>False</td>\n",
       "      <td>False</td>\n",
       "      <td>False</td>\n",
       "      <td>False</td>\n",
       "      <td>False</td>\n",
       "      <td>False</td>\n",
       "    </tr>\n",
       "    <tr>\n",
       "      <th>14997</th>\n",
       "      <td>False</td>\n",
       "      <td>False</td>\n",
       "      <td>False</td>\n",
       "      <td>False</td>\n",
       "      <td>False</td>\n",
       "      <td>False</td>\n",
       "      <td>False</td>\n",
       "      <td>False</td>\n",
       "      <td>False</td>\n",
       "      <td>False</td>\n",
       "    </tr>\n",
       "    <tr>\n",
       "      <th>14998</th>\n",
       "      <td>False</td>\n",
       "      <td>False</td>\n",
       "      <td>False</td>\n",
       "      <td>False</td>\n",
       "      <td>False</td>\n",
       "      <td>False</td>\n",
       "      <td>False</td>\n",
       "      <td>False</td>\n",
       "      <td>False</td>\n",
       "      <td>False</td>\n",
       "    </tr>\n",
       "  </tbody>\n",
       "</table>\n",
       "<p>14999 rows × 10 columns</p>\n",
       "</div>"
      ],
      "text/plain": [
       "       satisfaction_level  last_evaluation  number_project  \\\n",
       "0                   False            False           False   \n",
       "1                   False            False           False   \n",
       "2                   False            False           False   \n",
       "3                   False            False           False   \n",
       "4                   False            False           False   \n",
       "...                   ...              ...             ...   \n",
       "14994               False            False           False   \n",
       "14995               False            False           False   \n",
       "14996               False            False           False   \n",
       "14997               False            False           False   \n",
       "14998               False            False           False   \n",
       "\n",
       "       average_montly_hours  time_spend_company  Work_accident   left  \\\n",
       "0                     False               False          False  False   \n",
       "1                     False               False          False  False   \n",
       "2                     False               False          False  False   \n",
       "3                     False               False          False  False   \n",
       "4                     False               False          False  False   \n",
       "...                     ...                 ...            ...    ...   \n",
       "14994                 False               False          False  False   \n",
       "14995                 False               False          False  False   \n",
       "14996                 False               False          False  False   \n",
       "14997                 False               False          False  False   \n",
       "14998                 False               False          False  False   \n",
       "\n",
       "       promotion_last_5years  Department  salary  \n",
       "0                      False       False   False  \n",
       "1                      False       False   False  \n",
       "2                      False       False   False  \n",
       "3                      False       False   False  \n",
       "4                      False       False   False  \n",
       "...                      ...         ...     ...  \n",
       "14994                  False       False   False  \n",
       "14995                  False       False   False  \n",
       "14996                  False       False   False  \n",
       "14997                  False       False   False  \n",
       "14998                  False       False   False  \n",
       "\n",
       "[14999 rows x 10 columns]"
      ]
     },
     "execution_count": 42,
     "metadata": {},
     "output_type": "execute_result"
    }
   ],
   "source": [
    "# get null values column wise.\n",
    "\n",
    "df_hr.isnull()"
   ]
  },
  {
   "cell_type": "code",
   "execution_count": null,
   "metadata": {},
   "outputs": [
    {
     "data": {
      "text/plain": [
       "satisfaction_level       0\n",
       "last_evaluation          0\n",
       "number_project           0\n",
       "average_montly_hours     0\n",
       "time_spend_company       0\n",
       "Work_accident            0\n",
       "left                     0\n",
       "promotion_last_5years    0\n",
       "Department               0\n",
       "salary                   0\n",
       "dtype: int64"
      ]
     },
     "execution_count": 43,
     "metadata": {},
     "output_type": "execute_result"
    }
   ],
   "source": [
    "# sum along axis = 0\n",
    "\n",
    "df_hr.isnull().sum()"
   ]
  },
  {
   "cell_type": "markdown",
   "metadata": {},
   "source": [
    "This means there are no any values in our DataFrame."
   ]
  },
  {
   "cell_type": "markdown",
   "metadata": {},
   "source": [
    "**notnull() or notna()**\n",
    "- Returns True if DataFrame values are not null.\n",
    "- You can use method `df.notnull()` which is simply an alias of `df.notna()`"
   ]
  },
  {
   "cell_type": "code",
   "execution_count": null,
   "metadata": {},
   "outputs": [
    {
     "data": {
      "text/html": [
       "<div>\n",
       "<style scoped>\n",
       "    .dataframe tbody tr th:only-of-type {\n",
       "        vertical-align: middle;\n",
       "    }\n",
       "\n",
       "    .dataframe tbody tr th {\n",
       "        vertical-align: top;\n",
       "    }\n",
       "\n",
       "    .dataframe thead th {\n",
       "        text-align: right;\n",
       "    }\n",
       "</style>\n",
       "<table border=\"1\" class=\"dataframe\">\n",
       "  <thead>\n",
       "    <tr style=\"text-align: right;\">\n",
       "      <th></th>\n",
       "      <th>satisfaction_level</th>\n",
       "      <th>last_evaluation</th>\n",
       "      <th>number_project</th>\n",
       "      <th>average_montly_hours</th>\n",
       "      <th>time_spend_company</th>\n",
       "      <th>Work_accident</th>\n",
       "      <th>left</th>\n",
       "      <th>promotion_last_5years</th>\n",
       "      <th>Department</th>\n",
       "      <th>salary</th>\n",
       "    </tr>\n",
       "  </thead>\n",
       "  <tbody>\n",
       "    <tr>\n",
       "      <th>0</th>\n",
       "      <td>True</td>\n",
       "      <td>True</td>\n",
       "      <td>True</td>\n",
       "      <td>True</td>\n",
       "      <td>True</td>\n",
       "      <td>True</td>\n",
       "      <td>True</td>\n",
       "      <td>True</td>\n",
       "      <td>True</td>\n",
       "      <td>True</td>\n",
       "    </tr>\n",
       "    <tr>\n",
       "      <th>1</th>\n",
       "      <td>True</td>\n",
       "      <td>True</td>\n",
       "      <td>True</td>\n",
       "      <td>True</td>\n",
       "      <td>True</td>\n",
       "      <td>True</td>\n",
       "      <td>True</td>\n",
       "      <td>True</td>\n",
       "      <td>True</td>\n",
       "      <td>True</td>\n",
       "    </tr>\n",
       "    <tr>\n",
       "      <th>2</th>\n",
       "      <td>True</td>\n",
       "      <td>True</td>\n",
       "      <td>True</td>\n",
       "      <td>True</td>\n",
       "      <td>True</td>\n",
       "      <td>True</td>\n",
       "      <td>True</td>\n",
       "      <td>True</td>\n",
       "      <td>True</td>\n",
       "      <td>True</td>\n",
       "    </tr>\n",
       "    <tr>\n",
       "      <th>3</th>\n",
       "      <td>True</td>\n",
       "      <td>True</td>\n",
       "      <td>True</td>\n",
       "      <td>True</td>\n",
       "      <td>True</td>\n",
       "      <td>True</td>\n",
       "      <td>True</td>\n",
       "      <td>True</td>\n",
       "      <td>True</td>\n",
       "      <td>True</td>\n",
       "    </tr>\n",
       "    <tr>\n",
       "      <th>4</th>\n",
       "      <td>True</td>\n",
       "      <td>True</td>\n",
       "      <td>True</td>\n",
       "      <td>True</td>\n",
       "      <td>True</td>\n",
       "      <td>True</td>\n",
       "      <td>True</td>\n",
       "      <td>True</td>\n",
       "      <td>True</td>\n",
       "      <td>True</td>\n",
       "    </tr>\n",
       "    <tr>\n",
       "      <th>...</th>\n",
       "      <td>...</td>\n",
       "      <td>...</td>\n",
       "      <td>...</td>\n",
       "      <td>...</td>\n",
       "      <td>...</td>\n",
       "      <td>...</td>\n",
       "      <td>...</td>\n",
       "      <td>...</td>\n",
       "      <td>...</td>\n",
       "      <td>...</td>\n",
       "    </tr>\n",
       "    <tr>\n",
       "      <th>14994</th>\n",
       "      <td>True</td>\n",
       "      <td>True</td>\n",
       "      <td>True</td>\n",
       "      <td>True</td>\n",
       "      <td>True</td>\n",
       "      <td>True</td>\n",
       "      <td>True</td>\n",
       "      <td>True</td>\n",
       "      <td>True</td>\n",
       "      <td>True</td>\n",
       "    </tr>\n",
       "    <tr>\n",
       "      <th>14995</th>\n",
       "      <td>True</td>\n",
       "      <td>True</td>\n",
       "      <td>True</td>\n",
       "      <td>True</td>\n",
       "      <td>True</td>\n",
       "      <td>True</td>\n",
       "      <td>True</td>\n",
       "      <td>True</td>\n",
       "      <td>True</td>\n",
       "      <td>True</td>\n",
       "    </tr>\n",
       "    <tr>\n",
       "      <th>14996</th>\n",
       "      <td>True</td>\n",
       "      <td>True</td>\n",
       "      <td>True</td>\n",
       "      <td>True</td>\n",
       "      <td>True</td>\n",
       "      <td>True</td>\n",
       "      <td>True</td>\n",
       "      <td>True</td>\n",
       "      <td>True</td>\n",
       "      <td>True</td>\n",
       "    </tr>\n",
       "    <tr>\n",
       "      <th>14997</th>\n",
       "      <td>True</td>\n",
       "      <td>True</td>\n",
       "      <td>True</td>\n",
       "      <td>True</td>\n",
       "      <td>True</td>\n",
       "      <td>True</td>\n",
       "      <td>True</td>\n",
       "      <td>True</td>\n",
       "      <td>True</td>\n",
       "      <td>True</td>\n",
       "    </tr>\n",
       "    <tr>\n",
       "      <th>14998</th>\n",
       "      <td>True</td>\n",
       "      <td>True</td>\n",
       "      <td>True</td>\n",
       "      <td>True</td>\n",
       "      <td>True</td>\n",
       "      <td>True</td>\n",
       "      <td>True</td>\n",
       "      <td>True</td>\n",
       "      <td>True</td>\n",
       "      <td>True</td>\n",
       "    </tr>\n",
       "  </tbody>\n",
       "</table>\n",
       "<p>14999 rows × 10 columns</p>\n",
       "</div>"
      ],
      "text/plain": [
       "       satisfaction_level  last_evaluation  number_project  \\\n",
       "0                    True             True            True   \n",
       "1                    True             True            True   \n",
       "2                    True             True            True   \n",
       "3                    True             True            True   \n",
       "4                    True             True            True   \n",
       "...                   ...              ...             ...   \n",
       "14994                True             True            True   \n",
       "14995                True             True            True   \n",
       "14996                True             True            True   \n",
       "14997                True             True            True   \n",
       "14998                True             True            True   \n",
       "\n",
       "       average_montly_hours  time_spend_company  Work_accident  left  \\\n",
       "0                      True                True           True  True   \n",
       "1                      True                True           True  True   \n",
       "2                      True                True           True  True   \n",
       "3                      True                True           True  True   \n",
       "4                      True                True           True  True   \n",
       "...                     ...                 ...            ...   ...   \n",
       "14994                  True                True           True  True   \n",
       "14995                  True                True           True  True   \n",
       "14996                  True                True           True  True   \n",
       "14997                  True                True           True  True   \n",
       "14998                  True                True           True  True   \n",
       "\n",
       "       promotion_last_5years  Department  salary  \n",
       "0                       True        True    True  \n",
       "1                       True        True    True  \n",
       "2                       True        True    True  \n",
       "3                       True        True    True  \n",
       "4                       True        True    True  \n",
       "...                      ...         ...     ...  \n",
       "14994                   True        True    True  \n",
       "14995                   True        True    True  \n",
       "14996                   True        True    True  \n",
       "14997                   True        True    True  \n",
       "14998                   True        True    True  \n",
       "\n",
       "[14999 rows x 10 columns]"
      ]
     },
     "execution_count": 44,
     "metadata": {},
     "output_type": "execute_result"
    }
   ],
   "source": [
    "# get not null \n",
    "\n",
    "df_hr.notnull()"
   ]
  },
  {
   "cell_type": "code",
   "execution_count": null,
   "metadata": {},
   "outputs": [
    {
     "data": {
      "text/plain": [
       "satisfaction_level       14999\n",
       "last_evaluation          14999\n",
       "number_project           14999\n",
       "average_montly_hours     14999\n",
       "time_spend_company       14999\n",
       "Work_accident            14999\n",
       "left                     14999\n",
       "promotion_last_5years    14999\n",
       "Department               14999\n",
       "salary                   14999\n",
       "dtype: int64"
      ]
     },
     "execution_count": 45,
     "metadata": {},
     "output_type": "execute_result"
    }
   ],
   "source": [
    "# sum along axis = 0\n",
    "\n",
    "df_hr.notnull().sum(axis=0)"
   ]
  },
  {
   "cell_type": "markdown",
   "metadata": {},
   "source": [
    "- This also shows that no any columns contains nan values"
   ]
  },
  {
   "cell_type": "markdown",
   "metadata": {},
   "source": [
    "**dropna()**\n",
    "- Removes rows (by default axis = 0) with missing values.\n",
    "- You can also removes columns with missing values (setting axis = 1) "
   ]
  },
  {
   "cell_type": "code",
   "execution_count": null,
   "metadata": {},
   "outputs": [
    {
     "data": {
      "text/html": [
       "<div>\n",
       "<style scoped>\n",
       "    .dataframe tbody tr th:only-of-type {\n",
       "        vertical-align: middle;\n",
       "    }\n",
       "\n",
       "    .dataframe tbody tr th {\n",
       "        vertical-align: top;\n",
       "    }\n",
       "\n",
       "    .dataframe thead th {\n",
       "        text-align: right;\n",
       "    }\n",
       "</style>\n",
       "<table border=\"1\" class=\"dataframe\">\n",
       "  <thead>\n",
       "    <tr style=\"text-align: right;\">\n",
       "      <th></th>\n",
       "      <th>satisfaction_level</th>\n",
       "      <th>last_evaluation</th>\n",
       "      <th>number_project</th>\n",
       "      <th>average_montly_hours</th>\n",
       "      <th>time_spend_company</th>\n",
       "      <th>Work_accident</th>\n",
       "      <th>left</th>\n",
       "      <th>promotion_last_5years</th>\n",
       "      <th>Department</th>\n",
       "      <th>salary</th>\n",
       "    </tr>\n",
       "  </thead>\n",
       "  <tbody>\n",
       "    <tr>\n",
       "      <th>0</th>\n",
       "      <td>0.38</td>\n",
       "      <td>0.53</td>\n",
       "      <td>2</td>\n",
       "      <td>157</td>\n",
       "      <td>3</td>\n",
       "      <td>0</td>\n",
       "      <td>1</td>\n",
       "      <td>0</td>\n",
       "      <td>sales</td>\n",
       "      <td>low</td>\n",
       "    </tr>\n",
       "    <tr>\n",
       "      <th>1</th>\n",
       "      <td>0.80</td>\n",
       "      <td>0.86</td>\n",
       "      <td>5</td>\n",
       "      <td>262</td>\n",
       "      <td>6</td>\n",
       "      <td>0</td>\n",
       "      <td>1</td>\n",
       "      <td>0</td>\n",
       "      <td>sales</td>\n",
       "      <td>medium</td>\n",
       "    </tr>\n",
       "    <tr>\n",
       "      <th>2</th>\n",
       "      <td>0.11</td>\n",
       "      <td>0.88</td>\n",
       "      <td>7</td>\n",
       "      <td>272</td>\n",
       "      <td>4</td>\n",
       "      <td>0</td>\n",
       "      <td>1</td>\n",
       "      <td>0</td>\n",
       "      <td>sales</td>\n",
       "      <td>medium</td>\n",
       "    </tr>\n",
       "    <tr>\n",
       "      <th>3</th>\n",
       "      <td>0.72</td>\n",
       "      <td>0.87</td>\n",
       "      <td>5</td>\n",
       "      <td>223</td>\n",
       "      <td>5</td>\n",
       "      <td>0</td>\n",
       "      <td>1</td>\n",
       "      <td>0</td>\n",
       "      <td>sales</td>\n",
       "      <td>low</td>\n",
       "    </tr>\n",
       "    <tr>\n",
       "      <th>4</th>\n",
       "      <td>0.37</td>\n",
       "      <td>0.52</td>\n",
       "      <td>2</td>\n",
       "      <td>159</td>\n",
       "      <td>3</td>\n",
       "      <td>0</td>\n",
       "      <td>1</td>\n",
       "      <td>0</td>\n",
       "      <td>sales</td>\n",
       "      <td>low</td>\n",
       "    </tr>\n",
       "    <tr>\n",
       "      <th>...</th>\n",
       "      <td>...</td>\n",
       "      <td>...</td>\n",
       "      <td>...</td>\n",
       "      <td>...</td>\n",
       "      <td>...</td>\n",
       "      <td>...</td>\n",
       "      <td>...</td>\n",
       "      <td>...</td>\n",
       "      <td>...</td>\n",
       "      <td>...</td>\n",
       "    </tr>\n",
       "    <tr>\n",
       "      <th>14994</th>\n",
       "      <td>0.40</td>\n",
       "      <td>0.57</td>\n",
       "      <td>2</td>\n",
       "      <td>151</td>\n",
       "      <td>3</td>\n",
       "      <td>0</td>\n",
       "      <td>1</td>\n",
       "      <td>0</td>\n",
       "      <td>support</td>\n",
       "      <td>low</td>\n",
       "    </tr>\n",
       "    <tr>\n",
       "      <th>14995</th>\n",
       "      <td>0.37</td>\n",
       "      <td>0.48</td>\n",
       "      <td>2</td>\n",
       "      <td>160</td>\n",
       "      <td>3</td>\n",
       "      <td>0</td>\n",
       "      <td>1</td>\n",
       "      <td>0</td>\n",
       "      <td>support</td>\n",
       "      <td>low</td>\n",
       "    </tr>\n",
       "    <tr>\n",
       "      <th>14996</th>\n",
       "      <td>0.37</td>\n",
       "      <td>0.53</td>\n",
       "      <td>2</td>\n",
       "      <td>143</td>\n",
       "      <td>3</td>\n",
       "      <td>0</td>\n",
       "      <td>1</td>\n",
       "      <td>0</td>\n",
       "      <td>support</td>\n",
       "      <td>low</td>\n",
       "    </tr>\n",
       "    <tr>\n",
       "      <th>14997</th>\n",
       "      <td>0.11</td>\n",
       "      <td>0.96</td>\n",
       "      <td>6</td>\n",
       "      <td>280</td>\n",
       "      <td>4</td>\n",
       "      <td>0</td>\n",
       "      <td>1</td>\n",
       "      <td>0</td>\n",
       "      <td>support</td>\n",
       "      <td>low</td>\n",
       "    </tr>\n",
       "    <tr>\n",
       "      <th>14998</th>\n",
       "      <td>0.37</td>\n",
       "      <td>0.52</td>\n",
       "      <td>2</td>\n",
       "      <td>158</td>\n",
       "      <td>3</td>\n",
       "      <td>0</td>\n",
       "      <td>1</td>\n",
       "      <td>0</td>\n",
       "      <td>support</td>\n",
       "      <td>low</td>\n",
       "    </tr>\n",
       "  </tbody>\n",
       "</table>\n",
       "<p>14999 rows × 10 columns</p>\n",
       "</div>"
      ],
      "text/plain": [
       "       satisfaction_level  last_evaluation  number_project  \\\n",
       "0                    0.38             0.53               2   \n",
       "1                    0.80             0.86               5   \n",
       "2                    0.11             0.88               7   \n",
       "3                    0.72             0.87               5   \n",
       "4                    0.37             0.52               2   \n",
       "...                   ...              ...             ...   \n",
       "14994                0.40             0.57               2   \n",
       "14995                0.37             0.48               2   \n",
       "14996                0.37             0.53               2   \n",
       "14997                0.11             0.96               6   \n",
       "14998                0.37             0.52               2   \n",
       "\n",
       "       average_montly_hours  time_spend_company  Work_accident  left  \\\n",
       "0                       157                   3              0     1   \n",
       "1                       262                   6              0     1   \n",
       "2                       272                   4              0     1   \n",
       "3                       223                   5              0     1   \n",
       "4                       159                   3              0     1   \n",
       "...                     ...                 ...            ...   ...   \n",
       "14994                   151                   3              0     1   \n",
       "14995                   160                   3              0     1   \n",
       "14996                   143                   3              0     1   \n",
       "14997                   280                   4              0     1   \n",
       "14998                   158                   3              0     1   \n",
       "\n",
       "       promotion_last_5years Department  salary  \n",
       "0                          0      sales     low  \n",
       "1                          0      sales  medium  \n",
       "2                          0      sales  medium  \n",
       "3                          0      sales     low  \n",
       "4                          0      sales     low  \n",
       "...                      ...        ...     ...  \n",
       "14994                      0    support     low  \n",
       "14995                      0    support     low  \n",
       "14996                      0    support     low  \n",
       "14997                      0    support     low  \n",
       "14998                      0    support     low  \n",
       "\n",
       "[14999 rows x 10 columns]"
      ]
     },
     "execution_count": 46,
     "metadata": {},
     "output_type": "execute_result"
    }
   ],
   "source": [
    "# remove rows with missing values\n",
    "# Hint: df.dropna()\n",
    "\n",
    "df_hr.dropna()"
   ]
  },
  {
   "cell_type": "markdown",
   "metadata": {},
   "source": [
    "**fillna()**\n",
    "- Fill missing values with given values\n",
    "- You can use `df.fillna(value)` function"
   ]
  },
  {
   "cell_type": "code",
   "execution_count": null,
   "metadata": {},
   "outputs": [
    {
     "data": {
      "text/html": [
       "<div>\n",
       "<style scoped>\n",
       "    .dataframe tbody tr th:only-of-type {\n",
       "        vertical-align: middle;\n",
       "    }\n",
       "\n",
       "    .dataframe tbody tr th {\n",
       "        vertical-align: top;\n",
       "    }\n",
       "\n",
       "    .dataframe thead th {\n",
       "        text-align: right;\n",
       "    }\n",
       "</style>\n",
       "<table border=\"1\" class=\"dataframe\">\n",
       "  <thead>\n",
       "    <tr style=\"text-align: right;\">\n",
       "      <th></th>\n",
       "      <th>satisfaction_level</th>\n",
       "      <th>last_evaluation</th>\n",
       "      <th>number_project</th>\n",
       "      <th>average_montly_hours</th>\n",
       "      <th>time_spend_company</th>\n",
       "      <th>Work_accident</th>\n",
       "      <th>left</th>\n",
       "      <th>promotion_last_5years</th>\n",
       "      <th>Department</th>\n",
       "      <th>salary</th>\n",
       "    </tr>\n",
       "  </thead>\n",
       "  <tbody>\n",
       "    <tr>\n",
       "      <th>0</th>\n",
       "      <td>0.38</td>\n",
       "      <td>0.53</td>\n",
       "      <td>2</td>\n",
       "      <td>157</td>\n",
       "      <td>3</td>\n",
       "      <td>0</td>\n",
       "      <td>1</td>\n",
       "      <td>0</td>\n",
       "      <td>sales</td>\n",
       "      <td>low</td>\n",
       "    </tr>\n",
       "    <tr>\n",
       "      <th>1</th>\n",
       "      <td>0.80</td>\n",
       "      <td>0.86</td>\n",
       "      <td>5</td>\n",
       "      <td>262</td>\n",
       "      <td>6</td>\n",
       "      <td>0</td>\n",
       "      <td>1</td>\n",
       "      <td>0</td>\n",
       "      <td>sales</td>\n",
       "      <td>medium</td>\n",
       "    </tr>\n",
       "    <tr>\n",
       "      <th>2</th>\n",
       "      <td>0.11</td>\n",
       "      <td>0.88</td>\n",
       "      <td>7</td>\n",
       "      <td>272</td>\n",
       "      <td>4</td>\n",
       "      <td>0</td>\n",
       "      <td>1</td>\n",
       "      <td>0</td>\n",
       "      <td>sales</td>\n",
       "      <td>medium</td>\n",
       "    </tr>\n",
       "    <tr>\n",
       "      <th>3</th>\n",
       "      <td>0.72</td>\n",
       "      <td>0.87</td>\n",
       "      <td>5</td>\n",
       "      <td>223</td>\n",
       "      <td>5</td>\n",
       "      <td>0</td>\n",
       "      <td>1</td>\n",
       "      <td>0</td>\n",
       "      <td>sales</td>\n",
       "      <td>low</td>\n",
       "    </tr>\n",
       "    <tr>\n",
       "      <th>4</th>\n",
       "      <td>0.37</td>\n",
       "      <td>0.52</td>\n",
       "      <td>2</td>\n",
       "      <td>159</td>\n",
       "      <td>3</td>\n",
       "      <td>0</td>\n",
       "      <td>1</td>\n",
       "      <td>0</td>\n",
       "      <td>sales</td>\n",
       "      <td>low</td>\n",
       "    </tr>\n",
       "    <tr>\n",
       "      <th>...</th>\n",
       "      <td>...</td>\n",
       "      <td>...</td>\n",
       "      <td>...</td>\n",
       "      <td>...</td>\n",
       "      <td>...</td>\n",
       "      <td>...</td>\n",
       "      <td>...</td>\n",
       "      <td>...</td>\n",
       "      <td>...</td>\n",
       "      <td>...</td>\n",
       "    </tr>\n",
       "    <tr>\n",
       "      <th>14994</th>\n",
       "      <td>0.40</td>\n",
       "      <td>0.57</td>\n",
       "      <td>2</td>\n",
       "      <td>151</td>\n",
       "      <td>3</td>\n",
       "      <td>0</td>\n",
       "      <td>1</td>\n",
       "      <td>0</td>\n",
       "      <td>support</td>\n",
       "      <td>low</td>\n",
       "    </tr>\n",
       "    <tr>\n",
       "      <th>14995</th>\n",
       "      <td>0.37</td>\n",
       "      <td>0.48</td>\n",
       "      <td>2</td>\n",
       "      <td>160</td>\n",
       "      <td>3</td>\n",
       "      <td>0</td>\n",
       "      <td>1</td>\n",
       "      <td>0</td>\n",
       "      <td>support</td>\n",
       "      <td>low</td>\n",
       "    </tr>\n",
       "    <tr>\n",
       "      <th>14996</th>\n",
       "      <td>0.37</td>\n",
       "      <td>0.53</td>\n",
       "      <td>2</td>\n",
       "      <td>143</td>\n",
       "      <td>3</td>\n",
       "      <td>0</td>\n",
       "      <td>1</td>\n",
       "      <td>0</td>\n",
       "      <td>support</td>\n",
       "      <td>low</td>\n",
       "    </tr>\n",
       "    <tr>\n",
       "      <th>14997</th>\n",
       "      <td>0.11</td>\n",
       "      <td>0.96</td>\n",
       "      <td>6</td>\n",
       "      <td>280</td>\n",
       "      <td>4</td>\n",
       "      <td>0</td>\n",
       "      <td>1</td>\n",
       "      <td>0</td>\n",
       "      <td>support</td>\n",
       "      <td>low</td>\n",
       "    </tr>\n",
       "    <tr>\n",
       "      <th>14998</th>\n",
       "      <td>0.37</td>\n",
       "      <td>0.52</td>\n",
       "      <td>2</td>\n",
       "      <td>158</td>\n",
       "      <td>3</td>\n",
       "      <td>0</td>\n",
       "      <td>1</td>\n",
       "      <td>0</td>\n",
       "      <td>support</td>\n",
       "      <td>low</td>\n",
       "    </tr>\n",
       "  </tbody>\n",
       "</table>\n",
       "<p>14999 rows × 10 columns</p>\n",
       "</div>"
      ],
      "text/plain": [
       "       satisfaction_level  last_evaluation  number_project  \\\n",
       "0                    0.38             0.53               2   \n",
       "1                    0.80             0.86               5   \n",
       "2                    0.11             0.88               7   \n",
       "3                    0.72             0.87               5   \n",
       "4                    0.37             0.52               2   \n",
       "...                   ...              ...             ...   \n",
       "14994                0.40             0.57               2   \n",
       "14995                0.37             0.48               2   \n",
       "14996                0.37             0.53               2   \n",
       "14997                0.11             0.96               6   \n",
       "14998                0.37             0.52               2   \n",
       "\n",
       "       average_montly_hours  time_spend_company  Work_accident  left  \\\n",
       "0                       157                   3              0     1   \n",
       "1                       262                   6              0     1   \n",
       "2                       272                   4              0     1   \n",
       "3                       223                   5              0     1   \n",
       "4                       159                   3              0     1   \n",
       "...                     ...                 ...            ...   ...   \n",
       "14994                   151                   3              0     1   \n",
       "14995                   160                   3              0     1   \n",
       "14996                   143                   3              0     1   \n",
       "14997                   280                   4              0     1   \n",
       "14998                   158                   3              0     1   \n",
       "\n",
       "       promotion_last_5years Department  salary  \n",
       "0                          0      sales     low  \n",
       "1                          0      sales  medium  \n",
       "2                          0      sales  medium  \n",
       "3                          0      sales     low  \n",
       "4                          0      sales     low  \n",
       "...                      ...        ...     ...  \n",
       "14994                      0    support     low  \n",
       "14995                      0    support     low  \n",
       "14996                      0    support     low  \n",
       "14997                      0    support     low  \n",
       "14998                      0    support     low  \n",
       "\n",
       "[14999 rows x 10 columns]"
      ]
     },
     "execution_count": 47,
     "metadata": {},
     "output_type": "execute_result"
    }
   ],
   "source": [
    "# fill missing values with 5\n",
    "# Hint: df.fillna(value)\n",
    "\n",
    "df_hr.fillna(5)"
   ]
  },
  {
   "cell_type": "markdown",
   "metadata": {},
   "source": [
    "- Since there are no any missing values in our dataset, so dropna() and fillna() is not useful"
   ]
  },
  {
   "cell_type": "markdown",
   "metadata": {},
   "source": [
    "## Data Manipulation\n",
    "- `Methods are:`\n",
    "    - replace()\n",
    "        - replace values from dataframe\n",
    "        - df.replace({'old_val': 'new_val', 'old_val_2': 'new_val_2',...})\n",
    "    - astype()\n",
    "        - change dataframe column types\n",
    "        - df.astype({'col1': 'new_type', 'col2': 'new_type2',......})\n",
    "    - drop()\n",
    "        - Drop column\n",
    "        - df.drop(col_name, axis=1)\n",
    "    - sort_values()\n",
    "        - sort values either in ascending order or descending order.\n",
    "        - df.sort_values(by='col', ascending=True, inplace=True) --> SOrt in ascending order\n",
    "        - df.sort_values(by='col', ascending=False, inplace=True) --> SOrt in descending order\n",
    "    - groupby()\n",
    "        - Group DataFrame by one or more columns\n",
    "        - df.groupby(['col1', 'col2', ..]).agg({'col': 'sum', 'col', 'count'})\n",
    "    - apply()\n",
    "        - applies user defined function or lambda function to the data.\n",
    "        - df.apply(func, axis=0)\n",
    "            - func: The function to apply to each column (default) or row in the DataFrame\n",
    "            - axis: The axis along which the function will be applied."
   ]
  },
  {
   "cell_type": "code",
   "execution_count": null,
   "metadata": {},
   "outputs": [
    {
     "name": "stderr",
     "output_type": "stream",
     "text": [
      "/tmp/ipykernel_6814/802903232.py:5: FutureWarning: A value is trying to be set on a copy of a DataFrame or Series through chained assignment using an inplace method.\n",
      "The behavior will change in pandas 3.0. This inplace method will never work because the intermediate object on which we are setting values always behaves as a copy.\n",
      "\n",
      "For example, when doing 'df[col].method(value, inplace=True)', try using 'df.method({col: value}, inplace=True)' or df[col] = df[col].method(value) instead, to perform the operation inplace on the original object.\n",
      "\n",
      "\n",
      "  df_hr['left'].replace({1: 'yes', 0: 'no'}, inplace=True)\n"
     ]
    },
    {
     "data": {
      "text/plain": [
       "left\n",
       "no     11428\n",
       "yes     3571\n",
       "Name: count, dtype: int64"
      ]
     },
     "execution_count": 48,
     "metadata": {},
     "output_type": "execute_result"
    }
   ],
   "source": [
    "# Replace values from \"left column\"\n",
    "# 1 by yes and 0 by no\n",
    "# Hint: df.replace({'old_val': 'new_val', 'old_val_2': 'new_val_2'})\n",
    "\n",
    "df_hr['left'].replace({1: 'yes', 0: 'no'}, inplace=True)\n",
    "df_hr['left'].value_counts()"
   ]
  },
  {
   "cell_type": "code",
   "execution_count": null,
   "metadata": {},
   "outputs": [
    {
     "data": {
      "text/html": [
       "<div>\n",
       "<style scoped>\n",
       "    .dataframe tbody tr th:only-of-type {\n",
       "        vertical-align: middle;\n",
       "    }\n",
       "\n",
       "    .dataframe tbody tr th {\n",
       "        vertical-align: top;\n",
       "    }\n",
       "\n",
       "    .dataframe thead th {\n",
       "        text-align: right;\n",
       "    }\n",
       "</style>\n",
       "<table border=\"1\" class=\"dataframe\">\n",
       "  <thead>\n",
       "    <tr style=\"text-align: right;\">\n",
       "      <th></th>\n",
       "      <th>satisfaction_level</th>\n",
       "      <th>last_evaluation</th>\n",
       "      <th>number_project</th>\n",
       "      <th>average_montly_hours</th>\n",
       "      <th>time_spend_company</th>\n",
       "      <th>Work_accident</th>\n",
       "      <th>left</th>\n",
       "      <th>promotion_last_5years</th>\n",
       "      <th>Department</th>\n",
       "      <th>salary</th>\n",
       "    </tr>\n",
       "  </thead>\n",
       "  <tbody>\n",
       "    <tr>\n",
       "      <th>0</th>\n",
       "      <td>0.38</td>\n",
       "      <td>0.53</td>\n",
       "      <td>2</td>\n",
       "      <td>157</td>\n",
       "      <td>3</td>\n",
       "      <td>0</td>\n",
       "      <td>True</td>\n",
       "      <td>0</td>\n",
       "      <td>sales</td>\n",
       "      <td>low</td>\n",
       "    </tr>\n",
       "    <tr>\n",
       "      <th>1</th>\n",
       "      <td>0.80</td>\n",
       "      <td>0.86</td>\n",
       "      <td>5</td>\n",
       "      <td>262</td>\n",
       "      <td>6</td>\n",
       "      <td>0</td>\n",
       "      <td>True</td>\n",
       "      <td>0</td>\n",
       "      <td>sales</td>\n",
       "      <td>medium</td>\n",
       "    </tr>\n",
       "    <tr>\n",
       "      <th>2</th>\n",
       "      <td>0.11</td>\n",
       "      <td>0.88</td>\n",
       "      <td>7</td>\n",
       "      <td>272</td>\n",
       "      <td>4</td>\n",
       "      <td>0</td>\n",
       "      <td>True</td>\n",
       "      <td>0</td>\n",
       "      <td>sales</td>\n",
       "      <td>medium</td>\n",
       "    </tr>\n",
       "    <tr>\n",
       "      <th>3</th>\n",
       "      <td>0.72</td>\n",
       "      <td>0.87</td>\n",
       "      <td>5</td>\n",
       "      <td>223</td>\n",
       "      <td>5</td>\n",
       "      <td>0</td>\n",
       "      <td>True</td>\n",
       "      <td>0</td>\n",
       "      <td>sales</td>\n",
       "      <td>low</td>\n",
       "    </tr>\n",
       "    <tr>\n",
       "      <th>4</th>\n",
       "      <td>0.37</td>\n",
       "      <td>0.52</td>\n",
       "      <td>2</td>\n",
       "      <td>159</td>\n",
       "      <td>3</td>\n",
       "      <td>0</td>\n",
       "      <td>True</td>\n",
       "      <td>0</td>\n",
       "      <td>sales</td>\n",
       "      <td>low</td>\n",
       "    </tr>\n",
       "  </tbody>\n",
       "</table>\n",
       "</div>"
      ],
      "text/plain": [
       "   satisfaction_level  last_evaluation  number_project  average_montly_hours  \\\n",
       "0                0.38             0.53               2                   157   \n",
       "1                0.80             0.86               5                   262   \n",
       "2                0.11             0.88               7                   272   \n",
       "3                0.72             0.87               5                   223   \n",
       "4                0.37             0.52               2                   159   \n",
       "\n",
       "   time_spend_company  Work_accident  left  promotion_last_5years Department  \\\n",
       "0                   3              0  True                      0      sales   \n",
       "1                   6              0  True                      0      sales   \n",
       "2                   4              0  True                      0      sales   \n",
       "3                   5              0  True                      0      sales   \n",
       "4                   3              0  True                      0      sales   \n",
       "\n",
       "   salary  \n",
       "0     low  \n",
       "1  medium  \n",
       "2  medium  \n",
       "3     low  \n",
       "4     low  "
      ]
     },
     "execution_count": 49,
     "metadata": {},
     "output_type": "execute_result"
    }
   ],
   "source": [
    "# Change column types in dataframe\n",
    "# convert \"left\" column to type \"bool\"\n",
    "\n",
    "df_typecast = df_hr.astype({'left': 'bool'})\n",
    "df_typecast.head()"
   ]
  },
  {
   "cell_type": "code",
   "execution_count": 53,
   "metadata": {},
   "outputs": [
    {
     "ename": "KeyError",
     "evalue": "\"['salary'] not found in axis\"",
     "output_type": "error",
     "traceback": [
      "\u001b[0;31m---------------------------------------------------------------------------\u001b[0m",
      "\u001b[0;31mKeyError\u001b[0m                                  Traceback (most recent call last)",
      "Cell \u001b[0;32mIn[53], line 5\u001b[0m\n\u001b[1;32m      1\u001b[0m \u001b[38;5;66;03m# Drop column\u001b[39;00m\n\u001b[1;32m      2\u001b[0m \u001b[38;5;66;03m# example: drop column named salary\u001b[39;00m\n\u001b[1;32m      3\u001b[0m \u001b[38;5;66;03m# Hint: df.drop('col_name', axis=1)\u001b[39;00m\n\u001b[0;32m----> 5\u001b[0m df_drop \u001b[38;5;241m=\u001b[39m \u001b[43mdf_hr\u001b[49m\u001b[38;5;241;43m.\u001b[39;49m\u001b[43mdrop\u001b[49m\u001b[43m(\u001b[49m\u001b[38;5;124;43m'\u001b[39;49m\u001b[38;5;124;43msalary\u001b[39;49m\u001b[38;5;124;43m'\u001b[39;49m\u001b[43m,\u001b[49m\u001b[43m \u001b[49m\u001b[43maxis\u001b[49m\u001b[38;5;241;43m=\u001b[39;49m\u001b[38;5;241;43m1\u001b[39;49m\u001b[43m)\u001b[49m\n\u001b[1;32m      6\u001b[0m df_drop\u001b[38;5;241m.\u001b[39mhead()\n",
      "File \u001b[0;32m~/.local/lib/python3.10/site-packages/pandas/core/frame.py:5568\u001b[0m, in \u001b[0;36mDataFrame.drop\u001b[0;34m(self, labels, axis, index, columns, level, inplace, errors)\u001b[0m\n\u001b[1;32m   5420\u001b[0m \u001b[38;5;28;01mdef\u001b[39;00m \u001b[38;5;21mdrop\u001b[39m(\n\u001b[1;32m   5421\u001b[0m     \u001b[38;5;28mself\u001b[39m,\n\u001b[1;32m   5422\u001b[0m     labels: IndexLabel \u001b[38;5;241m|\u001b[39m \u001b[38;5;28;01mNone\u001b[39;00m \u001b[38;5;241m=\u001b[39m \u001b[38;5;28;01mNone\u001b[39;00m,\n\u001b[0;32m   (...)\u001b[0m\n\u001b[1;32m   5429\u001b[0m     errors: IgnoreRaise \u001b[38;5;241m=\u001b[39m \u001b[38;5;124m\"\u001b[39m\u001b[38;5;124mraise\u001b[39m\u001b[38;5;124m\"\u001b[39m,\n\u001b[1;32m   5430\u001b[0m ) \u001b[38;5;241m-\u001b[39m\u001b[38;5;241m>\u001b[39m DataFrame \u001b[38;5;241m|\u001b[39m \u001b[38;5;28;01mNone\u001b[39;00m:\n\u001b[1;32m   5431\u001b[0m \u001b[38;5;250m    \u001b[39m\u001b[38;5;124;03m\"\"\"\u001b[39;00m\n\u001b[1;32m   5432\u001b[0m \u001b[38;5;124;03m    Drop specified labels from rows or columns.\u001b[39;00m\n\u001b[1;32m   5433\u001b[0m \n\u001b[0;32m   (...)\u001b[0m\n\u001b[1;32m   5566\u001b[0m \u001b[38;5;124;03m            weight  1.0     0.8\u001b[39;00m\n\u001b[1;32m   5567\u001b[0m \u001b[38;5;124;03m    \"\"\"\u001b[39;00m\n\u001b[0;32m-> 5568\u001b[0m     \u001b[38;5;28;01mreturn\u001b[39;00m \u001b[38;5;28;43msuper\u001b[39;49m\u001b[43m(\u001b[49m\u001b[43m)\u001b[49m\u001b[38;5;241;43m.\u001b[39;49m\u001b[43mdrop\u001b[49m\u001b[43m(\u001b[49m\n\u001b[1;32m   5569\u001b[0m \u001b[43m        \u001b[49m\u001b[43mlabels\u001b[49m\u001b[38;5;241;43m=\u001b[39;49m\u001b[43mlabels\u001b[49m\u001b[43m,\u001b[49m\n\u001b[1;32m   5570\u001b[0m \u001b[43m        \u001b[49m\u001b[43maxis\u001b[49m\u001b[38;5;241;43m=\u001b[39;49m\u001b[43maxis\u001b[49m\u001b[43m,\u001b[49m\n\u001b[1;32m   5571\u001b[0m \u001b[43m        \u001b[49m\u001b[43mindex\u001b[49m\u001b[38;5;241;43m=\u001b[39;49m\u001b[43mindex\u001b[49m\u001b[43m,\u001b[49m\n\u001b[1;32m   5572\u001b[0m \u001b[43m        \u001b[49m\u001b[43mcolumns\u001b[49m\u001b[38;5;241;43m=\u001b[39;49m\u001b[43mcolumns\u001b[49m\u001b[43m,\u001b[49m\n\u001b[1;32m   5573\u001b[0m \u001b[43m        \u001b[49m\u001b[43mlevel\u001b[49m\u001b[38;5;241;43m=\u001b[39;49m\u001b[43mlevel\u001b[49m\u001b[43m,\u001b[49m\n\u001b[1;32m   5574\u001b[0m \u001b[43m        \u001b[49m\u001b[43minplace\u001b[49m\u001b[38;5;241;43m=\u001b[39;49m\u001b[43minplace\u001b[49m\u001b[43m,\u001b[49m\n\u001b[1;32m   5575\u001b[0m \u001b[43m        \u001b[49m\u001b[43merrors\u001b[49m\u001b[38;5;241;43m=\u001b[39;49m\u001b[43merrors\u001b[49m\u001b[43m,\u001b[49m\n\u001b[1;32m   5576\u001b[0m \u001b[43m    \u001b[49m\u001b[43m)\u001b[49m\n",
      "File \u001b[0;32m~/.local/lib/python3.10/site-packages/pandas/core/generic.py:4785\u001b[0m, in \u001b[0;36mNDFrame.drop\u001b[0;34m(self, labels, axis, index, columns, level, inplace, errors)\u001b[0m\n\u001b[1;32m   4783\u001b[0m \u001b[38;5;28;01mfor\u001b[39;00m axis, labels \u001b[38;5;129;01min\u001b[39;00m axes\u001b[38;5;241m.\u001b[39mitems():\n\u001b[1;32m   4784\u001b[0m     \u001b[38;5;28;01mif\u001b[39;00m labels \u001b[38;5;129;01mis\u001b[39;00m \u001b[38;5;129;01mnot\u001b[39;00m \u001b[38;5;28;01mNone\u001b[39;00m:\n\u001b[0;32m-> 4785\u001b[0m         obj \u001b[38;5;241m=\u001b[39m \u001b[43mobj\u001b[49m\u001b[38;5;241;43m.\u001b[39;49m\u001b[43m_drop_axis\u001b[49m\u001b[43m(\u001b[49m\u001b[43mlabels\u001b[49m\u001b[43m,\u001b[49m\u001b[43m \u001b[49m\u001b[43maxis\u001b[49m\u001b[43m,\u001b[49m\u001b[43m \u001b[49m\u001b[43mlevel\u001b[49m\u001b[38;5;241;43m=\u001b[39;49m\u001b[43mlevel\u001b[49m\u001b[43m,\u001b[49m\u001b[43m \u001b[49m\u001b[43merrors\u001b[49m\u001b[38;5;241;43m=\u001b[39;49m\u001b[43merrors\u001b[49m\u001b[43m)\u001b[49m\n\u001b[1;32m   4787\u001b[0m \u001b[38;5;28;01mif\u001b[39;00m inplace:\n\u001b[1;32m   4788\u001b[0m     \u001b[38;5;28mself\u001b[39m\u001b[38;5;241m.\u001b[39m_update_inplace(obj)\n",
      "File \u001b[0;32m~/.local/lib/python3.10/site-packages/pandas/core/generic.py:4827\u001b[0m, in \u001b[0;36mNDFrame._drop_axis\u001b[0;34m(self, labels, axis, level, errors, only_slice)\u001b[0m\n\u001b[1;32m   4825\u001b[0m         new_axis \u001b[38;5;241m=\u001b[39m axis\u001b[38;5;241m.\u001b[39mdrop(labels, level\u001b[38;5;241m=\u001b[39mlevel, errors\u001b[38;5;241m=\u001b[39merrors)\n\u001b[1;32m   4826\u001b[0m     \u001b[38;5;28;01melse\u001b[39;00m:\n\u001b[0;32m-> 4827\u001b[0m         new_axis \u001b[38;5;241m=\u001b[39m \u001b[43maxis\u001b[49m\u001b[38;5;241;43m.\u001b[39;49m\u001b[43mdrop\u001b[49m\u001b[43m(\u001b[49m\u001b[43mlabels\u001b[49m\u001b[43m,\u001b[49m\u001b[43m \u001b[49m\u001b[43merrors\u001b[49m\u001b[38;5;241;43m=\u001b[39;49m\u001b[43merrors\u001b[49m\u001b[43m)\u001b[49m\n\u001b[1;32m   4828\u001b[0m     indexer \u001b[38;5;241m=\u001b[39m axis\u001b[38;5;241m.\u001b[39mget_indexer(new_axis)\n\u001b[1;32m   4830\u001b[0m \u001b[38;5;66;03m# Case for non-unique axis\u001b[39;00m\n\u001b[1;32m   4831\u001b[0m \u001b[38;5;28;01melse\u001b[39;00m:\n",
      "File \u001b[0;32m~/.local/lib/python3.10/site-packages/pandas/core/indexes/base.py:7070\u001b[0m, in \u001b[0;36mIndex.drop\u001b[0;34m(self, labels, errors)\u001b[0m\n\u001b[1;32m   7068\u001b[0m \u001b[38;5;28;01mif\u001b[39;00m mask\u001b[38;5;241m.\u001b[39many():\n\u001b[1;32m   7069\u001b[0m     \u001b[38;5;28;01mif\u001b[39;00m errors \u001b[38;5;241m!=\u001b[39m \u001b[38;5;124m\"\u001b[39m\u001b[38;5;124mignore\u001b[39m\u001b[38;5;124m\"\u001b[39m:\n\u001b[0;32m-> 7070\u001b[0m         \u001b[38;5;28;01mraise\u001b[39;00m \u001b[38;5;167;01mKeyError\u001b[39;00m(\u001b[38;5;124mf\u001b[39m\u001b[38;5;124m\"\u001b[39m\u001b[38;5;132;01m{\u001b[39;00mlabels[mask]\u001b[38;5;241m.\u001b[39mtolist()\u001b[38;5;132;01m}\u001b[39;00m\u001b[38;5;124m not found in axis\u001b[39m\u001b[38;5;124m\"\u001b[39m)\n\u001b[1;32m   7071\u001b[0m     indexer \u001b[38;5;241m=\u001b[39m indexer[\u001b[38;5;241m~\u001b[39mmask]\n\u001b[1;32m   7072\u001b[0m \u001b[38;5;28;01mreturn\u001b[39;00m \u001b[38;5;28mself\u001b[39m\u001b[38;5;241m.\u001b[39mdelete(indexer)\n",
      "\u001b[0;31mKeyError\u001b[0m: \"['salary'] not found in axis\""
     ]
    }
   ],
   "source": [
    "# Drop column\n",
    "# example: drop column named salary\n",
    "# Hint: df.drop('col_name', axis=1)\n",
    "\n",
    "df_drop = df_hr.drop('salary', axis=1)\n",
    "df_drop.head()"
   ]
  },
  {
   "cell_type": "code",
   "execution_count": 52,
   "metadata": {},
   "outputs": [
    {
     "ename": "KeyError",
     "evalue": "'Work_accident'",
     "output_type": "error",
     "traceback": [
      "\u001b[0;31m---------------------------------------------------------------------------\u001b[0m",
      "\u001b[0;31mKeyError\u001b[0m                                  Traceback (most recent call last)",
      "\u001b[0;32m/tmp/ipykernel_4599/2051487841.py\u001b[0m in \u001b[0;36m?\u001b[0;34m()\u001b[0m\n\u001b[1;32m      1\u001b[0m \u001b[0;31m# sort values by Work accident\u001b[0m\u001b[0;34m\u001b[0m\u001b[0;34m\u001b[0m\u001b[0m\n\u001b[0;32m----> 2\u001b[0;31m \u001b[0mdf_hr\u001b[0m\u001b[0;34m.\u001b[0m\u001b[0msort_values\u001b[0m\u001b[0;34m(\u001b[0m\u001b[0mby\u001b[0m\u001b[0;34m=\u001b[0m\u001b[0;34m'Work_accident'\u001b[0m\u001b[0;34m,\u001b[0m \u001b[0mascending\u001b[0m\u001b[0;34m=\u001b[0m\u001b[0;32mFalse\u001b[0m\u001b[0;34m)\u001b[0m\u001b[0;34m\u001b[0m\u001b[0;34m\u001b[0m\u001b[0m\n\u001b[0m",
      "\u001b[0;32m~/.local/lib/python3.10/site-packages/pandas/core/frame.py\u001b[0m in \u001b[0;36m?\u001b[0;34m(self, by, axis, ascending, inplace, kind, na_position, ignore_index, key)\u001b[0m\n\u001b[1;32m   7172\u001b[0m             )\n\u001b[1;32m   7173\u001b[0m         \u001b[0;32melif\u001b[0m \u001b[0mlen\u001b[0m\u001b[0;34m(\u001b[0m\u001b[0mby\u001b[0m\u001b[0;34m)\u001b[0m\u001b[0;34m:\u001b[0m\u001b[0;34m\u001b[0m\u001b[0;34m\u001b[0m\u001b[0m\n\u001b[1;32m   7174\u001b[0m             \u001b[0;31m# len(by) == 1\u001b[0m\u001b[0;34m\u001b[0m\u001b[0;34m\u001b[0m\u001b[0m\n\u001b[1;32m   7175\u001b[0m \u001b[0;34m\u001b[0m\u001b[0m\n\u001b[0;32m-> 7176\u001b[0;31m             \u001b[0mk\u001b[0m \u001b[0;34m=\u001b[0m \u001b[0mself\u001b[0m\u001b[0;34m.\u001b[0m\u001b[0m_get_label_or_level_values\u001b[0m\u001b[0;34m(\u001b[0m\u001b[0mby\u001b[0m\u001b[0;34m[\u001b[0m\u001b[0;36m0\u001b[0m\u001b[0;34m]\u001b[0m\u001b[0;34m,\u001b[0m \u001b[0maxis\u001b[0m\u001b[0;34m=\u001b[0m\u001b[0maxis\u001b[0m\u001b[0;34m)\u001b[0m\u001b[0;34m\u001b[0m\u001b[0;34m\u001b[0m\u001b[0m\n\u001b[0m\u001b[1;32m   7177\u001b[0m \u001b[0;34m\u001b[0m\u001b[0m\n\u001b[1;32m   7178\u001b[0m             \u001b[0;31m# need to rewrap column in Series to apply key function\u001b[0m\u001b[0;34m\u001b[0m\u001b[0;34m\u001b[0m\u001b[0m\n\u001b[1;32m   7179\u001b[0m             \u001b[0;32mif\u001b[0m \u001b[0mkey\u001b[0m \u001b[0;32mis\u001b[0m \u001b[0;32mnot\u001b[0m \u001b[0;32mNone\u001b[0m\u001b[0;34m:\u001b[0m\u001b[0;34m\u001b[0m\u001b[0;34m\u001b[0m\u001b[0m\n",
      "\u001b[0;32m~/.local/lib/python3.10/site-packages/pandas/core/generic.py\u001b[0m in \u001b[0;36m?\u001b[0;34m(self, key, axis)\u001b[0m\n\u001b[1;32m   1906\u001b[0m             \u001b[0mvalues\u001b[0m \u001b[0;34m=\u001b[0m \u001b[0mself\u001b[0m\u001b[0;34m.\u001b[0m\u001b[0mxs\u001b[0m\u001b[0;34m(\u001b[0m\u001b[0mkey\u001b[0m\u001b[0;34m,\u001b[0m \u001b[0maxis\u001b[0m\u001b[0;34m=\u001b[0m\u001b[0mother_axes\u001b[0m\u001b[0;34m[\u001b[0m\u001b[0;36m0\u001b[0m\u001b[0;34m]\u001b[0m\u001b[0;34m)\u001b[0m\u001b[0;34m.\u001b[0m\u001b[0m_values\u001b[0m\u001b[0;34m\u001b[0m\u001b[0;34m\u001b[0m\u001b[0m\n\u001b[1;32m   1907\u001b[0m         \u001b[0;32melif\u001b[0m \u001b[0mself\u001b[0m\u001b[0;34m.\u001b[0m\u001b[0m_is_level_reference\u001b[0m\u001b[0;34m(\u001b[0m\u001b[0mkey\u001b[0m\u001b[0;34m,\u001b[0m \u001b[0maxis\u001b[0m\u001b[0;34m=\u001b[0m\u001b[0maxis\u001b[0m\u001b[0;34m)\u001b[0m\u001b[0;34m:\u001b[0m\u001b[0;34m\u001b[0m\u001b[0;34m\u001b[0m\u001b[0m\n\u001b[1;32m   1908\u001b[0m             \u001b[0mvalues\u001b[0m \u001b[0;34m=\u001b[0m \u001b[0mself\u001b[0m\u001b[0;34m.\u001b[0m\u001b[0maxes\u001b[0m\u001b[0;34m[\u001b[0m\u001b[0maxis\u001b[0m\u001b[0;34m]\u001b[0m\u001b[0;34m.\u001b[0m\u001b[0mget_level_values\u001b[0m\u001b[0;34m(\u001b[0m\u001b[0mkey\u001b[0m\u001b[0;34m)\u001b[0m\u001b[0;34m.\u001b[0m\u001b[0m_values\u001b[0m\u001b[0;34m\u001b[0m\u001b[0;34m\u001b[0m\u001b[0m\n\u001b[1;32m   1909\u001b[0m         \u001b[0;32melse\u001b[0m\u001b[0;34m:\u001b[0m\u001b[0;34m\u001b[0m\u001b[0;34m\u001b[0m\u001b[0m\n\u001b[0;32m-> 1910\u001b[0;31m             \u001b[0;32mraise\u001b[0m \u001b[0mKeyError\u001b[0m\u001b[0;34m(\u001b[0m\u001b[0mkey\u001b[0m\u001b[0;34m)\u001b[0m\u001b[0;34m\u001b[0m\u001b[0;34m\u001b[0m\u001b[0m\n\u001b[0m\u001b[1;32m   1911\u001b[0m \u001b[0;34m\u001b[0m\u001b[0m\n\u001b[1;32m   1912\u001b[0m         \u001b[0;31m# Check for duplicates\u001b[0m\u001b[0;34m\u001b[0m\u001b[0;34m\u001b[0m\u001b[0m\n\u001b[1;32m   1913\u001b[0m         \u001b[0;32mif\u001b[0m \u001b[0mvalues\u001b[0m\u001b[0;34m.\u001b[0m\u001b[0mndim\u001b[0m \u001b[0;34m>\u001b[0m \u001b[0;36m1\u001b[0m\u001b[0;34m:\u001b[0m\u001b[0;34m\u001b[0m\u001b[0;34m\u001b[0m\u001b[0m\n",
      "\u001b[0;31mKeyError\u001b[0m: 'Work_accident'"
     ]
    }
   ],
   "source": [
    "# sort values by Work accident\n",
    "df_hr.sort_values(by='Work_accident', ascending=False)"
   ]
  },
  {
   "cell_type": "code",
   "execution_count": null,
   "metadata": {},
   "outputs": [
    {
     "data": {
      "text/html": [
       "<div>\n",
       "<style scoped>\n",
       "    .dataframe tbody tr th:only-of-type {\n",
       "        vertical-align: middle;\n",
       "    }\n",
       "\n",
       "    .dataframe tbody tr th {\n",
       "        vertical-align: top;\n",
       "    }\n",
       "\n",
       "    .dataframe thead th {\n",
       "        text-align: right;\n",
       "    }\n",
       "</style>\n",
       "<table border=\"1\" class=\"dataframe\">\n",
       "  <thead>\n",
       "    <tr style=\"text-align: right;\">\n",
       "      <th></th>\n",
       "      <th>promotion_last_5years</th>\n",
       "    </tr>\n",
       "    <tr>\n",
       "      <th>Department</th>\n",
       "      <th></th>\n",
       "    </tr>\n",
       "  </thead>\n",
       "  <tbody>\n",
       "    <tr>\n",
       "      <th>IT</th>\n",
       "      <td>3</td>\n",
       "    </tr>\n",
       "    <tr>\n",
       "      <th>RandD</th>\n",
       "      <td>27</td>\n",
       "    </tr>\n",
       "    <tr>\n",
       "      <th>accounting</th>\n",
       "      <td>14</td>\n",
       "    </tr>\n",
       "    <tr>\n",
       "      <th>hr</th>\n",
       "      <td>15</td>\n",
       "    </tr>\n",
       "    <tr>\n",
       "      <th>management</th>\n",
       "      <td>69</td>\n",
       "    </tr>\n",
       "    <tr>\n",
       "      <th>marketing</th>\n",
       "      <td>43</td>\n",
       "    </tr>\n",
       "    <tr>\n",
       "      <th>product_mng</th>\n",
       "      <td>0</td>\n",
       "    </tr>\n",
       "    <tr>\n",
       "      <th>sales</th>\n",
       "      <td>100</td>\n",
       "    </tr>\n",
       "    <tr>\n",
       "      <th>support</th>\n",
       "      <td>20</td>\n",
       "    </tr>\n",
       "    <tr>\n",
       "      <th>technical</th>\n",
       "      <td>28</td>\n",
       "    </tr>\n",
       "  </tbody>\n",
       "</table>\n",
       "</div>"
      ],
      "text/plain": [
       "             promotion_last_5years\n",
       "Department                        \n",
       "IT                               3\n",
       "RandD                           27\n",
       "accounting                      14\n",
       "hr                              15\n",
       "management                      69\n",
       "marketing                       43\n",
       "product_mng                      0\n",
       "sales                          100\n",
       "support                         20\n",
       "technical                       28"
      ]
     },
     "execution_count": 52,
     "metadata": {},
     "output_type": "execute_result"
    }
   ],
   "source": [
    "# groupby\n",
    "# Department wise employee promotion\n",
    "#\n",
    "# Hint: df.groupby('Department').agg({'promotion_last_5years': 'sum'})\n",
    "\n",
    "df_depart_left = df_hr.groupby('Department').agg({'promotion_last_5years': 'sum'})\n",
    "df_depart_left"
   ]
  },
  {
   "cell_type": "code",
   "execution_count": null,
   "metadata": {},
   "outputs": [
    {
     "data": {
      "text/plain": [
       "satisfaction_level       float64\n",
       "last_evaluation          float64\n",
       "number_project             int64\n",
       "average_montly_hours       int64\n",
       "time_spend_company         int64\n",
       "Work_accident              int64\n",
       "left                        bool\n",
       "promotion_last_5years      int64\n",
       "Department                object\n",
       "salary                    object\n",
       "dtype: object"
      ]
     },
     "execution_count": 53,
     "metadata": {},
     "output_type": "execute_result"
    }
   ],
   "source": [
    "# apply\n",
    "# change left column to bool\n",
    "\n",
    "df_hr['left'] = df_hr['left'].apply(lambda x: bool(x))\n",
    "df_hr.dtypes"
   ]
  },
  {
   "cell_type": "markdown",
   "metadata": {},
   "source": [
    "- we can see column \"left\" is now changed to boolean type.\n",
    "- Similary we can apply apply function either in series or in a whole dataframe based on our use cases."
   ]
  },
  {
   "cell_type": "code",
   "execution_count": null,
   "metadata": {},
   "outputs": [],
   "source": []
  },
  {
   "cell_type": "markdown",
   "metadata": {},
   "source": [
    "## Data Join\n",
    "- `Types are:`\n",
    "    1. Inner Join\n",
    "        - pd.merge(df1, df2, on='col_name', how='inner')\n",
    "    2. Left Outer Join\n",
    "        - pd.merge(df1, df2, on='col_name', how='left')\n",
    "    3. Right Outer Join\n",
    "        - pd.merge(df1, df2, on='col_name', how='right')\n",
    "    4. Full Outer Join\n",
    "        - pd.merge(df1, df2, on='col_name', how='outer')"
   ]
  },
  {
   "cell_type": "code",
   "execution_count": null,
   "metadata": {},
   "outputs": [
    {
     "data": {
      "text/html": [
       "<div>\n",
       "<style scoped>\n",
       "    .dataframe tbody tr th:only-of-type {\n",
       "        vertical-align: middle;\n",
       "    }\n",
       "\n",
       "    .dataframe tbody tr th {\n",
       "        vertical-align: top;\n",
       "    }\n",
       "\n",
       "    .dataframe thead th {\n",
       "        text-align: right;\n",
       "    }\n",
       "</style>\n",
       "<table border=\"1\" class=\"dataframe\">\n",
       "  <thead>\n",
       "    <tr style=\"text-align: right;\">\n",
       "      <th></th>\n",
       "      <th>emp_id</th>\n",
       "      <th>Department</th>\n",
       "    </tr>\n",
       "  </thead>\n",
       "  <tbody>\n",
       "    <tr>\n",
       "      <th>0</th>\n",
       "      <td>0</td>\n",
       "      <td>sales</td>\n",
       "    </tr>\n",
       "    <tr>\n",
       "      <th>1</th>\n",
       "      <td>1</td>\n",
       "      <td>sales</td>\n",
       "    </tr>\n",
       "    <tr>\n",
       "      <th>2</th>\n",
       "      <td>2</td>\n",
       "      <td>sales</td>\n",
       "    </tr>\n",
       "    <tr>\n",
       "      <th>3</th>\n",
       "      <td>3</td>\n",
       "      <td>sales</td>\n",
       "    </tr>\n",
       "    <tr>\n",
       "      <th>4</th>\n",
       "      <td>4</td>\n",
       "      <td>sales</td>\n",
       "    </tr>\n",
       "  </tbody>\n",
       "</table>\n",
       "</div>"
      ],
      "text/plain": [
       "   emp_id Department\n",
       "0       0      sales\n",
       "1       1      sales\n",
       "2       2      sales\n",
       "3       3      sales\n",
       "4       4      sales"
      ]
     },
     "execution_count": 26,
     "metadata": {},
     "output_type": "execute_result"
    }
   ],
   "source": [
    "df_hr.head()"
   ]
  },
  {
   "cell_type": "code",
   "execution_count": null,
   "metadata": {},
   "outputs": [
    {
     "data": {
      "text/html": [
       "<div>\n",
       "<style scoped>\n",
       "    .dataframe tbody tr th:only-of-type {\n",
       "        vertical-align: middle;\n",
       "    }\n",
       "\n",
       "    .dataframe tbody tr th {\n",
       "        vertical-align: top;\n",
       "    }\n",
       "\n",
       "    .dataframe thead th {\n",
       "        text-align: right;\n",
       "    }\n",
       "</style>\n",
       "<table border=\"1\" class=\"dataframe\">\n",
       "  <thead>\n",
       "    <tr style=\"text-align: right;\">\n",
       "      <th></th>\n",
       "      <th>emp_id</th>\n",
       "      <th>satisfaction_level</th>\n",
       "      <th>last_evaluation</th>\n",
       "      <th>number_project</th>\n",
       "      <th>average_montly_hours</th>\n",
       "      <th>time_spend_company</th>\n",
       "      <th>Work_accident</th>\n",
       "      <th>left</th>\n",
       "      <th>promotion_last_5years</th>\n",
       "      <th>Department</th>\n",
       "      <th>salary</th>\n",
       "    </tr>\n",
       "  </thead>\n",
       "  <tbody>\n",
       "    <tr>\n",
       "      <th>0</th>\n",
       "      <td>0</td>\n",
       "      <td>0.38</td>\n",
       "      <td>0.53</td>\n",
       "      <td>2</td>\n",
       "      <td>157</td>\n",
       "      <td>3</td>\n",
       "      <td>0</td>\n",
       "      <td>True</td>\n",
       "      <td>0</td>\n",
       "      <td>sales</td>\n",
       "      <td>low</td>\n",
       "    </tr>\n",
       "    <tr>\n",
       "      <th>1</th>\n",
       "      <td>1</td>\n",
       "      <td>0.80</td>\n",
       "      <td>0.86</td>\n",
       "      <td>5</td>\n",
       "      <td>262</td>\n",
       "      <td>6</td>\n",
       "      <td>0</td>\n",
       "      <td>True</td>\n",
       "      <td>0</td>\n",
       "      <td>sales</td>\n",
       "      <td>medium</td>\n",
       "    </tr>\n",
       "    <tr>\n",
       "      <th>2</th>\n",
       "      <td>2</td>\n",
       "      <td>0.11</td>\n",
       "      <td>0.88</td>\n",
       "      <td>7</td>\n",
       "      <td>272</td>\n",
       "      <td>4</td>\n",
       "      <td>0</td>\n",
       "      <td>True</td>\n",
       "      <td>0</td>\n",
       "      <td>sales</td>\n",
       "      <td>medium</td>\n",
       "    </tr>\n",
       "    <tr>\n",
       "      <th>3</th>\n",
       "      <td>3</td>\n",
       "      <td>0.72</td>\n",
       "      <td>0.87</td>\n",
       "      <td>5</td>\n",
       "      <td>223</td>\n",
       "      <td>5</td>\n",
       "      <td>0</td>\n",
       "      <td>True</td>\n",
       "      <td>0</td>\n",
       "      <td>sales</td>\n",
       "      <td>low</td>\n",
       "    </tr>\n",
       "    <tr>\n",
       "      <th>4</th>\n",
       "      <td>4</td>\n",
       "      <td>0.37</td>\n",
       "      <td>0.52</td>\n",
       "      <td>2</td>\n",
       "      <td>159</td>\n",
       "      <td>3</td>\n",
       "      <td>0</td>\n",
       "      <td>True</td>\n",
       "      <td>0</td>\n",
       "      <td>sales</td>\n",
       "      <td>low</td>\n",
       "    </tr>\n",
       "  </tbody>\n",
       "</table>\n",
       "</div>"
      ],
      "text/plain": [
       "   emp_id  satisfaction_level  last_evaluation  number_project  \\\n",
       "0       0                0.38             0.53               2   \n",
       "1       1                0.80             0.86               5   \n",
       "2       2                0.11             0.88               7   \n",
       "3       3                0.72             0.87               5   \n",
       "4       4                0.37             0.52               2   \n",
       "\n",
       "   average_montly_hours  time_spend_company  Work_accident  left  \\\n",
       "0                   157                   3              0  True   \n",
       "1                   262                   6              0  True   \n",
       "2                   272                   4              0  True   \n",
       "3                   223                   5              0  True   \n",
       "4                   159                   3              0  True   \n",
       "\n",
       "   promotion_last_5years Department  salary  \n",
       "0                      0      sales     low  \n",
       "1                      0      sales  medium  \n",
       "2                      0      sales  medium  \n",
       "3                      0      sales     low  \n",
       "4                      0      sales     low  "
      ]
     },
     "execution_count": 55,
     "metadata": {},
     "output_type": "execute_result"
    }
   ],
   "source": [
    "# reset index to get employee id\n",
    "\n",
    "df_hr_ = df_hr.reset_index()\n",
    "\n",
    "# rename col index to emp_id\n",
    "df_hr_.columns.values[0] = \"emp_id\"\n",
    "\n",
    "df_hr_.head()\n",
    "\n"
   ]
  },
  {
   "cell_type": "code",
   "execution_count": null,
   "metadata": {},
   "outputs": [
    {
     "ename": "NameError",
     "evalue": "name 'df_hr_' is not defined",
     "output_type": "error",
     "traceback": [
      "\u001b[0;31m---------------------------------------------------------------------------\u001b[0m",
      "\u001b[0;31mNameError\u001b[0m                                 Traceback (most recent call last)",
      "Cell \u001b[0;32mIn[1], line 4\u001b[0m\n\u001b[1;32m      1\u001b[0m \u001b[38;5;66;03m# seggregate emp_id and department\u001b[39;00m\n\u001b[1;32m      2\u001b[0m \u001b[38;5;66;03m# later we will join it\u001b[39;00m\n\u001b[0;32m----> 4\u001b[0m df_depart \u001b[38;5;241m=\u001b[39m \u001b[43mdf_hr_\u001b[49m[[\u001b[38;5;124m'\u001b[39m\u001b[38;5;124memp_id\u001b[39m\u001b[38;5;124m'\u001b[39m, \u001b[38;5;124m'\u001b[39m\u001b[38;5;124mDepartment\u001b[39m\u001b[38;5;124m'\u001b[39m]]\n\u001b[1;32m      6\u001b[0m \u001b[38;5;66;03m# drop department from original table\u001b[39;00m\n\u001b[1;32m      7\u001b[0m df_hr_\u001b[38;5;241m.\u001b[39mdrop(\u001b[38;5;124m'\u001b[39m\u001b[38;5;124mDepartment\u001b[39m\u001b[38;5;124m'\u001b[39m, axis\u001b[38;5;241m=\u001b[39m\u001b[38;5;241m1\u001b[39m, inplace\u001b[38;5;241m=\u001b[39m\u001b[38;5;28;01mTrue\u001b[39;00m)\n",
      "\u001b[0;31mNameError\u001b[0m: name 'df_hr_' is not defined"
     ]
    }
   ],
   "source": [
    "# seggregate emp_id and department\n",
    "# later we will join it\n",
    "\n",
    "df_depart = df_hr_[['emp_id', 'Department']]\n",
    "\n",
    "# drop department from original table\n",
    "df_hr_.drop('Department', axis=1, inplace=True)\n",
    "\n",
    "df_hr_.head()"
   ]
  },
  {
   "cell_type": "markdown",
   "metadata": {},
   "source": [
    "**1. inner join**"
   ]
  },
  {
   "cell_type": "code",
   "execution_count": null,
   "metadata": {},
   "outputs": [
    {
     "data": {
      "text/html": [
       "<div>\n",
       "<style scoped>\n",
       "    .dataframe tbody tr th:only-of-type {\n",
       "        vertical-align: middle;\n",
       "    }\n",
       "\n",
       "    .dataframe tbody tr th {\n",
       "        vertical-align: top;\n",
       "    }\n",
       "\n",
       "    .dataframe thead th {\n",
       "        text-align: right;\n",
       "    }\n",
       "</style>\n",
       "<table border=\"1\" class=\"dataframe\">\n",
       "  <thead>\n",
       "    <tr style=\"text-align: right;\">\n",
       "      <th></th>\n",
       "      <th>emp_id</th>\n",
       "      <th>satisfaction_level</th>\n",
       "      <th>last_evaluation</th>\n",
       "      <th>number_project</th>\n",
       "      <th>average_montly_hours</th>\n",
       "      <th>time_spend_company</th>\n",
       "      <th>Work_accident</th>\n",
       "      <th>left</th>\n",
       "      <th>promotion_last_5years</th>\n",
       "      <th>salary</th>\n",
       "      <th>Department</th>\n",
       "    </tr>\n",
       "  </thead>\n",
       "  <tbody>\n",
       "    <tr>\n",
       "      <th>0</th>\n",
       "      <td>0</td>\n",
       "      <td>0.38</td>\n",
       "      <td>0.53</td>\n",
       "      <td>2</td>\n",
       "      <td>157</td>\n",
       "      <td>3</td>\n",
       "      <td>0</td>\n",
       "      <td>True</td>\n",
       "      <td>0</td>\n",
       "      <td>low</td>\n",
       "      <td>sales</td>\n",
       "    </tr>\n",
       "    <tr>\n",
       "      <th>1</th>\n",
       "      <td>1</td>\n",
       "      <td>0.80</td>\n",
       "      <td>0.86</td>\n",
       "      <td>5</td>\n",
       "      <td>262</td>\n",
       "      <td>6</td>\n",
       "      <td>0</td>\n",
       "      <td>True</td>\n",
       "      <td>0</td>\n",
       "      <td>medium</td>\n",
       "      <td>sales</td>\n",
       "    </tr>\n",
       "    <tr>\n",
       "      <th>2</th>\n",
       "      <td>2</td>\n",
       "      <td>0.11</td>\n",
       "      <td>0.88</td>\n",
       "      <td>7</td>\n",
       "      <td>272</td>\n",
       "      <td>4</td>\n",
       "      <td>0</td>\n",
       "      <td>True</td>\n",
       "      <td>0</td>\n",
       "      <td>medium</td>\n",
       "      <td>sales</td>\n",
       "    </tr>\n",
       "    <tr>\n",
       "      <th>3</th>\n",
       "      <td>3</td>\n",
       "      <td>0.72</td>\n",
       "      <td>0.87</td>\n",
       "      <td>5</td>\n",
       "      <td>223</td>\n",
       "      <td>5</td>\n",
       "      <td>0</td>\n",
       "      <td>True</td>\n",
       "      <td>0</td>\n",
       "      <td>low</td>\n",
       "      <td>sales</td>\n",
       "    </tr>\n",
       "    <tr>\n",
       "      <th>4</th>\n",
       "      <td>4</td>\n",
       "      <td>0.37</td>\n",
       "      <td>0.52</td>\n",
       "      <td>2</td>\n",
       "      <td>159</td>\n",
       "      <td>3</td>\n",
       "      <td>0</td>\n",
       "      <td>True</td>\n",
       "      <td>0</td>\n",
       "      <td>low</td>\n",
       "      <td>sales</td>\n",
       "    </tr>\n",
       "  </tbody>\n",
       "</table>\n",
       "</div>"
      ],
      "text/plain": [
       "   emp_id  satisfaction_level  last_evaluation  number_project  \\\n",
       "0       0                0.38             0.53               2   \n",
       "1       1                0.80             0.86               5   \n",
       "2       2                0.11             0.88               7   \n",
       "3       3                0.72             0.87               5   \n",
       "4       4                0.37             0.52               2   \n",
       "\n",
       "   average_montly_hours  time_spend_company  Work_accident  left  \\\n",
       "0                   157                   3              0  True   \n",
       "1                   262                   6              0  True   \n",
       "2                   272                   4              0  True   \n",
       "3                   223                   5              0  True   \n",
       "4                   159                   3              0  True   \n",
       "\n",
       "   promotion_last_5years  salary Department  \n",
       "0                      0     low      sales  \n",
       "1                      0  medium      sales  \n",
       "2                      0  medium      sales  \n",
       "3                      0     low      sales  \n",
       "4                      0     low      sales  "
      ]
     },
     "execution_count": 57,
     "metadata": {},
     "output_type": "execute_result"
    }
   ],
   "source": [
    "# inner join based on employee id to get Department information\n",
    "\n",
    "df_inner = pd.merge(df_hr_, df_depart, on='emp_id', how='inner')\n",
    "\n",
    "df_inner.head()"
   ]
  },
  {
   "cell_type": "code",
   "execution_count": null,
   "metadata": {},
   "outputs": [],
   "source": []
  },
  {
   "cell_type": "markdown",
   "metadata": {},
   "source": [
    "## Save Data\n",
    "- Like Read, Pandas provides several function to save data to various file formats such as CSV, Excel, JSON, and so on.\n",
    "- **Save CSV**\n",
    "    - `df.to_csv(csv_file_path, index=False)`\n",
    "        - csv_file_path: csv path where file needs to be saved: e.g. test.csv\n",
    "        - index=False: means do not save index data.\n",
    "\n",
    "- **Save Excel**\n",
    "    - `df.to_excel(excel_file_path, index=False)`"
   ]
  },
  {
   "cell_type": "code",
   "execution_count": null,
   "metadata": {},
   "outputs": [],
   "source": [
    "# write your program here\n",
    "# save department data\n",
    "\n",
    "df_depart.to_csv('HR_comma_sep.csv', index=False)"
   ]
  },
  {
   "cell_type": "code",
   "execution_count": null,
   "metadata": {},
   "outputs": [],
   "source": []
  }
 ],
 "metadata": {
  "kernelspec": {
   "display_name": "Python 3 (ipykernel)",
   "language": "python",
   "name": "python3"
  },
  "language_info": {
   "codemirror_mode": {
    "name": "ipython",
    "version": 3
   },
   "file_extension": ".py",
   "mimetype": "text/x-python",
   "name": "python",
   "nbconvert_exporter": "python",
   "pygments_lexer": "ipython3",
   "version": "3.10.12"
  }
 },
 "nbformat": 4,
 "nbformat_minor": 4
}
